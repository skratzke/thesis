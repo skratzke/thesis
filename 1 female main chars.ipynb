{
 "cells": [
  {
   "cell_type": "code",
   "execution_count": null,
   "id": "c120eca2",
   "metadata": {},
   "outputs": [],
   "source": [
    "import pandas as pd\n",
    "import requests\n",
    "import os "
   ]
  },
  {
   "cell_type": "code",
   "execution_count": 4,
   "id": "66bd2119",
   "metadata": {},
   "outputs": [],
   "source": [
    "df10 = pd.read_csv('books10.csv')"
   ]
  },
  {
   "cell_type": "code",
   "execution_count": 5,
   "id": "8db0377e",
   "metadata": {},
   "outputs": [],
   "source": [
    "system_prompt = \"\"\"\n",
    "    You are a helpful literary assistant, helping me with my master thesis on gender in literature. \n",
    "    Your job is to search the internet and assess whether a book features a female main character.\n",
    "    The character does not need to be the sole protagonist but must play a central role in the plot, \n",
    "    with more significance than a secondary or supporting character.\n",
    "    Reason well internally, but respond only with 'Yes' or 'No'.\n",
    "    \"\"\"\n",
    "\n",
    "user_prompt_template = \"Is there a female main character in the book {title} by {author}?\""
   ]
  },
  {
   "cell_type": "code",
   "execution_count": 6,
   "id": "710a83e2",
   "metadata": {},
   "outputs": [
    {
     "name": "stdout",
     "output_type": "stream",
     "text": [
      "                                               title               author  \\\n",
      "0   The Mysterious Disappearance of Leon I Mean Noel        Raskin, Ellen   \n",
      "1          The Summer I Turned Pretty The Collection         Han, Jenny *   \n",
      "2                        Complete Me Stark Trilogy 3         Kenner, J. *   \n",
      "3          One More Chance Rosemary Beach 8 Chance 2       Glines, Abbi *   \n",
      "4                  Not a Penny More Not a Penny Less    Archer, Jeffrey *   \n",
      "5                  Sign Off Caught Dead in Wyoming 1   McLinn, Patricia *   \n",
      "6  Max Havelaar or the Coffee Auctions of the Dut...            Multatuli   \n",
      "7                                         First Love       Turgenev, Ivan   \n",
      "8                        Ship Breaker Ship Breaker 1  Bacigalupi, Paolo *   \n",
      "9                      In the Country of Last Things         Auster, Paul   \n",
      "\n",
      "  female_main_character  \n",
      "0                   Yes  \n",
      "1                   Yes  \n",
      "2                  Yes.  \n",
      "3                   Yes  \n",
      "4                    No  \n",
      "5                  Yes.  \n",
      "6                   No.  \n",
      "7                  Yes.  \n",
      "8                    No  \n",
      "9                   Yes  \n"
     ]
    }
   ],
   "source": [
    "# Setting my API key\n",
    "YOUR_API_KEY = os.environ[\"PERPLEXITY_API_KEY\"]\n",
    "\n",
    "# Saying hi it's me, and this is what I'll be sending\n",
    "headers = {\n",
    "    \"Authorization\": f\"Bearer {YOUR_API_KEY}\",\n",
    "    \"Content-Type\": \"application/json\"\n",
    "}\n",
    "\n",
    "# This is where I want to send it to\n",
    "url = \"https://api.perplexity.ai/chat/completions\"\n",
    "\n",
    "# I'll store the responses I get in this (as of now, empty) list\n",
    "responses = []\n",
    "\n",
    "# Setting up what I want to send to Perplexity\n",
    "for index, row in df10.iterrows():\n",
    "    # Extract title and author from each row \n",
    "    title = row[\"title\"]\n",
    "    author = row[\"author\"]\n",
    "\n",
    "    # Format user prompt with current title and author\n",
    "    user_prompt = user_prompt_template.format(title=title, author=author)\n",
    "\n",
    "    # Payload\n",
    "    payload = {\n",
    "        \"model\": \"sonar\",\n",
    "        \"messages\": [\n",
    "            {\"role\": \"system\", \"content\": system_prompt},\n",
    "            {\"role\": \"user\", \"content\": user_prompt}\n",
    "        ]\n",
    "        # \"max_tokens\": 123,  # Limits the length of the response\n",
    "        # \"temperature\": 0.2,  # Controls randomness in the response\n",
    "        # \"top_p\": 0.9,\n",
    "        # \"search_domain_filter\": [\"<any>\"],\n",
    "        # \"return_images\": False,\n",
    "        # \"return_related_questions\": False,\n",
    "        # \"search_recency_filter\": \"<string>\",\n",
    "        # \"top_k\": 0,\n",
    "        # \"stream\": False,\n",
    "        # \"presence_penalty\": 0,\n",
    "        # \"frequency_penalty\": 1,\n",
    "        # \"response_format\": {},\n",
    "        # \"web_search_options\": {\"search_context_size\": \"high\"}\n",
    "    }\n",
    "\n",
    "    # Send the request to the Perplexity API\n",
    "    response = requests.post(url, json=payload, headers=headers)\n",
    "    \n",
    "    # Check the response\n",
    "    if response.status_code == 200:\n",
    "        response_json = response.json()\n",
    "        # Extract the answer from the response (this might vary depending on the response format)\n",
    "        answer = response_json.get('choices', [{}])[0].get('message', {}).get('content', 'No answer found')\n",
    "        responses.append(answer)  # Store the answer\n",
    "    else:\n",
    "        # Handle errors by appending an error message\n",
    "        responses.append(f\"Error: {response.status_code}\")\n",
    "\n",
    "# Add the responses to your original dataframe\n",
    "df10['female_main_character'] = responses\n",
    "\n",
    "# Print the updated dataframe to check the results\n",
    "print(df10)"
   ]
  },
  {
   "cell_type": "markdown",
   "id": "503f909d",
   "metadata": {},
   "source": [
    "Try in batch? "
   ]
  }
 ],
 "metadata": {
  "kernelspec": {
   "display_name": "venv",
   "language": "python",
   "name": "python3"
  },
  "language_info": {
   "codemirror_mode": {
    "name": "ipython",
    "version": 3
   },
   "file_extension": ".py",
   "mimetype": "text/x-python",
   "name": "python",
   "nbconvert_exporter": "python",
   "pygments_lexer": "ipython3",
   "version": "3.12.7"
  }
 },
 "nbformat": 4,
 "nbformat_minor": 5
}

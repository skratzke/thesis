{
 "cells": [
  {
   "cell_type": "code",
   "execution_count": 7,
   "id": "c120eca2",
   "metadata": {},
   "outputs": [],
   "source": [
    "import pandas as pd\n",
    "import requests\n",
    "import os "
   ]
  },
  {
   "cell_type": "code",
   "execution_count": 8,
   "id": "66bd2119",
   "metadata": {},
   "outputs": [],
   "source": [
    "df10 = pd.read_csv('books10.csv')"
   ]
  },
  {
   "cell_type": "code",
   "execution_count": 9,
   "id": "8db0377e",
   "metadata": {},
   "outputs": [],
   "source": [
    "system_prompt = \"\"\"\n",
    "    You are a helpful literary assistant, helping me with my master thesis on gender in literature. \n",
    "    Your job is to search the internet and assess whether a book features a **female major character**.\n",
    "    \n",
    "    You always return only a pandas data frame with the columns 'title', 'author', 'female_major_character' (0 = no, 1 = yes),\n",
    "    and 'expl' (reasoning of why there is or isn't a female major character).\n",
    "\n",
    "    The female major character does not need to be the protagonist, but she must be a central presence in the narrative, \n",
    "    with more significance than a secondary or background character.\n",
    "\n",
    "    A female character is considered a **major character** if she plays a substantial role in the story, \n",
    "    regularly appears throughout the book, and if her role significantly contributes to relationships or events that \n",
    "    shape the plot or other characters.\n",
    "\n",
    "    Characters who serve only as symbolic figures, plot devices, or one-time motivators without meaningful presence \n",
    "    or development should not be considered major characters.\n",
    "\n",
    "    Examples of female major characters:\n",
    "    - **Katniss Everdeen** in **The Hunger Games** – protagonist, central to the plot, her choices drive the rebellion and story progression.\n",
    "    – **Hermione Granger** in *Harry Potter* – not the protagonist, but central to plot progression and character development.\n",
    "    \n",
    "    Examples of female NON-major characters:\n",
    "    - **Prim Everdeen** in **The Hunger Games** – important to Katniss's emotional motivation, but doesn’t influence the plot or have significant character development beyond being a catalyst.\n",
    "    - **Professor McGonagall** in **Harry Potter** – important supporting character, but doesn’t influence the main plot or have significant character development beyond being a mentor and guide to Harry and his friends.\n",
    "    \"\"\"\n",
    "\n",
    "user_prompt_template = \"Is there a female main character in the book {title} by {author}?\""
   ]
  },
  {
   "cell_type": "markdown",
   "id": "f927d5da",
   "metadata": {},
   "source": [
    "nur ja oder nein\n",
    "dieses Format: ja, Name "
   ]
  },
  {
   "cell_type": "code",
   "execution_count": 57,
   "id": "ccf0c657",
   "metadata": {},
   "outputs": [
    {
     "name": "stdout",
     "output_type": "stream",
     "text": [
      "                                             Title                    Author  \\\n",
      "0                              Pride and Prejudice               Jane Austen   \n",
      "1                            To Kill a Mockingbird                Harper Lee   \n",
      "2                                   The Book Thief              Markus Zusak   \n",
      "3                                         Twilight           Stephenie Meyer   \n",
      "4                           The Fault in Our Stars                John Green   \n",
      "5                  The Perks of Being a Wallflower           Stephen Chbosky   \n",
      "6                                  Brave New World             Aldous Huxley   \n",
      "7   A Game of Thrones (A Song of Ice and Fire, #1)        George R.R. Martin   \n",
      "8                              The Lightning Thief              Rick Riordan   \n",
      "9                                           Lolita          Vladimir Nabokov   \n",
      "10            The Hobbit and The Lord of the Rings            J.R.R. Tolkien   \n",
      "11                               The Little Prince  Antoine de Saint-Exupéry   \n",
      "12                            Crime and Punishment         Fyodor Dostoevsky   \n",
      "13                               Lord of the Flies           William Golding   \n",
      "14              The Adventures of Huckleberry Finn                Mark Twain   \n",
      "15                         The Old Man and the Sea          Ernest Hemingway   \n",
      "16                                      Alex Rider          Anthony Horowitz   \n",
      "17                                   Der Trafikant          Robert Seethaler   \n",
      "\n",
      "    Female_Major_Character  \n",
      "0                        1  \n",
      "1                        1  \n",
      "2                        1  \n",
      "3                        1  \n",
      "4                        1  \n",
      "5                        1  \n",
      "6                        1  \n",
      "7                        1  \n",
      "8                        1  \n",
      "9                        1  \n",
      "10                       0  \n",
      "11                       0  \n",
      "12                       0  \n",
      "13                       0  \n",
      "14                       0  \n",
      "15                       0  \n",
      "16                       0  \n",
      "17                       0  \n"
     ]
    }
   ],
   "source": [
    "# Find 20 novels, check by hand\n",
    "\n",
    "# Original data with an extra column\n",
    "books = [\n",
    "    {\"Title\": \"Pride and Prejudice\", \"Author\": \"Jane Austen\", \"Female_Major_Character\": 1},\n",
    "    {\"Title\": \"To Kill a Mockingbird\", \"Author\": \"Harper Lee\", \"Female_Major_Character\": 1},  # Scout!\n",
    "    {\"Title\": \"The Book Thief\", \"Author\": \"Markus Zusak\", \"Female_Major_Character\": 1},\n",
    "    {\"Title\": \"Twilight\", \"Author\": \"Stephenie Meyer\", \"Female_Major_Character\": 1},\n",
    "    {\"Title\": \"The Fault in Our Stars\", \"Author\": \"John Green\", \"Female_Major_Character\": 1},\n",
    "    {\"Title\": \"The Perks of Being a Wallflower\", \"Author\": \"Stephen Chbosky\", \"Female_Major_Character\": 1},  # Sam!\n",
    "    {\"Title\": \"Brave New World\", \"Author\": \"Aldous Huxley\", \"Female_Major_Character\": 1},  # Lenina is significant\n",
    "    {\"Title\": \"A Game of Thrones (A Song of Ice and Fire, #1)\", \"Author\": \"George R.R. Martin\", \"Female_Major_Character\": 1},  # So many iconic women!\n",
    "    {\"Title\": \"The Lightning Thief\", \"Author\": \"Rick Riordan\", \"Female_Major_Character\": 1},  # Annabeth 💪\n",
    "    {\"Title\": \"Lolita\", \"Author\": \"Vladimir Nabokov\", \"Female_Major_Character\": 1},  # Dolores (Lolita) is central but controversial\n",
    "\n",
    "    {\"Title\": \"The Hobbit and The Lord of the Rings\", \"Author\": \"J.R.R. Tolkien\", \"Female_Major_Character\": 0},\n",
    "    {\"Title\": \"The Little Prince\", \"Author\": \"Antoine de Saint-Exupéry\", \"Female_Major_Character\": 0},\n",
    "    {\"Title\": \"Crime and Punishment\", \"Author\": \"Fyodor Dostoevsky\", \"Female_Major_Character\": 0},  # Some female characters but arguably not \"major\"\n",
    "    {\"Title\": \"Lord of the Flies\", \"Author\": \"William Golding\", \"Female_Major_Character\": 0},  # All boys 😶‍🌫️\n",
    "    {\"Title\": \"The Adventures of Huckleberry Finn\", \"Author\": \"Mark Twain\", \"Female_Major_Character\": 0},  # Male-centric\n",
    "    {\"Title\": \"The Old Man and the Sea\", \"Author\": \"Ernest Hemingway\", \"Female_Major_Character\": 0},  # No female characters really\n",
    "    {\"Title\": \"Alex Rider\", \"Author\": \"Anthony Horowitz\", \"Female_Major_Character\": 0},  # No female characters really\n",
    "    {\"Title\": \"Der Trafikant\", \"Author\": \"Robert Seethaler\", \"Female_Major_Character\": 0},  # No female characters really\n",
    "]\n",
    "\n",
    "# Create the DataFrame\n",
    "df_books = pd.DataFrame(books)\n",
    "\n",
    "# Display the updated DataFrame\n",
    "print(df_books)"
   ]
  },
  {
   "cell_type": "code",
   "execution_count": null,
   "id": "7f0fa6a3",
   "metadata": {},
   "outputs": [],
   "source": [
    "# set tempderature to 0? "
   ]
  },
  {
   "cell_type": "markdown",
   "id": "1f27a086",
   "metadata": {},
   "source": [
    "1. Run and look at overlap between Female_Major_Character and female_major_character.\n",
    "2. Run again and see if it changed. \n",
    "3. Run again. \n",
    "4. If changes, set temperature to 0."
   ]
  },
  {
   "cell_type": "code",
   "execution_count": 14,
   "id": "6041b7c8",
   "metadata": {},
   "outputs": [
    {
     "name": "stdout",
     "output_type": "stream",
     "text": [
      "<bound method NDFrame.head of 0                                   The Hunger Games\n",
      "1          Harry Potter and the Order of the Phoenix\n",
      "2                                Pride and Prejudice\n",
      "3                              To Kill a Mockingbird\n",
      "4                                     The Book Thief\n",
      "5                                           Twilight\n",
      "6                             The Fault in Our Stars\n",
      "7                    The Perks of Being a Wallflower\n",
      "8                                  The Little Prince\n",
      "9                               Crime and Punishment\n",
      "10                                 Lord of the Flies\n",
      "11                                   Brave New World\n",
      "12    A Game of Thrones (A Song of Ice and Fire, #1)\n",
      "13                         The Giver (The Giver, #1)\n",
      "14                The Adventures of Huckleberry Finn\n",
      "15                                            Lolita\n",
      "16                           The Old Man and the Sea\n",
      "Name: Title, dtype: object>\n"
     ]
    }
   ],
   "source": [
    "print(df_books['Title'].head)"
   ]
  },
  {
   "cell_type": "code",
   "execution_count": 15,
   "id": "710a83e2",
   "metadata": {},
   "outputs": [
    {
     "name": "stdout",
     "output_type": "stream",
     "text": [
      "                                             Title                    Author  \\\n",
      "0                                 The Hunger Games           Suzanne Collins   \n",
      "1        Harry Potter and the Order of the Phoenix              J.K. Rowling   \n",
      "2                              Pride and Prejudice               Jane Austen   \n",
      "3                            To Kill a Mockingbird                Harper Lee   \n",
      "4                                   The Book Thief              Markus Zusak   \n",
      "5                                         Twilight           Stephenie Meyer   \n",
      "6                           The Fault in Our Stars                John Green   \n",
      "7                  The Perks of Being a Wallflower           Stephen Chbosky   \n",
      "8                                The Little Prince  Antoine de Saint-Exupéry   \n",
      "9                             Crime and Punishment         Fyodor Dostoevsky   \n",
      "10                               Lord of the Flies           William Golding   \n",
      "11                                 Brave New World             Aldous Huxley   \n",
      "12  A Game of Thrones (A Song of Ice and Fire, #1)        George R.R. Martin   \n",
      "13                       The Giver (The Giver, #1)                Lois Lowry   \n",
      "14              The Adventures of Huckleberry Finn                Mark Twain   \n",
      "15                                          Lolita          Vladimir Nabokov   \n",
      "16                         The Old Man and the Sea          Ernest Hemingway   \n",
      "\n",
      "    Female_Major_Character                                               test  \n",
      "0                        1  ```python\\nimport pandas as pd\\n\\ndata = {\\n  ...  \n",
      "1                        1  ```python\\nimport pandas as pd\\n\\n# Creating a...  \n",
      "2                        1  Here is the information for your request:\\n\\n`...  \n",
      "3                        1  Here is your pandas DataFrame based on the ana...  \n",
      "4                        1  ```python\\nimport pandas as pd\\n\\n# Create a D...  \n",
      "5                        1  ```python\\nimport pandas as pd\\n\\ndf = pd.Data...  \n",
      "6                        1  Here's the assessment regarding the presence o...  \n",
      "7                        1  ```python\\nimport pandas as pd\\n\\ndata = {\\n  ...  \n",
      "8                        0  Here is the assessment of whether \"The Little ...  \n",
      "9                        0  ```python\\nimport pandas as pd\\n\\n# Define the...  \n",
      "10                       0  ```python\\nimport pandas as pd\\n\\n# Define the...  \n",
      "11                       1  ```python\\nimport pandas as pd\\n\\ndata = {\\n  ...  \n",
      "12                       1  Here is the assessment regarding \"A Game of Th...  \n",
      "13                       1  ```python\\nimport pandas as pd\\n\\n# Creating a...  \n",
      "14                       0  ```python\\nimport pandas as pd\\n\\n# Create a D...  \n",
      "15                       1  ```python\\nimport pandas as pd\\n\\ndef assess_f...  \n",
      "16                       0  ```python\\nimport pandas as pd\\n\\n# Define the...  \n"
     ]
    }
   ],
   "source": [
    "# Setting my API key\n",
    "YOUR_API_KEY = os.environ[\"PERPLEXITY_API_KEY\"]\n",
    "\n",
    "# Saying hi it's me, and this is what I'll be sending\n",
    "headers = {\n",
    "    \"Authorization\": f\"Bearer {YOUR_API_KEY}\",\n",
    "    \"Content-Type\": \"application/json\"\n",
    "}\n",
    "\n",
    "# This is where I want to send it to\n",
    "url = \"https://api.perplexity.ai/chat/completions\"\n",
    "\n",
    "# I'll store the responses I get in this (as of now, empty) list\n",
    "responses = []\n",
    "\n",
    "# Setting up what I want to send to Perplexity\n",
    "for index, row in df_books.iterrows():\n",
    "    # Extract title and author from each row \n",
    "    title = row[\"Title\"]\n",
    "    author = row[\"Author\"]\n",
    "\n",
    "    # Format user prompt with current title and author\n",
    "    user_prompt = user_prompt_template.format(title=title, author=author)\n",
    "\n",
    "    # Payload\n",
    "    payload = {\n",
    "        \"model\": \"sonar\",\n",
    "        \"messages\": [\n",
    "            {\"role\": \"system\", \"content\": system_prompt},\n",
    "            {\"role\": \"user\", \"content\": user_prompt}\n",
    "        ]\n",
    "        # \"max_tokens\": 123,  # Limits the length of the response\n",
    "        # \"temperature\": 0.2,  # Controls randomness in the response\n",
    "        # \"top_p\": 0.9,\n",
    "        # \"search_domain_filter\": [\"<any>\"],\n",
    "        # \"return_images\": False,\n",
    "        # \"return_related_questions\": False,\n",
    "        # \"search_recency_filter\": \"<string>\",\n",
    "        # \"top_k\": 0,\n",
    "        # \"stream\": False,\n",
    "        # \"presence_penalty\": 0,\n",
    "        # \"frequency_penalty\": 1,\n",
    "        # \"response_format\": {},\n",
    "        # \"web_search_options\": {\"search_context_size\": \"high\"}\n",
    "    }\n",
    "\n",
    "    # Send the request to the Perplexity API\n",
    "    response = requests.post(url, json=payload, headers=headers)\n",
    "    \n",
    "    # Check the response\n",
    "    if response.status_code == 200:\n",
    "        response_json = response.json()\n",
    "        # Extract the answer from the response (this might vary depending on the response format)\n",
    "        answer = response_json.get('choices', [{}])[0].get('message', {}).get('content', 'No answer found')\n",
    "        responses.append(answer)  # Store the answer\n",
    "    else:\n",
    "        # Handle errors by appending an error message\n",
    "        responses.append(f\"Error: {response.status_code}\")\n",
    "\n",
    "# Add the responses to your original dataframe\n",
    "df_books['test'] = responses\n",
    "\n",
    "# Print the updated dataframe to check the results\n",
    "print(df_books)"
   ]
  },
  {
   "cell_type": "code",
   "execution_count": 35,
   "id": "a410535e",
   "metadata": {},
   "outputs": [
    {
     "ename": "IndexError",
     "evalue": "single positional indexer is out-of-bounds",
     "output_type": "error",
     "traceback": [
      "\u001b[31m---------------------------------------------------------------------------\u001b[39m",
      "\u001b[31mIndexError\u001b[39m                                Traceback (most recent call last)",
      "\u001b[36mCell\u001b[39m\u001b[36m \u001b[39m\u001b[32mIn[35]\u001b[39m\u001b[32m, line 1\u001b[39m\n\u001b[32m----> \u001b[39m\u001b[32m1\u001b[39m \u001b[43mdf_books\u001b[49m\u001b[43m[\u001b[49m\u001b[33;43m'\u001b[39;49m\u001b[33;43mtest\u001b[39;49m\u001b[33;43m'\u001b[39;49m\u001b[43m]\u001b[49m\u001b[43m.\u001b[49m\u001b[43miloc\u001b[49m\u001b[43m[\u001b[49m\u001b[32;43m17\u001b[39;49m\u001b[43m]\u001b[49m\n",
      "\u001b[36mFile \u001b[39m\u001b[32m~/Desktop/Thesis/thesis/venv/lib/python3.12/site-packages/pandas/core/indexing.py:1191\u001b[39m, in \u001b[36m_LocationIndexer.__getitem__\u001b[39m\u001b[34m(self, key)\u001b[39m\n\u001b[32m   1189\u001b[39m maybe_callable = com.apply_if_callable(key, \u001b[38;5;28mself\u001b[39m.obj)\n\u001b[32m   1190\u001b[39m maybe_callable = \u001b[38;5;28mself\u001b[39m._check_deprecated_callable_usage(key, maybe_callable)\n\u001b[32m-> \u001b[39m\u001b[32m1191\u001b[39m \u001b[38;5;28;01mreturn\u001b[39;00m \u001b[38;5;28;43mself\u001b[39;49m\u001b[43m.\u001b[49m\u001b[43m_getitem_axis\u001b[49m\u001b[43m(\u001b[49m\u001b[43mmaybe_callable\u001b[49m\u001b[43m,\u001b[49m\u001b[43m \u001b[49m\u001b[43maxis\u001b[49m\u001b[43m=\u001b[49m\u001b[43maxis\u001b[49m\u001b[43m)\u001b[49m\n",
      "\u001b[36mFile \u001b[39m\u001b[32m~/Desktop/Thesis/thesis/venv/lib/python3.12/site-packages/pandas/core/indexing.py:1752\u001b[39m, in \u001b[36m_iLocIndexer._getitem_axis\u001b[39m\u001b[34m(self, key, axis)\u001b[39m\n\u001b[32m   1749\u001b[39m     \u001b[38;5;28;01mraise\u001b[39;00m \u001b[38;5;167;01mTypeError\u001b[39;00m(\u001b[33m\"\u001b[39m\u001b[33mCannot index by location index with a non-integer key\u001b[39m\u001b[33m\"\u001b[39m)\n\u001b[32m   1751\u001b[39m \u001b[38;5;66;03m# validate the location\u001b[39;00m\n\u001b[32m-> \u001b[39m\u001b[32m1752\u001b[39m \u001b[38;5;28;43mself\u001b[39;49m\u001b[43m.\u001b[49m\u001b[43m_validate_integer\u001b[49m\u001b[43m(\u001b[49m\u001b[43mkey\u001b[49m\u001b[43m,\u001b[49m\u001b[43m \u001b[49m\u001b[43maxis\u001b[49m\u001b[43m)\u001b[49m\n\u001b[32m   1754\u001b[39m \u001b[38;5;28;01mreturn\u001b[39;00m \u001b[38;5;28mself\u001b[39m.obj._ixs(key, axis=axis)\n",
      "\u001b[36mFile \u001b[39m\u001b[32m~/Desktop/Thesis/thesis/venv/lib/python3.12/site-packages/pandas/core/indexing.py:1685\u001b[39m, in \u001b[36m_iLocIndexer._validate_integer\u001b[39m\u001b[34m(self, key, axis)\u001b[39m\n\u001b[32m   1683\u001b[39m len_axis = \u001b[38;5;28mlen\u001b[39m(\u001b[38;5;28mself\u001b[39m.obj._get_axis(axis))\n\u001b[32m   1684\u001b[39m \u001b[38;5;28;01mif\u001b[39;00m key >= len_axis \u001b[38;5;129;01mor\u001b[39;00m key < -len_axis:\n\u001b[32m-> \u001b[39m\u001b[32m1685\u001b[39m     \u001b[38;5;28;01mraise\u001b[39;00m \u001b[38;5;167;01mIndexError\u001b[39;00m(\u001b[33m\"\u001b[39m\u001b[33msingle positional indexer is out-of-bounds\u001b[39m\u001b[33m\"\u001b[39m)\n",
      "\u001b[31mIndexError\u001b[39m: single positional indexer is out-of-bounds"
     ]
    }
   ],
   "source": [
    "df_books['test'].iloc[17]"
   ]
  },
  {
   "cell_type": "markdown",
   "id": "78a43789",
   "metadata": {},
   "source": [
    "Abweichungen: \n",
    "    {\"Title\": \"Crime and Punishment\", \"Author\": \"Fyodor Dostoevsky\", \"Female_Major_Character\": 0},  # Some female characters but arguably not \"major\"\n",
    "    {\"Title\": \"The Giver (The Giver, #1)\", \"Author\": \"Lois Lowry\", \"Female_Major_Character\": 1},  # Fiona, the mom, etc.\n"
   ]
  },
  {
   "cell_type": "code",
   "execution_count": 36,
   "id": "f076c48e",
   "metadata": {},
   "outputs": [
    {
     "name": "stdout",
     "output_type": "stream",
     "text": [
      "                                             Title                    Author  \\\n",
      "0                                 The Hunger Games           Suzanne Collins   \n",
      "1        Harry Potter and the Order of the Phoenix              J.K. Rowling   \n",
      "2                              Pride and Prejudice               Jane Austen   \n",
      "3                            To Kill a Mockingbird                Harper Lee   \n",
      "4                                   The Book Thief              Markus Zusak   \n",
      "5                                         Twilight           Stephenie Meyer   \n",
      "6                           The Fault in Our Stars                John Green   \n",
      "7                  The Perks of Being a Wallflower           Stephen Chbosky   \n",
      "8                                The Little Prince  Antoine de Saint-Exupéry   \n",
      "9                             Crime and Punishment         Fyodor Dostoevsky   \n",
      "10                               Lord of the Flies           William Golding   \n",
      "11                                 Brave New World             Aldous Huxley   \n",
      "12  A Game of Thrones (A Song of Ice and Fire, #1)        George R.R. Martin   \n",
      "13                       The Giver (The Giver, #1)                Lois Lowry   \n",
      "14              The Adventures of Huckleberry Finn                Mark Twain   \n",
      "15                                          Lolita          Vladimir Nabokov   \n",
      "16                         The Old Man and the Sea          Ernest Hemingway   \n",
      "\n",
      "    Female_Major_Character                                               test  \\\n",
      "0                        1  ```python\\nimport pandas as pd\\n\\ndata = {\\n  ...   \n",
      "1                        1  ```python\\nimport pandas as pd\\n\\n# Creating a...   \n",
      "2                        1  Here is the information for your request:\\n\\n`...   \n",
      "3                        1  Here is your pandas DataFrame based on the ana...   \n",
      "4                        1  ```python\\nimport pandas as pd\\n\\n# Create a D...   \n",
      "5                        1  ```python\\nimport pandas as pd\\n\\ndf = pd.Data...   \n",
      "6                        1  Here's the assessment regarding the presence o...   \n",
      "7                        1  ```python\\nimport pandas as pd\\n\\ndata = {\\n  ...   \n",
      "8                        0  Here is the assessment of whether \"The Little ...   \n",
      "9                        0  ```python\\nimport pandas as pd\\n\\n# Define the...   \n",
      "10                       0  ```python\\nimport pandas as pd\\n\\n# Define the...   \n",
      "11                       1  ```python\\nimport pandas as pd\\n\\ndata = {\\n  ...   \n",
      "12                       1  Here is the assessment regarding \"A Game of Th...   \n",
      "13                       1  ```python\\nimport pandas as pd\\n\\n# Creating a...   \n",
      "14                       0  ```python\\nimport pandas as pd\\n\\n# Create a D...   \n",
      "15                       1  ```python\\nimport pandas as pd\\n\\ndef assess_f...   \n",
      "16                       0  ```python\\nimport pandas as pd\\n\\n# Define the...   \n",
      "\n",
      "                                                test2  \n",
      "0   Here's the assessment for your master thesis:\\...  \n",
      "1   ```python\\nimport pandas as pd\\n\\n# Create a D...  \n",
      "2   ```python\\nimport pandas as pd\\n\\n# Data frame...  \n",
      "3   ```python\\nimport pandas as pd\\n\\ndata = {\\n  ...  \n",
      "4   ```python\\nimport pandas as pd\\n\\n# Create a p...  \n",
      "5   ```python\\nimport pandas as pd\\n\\n# The book T...  \n",
      "6   Here is the assessment of *The Fault in Our St...  \n",
      "7   ```python\\nimport pandas as pd\\n\\n# Creating t...  \n",
      "8   ```python\\nimport pandas as pd\\n\\ndata = {\\n  ...  \n",
      "9   ```python\\nimport pandas as pd\\n\\ndata = {\\n  ...  \n",
      "10  ```python\\nimport pandas as pd\\n\\ndata = {\\n  ...  \n",
      "11  Here's the assessment in the required format:\\...  \n",
      "12  ```python\\nimport pandas as pd\\n\\ndata = {\\n  ...  \n",
      "13  ```python\\nimport pandas as pd\\n\\ndata = {\\n  ...  \n",
      "14  ```python\\nimport pandas as pd\\n\\n# Constructi...  \n",
      "15  ```python\\nimport pandas as pd\\n\\n# Data frame...  \n",
      "16  ```python\\nimport pandas as pd\\n\\ndata = {\\n  ...  \n"
     ]
    }
   ],
   "source": [
    "# Run again: \n",
    "# Setting my API key\n",
    "YOUR_API_KEY = os.environ[\"PERPLEXITY_API_KEY\"]\n",
    "\n",
    "# Saying hi it's me, and this is what I'll be sending\n",
    "headers = {\n",
    "    \"Authorization\": f\"Bearer {YOUR_API_KEY}\",\n",
    "    \"Content-Type\": \"application/json\"\n",
    "}\n",
    "\n",
    "# This is where I want to send it to\n",
    "url = \"https://api.perplexity.ai/chat/completions\"\n",
    "\n",
    "# I'll store the responses I get in this (as of now, empty) list\n",
    "responses2 = []\n",
    "\n",
    "# Setting up what I want to send to Perplexity\n",
    "for index, row in df_books.iterrows():\n",
    "    # Extract title and author from each row \n",
    "    title = row[\"Title\"]\n",
    "    author = row[\"Author\"]\n",
    "\n",
    "    # Format user prompt with current title and author\n",
    "    user_prompt = user_prompt_template.format(title=title, author=author)\n",
    "\n",
    "    # Payload\n",
    "    payload = {\n",
    "        \"model\": \"sonar\",\n",
    "        \"messages\": [\n",
    "            {\"role\": \"system\", \"content\": system_prompt},\n",
    "            {\"role\": \"user\", \"content\": user_prompt}\n",
    "        ]\n",
    "        # \"max_tokens\": 123,  # Limits the length of the response\n",
    "        # \"temperature\": 0.2,  # Controls randomness in the response\n",
    "        # \"top_p\": 0.9,\n",
    "        # \"search_domain_filter\": [\"<any>\"],\n",
    "        # \"return_images\": False,\n",
    "        # \"return_related_questions\": False,\n",
    "        # \"search_recency_filter\": \"<string>\",\n",
    "        # \"top_k\": 0,\n",
    "        # \"stream\": False,\n",
    "        # \"presence_penalty\": 0,\n",
    "        # \"frequency_penalty\": 1,\n",
    "        # \"response_format\": {},\n",
    "        # \"web_search_options\": {\"search_context_size\": \"high\"}\n",
    "    }\n",
    "\n",
    "    # Send the request to the Perplexity API\n",
    "    response = requests.post(url, json=payload, headers=headers)\n",
    "    \n",
    "    # Check the response\n",
    "    if response.status_code == 200:\n",
    "        response_json = response.json()\n",
    "        # Extract the answer from the response (this might vary depending on the response format)\n",
    "        answer = response_json.get('choices', [{}])[0].get('message', {}).get('content', 'No answer found')\n",
    "        responses2.append(answer)  # Store the answer\n",
    "    else:\n",
    "        # Handle errors by appending an error message\n",
    "        responses2.append(f\"Error: {response.status_code}\")\n",
    "\n",
    "# Add the responses to your original dataframe\n",
    "df_books['test2'] = responses2\n",
    "\n",
    "# Print the updated dataframe to check the results\n",
    "print(df_books)"
   ]
  },
  {
   "cell_type": "code",
   "execution_count": 56,
   "id": "9ff11a14",
   "metadata": {},
   "outputs": [
    {
     "data": {
      "text/plain": [
       "'```python\\nimport pandas as pd\\n\\ndata = {\\n    \\'title\\': [\\'Crime and Punishment\\'],\\n    \\'author\\': [\\'Fyodor Dostoevsky\\'],\\n    \\'female_major_character\\': [1],\\n    \\'expl\\': [\"Sonya Marmeladova plays a significant role as a central character, contributing to Raskolnikov\\'s moral transformation and serving as the first person he confesses to. Her presence and influence are crucial throughout the narrative, although Raskolnikov is the protagonist.\"]\\n}\\n\\ndf = pd.DataFrame(data)\\n\\nprint(df)\\n```'"
      ]
     },
     "execution_count": 56,
     "metadata": {},
     "output_type": "execute_result"
    }
   ],
   "source": [
    "df_books['test2'].iloc[9]"
   ]
  },
  {
   "cell_type": "markdown",
   "id": "a19741cb",
   "metadata": {},
   "source": [
    "Crime and punishment\n",
    "the giver"
   ]
  },
  {
   "cell_type": "markdown",
   "id": "9ee15962",
   "metadata": {},
   "source": [
    "overlap?"
   ]
  },
  {
   "cell_type": "markdown",
   "id": "4f575ed5",
   "metadata": {},
   "source": [
    "save name of fmc"
   ]
  },
  {
   "cell_type": "markdown",
   "id": "503f909d",
   "metadata": {},
   "source": [
    "Try in batch? "
   ]
  }
 ],
 "metadata": {
  "kernelspec": {
   "display_name": "venv",
   "language": "python",
   "name": "python3"
  },
  "language_info": {
   "codemirror_mode": {
    "name": "ipython",
    "version": 3
   },
   "file_extension": ".py",
   "mimetype": "text/x-python",
   "name": "python",
   "nbconvert_exporter": "python",
   "pygments_lexer": "ipython3",
   "version": "3.12.7"
  }
 },
 "nbformat": 4,
 "nbformat_minor": 5
}

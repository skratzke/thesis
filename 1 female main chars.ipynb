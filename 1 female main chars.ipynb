{
 "cells": [
  {
   "cell_type": "code",
   "execution_count": 1,
   "id": "c120eca2",
   "metadata": {},
   "outputs": [],
   "source": [
    "import pandas as pd\n",
    "import requests\n",
    "import os "
   ]
  },
  {
   "cell_type": "code",
   "execution_count": 2,
   "id": "66bd2119",
   "metadata": {},
   "outputs": [],
   "source": [
    "df10 = pd.read_csv('books10.csv')"
   ]
  },
  {
   "cell_type": "code",
   "execution_count": 16,
   "id": "8db0377e",
   "metadata": {},
   "outputs": [],
   "source": [
    "system_prompt = \"\"\"\n",
    "    You are a helpful literary assistant, helping me with my master thesis on gender in literature. \n",
    "    Your job is to search the internet and assess whether a book features a **female major character** (fmc).\n",
    "    \n",
    "   You MUST ALWAYS return your response as a Python list: [fmc_present, fmc_name]\n",
    "    - `fmc_present` = 1 if yes, 0 if no\n",
    "    - `fmc_name` = the most important female major character's name, or an empty string.\n",
    "\n",
    "    Never return anything else. No explanations, no full sentences. Just the list.\n",
    "\n",
    "    Examples:\n",
    "    - For \"To Kill A Mockingbird\" by Harper Lee (has a fmc): [1, 'Scout Finch']\n",
    "    - For \"The Hobbit and The Lord of the Rings\" by J.R.R. Tolkien (doesn't have a fmc): [0, '']\n",
    "\n",
    "    The female major character does not need to be the protagonist, but she must be a central presence in the narrative, \n",
    "    with more significance than a secondary or background character.\n",
    "\n",
    "    A female character is considered a **major character** if she plays a substantial role in the story, \n",
    "    regularly appears throughout the book, and if her role significantly contributes to relationships or events that \n",
    "    shape the plot or other characters.\n",
    "\n",
    "    Characters who serve only as symbolic figures, plot devices, or one-time motivators without meaningful presence \n",
    "    or development should not be considered major characters.\n",
    "\n",
    "    Examples of female major characters:\n",
    "    - **Katniss Everdeen** in **The Hunger Games** – protagonist, central to the plot, her choices drive the rebellion and story progression.\n",
    "    – **Hermione Granger** in *Harry Potter* – not the protagonist, but central to plot progression and character development.\n",
    "    \n",
    "    Examples of female NON-major characters:\n",
    "    - **Prim Everdeen** in **The Hunger Games** – important to Katniss's emotional motivation, but doesn’t influence the plot or have significant character development beyond being a catalyst.\n",
    "    - **Professor McGonagall** in **Harry Potter** – important supporting character, but doesn’t influence the main plot or have significant character development beyond being a mentor and guide to Harry and his friends.\n",
    "    \"\"\"\n",
    "\n",
    "user_prompt_template = \"Is there a female main character in the book {title} by {author}?\""
   ]
  },
  {
   "cell_type": "code",
   "execution_count": 17,
   "id": "ccf0c657",
   "metadata": {},
   "outputs": [
    {
     "name": "stdout",
     "output_type": "stream",
     "text": [
      "                                             Title                    Author  \\\n",
      "0                              Pride and Prejudice               Jane Austen   \n",
      "1                            To Kill a Mockingbird                Harper Lee   \n",
      "2                                   The Book Thief              Markus Zusak   \n",
      "3                                         Twilight           Stephenie Meyer   \n",
      "4                           The Fault in Our Stars                John Green   \n",
      "5                  The Perks of Being a Wallflower           Stephen Chbosky   \n",
      "6                                  Brave New World             Aldous Huxley   \n",
      "7   A Game of Thrones (A Song of Ice and Fire, #1)        George R.R. Martin   \n",
      "8                              The Lightning Thief              Rick Riordan   \n",
      "9                                           Lolita          Vladimir Nabokov   \n",
      "10            The Hobbit and The Lord of the Rings            J.R.R. Tolkien   \n",
      "11                               The Little Prince  Antoine de Saint-Exupéry   \n",
      "12                            Crime and Punishment         Fyodor Dostoevsky   \n",
      "13                               Lord of the Flies           William Golding   \n",
      "14              The Adventures of Huckleberry Finn                Mark Twain   \n",
      "15                         The Old Man and the Sea          Ernest Hemingway   \n",
      "16                                      Alex Rider          Anthony Horowitz   \n",
      "17                                   Der Trafikant          Robert Seethaler   \n",
      "\n",
      "    Female_Major_Character  \n",
      "0                        1  \n",
      "1                        1  \n",
      "2                        1  \n",
      "3                        1  \n",
      "4                        1  \n",
      "5                        1  \n",
      "6                        1  \n",
      "7                        1  \n",
      "8                        1  \n",
      "9                        1  \n",
      "10                       0  \n",
      "11                       0  \n",
      "12                       0  \n",
      "13                       0  \n",
      "14                       0  \n",
      "15                       0  \n",
      "16                       0  \n",
      "17                       0  \n"
     ]
    }
   ],
   "source": [
    "# Find 20 novels, check by hand\n",
    "\n",
    "# Original data with an extra column\n",
    "books = [\n",
    "    {\"Title\": \"Pride and Prejudice\", \"Author\": \"Jane Austen\", \"Female_Major_Character\": 1},  # Elizabeth Bennet\n",
    "    {\"Title\": \"To Kill a Mockingbird\", \"Author\": \"Harper Lee\", \"Female_Major_Character\": 1},  # Scout Finch\n",
    "    {\"Title\": \"The Book Thief\", \"Author\": \"Markus Zusak\", \"Female_Major_Character\": 1},  # Liesel Meminger\n",
    "    {\"Title\": \"Twilight\", \"Author\": \"Stephenie Meyer\", \"Female_Major_Character\": 1},  # Bella Swan\n",
    "    {\"Title\": \"The Fault in Our Stars\", \"Author\": \"John Green\", \"Female_Major_Character\": 1},  # Hazel Grace Lancaster\n",
    "    {\"Title\": \"The Perks of Being a Wallflower\", \"Author\": \"Stephen Chbosky\", \"Female_Major_Character\": 1},  # Sam\n",
    "    {\"Title\": \"Brave New World\", \"Author\": \"Aldous Huxley\", \"Female_Major_Character\": 1}, #Lenina Crowne\n",
    "    {\"Title\": \"A Game of Thrones (A Song of Ice and Fire, #1)\", \"Author\": \"George R.R. Martin\", \"Female_Major_Character\": 1},  # Daenerys Targaryen, Arya Stark, Cersei Lannister, ...\n",
    "    {\"Title\": \"The Lightning Thief\", \"Author\": \"Rick Riordan\", \"Female_Major_Character\": 1},  # Annabeth Chase\n",
    "    {\"Title\": \"Lolita\", \"Author\": \"Vladimir Nabokov\", \"Female_Major_Character\": 1},  # Dolores \"Lolita\" Haze\n",
    "\n",
    "    {\"Title\": \"The Hobbit and The Lord of the Rings\", \"Author\": \"J.R.R. Tolkien\", \"Female_Major_Character\": 0},\n",
    "    {\"Title\": \"The Little Prince\", \"Author\": \"Antoine de Saint-Exupéry\", \"Female_Major_Character\": 0},\n",
    "    {\"Title\": \"Crime and Punishment\", \"Author\": \"Fyodor Dostoevsky\", \"Female_Major_Character\": 0},  \n",
    "    {\"Title\": \"Lord of the Flies\", \"Author\": \"William Golding\", \"Female_Major_Character\": 0}, \n",
    "    {\"Title\": \"The Adventures of Huckleberry Finn\", \"Author\": \"Mark Twain\", \"Female_Major_Character\": 0}, \n",
    "    {\"Title\": \"The Old Man and the Sea\", \"Author\": \"Ernest Hemingway\", \"Female_Major_Character\": 0}, \n",
    "    {\"Title\": \"Alex Rider\", \"Author\": \"Anthony Horowitz\", \"Female_Major_Character\": 0},  \n",
    "    {\"Title\": \"Der Trafikant\", \"Author\": \"Robert Seethaler\", \"Female_Major_Character\": 0}, \n",
    "]\n",
    "\n",
    "# Create the DataFrame\n",
    "df_books = pd.DataFrame(books)\n",
    "\n",
    "# Display the updated DataFrame\n",
    "print(df_books)"
   ]
  },
  {
   "cell_type": "code",
   "execution_count": null,
   "id": "7f0fa6a3",
   "metadata": {},
   "outputs": [],
   "source": [
    "# set tempderature to 0? "
   ]
  },
  {
   "cell_type": "markdown",
   "id": "1f27a086",
   "metadata": {},
   "source": [
    "1. Run and look at overlap between Female_Major_Character and female_major_character.\n",
    "2. Run again and see if it changed. \n",
    "3. Run again. \n",
    "4. If changes, set temperature to 0."
   ]
  },
  {
   "cell_type": "code",
   "execution_count": 22,
   "id": "3f4236dc",
   "metadata": {},
   "outputs": [],
   "source": [
    "import requests\n",
    "from pydantic import BaseModel\n",
    "\n",
    "class AnswerFormat(BaseModel):\n",
    "    # Define a simple structure to represent the array format: [int, str]\n",
    "    first_element: int  # This will hold the `1` or `0`\n",
    "    second_element: str  # This will hold the string (e.g., 'Scout Finch')"
   ]
  },
  {
   "cell_type": "code",
   "execution_count": 23,
   "id": "710a83e2",
   "metadata": {},
   "outputs": [
    {
     "name": "stdout",
     "output_type": "stream",
     "text": [
      "                                             Title                    Author  \\\n",
      "0                              Pride and Prejudice               Jane Austen   \n",
      "1                            To Kill a Mockingbird                Harper Lee   \n",
      "2                                   The Book Thief              Markus Zusak   \n",
      "3                                         Twilight           Stephenie Meyer   \n",
      "4                           The Fault in Our Stars                John Green   \n",
      "5                  The Perks of Being a Wallflower           Stephen Chbosky   \n",
      "6                                  Brave New World             Aldous Huxley   \n",
      "7   A Game of Thrones (A Song of Ice and Fire, #1)        George R.R. Martin   \n",
      "8                              The Lightning Thief              Rick Riordan   \n",
      "9                                           Lolita          Vladimir Nabokov   \n",
      "10            The Hobbit and The Lord of the Rings            J.R.R. Tolkien   \n",
      "11                               The Little Prince  Antoine de Saint-Exupéry   \n",
      "12                            Crime and Punishment         Fyodor Dostoevsky   \n",
      "13                               Lord of the Flies           William Golding   \n",
      "14              The Adventures of Huckleberry Finn                Mark Twain   \n",
      "15                         The Old Man and the Sea          Ernest Hemingway   \n",
      "16                                      Alex Rider          Anthony Horowitz   \n",
      "17                                   Der Trafikant          Robert Seethaler   \n",
      "\n",
      "    Female_Major_Character                                               test  \n",
      "0                        1  { \"first_element\": 1, \"second_element\": \"Eliza...  \n",
      "1                        1  { \"first_element\": 1, \"second_element\": \"Scout...  \n",
      "2                        1  { \"first_element\": 1, \"second_element\": \"Liese...  \n",
      "3                        1  { \"first_element\": 1, \"second_element\": \"Isabe...  \n",
      "4                        1  { \"first_element\": 1, \"second_element\": \"Hazel...  \n",
      "5                        1    { \"first_element\": 1, \"second_element\": \"Sam\" }  \n",
      "6                        1  { \"first_element\": 1, \"second_element\": \"Lenin...  \n",
      "7                        1  { \"first_element\": 1, \"second_element\": \"Catel...  \n",
      "8                        1  { \"first_element\": 1, \"second_element\": \"Annab...  \n",
      "9                        1  { \"first_element\": 1, \"second_element\": \"Dolor...  \n",
      "10                       0  { \"first_element\": 1, \"second_element\": \"Éowyn\" }  \n",
      "11                       0       { \"first_element\": 0, \"second_element\": \"\" }  \n",
      "12                       0  { \"first_element\": 1, \"second_element\": \"Sonya...  \n",
      "13                       0       { \"first_element\": 0, \"second_element\": \"\" }  \n",
      "14                       0       { \"first_element\": 0, \"second_element\": \"\" }  \n",
      "15                       0       { \"first_element\": 0, \"second_element\": \"\" }  \n",
      "16                       0       { \"first_element\": 0, \"second_element\": \"\" }  \n",
      "17                       0       { \"first_element\": 0, \"second_element\": \"\" }  \n"
     ]
    }
   ],
   "source": [
    "# Setting my API key\n",
    "YOUR_API_KEY = os.environ[\"PERPLEXITY_API_KEY\"]\n",
    "\n",
    "# Saying hi it's me, and this is what I'll be sending\n",
    "headers = {\n",
    "    \"Authorization\": f\"Bearer {YOUR_API_KEY}\",\n",
    "    \"Content-Type\": \"application/json\"\n",
    "}\n",
    "\n",
    "# This is where I want to send it to\n",
    "url = \"https://api.perplexity.ai/chat/completions\"\n",
    "\n",
    "# I'll store the responses I get in this (as of now, empty) list\n",
    "responses = []\n",
    "\n",
    "# Setting up what I want to send to Perplexity\n",
    "for index, row in df_books.iterrows():\n",
    "    # Extract title and author from each row \n",
    "    title = row[\"Title\"]\n",
    "    author = row[\"Author\"]\n",
    "\n",
    "    # Format user prompt with current title and author\n",
    "    user_prompt = user_prompt_template.format(title=title, author=author)\n",
    "\n",
    "    # Payload\n",
    "    payload = {\n",
    "        \"model\": \"sonar\",\n",
    "        \"messages\": [\n",
    "            {\"role\": \"system\", \"content\": system_prompt},\n",
    "            {\"role\": \"user\", \"content\": user_prompt}\n",
    "        ],\n",
    "        \"max_tokens\": 50,\n",
    "        \"temperature\": 0,  # Controls randomness in the response\n",
    "        # \"top_p\": 0.9,\n",
    "        # \"search_domain_filter\": [\"<any>\"],\n",
    "        # \"return_images\": False,\n",
    "        # \"return_related_questions\": False,\n",
    "        # \"search_recency_filter\": \"<string>\",\n",
    "        # \"top_k\": 0,\n",
    "        # \"stream\": False,\n",
    "        # \"presence_penalty\": 0,\n",
    "        # \"frequency_penalty\": 1,\n",
    "        \"response_format\": {\n",
    "          \"type\": \"json_schema\",\n",
    "          \"json_schema\": {\"schema\": AnswerFormat.model_json_schema()},\n",
    "        },\n",
    "        # \"web_search_options\": {\"search_context_size\": \"high\"}\n",
    "    }\n",
    "\n",
    "    # Send the request to the Perplexity API\n",
    "    response = requests.post(url, json=payload, headers=headers)\n",
    "    \n",
    "    # Check the response\n",
    "    if response.status_code == 200:\n",
    "        response_json = response.json()\n",
    "        # Extract the answer from the response (this might vary depending on the response format)\n",
    "        answer = response_json.get('choices', [{}])[0].get('message', {}).get('content', 'No answer found')\n",
    "        responses.append(answer)  # Store the answer\n",
    "    else:\n",
    "        # Handle errors by appending an error message\n",
    "        responses.append(f\"Error: {response.status_code}\")\n",
    "\n",
    "# Add the responses to your original dataframe\n",
    "df_books['test'] = responses\n",
    "\n",
    "# Print the updated dataframe to check the results\n",
    "print(df_books)"
   ]
  },
  {
   "cell_type": "code",
   "execution_count": 14,
   "id": "38b5d7da",
   "metadata": {},
   "outputs": [
    {
     "data": {
      "text/plain": [
       "\"For **The Hobbit**, there is no female main character. The book lacks significant female characters, with only a mention of Bilbo's deceased mother\""
      ]
     },
     "execution_count": 14,
     "metadata": {},
     "output_type": "execute_result"
    }
   ],
   "source": [
    "df_books['test'].iloc[10]"
   ]
  },
  {
   "cell_type": "code",
   "execution_count": 12,
   "id": "6986269a",
   "metadata": {},
   "outputs": [
    {
     "name": "stdout",
     "output_type": "stream",
     "text": [
      "{'model': 'sonar', 'messages': [{'role': 'system', 'content': '\\n    You are a helpful literary assistant, helping me with my master thesis on gender in literature. \\n    Your job is to search the internet and assess whether a book features a **female major character** (fmc).\\n\\n    You always return only a Python list in this format: [fmc_present, fmc_name], where \\n    fmc_present indicates if there is a fmc present (no = 0, yes = 1), and \\n    fmc_name represents the name of the fmc. If there is none, put an empty string.  \\n    If there are several fmcs in a book, give the name of the most important one. Only ever give one name.\\n    Examples:\\n    - For \"To Kill A Mockingbird\" by Harper Lee: [1, \\'Scout Finch\\']\\n    - For \"The Hobbit and The Lord of the Rings\" by J.R.R. Tolkien: [0, \\'\\']\\n\\n    The female major character does not need to be the protagonist, but she must be a central presence in the narrative, \\n    with more significance than a secondary or background character.\\n\\n    A female character is considered a **major character** if she plays a substantial role in the story, \\n    regularly appears throughout the book, and if her role significantly contributes to relationships or events that \\n    shape the plot or other characters.\\n\\n    Characters who serve only as symbolic figures, plot devices, or one-time motivators without meaningful presence \\n    or development should not be considered major characters.\\n\\n    Examples of female major characters:\\n    - **Katniss Everdeen** in **The Hunger Games** – protagonist, central to the plot, her choices drive the rebellion and story progression.\\n    – **Hermione Granger** in *Harry Potter* – not the protagonist, but central to plot progression and character development.\\n\\n    Examples of female NON-major characters:\\n    - **Prim Everdeen** in **The Hunger Games** – important to Katniss\\'s emotional motivation, but doesn’t influence the plot or have significant character development beyond being a catalyst.\\n    - **Professor McGonagall** in **Harry Potter** – important supporting character, but doesn’t influence the main plot or have significant character development beyond being a mentor and guide to Harry and his friends.\\n    '}, {'role': 'user', 'content': 'Is there a female main character in the book Der Trafikant by Robert Seethaler?'}], 'max_tokens': 30, 'response_format': 'json'}\n",
      "{\"error\":{\"message\":\"[\\\"At body -> response_format -> ResponseFormatText: Input should be a dictionary or an instance of ResponseFormatText\\\", \\\"At body -> response_format -> ResponseFormatJSONSchema: Input should be a dictionary or an instance of ResponseFormatJSONSchema\\\", \\\"At body -> response_format -> ResponseFormatRegex: Input should be a dictionary or an instance of ResponseFormatRegex\\\"]\",\"type\":\"bad_request\",\"code\":400}}\n"
     ]
    }
   ],
   "source": [
    "print(payload)\n",
    "print(response.text)"
   ]
  },
  {
   "cell_type": "markdown",
   "id": "a19741cb",
   "metadata": {},
   "source": [
    "Crime and punishment\n",
    "the giver"
   ]
  },
  {
   "cell_type": "markdown",
   "id": "9ee15962",
   "metadata": {},
   "source": [
    "overlap?"
   ]
  },
  {
   "cell_type": "markdown",
   "id": "503f909d",
   "metadata": {},
   "source": [
    "Try in batch? "
   ]
  }
 ],
 "metadata": {
  "kernelspec": {
   "display_name": "venv",
   "language": "python",
   "name": "python3"
  },
  "language_info": {
   "codemirror_mode": {
    "name": "ipython",
    "version": 3
   },
   "file_extension": ".py",
   "mimetype": "text/x-python",
   "name": "python",
   "nbconvert_exporter": "python",
   "pygments_lexer": "ipython3",
   "version": "3.12.7"
  }
 },
 "nbformat": 4,
 "nbformat_minor": 5
}

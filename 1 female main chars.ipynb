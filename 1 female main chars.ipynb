{
 "cells": [
  {
   "cell_type": "code",
   "execution_count": 1,
   "id": "c120eca2",
   "metadata": {},
   "outputs": [],
   "source": [
    "import pandas as pd\n",
    "import requests\n",
    "import os \n",
    "import ast\n",
    "import time\n",
    "from time import sleep\n",
    "import logging\n",
    "from pydantic import RootModel, conint\n",
    "from typing import Tuple"
   ]
  },
  {
   "cell_type": "code",
   "execution_count": 2,
   "id": "8db0377e",
   "metadata": {},
   "outputs": [],
   "source": [
    "system_prompt = \"\"\"\n",
    "    You are a helpful literary assistant, helping me with my master thesis on gender in literature. \n",
    "    Your job is to search the internet and assess whether a book features a **female major character** (fmc).\n",
    "    \n",
    "   You MUST ALWAYS return your response as a Python list with exactly two elements: [fmc_present, fmc_name]\n",
    "    - `fmc_present` = 1 if yes, 0 if no\n",
    "    - `fmc_name` = the most important female major character's name, or an empty string.\n",
    "\n",
    "    Never return anything else. No explanations, no full sentences. Just the list.\n",
    "\n",
    "    Examples:\n",
    "    - For \"To Kill A Mockingbird\" by Harper Lee (has a fmc): [1, 'Scout Finch']\n",
    "    - For \"The Hobbit and The Lord of the Rings\" by J.R.R. Tolkien (doesn't have a fmc): [0, '']\n",
    "\n",
    "    The female major character does not need to be the protagonist, but she must be a central presence in the narrative, \n",
    "    with **more significance than a secondary or background character**.\n",
    "\n",
    "    A female character is considered a **major character** if she plays a substantial role in the story, \n",
    "    regularly appears throughout the book, and if her role significantly contributes to relationships or events that \n",
    "    shape the plot or other characters.\n",
    "\n",
    "    Characters who serve only as symbolic figures, plot devices, or one-time motivators without meaningful presence \n",
    "    or development should not be considered major characters.\n",
    "\n",
    "    Examples of female major characters:\n",
    "    - **Katniss Everdeen** in **The Hunger Games** – protagonist, central to the plot, her choices drive the rebellion and story progression.\n",
    "    – **Hermione Granger** in *Harry Potter* – not the protagonist, but central to plot progression and character development.\n",
    "    \n",
    "    Examples of female NON-major characters:\n",
    "    - **Prim Everdeen** in **The Hunger Games** – important to Katniss's emotional motivation, but doesn’t influence the plot or have significant character development beyond being a catalyst.\n",
    "    - **Professor McGonagall** in **Harry Potter** – important supporting character, but doesn’t influence the main plot or have significant character development beyond being a mentor and guide to Harry and his friends.\n",
    "    \"\"\"\n",
    "\n",
    "user_prompt_template = \"Is there a female major character in the book {title} by {author}?\""
   ]
  },
  {
   "cell_type": "code",
   "execution_count": 3,
   "id": "fb8196c6",
   "metadata": {},
   "outputs": [],
   "source": [
    "# Specify answer format\n",
    "\n",
    "# Define the tuple type: (0 or 1, followed by a string)\n",
    "MyFormat = Tuple[conint(ge=0, le=1), str]\n",
    "\n",
    "# Use RootModel to define the model\n",
    "class AnswerFormat(RootModel[MyFormat]):\n",
    "    pass"
   ]
  },
  {
   "cell_type": "code",
   "execution_count": 4,
   "id": "e3b3ee5a",
   "metadata": {},
   "outputs": [
    {
     "data": {
      "application/vnd.microsoft.datawrangler.viewer.v0+json": {
       "columns": [
        {
         "name": "index",
         "rawType": "int64",
         "type": "integer"
        },
        {
         "name": "title",
         "rawType": "object",
         "type": "string"
        },
        {
         "name": "author",
         "rawType": "object",
         "type": "string"
        }
       ],
       "conversionMethod": "pd.DataFrame",
       "ref": "72839f01-5163-436e-bb14-717973f745e3",
       "rows": [
        [
         "0",
         "Jackie  Me Baseball Card Adventure 2",
         "Gutman, Dan"
        ],
        [
         "1",
         "Honus  Me A Baseball Card Adventure 1",
         "Gutman, Dan"
        ],
        [
         "2",
         "Wildflower Hill",
         "Freeman, Kimberley"
        ],
        [
         "3",
         "Oracle Night",
         "Auster, Paul"
        ],
        [
         "4",
         "As a Driven Leaf",
         "Steinberg, Milton"
        ],
        [
         "5",
         "Pollyanna Pollyanna 1",
         "Porter, Eleanor H."
        ],
        [
         "6",
         "Eleanor Rigby",
         "Coupland, Douglas"
        ],
        [
         "7",
         "Journal 64 Department Q 4",
         "Adler-Olsen, Jussi"
        ],
        [
         "8",
         "Homo Faber",
         "Frisch, Max"
        ],
        [
         "9",
         "The Revealers",
         "Wilhelm, Doug"
        ],
        [
         "10",
         "Halo Contact Harvest",
         "Staten, Joseph"
        ],
        [
         "11",
         "A Pony for Keeps Pony Pals 2",
         "Betancourt, Jeanne"
        ],
        [
         "12",
         "Harry Potter and the Methods of Rationality",
         "Yudkowsky, Eliezer"
        ],
        [
         "13",
         "Summer of Love",
         "Fforde, Katie"
        ],
        [
         "14",
         "The First Part Last Michael L Printz Award  Winner",
         "Johnson, Angela"
        ],
        [
         "15",
         "Monkey The Journey to the West",
         "Wu Cheng'en"
        ],
        [
         "16",
         "The Gift Witch  Wizard 2",
         "Patterson, James"
        ],
        [
         "17",
         "Clockwork Prince The Infernal Devices 2",
         "Clare, Cassandra"
        ],
        [
         "18",
         "The Emperors Edge The Emperors Edge 1",
         "Buroker, Lindsay"
        ],
        [
         "19",
         "The Age of Reason Roads to Freedom 1",
         "Sartre, Jean-Paul"
        ],
        [
         "20",
         "Comet in Moominland The Moomins 2",
         "Jansson, Tove"
        ],
        [
         "21",
         "Epic Epic 1",
         "Kostick, Conor"
        ],
        [
         "22",
         "Dragons of Autumn Twilight Dragonlance Chronicles 1",
         "Weis, Margaret"
        ],
        [
         "23",
         "A Dog Called Kitty",
         "Wallace, Bill"
        ],
        [
         "24",
         "The Rage Forgotten Realms The Year of Rogue Dragons 1",
         "Byers, Richard Lee"
        ],
        [
         "25",
         "Day of the Dragon WarCraft 1",
         "Knaak, Richard A."
        ],
        [
         "26",
         "30 Pieces of Silver Betrayed 1",
         "McCray, Carolyn"
        ],
        [
         "27",
         "Dragon Rider Dragon Rider 1",
         "Funke, Cornelia"
        ],
        [
         "28",
         "The Sea of Trolls Sea of Trolls 1",
         "Farmer, Nancy"
        ],
        [
         "29",
         "The Secret Crusade Assassins Creed 3",
         "Bowden, Oliver"
        ],
        [
         "30",
         "Dearly Departed Gone With the Respiration 1",
         "Habel, Lia"
        ],
        [
         "31",
         "Dark Souls",
         "Morris, Paula"
        ],
        [
         "32",
         "The Single Girls ToDo List",
         "Kelk, Lindsey"
        ],
        [
         "33",
         "Youth in Revolt The Journals of Nick Twisp Book One",
         "Payne, C.D."
        ],
        [
         "34",
         "The Golden Acorn The Adventures of Jack Brenin 1",
         "Cooper, Catherine"
        ],
        [
         "35",
         "It Started With A Kiss",
         "Dickinson, Miranda"
        ],
        [
         "36",
         "A Touch of Crimson Renegade Angels 1",
         "Day, Sylvia"
        ],
        [
         "37",
         "Wayside School Is Falling Down Wayside School 2",
         "Sachar, Louis"
        ],
        [
         "38",
         "The Secret War Jack Blank Adventure 2",
         "Myklusch, Matt"
        ],
        [
         "39",
         "The Train",
         "Simenon, Georges"
        ],
        [
         "40",
         "The Bachelor of Arts",
         "Narayan, R.K."
        ],
        [
         "41",
         "A Long Way Down",
         "Hornby, Nick"
        ],
        [
         "42",
         "Tinker Tailor Soldier Spy George Smiley 5 Karla Trilogy 1",
         "le Carré, John"
        ],
        [
         "43",
         "His Dark Materials Trilogy The Golden Compass  The Subtle Knife  The Amber Spyglass",
         "Pullman, Philip"
        ],
        [
         "44",
         "The Deep",
         "Dunmore, Helen"
        ],
        [
         "45",
         "The Long Ships New York Review Books Classics",
         "Bengtsson, Frans G."
        ],
        [
         "46",
         "HIVE Higher Institute of Villainous Education HIVE 1",
         "Walden, Mark"
        ],
        [
         "47",
         "The Crime of Father Amaro",
         "Queirós, Eça de"
        ],
        [
         "48",
         "Snake Skin Lucy Guardino FBI Thriller 1",
         "Lyons, C.J."
        ],
        [
         "49",
         "A Very Special Delivery Tiny Blessings 8",
         "Goodnight, Linda"
        ]
       ],
       "shape": {
        "columns": 2,
        "rows": 18004
       }
      },
      "text/html": [
       "<div>\n",
       "<style scoped>\n",
       "    .dataframe tbody tr th:only-of-type {\n",
       "        vertical-align: middle;\n",
       "    }\n",
       "\n",
       "    .dataframe tbody tr th {\n",
       "        vertical-align: top;\n",
       "    }\n",
       "\n",
       "    .dataframe thead th {\n",
       "        text-align: right;\n",
       "    }\n",
       "</style>\n",
       "<table border=\"1\" class=\"dataframe\">\n",
       "  <thead>\n",
       "    <tr style=\"text-align: right;\">\n",
       "      <th></th>\n",
       "      <th>title</th>\n",
       "      <th>author</th>\n",
       "    </tr>\n",
       "  </thead>\n",
       "  <tbody>\n",
       "    <tr>\n",
       "      <th>0</th>\n",
       "      <td>Jackie  Me Baseball Card Adventure 2</td>\n",
       "      <td>Gutman, Dan</td>\n",
       "    </tr>\n",
       "    <tr>\n",
       "      <th>1</th>\n",
       "      <td>Honus  Me A Baseball Card Adventure 1</td>\n",
       "      <td>Gutman, Dan</td>\n",
       "    </tr>\n",
       "    <tr>\n",
       "      <th>2</th>\n",
       "      <td>Wildflower Hill</td>\n",
       "      <td>Freeman, Kimberley</td>\n",
       "    </tr>\n",
       "    <tr>\n",
       "      <th>3</th>\n",
       "      <td>Oracle Night</td>\n",
       "      <td>Auster, Paul</td>\n",
       "    </tr>\n",
       "    <tr>\n",
       "      <th>4</th>\n",
       "      <td>As a Driven Leaf</td>\n",
       "      <td>Steinberg, Milton</td>\n",
       "    </tr>\n",
       "    <tr>\n",
       "      <th>...</th>\n",
       "      <td>...</td>\n",
       "      <td>...</td>\n",
       "    </tr>\n",
       "    <tr>\n",
       "      <th>17999</th>\n",
       "      <td>Truly Madly Deeply</td>\n",
       "      <td>Kazi, Faraaz</td>\n",
       "    </tr>\n",
       "    <tr>\n",
       "      <th>18000</th>\n",
       "      <td>Sloop of War Richard Bolitho 6</td>\n",
       "      <td>Kent, Alexander</td>\n",
       "    </tr>\n",
       "    <tr>\n",
       "      <th>18001</th>\n",
       "      <td>Purification Autumn 3</td>\n",
       "      <td>Moody, David</td>\n",
       "    </tr>\n",
       "    <tr>\n",
       "      <th>18002</th>\n",
       "      <td>The American Heiress</td>\n",
       "      <td>Goodwin, Daisy</td>\n",
       "    </tr>\n",
       "    <tr>\n",
       "      <th>18003</th>\n",
       "      <td>Venom Secrets of the Eternal Rose 1</td>\n",
       "      <td>Paul, Fiona</td>\n",
       "    </tr>\n",
       "  </tbody>\n",
       "</table>\n",
       "<p>18004 rows × 2 columns</p>\n",
       "</div>"
      ],
      "text/plain": [
       "                                       title              author\n",
       "0       Jackie  Me Baseball Card Adventure 2         Gutman, Dan\n",
       "1      Honus  Me A Baseball Card Adventure 1         Gutman, Dan\n",
       "2                            Wildflower Hill  Freeman, Kimberley\n",
       "3                               Oracle Night        Auster, Paul\n",
       "4                           As a Driven Leaf   Steinberg, Milton\n",
       "...                                      ...                 ...\n",
       "17999                     Truly Madly Deeply        Kazi, Faraaz\n",
       "18000         Sloop of War Richard Bolitho 6     Kent, Alexander\n",
       "18001                  Purification Autumn 3        Moody, David\n",
       "18002                   The American Heiress      Goodwin, Daisy\n",
       "18003    Venom Secrets of the Eternal Rose 1         Paul, Fiona\n",
       "\n",
       "[18004 rows x 2 columns]"
      ]
     },
     "execution_count": 4,
     "metadata": {},
     "output_type": "execute_result"
    }
   ],
   "source": [
    "# Load all books\n",
    "df_all = pd.read_csv(\"books.csv\")\n",
    "df_all = df_all.drop(columns=['genres'])\n",
    "df_all = df_all.drop_duplicates(subset=[\"title\", \"author\"]).reset_index(drop=True)\n",
    "df_all = df_all.dropna(subset=[\"title\", \"author\"])\n",
    "df_all[\"author\"] = df_all[\"author\"].str.replace(\"*\", \"\", regex=False).str.strip()\n",
    "df_all"
   ]
  },
  {
   "cell_type": "code",
   "execution_count": 5,
   "id": "47ab8f27",
   "metadata": {},
   "outputs": [
    {
     "data": {
      "application/vnd.microsoft.datawrangler.viewer.v0+json": {
       "columns": [
        {
         "name": "index",
         "rawType": "int64",
         "type": "integer"
        },
        {
         "name": "title",
         "rawType": "object",
         "type": "string"
        },
        {
         "name": "author",
         "rawType": "object",
         "type": "string"
        }
       ],
       "conversionMethod": "pd.DataFrame",
       "ref": "8f0e7de1-1128-4aca-8129-6ca4243230ed",
       "rows": [
        [
         "3050",
         "The Business of Dying Dennis Milne 1",
         "Kernick, Simon"
        ],
        [
         "3051",
         "Stamboul Train",
         "Greene, Graham"
        ],
        [
         "3052",
         "Marjorie Morningstar",
         "Wouk, Herman"
        ],
        [
         "3053",
         "Devices and Desires Engineer Trilogy 1",
         "Parker, K.J."
        ],
        [
         "3054",
         "Turks Fruit",
         "Wolkers, Jan"
        ],
        [
         "3055",
         "The Cellar",
         "Laymon, Richard"
        ],
        [
         "3056",
         "Among the Missing",
         "Laymon, Richard"
        ],
        [
         "3057",
         "Drama Queen Candy Apple 5",
         "Bergen, Lara"
        ],
        [
         "3058",
         "The Mailbox",
         "Shafer, Audrey"
        ],
        [
         "3059",
         "How to Be a Girly Girl in Just Ten Days Candy Apple 4",
         "Papademetriou, Lisa"
        ],
        [
         "3060",
         "The Borrowers Afield The Borrowers 2",
         "Norton, Mary"
        ],
        [
         "3061",
         "The Borrowers Afloat The Borrowers 3",
         "Norton, Mary"
        ],
        [
         "3062",
         "The Temple of the Ruby of Fire Geronimo Stilton 14",
         "Stilton, Geronimo"
        ],
        [
         "3063",
         "Improbable",
         "Fawer, Adam"
        ],
        [
         "3064",
         "When Tomorrow Comes Canadian West 6",
         "Oke, Janette"
        ],
        [
         "3065",
         "If Tomorrow Comes Tracy Whitney 1",
         "Sheldon, Sidney"
        ],
        [
         "3066",
         "This Is What I Did",
         "Ellis, Ann Dee"
        ],
        [
         "3067",
         "Here and Now",
         "Roby, Kimberla Lawson"
        ],
        [
         "3068",
         "Wasteland",
         "Block, Francesca Lia"
        ],
        [
         "3069",
         "Dangerous Angels Weetzie Bat 15",
         "Block, Francesca Lia"
        ],
        [
         "3070",
         "Nemesis Magic The Gathering Masquerade Cycle 2",
         "Thompson, Paul B."
        ],
        [
         "3071",
         "Ketika Cinta Bertasbih Episode 1",
         "El-Shirazy, Habiburrahman"
        ],
        [
         "3072",
         "Crossing California",
         "Langer, Adam"
        ],
        [
         "3073",
         "The Hanged Man",
         "Block, Francesca Lia"
        ],
        [
         "3074",
         "Violet  Claire",
         "Block, Francesca Lia"
        ],
        [
         "3075",
         "Running the Rift",
         "Benaron, Naomi"
        ],
        [
         "3076",
         "Eight Cousins Eight Cousins 1",
         "Alcott, Louisa May"
        ],
        [
         "3077",
         "Stenhuggaren Patrik Hedstrm 3",
         "Läckberg, Camilla"
        ],
        [
         "3078",
         "Penpal",
         "Auerbach, Dathan"
        ],
        [
         "3079",
         "Beck Beyond the Sea Tales of Pixie Hollow 10",
         "Morris, Kimberly"
        ],
        [
         "3080",
         "Tumbleweeds",
         "Meacham, Leila"
        ],
        [
         "3081",
         "Martin Dressler The Tale of an American Dreamer",
         "Millhauser, Steven"
        ],
        [
         "3082",
         "Sin City Homicide",
         "Methos, Victor"
        ],
        [
         "3083",
         "Whispers",
         "Goodwin, Rosie"
        ],
        [
         "3084",
         "The Good Lawyer Good Lawyer 1",
         "Benigno, Thomas"
        ],
        [
         "3085",
         "Edensor",
         "Hirata, Andrea"
        ],
        [
         "3086",
         "East Wind West Wind",
         "Buck, Pearl S."
        ],
        [
         "3087",
         "Underwater Adventure",
         "Price, Willard"
        ],
        [
         "3088",
         "South Sea Adventure",
         "Price, Willard"
        ],
        [
         "3089",
         "Lion Adventure",
         "Price, Willard"
        ],
        [
         "3090",
         "Summer Boys Summer Boys 1",
         "Abbott, Hailey"
        ],
        [
         "3091",
         "Last Summer Summer Boys 4",
         "Abbott, Hailey"
        ],
        [
         "3092",
         "Invitation to the Game",
         "Hughes, Monica"
        ],
        [
         "3093",
         "Encyclopedia Brown and the Case of the Secret Pitch Encyclopedia Brown 2",
         "Sobol, Donald J."
        ],
        [
         "3094",
         "The Wild Palms",
         "Faulkner, William"
        ],
        [
         "3095",
         "The Red and the Black",
         "Stendhal"
        ],
        [
         "3096",
         "Jewel of Atlantis Atlantis 2",
         "Showalter, Gena"
        ],
        [
         "3097",
         "The Charterhouse of Parma",
         "Stendhal"
        ],
        [
         "3098",
         "The King of Elflands Daughter",
         "Dunsany, Lord"
        ],
        [
         "3099",
         "Janet Evanovich Three and Four TwoBook Set Stephanie Plum 34",
         "Evanovich, Janet"
        ]
       ],
       "shape": {
        "columns": 2,
        "rows": 10950
       }
      },
      "text/html": [
       "<div>\n",
       "<style scoped>\n",
       "    .dataframe tbody tr th:only-of-type {\n",
       "        vertical-align: middle;\n",
       "    }\n",
       "\n",
       "    .dataframe tbody tr th {\n",
       "        vertical-align: top;\n",
       "    }\n",
       "\n",
       "    .dataframe thead th {\n",
       "        text-align: right;\n",
       "    }\n",
       "</style>\n",
       "<table border=\"1\" class=\"dataframe\">\n",
       "  <thead>\n",
       "    <tr style=\"text-align: right;\">\n",
       "      <th></th>\n",
       "      <th>title</th>\n",
       "      <th>author</th>\n",
       "    </tr>\n",
       "  </thead>\n",
       "  <tbody>\n",
       "    <tr>\n",
       "      <th>3050</th>\n",
       "      <td>The Business of Dying Dennis Milne 1</td>\n",
       "      <td>Kernick, Simon</td>\n",
       "    </tr>\n",
       "    <tr>\n",
       "      <th>3051</th>\n",
       "      <td>Stamboul Train</td>\n",
       "      <td>Greene, Graham</td>\n",
       "    </tr>\n",
       "    <tr>\n",
       "      <th>3052</th>\n",
       "      <td>Marjorie Morningstar</td>\n",
       "      <td>Wouk, Herman</td>\n",
       "    </tr>\n",
       "    <tr>\n",
       "      <th>3053</th>\n",
       "      <td>Devices and Desires Engineer Trilogy 1</td>\n",
       "      <td>Parker, K.J.</td>\n",
       "    </tr>\n",
       "    <tr>\n",
       "      <th>3054</th>\n",
       "      <td>Turks Fruit</td>\n",
       "      <td>Wolkers, Jan</td>\n",
       "    </tr>\n",
       "    <tr>\n",
       "      <th>...</th>\n",
       "      <td>...</td>\n",
       "      <td>...</td>\n",
       "    </tr>\n",
       "    <tr>\n",
       "      <th>13995</th>\n",
       "      <td>A Fire in the Flesh Flesh and Fire 3</td>\n",
       "      <td>Armentrout, Jennifer L.</td>\n",
       "    </tr>\n",
       "    <tr>\n",
       "      <th>13996</th>\n",
       "      <td>The Last Tale of the Flower Bride</td>\n",
       "      <td>Chokshi, Roshani</td>\n",
       "    </tr>\n",
       "    <tr>\n",
       "      <th>13997</th>\n",
       "      <td>Sworn to Silence Kate Burkholder 1</td>\n",
       "      <td>Castillo, Linda</td>\n",
       "    </tr>\n",
       "    <tr>\n",
       "      <th>13998</th>\n",
       "      <td>Boom</td>\n",
       "      <td>Haddon, Mark</td>\n",
       "    </tr>\n",
       "    <tr>\n",
       "      <th>13999</th>\n",
       "      <td>Blue Boy</td>\n",
       "      <td>Satyal, Rakesh</td>\n",
       "    </tr>\n",
       "  </tbody>\n",
       "</table>\n",
       "<p>10950 rows × 2 columns</p>\n",
       "</div>"
      ],
      "text/plain": [
       "                                        title                   author\n",
       "3050     The Business of Dying Dennis Milne 1           Kernick, Simon\n",
       "3051                           Stamboul Train           Greene, Graham\n",
       "3052                     Marjorie Morningstar             Wouk, Herman\n",
       "3053   Devices and Desires Engineer Trilogy 1             Parker, K.J.\n",
       "3054                              Turks Fruit             Wolkers, Jan\n",
       "...                                       ...                      ...\n",
       "13995    A Fire in the Flesh Flesh and Fire 3  Armentrout, Jennifer L.\n",
       "13996       The Last Tale of the Flower Bride         Chokshi, Roshani\n",
       "13997      Sworn to Silence Kate Burkholder 1          Castillo, Linda\n",
       "13998                                    Boom             Haddon, Mark\n",
       "13999                                Blue Boy           Satyal, Rakesh\n",
       "\n",
       "[10950 rows x 2 columns]"
      ]
     },
     "execution_count": 5,
     "metadata": {},
     "output_type": "execute_result"
    }
   ],
   "source": [
    "# Split big all_books up into smaller parts for less risk \n",
    "# in 60 minutes, I can run around 1,525 books\n",
    "\n",
    "# First try for 2 hours, so around 3,050 books\n",
    "# df_subset_1 = df_all.iloc[:3050].copy()\n",
    "# df_subset_1\n",
    "\n",
    "# Create second subset\n",
    "df_subset_2 = df_all.iloc[3050:14000].copy()\n",
    "df_subset_2"
   ]
  },
  {
   "cell_type": "code",
   "execution_count": 6,
   "id": "4798991e",
   "metadata": {},
   "outputs": [],
   "source": [
    "# Set up logging for error tracking\n",
    "logging.basicConfig(filename='subset2_log.log', level=logging.INFO)\n",
    "\n",
    "# Setting API key\n",
    "YOUR_API_KEY = os.environ[\"PERPLEXITY_API_KEY\"]\n",
    "\n",
    "# Headers for the API request\n",
    "headers = {\n",
    "    \"Authorization\": f\"Bearer {YOUR_API_KEY}\",\n",
    "    \"Content-Type\": \"application/json\"\n",
    "}\n",
    "\n",
    "# Endpoint for the API\n",
    "url = \"https://api.perplexity.ai/chat/completions\"\n",
    "\n",
    "# Store responses, citations, and titles + authors for progress\n",
    "responses = []\n",
    "citations = []\n",
    "titles = []\n",
    "authors = []"
   ]
  },
  {
   "cell_type": "code",
   "execution_count": 9,
   "id": "2d7c7d5a",
   "metadata": {},
   "outputs": [],
   "source": [
    "# Function to send a request to the API\n",
    "def send_request(title, author, retries=3):\n",
    "    user_prompt = user_prompt_template.format(title=title, author=author)\n",
    "    payload = {\n",
    "        \"model\": \"sonar\",\n",
    "        \"messages\": [\n",
    "            {\"role\": \"system\", \"content\": system_prompt},\n",
    "            {\"role\": \"user\", \"content\": user_prompt}\n",
    "        ],\n",
    "        \"max_tokens\": 200,\n",
    "        \"temperature\": 0,  \n",
    "        \"response_format\": {\n",
    "            \"type\": \"json_schema\",\n",
    "            \"json_schema\": {\"schema\": AnswerFormat.model_json_schema()},\n",
    "        },\n",
    "    }\n",
    "\n",
    "    try:\n",
    "        # Make the request to the API\n",
    "        response = requests.post(url, json=payload, headers=headers)\n",
    "        \n",
    "        # Check if the response is successful\n",
    "        if response.status_code == 200:\n",
    "            response_json = response.json()\n",
    "            answer = response_json.get('choices', [{}])[0].get('message', {}).get('content', 'No answer found')\n",
    "            citation = response_json.get(\"citations\", [])\n",
    "            return answer, citation\n",
    "        else:\n",
    "            raise Exception(f\"API call failed with status code {response.status_code}\")\n",
    "    \n",
    "    except Exception as e:\n",
    "        # Log the error and retry if retries left\n",
    "        logging.error(f\"Error with request for {title} by {author}: {str(e)}\")\n",
    "        if retries > 0:\n",
    "            logging.info(f\"Retrying {retries} more times...\")\n",
    "            sleep(60)  # Sleep to avoid hitting rate limits\n",
    "            return send_request(title, author, retries - 1)  # Retry the request\n",
    "        else:\n",
    "            logging.error(f\"Failed after retries: {title} by {author}\")\n",
    "            return f\"Error: {str(e)}\", []"
   ]
  },
  {
   "cell_type": "code",
   "execution_count": 11,
   "id": "dee44575",
   "metadata": {},
   "outputs": [],
   "source": [
    "def save_progress():\n",
    "    if titles:  # Only save if there's something new\n",
    "        progress_df = pd.DataFrame({\n",
    "            'title': titles,\n",
    "            'author': authors,\n",
    "            'answer': responses,\n",
    "            'citation': citations\n",
    "        })\n",
    "\n",
    "        file_exists = os.path.exists('progress_fmc.csv')\n",
    "\n",
    "        if file_exists:\n",
    "            progress_df.to_csv('progress_fmc.csv', mode='a', header=False, index=False)\n",
    "            logging.info(f\"Progress appended: {len(titles)} books.\")\n",
    "        else:\n",
    "            progress_df.to_csv('progress_fmc.csv', index=False)\n",
    "            logging.info(f\"Progress saved: {len(titles)} books.\")\n",
    "\n",
    "        # Clear the lists so next save only writes new data\n",
    "        titles.clear()\n",
    "        authors.clear()\n",
    "        responses.clear()\n",
    "        citations.clear()"
   ]
  },
  {
   "cell_type": "code",
   "execution_count": 12,
   "id": "aaca5c5a",
   "metadata": {},
   "outputs": [],
   "source": [
    "start_time = time.time()\n",
    "\n",
    "# Run for df_subset_1\n",
    "for index, row in df_test.iterrows():\n",
    "    title = row[\"title\"]\n",
    "    author = row[\"author\"]\n",
    "    \n",
    "    # Send request and handle response\n",
    "    answer, citation = send_request(title, author)\n",
    "    \n",
    "    # Store responses\n",
    "    responses.append(answer)\n",
    "    citations.append(citation)\n",
    "    titles.append(title)\n",
    "    authors.append(author)\n",
    "\n",
    "    # Save progress every 10 books (adjust as necessary)\n",
    "    if (index + 1) % 500 == 0:\n",
    "        save_progress()\n",
    "\n",
    "# Save the final progress\n",
    "save_progress()\n",
    "\n",
    "# Log the total execution time\n",
    "end_time = time.time()\n",
    "execution_time = end_time - start_time\n",
    "logging.info(f\"Completed 3050 book requests in {execution_time:.2f} seconds.\")"
   ]
  },
  {
   "cell_type": "code",
   "execution_count": 13,
   "id": "a6b0024b",
   "metadata": {},
   "outputs": [
    {
     "data": {
      "application/vnd.microsoft.datawrangler.viewer.v0+json": {
       "columns": [
        {
         "name": "index",
         "rawType": "int64",
         "type": "integer"
        },
        {
         "name": "title",
         "rawType": "object",
         "type": "string"
        },
        {
         "name": "author",
         "rawType": "object",
         "type": "string"
        },
        {
         "name": "answer",
         "rawType": "object",
         "type": "string"
        },
        {
         "name": "citation",
         "rawType": "object",
         "type": "string"
        }
       ],
       "conversionMethod": "pd.DataFrame",
       "ref": "02ac9f1a-6506-4917-ade7-f260d12c2e1d",
       "rows": [
        [
         "0",
         "The Business of Dying Dennis Milne 1",
         "Kernick, Simon",
         "[0, \"\"]",
         "['https://en.wikipedia.org/wiki/The_Business_of_Dying', 'https://asthomson.co.uk/2011/02/17/review-of-the-business-of-dying-by-simon-kernick/', 'https://www.goodreads.com/book/show/13108884-the-business-of-dying', 'http://shotsmag.co.uk/feature_view.aspx?FEATURE_ID=86', 'https://januarymagazine.com/profiles/skernick.html']"
        ],
        [
         "1",
         "Stamboul Train",
         "Greene, Graham",
         "[1, \"Coral Musker\"]",
         "['https://astrofella.wordpress.com/2014/09/25/stamboul-train-graham-greene/', 'https://michael9murray.wordpress.com/2017/05/20/book-review-stamboul-train-by-graham-greene/', 'https://louloureads.wordpress.com/2021/03/13/stamboul-train-classicsclub/', 'https://www.goodreads.com/book/show/145039.Stamboul_Train', 'https://heavenali.wordpress.com/2013/08/12/stamboul-train-graham-greene-1932/']"
        ],
        [
         "2",
         "Marjorie Morningstar",
         "Wouk, Herman",
         "[1, \"Marjorie Morgenstern\"]",
         "['https://en.wikipedia.org/wiki/Marjorie_Morningstar_(novel)', 'https://crimereads.com/laura-lippman-my-35-year-love-affair-with-marjorie-morningstar/', 'https://bookbrief.io/books/marjorie-morningstar-herman-wouk/character-analysis', 'https://en.wikipedia.org/wiki/Marjorie_Morningstar_(film)', 'https://www.jewishideasdaily.com/738/features/good-girl-gone-bad/']"
        ],
        [
         "3",
         "Devices and Desires Engineer Trilogy 1",
         "Parker, K.J.",
         "[0, \"\"]",
         "['https://theidlewoman.net/2017/04/07/devices-and-desires-k-j-parker/', 'https://otherworldsreviews.wordpress.com/2017/04/24/review-devices-and-desires-by-k-j-parker-engineer-trilogy-1/', 'http://evilhat.blogspot.com/2011/02/kj-parker-engineer-trilogy.html', 'http://fantasyhotlist.blogspot.com/2007/11/devices-and-desires.html', 'https://www.goodreads.com/book/show/926510']"
        ],
        [
         "4",
         "Turks Fruit",
         "Wolkers, Jan",
         "[1, \"Olga\"]",
         "['https://en.wikipedia.org/wiki/Turks_Fruit_(novel)', 'https://www.imdb.com/title/tt0070842/', 'https://en.wikipedia.org/wiki/Turkish_Delight_(1973_film)', 'https://www.the-low-countries.com/article/still-reading-turkish-delight-in-the-metoo-era-yes-but-with-reservations/', 'https://www.languagetrainers.com/reviews/book-reviews/netherlands/turkish-delight']"
        ],
        [
         "5",
         "The Cellar",
         "Laymon, Richard",
         "[1, \"Donna\"]",
         "['https://www.goodreads.com/book/show/3206436', 'https://coagulopath.com/the-cellar-richard-laymon/', 'https://en.wikipedia.org/wiki/The_Cellar_(novel)', 'https://app.thestorygraph.com/book_reviews/80cfed96-485a-4484-b1fc-2ddec43e83c3?page=4', 'https://thepageaholic.wordpress.com/2015/09/10/welcome-to-the-beast-house-richard-laymon-the-cellar/']"
        ],
        [
         "6",
         "Among the Missing",
         "Laymon, Richard",
         "[1, \"Mary 'Pac' Hodges\"]",
         "['https://en.wikipedia.org/wiki/Among_the_Missing_(novel)', 'https://www.steve-calvert.co.uk/book-review-among-the-missing-by-richard-laymon/', 'https://www.goodreads.com/book/show/19244402-among-the-missing', 'https://app.thestorygraph.com/book_reviews/13bbc660-8e40-47b1-8af7-146c0c8a4a54', 'https://www.publishersweekly.com/9780747260721']"
        ],
        [
         "7",
         "Drama Queen Candy Apple 5",
         "Bergen, Lara",
         "[1, \"Charlie\"]",
         "['https://www.goodreads.com/book/show/1452286', 'https://beautyandthebeanboots.wordpress.com/2016/08/12/final-countdown-friday-candy-apple-books/', 'https://www.goodreads.com/book/similar/1443032-drama-queen-candy-apple', 'https://beautyandthebeanboots.wordpress.com/category/final-countdown-friday/', 'https://www.goodreads.com/book/show/1452286.Drama_Queen']"
        ],
        [
         "8",
         "The Mailbox",
         "Shafer, Audrey",
         "[0, \"\"]",
         "['https://bfgb.wordpress.com/2009/12/07/the-mailbox-by-audrey-shafer-2006/', 'http://fusenumber8.blogspot.com/2006/08/review-of-day-mailbox.html', 'https://yabookscentral.com/the-mailbox/', 'https://www.thriftbooks.com/w/the-mailbox_audrey-shafer/516440/', 'http://www.mmdonovanlibraryportfolio.com/uploads/8/6/0/8/8608782/mary_donovan_the_mailbox_review.pdf']"
        ],
        [
         "9",
         "How to Be a Girly Girl in Just Ten Days Candy Apple 4",
         "Papademetriou, Lisa",
         "[1, \"Nicolette Spicer\"]",
         "['https://beautyandthebeanboots.wordpress.com/category/final-countdown-friday/', 'https://openlibrary.org/subjects/personal_appearance', 'https://www.librarything.com/work/3260210/t/How-to-Be-a-Girly-Girl-in-Just-Ten-Days-Candy-Apple', 'https://www.goodreads.com/book/show/8522793-how-to-be-a-girly-girl-in-just-ten-days', 'https://www.goodreads.com/book/show/145342.How_to_Be_a_Girly_Girl_in_Just_Ten_Days']"
        ]
       ],
       "shape": {
        "columns": 4,
        "rows": 10
       }
      },
      "text/html": [
       "<div>\n",
       "<style scoped>\n",
       "    .dataframe tbody tr th:only-of-type {\n",
       "        vertical-align: middle;\n",
       "    }\n",
       "\n",
       "    .dataframe tbody tr th {\n",
       "        vertical-align: top;\n",
       "    }\n",
       "\n",
       "    .dataframe thead th {\n",
       "        text-align: right;\n",
       "    }\n",
       "</style>\n",
       "<table border=\"1\" class=\"dataframe\">\n",
       "  <thead>\n",
       "    <tr style=\"text-align: right;\">\n",
       "      <th></th>\n",
       "      <th>title</th>\n",
       "      <th>author</th>\n",
       "      <th>answer</th>\n",
       "      <th>citation</th>\n",
       "    </tr>\n",
       "  </thead>\n",
       "  <tbody>\n",
       "    <tr>\n",
       "      <th>0</th>\n",
       "      <td>The Business of Dying Dennis Milne 1</td>\n",
       "      <td>Kernick, Simon</td>\n",
       "      <td>[0, \"\"]</td>\n",
       "      <td>['https://en.wikipedia.org/wiki/The_Business_o...</td>\n",
       "    </tr>\n",
       "    <tr>\n",
       "      <th>1</th>\n",
       "      <td>Stamboul Train</td>\n",
       "      <td>Greene, Graham</td>\n",
       "      <td>[1, \"Coral Musker\"]</td>\n",
       "      <td>['https://astrofella.wordpress.com/2014/09/25/...</td>\n",
       "    </tr>\n",
       "    <tr>\n",
       "      <th>2</th>\n",
       "      <td>Marjorie Morningstar</td>\n",
       "      <td>Wouk, Herman</td>\n",
       "      <td>[1, \"Marjorie Morgenstern\"]</td>\n",
       "      <td>['https://en.wikipedia.org/wiki/Marjorie_Morni...</td>\n",
       "    </tr>\n",
       "    <tr>\n",
       "      <th>3</th>\n",
       "      <td>Devices and Desires Engineer Trilogy 1</td>\n",
       "      <td>Parker, K.J.</td>\n",
       "      <td>[0, \"\"]</td>\n",
       "      <td>['https://theidlewoman.net/2017/04/07/devices-...</td>\n",
       "    </tr>\n",
       "    <tr>\n",
       "      <th>4</th>\n",
       "      <td>Turks Fruit</td>\n",
       "      <td>Wolkers, Jan</td>\n",
       "      <td>[1, \"Olga\"]</td>\n",
       "      <td>['https://en.wikipedia.org/wiki/Turks_Fruit_(n...</td>\n",
       "    </tr>\n",
       "    <tr>\n",
       "      <th>5</th>\n",
       "      <td>The Cellar</td>\n",
       "      <td>Laymon, Richard</td>\n",
       "      <td>[1, \"Donna\"]</td>\n",
       "      <td>['https://www.goodreads.com/book/show/3206436'...</td>\n",
       "    </tr>\n",
       "    <tr>\n",
       "      <th>6</th>\n",
       "      <td>Among the Missing</td>\n",
       "      <td>Laymon, Richard</td>\n",
       "      <td>[1, \"Mary 'Pac' Hodges\"]</td>\n",
       "      <td>['https://en.wikipedia.org/wiki/Among_the_Miss...</td>\n",
       "    </tr>\n",
       "    <tr>\n",
       "      <th>7</th>\n",
       "      <td>Drama Queen Candy Apple 5</td>\n",
       "      <td>Bergen, Lara</td>\n",
       "      <td>[1, \"Charlie\"]</td>\n",
       "      <td>['https://www.goodreads.com/book/show/1452286'...</td>\n",
       "    </tr>\n",
       "    <tr>\n",
       "      <th>8</th>\n",
       "      <td>The Mailbox</td>\n",
       "      <td>Shafer, Audrey</td>\n",
       "      <td>[0, \"\"]</td>\n",
       "      <td>['https://bfgb.wordpress.com/2009/12/07/the-ma...</td>\n",
       "    </tr>\n",
       "    <tr>\n",
       "      <th>9</th>\n",
       "      <td>How to Be a Girly Girl in Just Ten Days Candy ...</td>\n",
       "      <td>Papademetriou, Lisa</td>\n",
       "      <td>[1, \"Nicolette Spicer\"]</td>\n",
       "      <td>['https://beautyandthebeanboots.wordpress.com/...</td>\n",
       "    </tr>\n",
       "  </tbody>\n",
       "</table>\n",
       "</div>"
      ],
      "text/plain": [
       "                                               title               author  \\\n",
       "0               The Business of Dying Dennis Milne 1       Kernick, Simon   \n",
       "1                                     Stamboul Train       Greene, Graham   \n",
       "2                               Marjorie Morningstar         Wouk, Herman   \n",
       "3             Devices and Desires Engineer Trilogy 1         Parker, K.J.   \n",
       "4                                        Turks Fruit         Wolkers, Jan   \n",
       "5                                         The Cellar      Laymon, Richard   \n",
       "6                                  Among the Missing      Laymon, Richard   \n",
       "7                          Drama Queen Candy Apple 5         Bergen, Lara   \n",
       "8                                        The Mailbox       Shafer, Audrey   \n",
       "9  How to Be a Girly Girl in Just Ten Days Candy ...  Papademetriou, Lisa   \n",
       "\n",
       "                        answer  \\\n",
       "0                      [0, \"\"]   \n",
       "1          [1, \"Coral Musker\"]   \n",
       "2  [1, \"Marjorie Morgenstern\"]   \n",
       "3                      [0, \"\"]   \n",
       "4                  [1, \"Olga\"]   \n",
       "5                 [1, \"Donna\"]   \n",
       "6     [1, \"Mary 'Pac' Hodges\"]   \n",
       "7               [1, \"Charlie\"]   \n",
       "8                      [0, \"\"]   \n",
       "9      [1, \"Nicolette Spicer\"]   \n",
       "\n",
       "                                            citation  \n",
       "0  ['https://en.wikipedia.org/wiki/The_Business_o...  \n",
       "1  ['https://astrofella.wordpress.com/2014/09/25/...  \n",
       "2  ['https://en.wikipedia.org/wiki/Marjorie_Morni...  \n",
       "3  ['https://theidlewoman.net/2017/04/07/devices-...  \n",
       "4  ['https://en.wikipedia.org/wiki/Turks_Fruit_(n...  \n",
       "5  ['https://www.goodreads.com/book/show/3206436'...  \n",
       "6  ['https://en.wikipedia.org/wiki/Among_the_Miss...  \n",
       "7  ['https://www.goodreads.com/book/show/1452286'...  \n",
       "8  ['https://bfgb.wordpress.com/2009/12/07/the-ma...  \n",
       "9  ['https://beautyandthebeanboots.wordpress.com/...  "
      ]
     },
     "execution_count": 13,
     "metadata": {},
     "output_type": "execute_result"
    }
   ],
   "source": [
    "test = pd.read_csv('progress_fmc.csv')\n",
    "test"
   ]
  },
  {
   "cell_type": "markdown",
   "id": "4a5aef8b",
   "metadata": {},
   "source": [
    "$61.97 to $45.21\n",
    "-> $16.76\n",
    "\n",
    "3050 -> $16.76\n",
    "18,004 -> 98,93  (*5.903)\n"
   ]
  }
 ],
 "metadata": {
  "kernelspec": {
   "display_name": "venv",
   "language": "python",
   "name": "python3"
  },
  "language_info": {
   "codemirror_mode": {
    "name": "ipython",
    "version": 3
   },
   "file_extension": ".py",
   "mimetype": "text/x-python",
   "name": "python",
   "nbconvert_exporter": "python",
   "pygments_lexer": "ipython3",
   "version": "3.12.7"
  }
 },
 "nbformat": 4,
 "nbformat_minor": 5
}

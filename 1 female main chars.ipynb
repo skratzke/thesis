{
 "cells": [
  {
   "cell_type": "code",
   "execution_count": 1,
   "id": "c120eca2",
   "metadata": {},
   "outputs": [],
   "source": [
    "import pandas as pd\n",
    "import requests\n",
    "import os \n",
    "import ast\n",
    "import time\n",
    "from time import sleep\n",
    "import logging\n",
    "from pydantic import RootModel, conint\n",
    "from typing import Tuple"
   ]
  },
  {
   "cell_type": "code",
   "execution_count": 3,
   "id": "8db0377e",
   "metadata": {},
   "outputs": [],
   "source": [
    "system_prompt = \"\"\"\n",
    "    You are a helpful literary assistant, helping me with my master thesis on gender in literature. \n",
    "    Your job is to search the internet and assess whether a book features a **female major character** (fmc).\n",
    "    \n",
    "   You MUST ALWAYS return your response as a Python list with exactly two elements: [fmc_present, fmc_name]\n",
    "    - `fmc_present` = 1 if yes, 0 if no\n",
    "    - `fmc_name` = the most important female major character's name, or an empty string.\n",
    "\n",
    "    Never return anything else. No explanations, no full sentences. Just the list.\n",
    "\n",
    "    Examples:\n",
    "    - For \"To Kill A Mockingbird\" by Harper Lee (has a fmc): [1, 'Scout Finch']\n",
    "    - For \"The Hobbit and The Lord of the Rings\" by J.R.R. Tolkien (doesn't have a fmc): [0, '']\n",
    "\n",
    "    The female major character does not need to be the protagonist, but she must be a central presence in the narrative, \n",
    "    with **more significance than a secondary or background character**.\n",
    "\n",
    "    A female character is considered a **major character** if she plays a substantial role in the story, \n",
    "    regularly appears throughout the book, and if her role significantly contributes to relationships or events that \n",
    "    shape the plot or other characters.\n",
    "\n",
    "    Characters who serve only as symbolic figures, plot devices, or one-time motivators without meaningful presence \n",
    "    or development should not be considered major characters.\n",
    "\n",
    "    Examples of female major characters:\n",
    "    - **Katniss Everdeen** in **The Hunger Games** – protagonist, central to the plot, her choices drive the rebellion and story progression.\n",
    "    – **Hermione Granger** in *Harry Potter* – not the protagonist, but central to plot progression and character development.\n",
    "    \n",
    "    Examples of female NON-major characters:\n",
    "    - **Prim Everdeen** in **The Hunger Games** – important to Katniss's emotional motivation, but doesn’t influence the plot or have significant character development beyond being a catalyst.\n",
    "    - **Professor McGonagall** in **Harry Potter** – important supporting character, but doesn’t influence the main plot or have significant character development beyond being a mentor and guide to Harry and his friends.\n",
    "    \"\"\"\n",
    "\n",
    "user_prompt_template = \"Is there a female major character in the book {title} by {author}?\""
   ]
  },
  {
   "cell_type": "code",
   "execution_count": 4,
   "id": "fb8196c6",
   "metadata": {},
   "outputs": [],
   "source": [
    "# Specify answer format\n",
    "\n",
    "# Define the tuple type: (0 or 1, followed by a string)\n",
    "MyFormat = Tuple[conint(ge=0, le=1), str]\n",
    "\n",
    "# Use RootModel to define the model\n",
    "class AnswerFormat(RootModel[MyFormat]):\n",
    "    pass"
   ]
  },
  {
   "cell_type": "code",
   "execution_count": 5,
   "id": "e3b3ee5a",
   "metadata": {},
   "outputs": [
    {
     "data": {
      "application/vnd.microsoft.datawrangler.viewer.v0+json": {
       "columns": [
        {
         "name": "index",
         "rawType": "int64",
         "type": "integer"
        },
        {
         "name": "title",
         "rawType": "object",
         "type": "string"
        },
        {
         "name": "author",
         "rawType": "object",
         "type": "string"
        }
       ],
       "conversionMethod": "pd.DataFrame",
       "ref": "77c3bba0-395c-470e-9d9c-41a8551b1bcc",
       "rows": [
        [
         "0",
         "Jackie  Me Baseball Card Adventure 2",
         "Gutman, Dan"
        ],
        [
         "1",
         "Honus  Me A Baseball Card Adventure 1",
         "Gutman, Dan"
        ],
        [
         "2",
         "Wildflower Hill",
         "Freeman, Kimberley"
        ],
        [
         "3",
         "Oracle Night",
         "Auster, Paul"
        ],
        [
         "4",
         "As a Driven Leaf",
         "Steinberg, Milton"
        ],
        [
         "5",
         "Pollyanna Pollyanna 1",
         "Porter, Eleanor H."
        ],
        [
         "6",
         "Eleanor Rigby",
         "Coupland, Douglas"
        ],
        [
         "7",
         "Journal 64 Department Q 4",
         "Adler-Olsen, Jussi"
        ],
        [
         "8",
         "Homo Faber",
         "Frisch, Max"
        ],
        [
         "9",
         "The Revealers",
         "Wilhelm, Doug"
        ],
        [
         "10",
         "Halo Contact Harvest",
         "Staten, Joseph"
        ],
        [
         "11",
         "A Pony for Keeps Pony Pals 2",
         "Betancourt, Jeanne"
        ],
        [
         "12",
         "Harry Potter and the Methods of Rationality",
         "Yudkowsky, Eliezer"
        ],
        [
         "13",
         "Summer of Love",
         "Fforde, Katie"
        ],
        [
         "14",
         "The First Part Last Michael L Printz Award  Winner",
         "Johnson, Angela"
        ],
        [
         "15",
         "Monkey The Journey to the West",
         "Wu Cheng'en"
        ],
        [
         "16",
         "The Gift Witch  Wizard 2",
         "Patterson, James"
        ],
        [
         "17",
         "Clockwork Prince The Infernal Devices 2",
         "Clare, Cassandra"
        ],
        [
         "18",
         "The Emperors Edge The Emperors Edge 1",
         "Buroker, Lindsay"
        ],
        [
         "19",
         "The Age of Reason Roads to Freedom 1",
         "Sartre, Jean-Paul"
        ],
        [
         "20",
         "Comet in Moominland The Moomins 2",
         "Jansson, Tove"
        ],
        [
         "21",
         "Epic Epic 1",
         "Kostick, Conor"
        ],
        [
         "22",
         "Dragons of Autumn Twilight Dragonlance Chronicles 1",
         "Weis, Margaret"
        ],
        [
         "23",
         "A Dog Called Kitty",
         "Wallace, Bill"
        ],
        [
         "24",
         "The Rage Forgotten Realms The Year of Rogue Dragons 1",
         "Byers, Richard Lee"
        ],
        [
         "25",
         "Day of the Dragon WarCraft 1",
         "Knaak, Richard A."
        ],
        [
         "26",
         "30 Pieces of Silver Betrayed 1",
         "McCray, Carolyn"
        ],
        [
         "27",
         "Dragon Rider Dragon Rider 1",
         "Funke, Cornelia"
        ],
        [
         "28",
         "The Sea of Trolls Sea of Trolls 1",
         "Farmer, Nancy"
        ],
        [
         "29",
         "The Secret Crusade Assassins Creed 3",
         "Bowden, Oliver"
        ],
        [
         "30",
         "Dearly Departed Gone With the Respiration 1",
         "Habel, Lia"
        ],
        [
         "31",
         "Dark Souls",
         "Morris, Paula"
        ],
        [
         "32",
         "The Single Girls ToDo List",
         "Kelk, Lindsey"
        ],
        [
         "33",
         "Youth in Revolt The Journals of Nick Twisp Book One",
         "Payne, C.D."
        ],
        [
         "34",
         "The Golden Acorn The Adventures of Jack Brenin 1",
         "Cooper, Catherine"
        ],
        [
         "35",
         "It Started With A Kiss",
         "Dickinson, Miranda"
        ],
        [
         "36",
         "A Touch of Crimson Renegade Angels 1",
         "Day, Sylvia"
        ],
        [
         "37",
         "Wayside School Is Falling Down Wayside School 2",
         "Sachar, Louis"
        ],
        [
         "38",
         "The Secret War Jack Blank Adventure 2",
         "Myklusch, Matt"
        ],
        [
         "39",
         "The Train",
         "Simenon, Georges"
        ],
        [
         "40",
         "The Bachelor of Arts",
         "Narayan, R.K."
        ],
        [
         "41",
         "A Long Way Down",
         "Hornby, Nick"
        ],
        [
         "42",
         "Tinker Tailor Soldier Spy George Smiley 5 Karla Trilogy 1",
         "le Carré, John"
        ],
        [
         "43",
         "His Dark Materials Trilogy The Golden Compass  The Subtle Knife  The Amber Spyglass",
         "Pullman, Philip"
        ],
        [
         "44",
         "The Deep",
         "Dunmore, Helen"
        ],
        [
         "45",
         "The Long Ships New York Review Books Classics",
         "Bengtsson, Frans G."
        ],
        [
         "46",
         "HIVE Higher Institute of Villainous Education HIVE 1",
         "Walden, Mark"
        ],
        [
         "47",
         "The Crime of Father Amaro",
         "Queirós, Eça de"
        ],
        [
         "48",
         "Snake Skin Lucy Guardino FBI Thriller 1",
         "Lyons, C.J."
        ],
        [
         "49",
         "A Very Special Delivery Tiny Blessings 8",
         "Goodnight, Linda"
        ]
       ],
       "shape": {
        "columns": 2,
        "rows": 18004
       }
      },
      "text/html": [
       "<div>\n",
       "<style scoped>\n",
       "    .dataframe tbody tr th:only-of-type {\n",
       "        vertical-align: middle;\n",
       "    }\n",
       "\n",
       "    .dataframe tbody tr th {\n",
       "        vertical-align: top;\n",
       "    }\n",
       "\n",
       "    .dataframe thead th {\n",
       "        text-align: right;\n",
       "    }\n",
       "</style>\n",
       "<table border=\"1\" class=\"dataframe\">\n",
       "  <thead>\n",
       "    <tr style=\"text-align: right;\">\n",
       "      <th></th>\n",
       "      <th>title</th>\n",
       "      <th>author</th>\n",
       "    </tr>\n",
       "  </thead>\n",
       "  <tbody>\n",
       "    <tr>\n",
       "      <th>0</th>\n",
       "      <td>Jackie  Me Baseball Card Adventure 2</td>\n",
       "      <td>Gutman, Dan</td>\n",
       "    </tr>\n",
       "    <tr>\n",
       "      <th>1</th>\n",
       "      <td>Honus  Me A Baseball Card Adventure 1</td>\n",
       "      <td>Gutman, Dan</td>\n",
       "    </tr>\n",
       "    <tr>\n",
       "      <th>2</th>\n",
       "      <td>Wildflower Hill</td>\n",
       "      <td>Freeman, Kimberley</td>\n",
       "    </tr>\n",
       "    <tr>\n",
       "      <th>3</th>\n",
       "      <td>Oracle Night</td>\n",
       "      <td>Auster, Paul</td>\n",
       "    </tr>\n",
       "    <tr>\n",
       "      <th>4</th>\n",
       "      <td>As a Driven Leaf</td>\n",
       "      <td>Steinberg, Milton</td>\n",
       "    </tr>\n",
       "    <tr>\n",
       "      <th>...</th>\n",
       "      <td>...</td>\n",
       "      <td>...</td>\n",
       "    </tr>\n",
       "    <tr>\n",
       "      <th>17999</th>\n",
       "      <td>Truly Madly Deeply</td>\n",
       "      <td>Kazi, Faraaz</td>\n",
       "    </tr>\n",
       "    <tr>\n",
       "      <th>18000</th>\n",
       "      <td>Sloop of War Richard Bolitho 6</td>\n",
       "      <td>Kent, Alexander</td>\n",
       "    </tr>\n",
       "    <tr>\n",
       "      <th>18001</th>\n",
       "      <td>Purification Autumn 3</td>\n",
       "      <td>Moody, David</td>\n",
       "    </tr>\n",
       "    <tr>\n",
       "      <th>18002</th>\n",
       "      <td>The American Heiress</td>\n",
       "      <td>Goodwin, Daisy</td>\n",
       "    </tr>\n",
       "    <tr>\n",
       "      <th>18003</th>\n",
       "      <td>Venom Secrets of the Eternal Rose 1</td>\n",
       "      <td>Paul, Fiona</td>\n",
       "    </tr>\n",
       "  </tbody>\n",
       "</table>\n",
       "<p>18004 rows × 2 columns</p>\n",
       "</div>"
      ],
      "text/plain": [
       "                                       title              author\n",
       "0       Jackie  Me Baseball Card Adventure 2         Gutman, Dan\n",
       "1      Honus  Me A Baseball Card Adventure 1         Gutman, Dan\n",
       "2                            Wildflower Hill  Freeman, Kimberley\n",
       "3                               Oracle Night        Auster, Paul\n",
       "4                           As a Driven Leaf   Steinberg, Milton\n",
       "...                                      ...                 ...\n",
       "17999                     Truly Madly Deeply        Kazi, Faraaz\n",
       "18000         Sloop of War Richard Bolitho 6     Kent, Alexander\n",
       "18001                  Purification Autumn 3        Moody, David\n",
       "18002                   The American Heiress      Goodwin, Daisy\n",
       "18003    Venom Secrets of the Eternal Rose 1         Paul, Fiona\n",
       "\n",
       "[18004 rows x 2 columns]"
      ]
     },
     "execution_count": 5,
     "metadata": {},
     "output_type": "execute_result"
    }
   ],
   "source": [
    "# Load all books\n",
    "df_all = pd.read_csv(\"books.csv\")\n",
    "df_all = df_all.drop(columns=['genres'])\n",
    "df_all = df_all.drop_duplicates(subset=[\"title\", \"author\"]).reset_index(drop=True)\n",
    "df_all = df_all.dropna(subset=[\"title\", \"author\"])\n",
    "df_all[\"author\"] = df_all[\"author\"].str.replace(\"*\", \"\", regex=False).str.strip()\n",
    "df_all"
   ]
  },
  {
   "cell_type": "code",
   "execution_count": 6,
   "id": "47ab8f27",
   "metadata": {},
   "outputs": [
    {
     "data": {
      "application/vnd.microsoft.datawrangler.viewer.v0+json": {
       "columns": [
        {
         "name": "index",
         "rawType": "int64",
         "type": "integer"
        },
        {
         "name": "title",
         "rawType": "object",
         "type": "string"
        },
        {
         "name": "author",
         "rawType": "object",
         "type": "string"
        }
       ],
       "conversionMethod": "pd.DataFrame",
       "ref": "e8a10564-a2e1-4309-9611-fd463dbad9e6",
       "rows": [
        [
         "14000",
         "Scarlet King Raven 2",
         "Lawhead, Stephen R."
        ],
        [
         "14001",
         "Elsies Endless Wait A Life of Faith Elsie Dinsmore 1",
         "Finley, Martha"
        ],
        [
         "14002",
         "Elsies New Life A Life of Faith Elsie Dinsmore 3",
         "Finley, Martha"
        ],
        [
         "14003",
         "Tis the Season for Revenge Seasons of Revenge 1",
         "Elizabeth, Morgan"
        ],
        [
         "14004",
         "A Soul to Keep Duskwalker Brides 1",
         "Reyne, Opal"
        ],
        [
         "14005",
         "One Last Day of Summer",
         "Low, Shari"
        ],
        [
         "14006",
         "The Night Angel Trilogy Night Angel 13",
         "Weeks, Brent"
        ],
        [
         "14007",
         "King of Wrath Kings of Sin 1",
         "Huang, Ana"
        ],
        [
         "14008",
         "The Waters Edge Konrad Sejer 8",
         "Fossum, Karin"
        ],
        [
         "14009",
         "Susannahs Garden Blossom Street 3",
         "Macomber, Debbie"
        ],
        [
         "14010",
         "Killer on the Moors DI Joanna Piercy 1",
         "Masters, Priscilla"
        ],
        [
         "14011",
         "Fairest of All Villains 1",
         "Valentino, Serena"
        ],
        [
         "14012",
         "Silk",
         "Baricco, Alessandro"
        ],
        [
         "14013",
         "The House of Thunder",
         "Koontz, Dean"
        ],
        [
         "14014",
         "Burnt on the Moors DI Joanna Piercy 2",
         "Masters, Priscilla"
        ],
        [
         "14015",
         "The Lonely Londoners",
         "Selvon, Sam"
        ],
        [
         "14016",
         "Lassiter Black Dagger Brotherhood 21",
         "Ward, J.R."
        ],
        [
         "14017",
         "Do Androids Dream of Electric Sheep Blade Runner 1",
         "Dick, Philip K."
        ],
        [
         "14018",
         "The Virgin Cure",
         "McKay, Ami"
        ],
        [
         "14019",
         "When My Name Was Keoko",
         "Park, Linda Sue"
        ],
        [
         "14020",
         "An American Beauty",
         "Abe, Shana"
        ],
        [
         "14021",
         "Blue Moon The Immortals 2",
         "Noel, Alyson"
        ],
        [
         "14022",
         "Hittite Warrior",
         "Williamson, Joanne"
        ],
        [
         "14023",
         "The Traveling Vampire Show",
         "Laymon, Richard"
        ],
        [
         "14024",
         "Fire Graceling Realm 2",
         "Cashore, Kristin"
        ],
        [
         "14025",
         "Al Capone Shines My Shoes Tales from Alcatraz 2",
         "Choldenko, Gennifer"
        ],
        [
         "14026",
         "The Moonstone",
         "Collins, Wilkie"
        ],
        [
         "14027",
         "Run on Red",
         "Ihli, Noelle W."
        ],
        [
         "14028",
         "The Annihilator Dark Verse 5",
         "RuNyx"
        ],
        [
         "14029",
         "Scarlett Fever Scarlett 2",
         "Johnson, Maureen"
        ],
        [
         "14030",
         "Chlorine",
         "Song, Jade"
        ],
        [
         "14031",
         "The Search for the Red Dragon The Chronicles of the Imaginarium Geographica 2",
         "Owen, James A."
        ],
        [
         "14032",
         "Raven Stole the Moon",
         "Stein, Garth"
        ],
        [
         "14033",
         "The King Beyond the Gate The Drenai Saga 2",
         "Gemmell, David"
        ],
        [
         "14034",
         "Holiday Romance Catherine Walsh Christmas Books 1",
         "Walsh, Catherine"
        ],
        [
         "14035",
         "Close Enough To Kill Griffin Powell 6",
         "Barton, Beverly"
        ],
        [
         "14036",
         "Mothers Instinct",
         "Abel, Barbara"
        ],
        [
         "14037",
         "The Shadow of the Bear A Fairy Tale Retold 1",
         "Doman, Regina"
        ],
        [
         "14038",
         "The Tycoons Rebel Bride The Anetakis Tycoons 2",
         "Banks, Maya"
        ],
        [
         "14039",
         "Blood Lines World of the Lupi 3",
         "Wilks, Eileen"
        ],
        [
         "14040",
         "A Court of Thorns and Roses eBook Bundle A 5 Book Bundle",
         "Maas, Sarah J."
        ],
        [
         "14041",
         "Beloved",
         "Morrison, Toni"
        ],
        [
         "14042",
         "Cry the Beloved Country",
         "Paton, Alan"
        ],
        [
         "14043",
         "A Kingdom of Blood and Betrayal Stars and Shadows 2",
         "Renee, Holly"
        ],
        [
         "14044",
         "Dying to Meet You 43 Old Cemetery Road 1",
         "Klise, Kate"
        ],
        [
         "14045",
         "The Four Corners of the Sky",
         "Malone, Michael"
        ],
        [
         "14046",
         "Mr Poppers Penguins",
         "Atwater, Richard"
        ],
        [
         "14047",
         "Reservation Blues",
         "Alexie, Sherman"
        ],
        [
         "14048",
         "Halo First Strike",
         "Nylund, Eric S."
        ],
        [
         "14049",
         "Fly Away Peter",
         "Malouf, David"
        ]
       ],
       "shape": {
        "columns": 2,
        "rows": 4004
       }
      },
      "text/html": [
       "<div>\n",
       "<style scoped>\n",
       "    .dataframe tbody tr th:only-of-type {\n",
       "        vertical-align: middle;\n",
       "    }\n",
       "\n",
       "    .dataframe tbody tr th {\n",
       "        vertical-align: top;\n",
       "    }\n",
       "\n",
       "    .dataframe thead th {\n",
       "        text-align: right;\n",
       "    }\n",
       "</style>\n",
       "<table border=\"1\" class=\"dataframe\">\n",
       "  <thead>\n",
       "    <tr style=\"text-align: right;\">\n",
       "      <th></th>\n",
       "      <th>title</th>\n",
       "      <th>author</th>\n",
       "    </tr>\n",
       "  </thead>\n",
       "  <tbody>\n",
       "    <tr>\n",
       "      <th>14000</th>\n",
       "      <td>Scarlet King Raven 2</td>\n",
       "      <td>Lawhead, Stephen R.</td>\n",
       "    </tr>\n",
       "    <tr>\n",
       "      <th>14001</th>\n",
       "      <td>Elsies Endless Wait A Life of Faith Elsie Dins...</td>\n",
       "      <td>Finley, Martha</td>\n",
       "    </tr>\n",
       "    <tr>\n",
       "      <th>14002</th>\n",
       "      <td>Elsies New Life A Life of Faith Elsie Dinsmore 3</td>\n",
       "      <td>Finley, Martha</td>\n",
       "    </tr>\n",
       "    <tr>\n",
       "      <th>14003</th>\n",
       "      <td>Tis the Season for Revenge Seasons of Revenge 1</td>\n",
       "      <td>Elizabeth, Morgan</td>\n",
       "    </tr>\n",
       "    <tr>\n",
       "      <th>14004</th>\n",
       "      <td>A Soul to Keep Duskwalker Brides 1</td>\n",
       "      <td>Reyne, Opal</td>\n",
       "    </tr>\n",
       "    <tr>\n",
       "      <th>...</th>\n",
       "      <td>...</td>\n",
       "      <td>...</td>\n",
       "    </tr>\n",
       "    <tr>\n",
       "      <th>17999</th>\n",
       "      <td>Truly Madly Deeply</td>\n",
       "      <td>Kazi, Faraaz</td>\n",
       "    </tr>\n",
       "    <tr>\n",
       "      <th>18000</th>\n",
       "      <td>Sloop of War Richard Bolitho 6</td>\n",
       "      <td>Kent, Alexander</td>\n",
       "    </tr>\n",
       "    <tr>\n",
       "      <th>18001</th>\n",
       "      <td>Purification Autumn 3</td>\n",
       "      <td>Moody, David</td>\n",
       "    </tr>\n",
       "    <tr>\n",
       "      <th>18002</th>\n",
       "      <td>The American Heiress</td>\n",
       "      <td>Goodwin, Daisy</td>\n",
       "    </tr>\n",
       "    <tr>\n",
       "      <th>18003</th>\n",
       "      <td>Venom Secrets of the Eternal Rose 1</td>\n",
       "      <td>Paul, Fiona</td>\n",
       "    </tr>\n",
       "  </tbody>\n",
       "</table>\n",
       "<p>4004 rows × 2 columns</p>\n",
       "</div>"
      ],
      "text/plain": [
       "                                                   title               author\n",
       "14000                               Scarlet King Raven 2  Lawhead, Stephen R.\n",
       "14001  Elsies Endless Wait A Life of Faith Elsie Dins...       Finley, Martha\n",
       "14002   Elsies New Life A Life of Faith Elsie Dinsmore 3       Finley, Martha\n",
       "14003    Tis the Season for Revenge Seasons of Revenge 1    Elizabeth, Morgan\n",
       "14004                 A Soul to Keep Duskwalker Brides 1          Reyne, Opal\n",
       "...                                                  ...                  ...\n",
       "17999                                 Truly Madly Deeply         Kazi, Faraaz\n",
       "18000                     Sloop of War Richard Bolitho 6      Kent, Alexander\n",
       "18001                              Purification Autumn 3         Moody, David\n",
       "18002                               The American Heiress       Goodwin, Daisy\n",
       "18003                Venom Secrets of the Eternal Rose 1          Paul, Fiona\n",
       "\n",
       "[4004 rows x 2 columns]"
      ]
     },
     "execution_count": 6,
     "metadata": {},
     "output_type": "execute_result"
    }
   ],
   "source": [
    "# Split big all_books up into smaller parts for less risk \n",
    "# in 60 minutes, I can run around 1,525 books\n",
    "\n",
    "# First try for 2 hours, so around 3,050 books\n",
    "# df_subset_1 = df_all.iloc[:3050].copy()\n",
    "# df_subset_1\n",
    "\n",
    "# # Create second subset\n",
    "# df_subset_2 = df_all.iloc[3050:14000].copy()\n",
    "# df_subset_2\n",
    "\n",
    "# Create third subset\n",
    "df_subset_3 = df_all.iloc[14000:].copy()\n",
    "df_subset_3"
   ]
  },
  {
   "cell_type": "code",
   "execution_count": 7,
   "id": "4798991e",
   "metadata": {},
   "outputs": [],
   "source": [
    "# Set up logging for error tracking\n",
    "logging.basicConfig(filename='subset3_log.log', level=logging.INFO)\n",
    "\n",
    "# Setting API key\n",
    "YOUR_API_KEY = os.environ[\"PERPLEXITY_API_KEY\"]\n",
    "\n",
    "# Headers for the API request\n",
    "headers = {\n",
    "    \"Authorization\": f\"Bearer {YOUR_API_KEY}\",\n",
    "    \"Content-Type\": \"application/json\"\n",
    "}\n",
    "\n",
    "# Endpoint for the API\n",
    "url = \"https://api.perplexity.ai/chat/completions\"\n",
    "\n",
    "# Store responses, citations, and titles + authors for progress\n",
    "responses = []\n",
    "citations = []\n",
    "titles = []\n",
    "authors = []"
   ]
  },
  {
   "cell_type": "code",
   "execution_count": 8,
   "id": "2d7c7d5a",
   "metadata": {},
   "outputs": [],
   "source": [
    "# Function to send a request to the API\n",
    "def send_request(title, author, retries=3):\n",
    "    user_prompt = user_prompt_template.format(title=title, author=author)\n",
    "    payload = {\n",
    "        \"model\": \"sonar\",\n",
    "        \"messages\": [\n",
    "            {\"role\": \"system\", \"content\": system_prompt},\n",
    "            {\"role\": \"user\", \"content\": user_prompt}\n",
    "        ],\n",
    "        \"max_tokens\": 200,\n",
    "        \"temperature\": 0,  \n",
    "        \"response_format\": {\n",
    "            \"type\": \"json_schema\",\n",
    "            \"json_schema\": {\"schema\": AnswerFormat.model_json_schema()},\n",
    "        },\n",
    "    }\n",
    "\n",
    "    try:\n",
    "        # Make the request to the API\n",
    "        response = requests.post(url, json=payload, headers=headers)\n",
    "        \n",
    "        # Check if the response is successful\n",
    "        if response.status_code == 200:\n",
    "            response_json = response.json()\n",
    "            answer = response_json.get('choices', [{}])[0].get('message', {}).get('content', 'No answer found')\n",
    "            citation = response_json.get(\"citations\", [])\n",
    "            return answer, citation\n",
    "        else:\n",
    "            raise Exception(f\"API call failed with status code {response.status_code}\")\n",
    "    \n",
    "    except Exception as e:\n",
    "        # Log the error and retry if retries left\n",
    "        logging.error(f\"Error with request for {title} by {author}: {str(e)}\")\n",
    "        if retries > 0:\n",
    "            logging.info(f\"Retrying {retries} more times...\")\n",
    "            sleep(60)  # Sleep to avoid hitting rate limits\n",
    "            return send_request(title, author, retries - 1)  # Retry the request\n",
    "        else:\n",
    "            logging.error(f\"Failed after retries: {title} by {author}\")\n",
    "            return f\"Error: {str(e)}\", []"
   ]
  },
  {
   "cell_type": "code",
   "execution_count": 9,
   "id": "dee44575",
   "metadata": {},
   "outputs": [],
   "source": [
    "def save_progress():\n",
    "    if titles:  # Only save if there's something new\n",
    "        progress_df = pd.DataFrame({\n",
    "            'title': titles,\n",
    "            'author': authors,\n",
    "            'answer': responses,\n",
    "            'citation': citations\n",
    "        })\n",
    "\n",
    "        file_exists = os.path.exists('progress_fmc.csv')\n",
    "\n",
    "        if file_exists:\n",
    "            progress_df.to_csv('progress_fmc.csv', mode='a', header=False, index=False)\n",
    "            logging.info(f\"Progress appended: {len(titles)} books.\")\n",
    "        else:\n",
    "            progress_df.to_csv('progress_fmc.csv', index=False)\n",
    "            logging.info(f\"Progress saved: {len(titles)} books.\")\n",
    "\n",
    "        # Clear the lists so next save only writes new data\n",
    "        titles.clear()\n",
    "        authors.clear()\n",
    "        responses.clear()\n",
    "        citations.clear()"
   ]
  },
  {
   "cell_type": "code",
   "execution_count": 10,
   "id": "aaca5c5a",
   "metadata": {},
   "outputs": [],
   "source": [
    "start_time = time.time()\n",
    "\n",
    "# Run for df_subset_1\n",
    "for index, row in df_subset_3.iterrows():\n",
    "    title = row[\"title\"]\n",
    "    author = row[\"author\"]\n",
    "    \n",
    "    # Send request and handle response\n",
    "    answer, citation = send_request(title, author)\n",
    "    \n",
    "    # Store responses\n",
    "    responses.append(answer)\n",
    "    citations.append(citation)\n",
    "    titles.append(title)\n",
    "    authors.append(author)\n",
    "\n",
    "    # Save progress every 10 books (adjust as necessary)\n",
    "    if (index + 1) % 300 == 0:\n",
    "        save_progress()\n",
    "\n",
    "# Save the final progress\n",
    "save_progress()\n",
    "\n",
    "# Log the total execution time\n",
    "end_time = time.time()\n",
    "execution_time = end_time - start_time\n",
    "logging.info(f\"Completed 3050 book requests in {execution_time:.2f} seconds.\")"
   ]
  },
  {
   "cell_type": "markdown",
   "id": "4a5aef8b",
   "metadata": {},
   "source": [
    "# First (small) round\n",
    "$61.97 to $45.21\n",
    "-> $16.76\n",
    "\n",
    "3050 -> $16.76\n",
    "18,004 -> 98,93  (*5.903)\n",
    "\n",
    "# Second (big) round\n",
    "$93.72 -> $33.54"
   ]
  },
  {
   "cell_type": "code",
   "execution_count": 11,
   "id": "67016f91",
   "metadata": {},
   "outputs": [],
   "source": [
    "subset_3 = pd.read_csv(\"progress_fmc.csv\")"
   ]
  },
  {
   "cell_type": "code",
   "execution_count": 12,
   "id": "5225dc71",
   "metadata": {},
   "outputs": [
    {
     "data": {
      "application/vnd.microsoft.datawrangler.viewer.v0+json": {
       "columns": [
        {
         "name": "index",
         "rawType": "int64",
         "type": "integer"
        },
        {
         "name": "title",
         "rawType": "object",
         "type": "string"
        },
        {
         "name": "author",
         "rawType": "object",
         "type": "string"
        },
        {
         "name": "answer",
         "rawType": "object",
         "type": "string"
        },
        {
         "name": "citation",
         "rawType": "object",
         "type": "string"
        }
       ],
       "conversionMethod": "pd.DataFrame",
       "ref": "056f87f3-ebce-4260-bd68-d50454239f7d",
       "rows": [
        [
         "0",
         "Scarlet King Raven 2",
         "Lawhead, Stephen R.",
         "[0, \"\"]",
         "['https://www.goodreads.com/book/show/611787.Scarlet', 'https://hardcover.app/books/scarlet-king-raven-2', 'https://www.pinterest.com/pin/739786676325118227/', 'https://www.goodreads.com/book/similar/85874913-gamora-nebula-sisters-in-arms', 'https://www.booknotification.com/authors/stephen-r-lawhead/']"
        ],
        [
         "1",
         "Elsies Endless Wait A Life of Faith Elsie Dinsmore 1",
         "Finley, Martha",
         "[1, \"Elsie Dinsmore\"]",
         "['https://mooresville.evergreenindiana.org/Record/18569130?searchId=5762963&recordIndex=5&page=1', 'https://www.thriftbooks.com/w/the-a-life-of-faith-collection-elsies-endless-wait--millies-unsettled-season--violets-hidden-doubts--laylies-daring-quest_martha-finley_kersten-hamilton/445127/', 'https://blog.sipeed.com/data/Resources/fetch.php/lilas%20christmas%20angel%20sweet%20valley%20kids%2063%20by%20francine%20pascal.pdf', 'https://en.wikipedia.org/wiki/Elsie_Dinsmore', 'https://www.goodreads.com/book/show/611859']"
        ],
        [
         "2",
         "Elsies New Life A Life of Faith Elsie Dinsmore 3",
         "Finley, Martha",
         "[1, \"Elsie Dinsmore\"]",
         "['https://en.wikipedia.org/wiki/Elsie_Dinsmore', 'https://www.goodreads.com/book/show/611861.Elsie_Dinsmore', 'https://www.youtube.com/watch?v=cZJwE-OdEP0', 'https://www.online-literature.com/forums/showthread.php?17599-Elsie-Dinsmore-Violet-Travilla-and-the-Millie-Keith-Series', 'https://blog.library.in.gov/historical-childrens-books-elsie-dinsmore/']"
        ],
        [
         "3",
         "Tis the Season for Revenge Seasons of Revenge 1",
         "Elizabeth, Morgan",
         "[1, \"Abbie Keller\"]",
         "['https://lifeaccordingtojamie.com/2023/07/09/book-review-tis-the-season-for-revenge/', 'https://assets.thestorygraph.com/book_reviews/53438606-cc4a-456c-99aa-6597febce29a/content_warning/54', 'https://jeevesreads.com/2023/01/02/%E2%AD%90%EF%B8%8F%E2%AD%90%EF%B8%8F%E2%AD%90%EF%B8%8F%E2%AD%90%EF%B8%8F%E2%AD%90%EF%B8%8F-review-tis-the-season-for-revenge-by-morgan-elizabeth/', 'https://zajikaliblogs.wordpress.com/2022/12/11/tis-the-season-for-revenge-by-morgan-elizabeth-book-review/', 'https://thewordyhabitat.com/tis-the-season-for-revenge-book-review/']"
        ],
        [
         "4",
         "A Soul to Keep Duskwalker Brides 1",
         "Reyne, Opal",
         "[1, \"Reia\"]",
         "['https://www.goodreads.com/book/show/61352716', 'https://www.romance.io/books/62aad529291966186e718eb1/a-soul-to-keep-opal-reyne', 'https://www.romance.io/books/62aad529291966186e718eb1/a-soul-to-keep-opal-reyne?src=rdt&thr=1hnsbq6', 'https://romancereadingcorner.wordpress.com/2022/06/27/a-soul-to-keep-duskwalker-brides-1/', 'https://www.instagram.com/opalreyne/p/DCzAXtFyZrT/?locale=es_us']"
        ],
        [
         "5",
         "One Last Day of Summer",
         "Low, Shari",
         "[1, \"Bernadette\"]",
         "['https://www.goodreads.com/book/show/61221774-one-last-day-of-summer', 'https://beautyaddict32.co.uk/2022/07/one-last-day-of-summer.html', 'https://iheartbooksdotblog.wordpress.com/2022/07/23/one-last-day-of-summer/', 'https://thebookdecoder.com/2022/07/23/one-last-day-of-summer-by-shari-low/', 'https://sandysbookaday.wordpress.com/2022/07/27/one-last-day-of-summer-by-shari-low/']"
        ],
        [
         "6",
         "The Night Angel Trilogy Night Angel 13",
         "Weeks, Brent",
         "[1, \"Viridiana Sovari\"]",
         "['https://www.brentweeks.com/extras/night-angel-extras/night-angel-character-list/', 'https://en.wikipedia.org/wiki/List_of_Night_Angel_characters', 'https://www.brentweeks.com/extras/night-angel-extras/graphic-novel-character-sketches/', 'https://fantasy-faction.com/2010/night-angel-trilogy-by-brent-weeks', 'https://www.grimdarkmagazine.com/review-night-angel-nemesis-by-brent-weeks/']"
        ],
        [
         "7",
         "King of Wrath Kings of Sin 1",
         "Huang, Ana",
         "[1, \"Vivian Lau\"]",
         "['https://www.goodreads.com/book/show/217206738-king-of-wrath', 'https://nazahafreen.com/king-of-wrath-review/', 'https://dinipandareads.com/2023/02/27/book-review-king-of-wrath-by-ana-huang/', 'https://www.goodreads.com/book/show/214407871', 'https://www.romance.io/books/634e52e6d1ccecfcb179ffb3/king-of-wrath-ana-huang?src=rdt&thr=1ju46n1']"
        ],
        [
         "8",
         "The Waters Edge Konrad Sejer 8",
         "Fossum, Karin",
         "[1, \"Kristine Ris\"]",
         "['https://www.bookbrowse.com/bb_briefs/detail/index.cfm/ezine_preview_number/4025/the-waters-edge', 'https://www.kirkusreviews.com/book-reviews/karin-fossum/the-waters-edge/', 'https://www.barnesandnoble.com/w/the-waters-edge-karin-fossum/1100303133', 'https://www.thriftbooks.com/w/the-waters-edge_karin-fossum/341284/', 'https://dev.bookbrowse.com/bb_briefs/detail/index.cfm/ezine_preview_number/4025/the-waters-edge']"
        ],
        [
         "9",
         "Susannahs Garden Blossom Street 3",
         "Macomber, Debbie",
         "[1, \"Susannah Nelson\"]",
         "['https://www.goodreads.com/book/show/612401.Susannah_s_Garden', 'https://debbiemacomber.com/books/susannah-s-garden', 'https://e.harlequin.com/shop/books/9781488038310_susannahs-garden.html', 'https://catalog.cmpl.org/search/card?id=d8ff31ba-3332-5e87-94e6-56757a9eba21&entityType=FormatGroup', 'http://www.theintrepidreader.com/2008/07/susannahs-garden-by-debbie-macomber.html']"
        ],
        [
         "10",
         "Killer on the Moors DI Joanna Piercy 1",
         "Masters, Priscilla",
         "[1, \"Joanna Piercy\"]",
         "['https://www.goodreads.com/book/show/61245863', 'https://www.goodreads.com/book/show/61245863-killer-on-the-moors', 'https://www.bookseriesinorder.com/joanna-piercy/', 'https://www.barnesandnoble.com/w/killer-on-the-moors-a-gripping-murder-mystery-priscilla-masters/1141715042', 'https://www.orderofbooks.com/characters/joanna-piercy/']"
        ],
        [
         "11",
         "Fairest of All Villains 1",
         "Valentino, Serena",
         "[1, \"The Wicked Queen\"]",
         "['https://www.goodreads.com/book/show/6124802-fairest-of-all', 'https://www.goodreads.com/book/show/6124802.Fairest_of_All__Villains__1_', 'https://www.shelfreflection.com/blog/fairest-of-all', 'https://www.romance.io/books/545682e987eac33e571083bc', 'https://app.thestorygraph.com/book_reviews/004cf932-2682-4730-84a5-7ade225b193e?page=3']"
        ],
        [
         "12",
         "Silk",
         "Baricco, Alessandro",
         "[1, \"Hélène Joncour\"]",
         "['https://booksandbakes1.wordpress.com/2016/08/31/silk-alessandro-baricco/', 'https://www.imdb.com/title/tt0494834/', 'https://assets.thestorygraph.com/book_reviews/aa4f548a-6b38-4960-a1e3-e40a1c895552/content_warning/45', 'https://readingintranslation.com/2024/11/25/the-double-life-of-silk-in-translation/', 'https://araandrodelyn.wordpress.com/2016/09/24/critic-silk-by-alessandro-baricco/']"
        ],
        [
         "13",
         "The House of Thunder",
         "Koontz, Dean",
         "[1, \"Susan Thornton\"]",
         "['https://www.goodreads.com/book/show/61265308-the-house-of-thunder', 'https://www.deankoontz.com/house-of-thunder-from-the-author/', 'https://app.thestorygraph.com/book_reviews/c1ab2c1f-814d-43a8-b731-090e04e5b372?page=10', 'https://www.enotes.com/topics/house-thunder', 'https://app.thestorygraph.com/book_reviews/1ee8392f-36a3-4874-8914-22a0a2067083?page=6']"
        ],
        [
         "14",
         "Burnt on the Moors DI Joanna Piercy 2",
         "Masters, Priscilla",
         "[1, \"Joanna Piercy\"]",
         "['https://www.goodreads.com/book/show/66383688', 'https://www.goodreads.com/book/show/61287983-burnt-on-the-moors', 'https://www.bookseriesinorder.com/priscilla-masters/', 'https://www.bookseries.org/authors/priscilla-masters/', 'https://communicationstudies.wvu.edu/files/d/bf757732-b79b-48d1-addb-2bd23fcdd25d/1358108097-3.pdf']"
        ],
        [
         "15",
         "The Lonely Londoners",
         "Selvon, Sam",
         "[0, \"\"]",
         "['https://www.open.edu/openlearn/history-the-arts/literature/sam-selvon-the-lonely-londoners/content-section-3.3', 'https://www.litcharts.com/lit/the-lonely-londoners/characters', 'https://www.litcharts.com/lit/the-lonely-londoners/characters/agnes', 'https://www.gradesaver.com/the-lonely-londoners/study-guide/character-list', 'https://bookbrief.io/books/the-lonely-londoners-sam-selvon/character-analysis']"
        ],
        [
         "16",
         "Lassiter Black Dagger Brotherhood 21",
         "Ward, J.R.",
         "[1, \"Rahvyn\"]",
         "['https://corinawrites.com/2022/06/21/the-black-dagger-brotherhood-character-guide/', 'https://www.goodreads.com/book/show/62344735-lassiter', 'http://www.aboutthatstory.com/2023/04/book-review-lassiter-black-dagger.html', 'https://www.escapistbookblog.com/?p=71074', 'http://www.thcreviews.com/cgi-bin/vts/book_review.html?book_review_id=1406']"
        ],
        [
         "17",
         "Do Androids Dream of Electric Sheep Blade Runner 1",
         "Dick, Philip K.",
         "[1, \"Iran Deckard\"]",
         "['https://www.sparknotes.com/lit/do-androids-dream-of-electric-sheep/characters/', 'https://www.litcharts.com/lit/do-androids-dream-of-electric-sheep/characters', 'https://www.coursehero.com/lit/Do-Androids-Dream-of-Electric-Sheep/characters/', 'https://groups.google.com/g/rec.arts.mystery/c/JpLYXszYyRs', 'https://gradesfixer.com/free-essay-examples/do-females-dream-of-a-respectable-representation/']"
        ],
        [
         "18",
         "The Virgin Cure",
         "McKay, Ami",
         "[1, \"Moth\"]",
         "['https://www.goodreads.com/book/show/6131786-the-virgin-cure', 'http://www.monniblog.com/2011/10/the-virgin-cure-by-ami-mckay/', 'https://reviewsrevues.com/2015/05/12/the-virgin-cure-ami-mckay-2012/', 'http://mcmiller.ca/writing/article/the-peak-the-virgin-cure-book-review/', 'https://www.kirkusreviews.com/book-reviews/ami-mckay/virgin-cure/']"
        ],
        [
         "19",
         "When My Name Was Keoko",
         "Park, Linda Sue",
         "[1, \"Sun-hee (Keoko)\"]",
         "['https://en.wikipedia.org/wiki/When_My_Name_Was_Keoko', 'https://www.supersummary.com/when-my-name-was-keoko/summary/', 'https://www.goodreads.com/book/show/613218.When_My_Name_Was_Keoko', 'https://quizlet.com/145500715/when-my-name-was-keoko-characters-terms-flash-cards/', 'https://www.blinkist.com/en/books/when-my-name-was-keoko-en']"
        ],
        [
         "20",
         "An American Beauty",
         "Abe, Shana",
         "[1, \"Arabella Huntington\"]",
         "['https://www.goodreads.com/book/show/61341955-an-american-beauty', 'https://www.supersummary.com/an-american-beauty/major-character-analysis/', 'https://www.historywomanperspective.com/2025/03/an-american-beauty-novel-of-gilded-age.html', 'https://historicalnovelsociety.org/reviews/an-american-beauty/', 'https://aardvarkbookclub.com/an-american-beauty/']"
        ],
        [
         "21",
         "Blue Moon The Immortals 2",
         "Noel, Alyson",
         "[1, \"Ever\"]",
         "['https://www.goodreads.com/book/show/6818083', 'http://adreamofbooks.blogspot.com/2011/03/review-blue-moon-immortals-2-alyson.html', 'http://www.idsoratherbereading.com/2010/06/book-review-blue-moon-immortals-2-by.html', 'https://yabookscentral.com/blue-moonthe-immortals/reviews/ya-books-blog/iLive,%20iLaugh,%20iLove%20Books/top-reviewers/iLive,%20iLaugh,%20iLove%20Books', 'https://recaptains.co.uk/2022/11/evermore-by-alyson-noel/']"
        ],
        [
         "22",
         "Hittite Warrior",
         "Williamson, Joanne",
         "[0, \"\"]",
         "['https://goodreads.com/book/show/613497', 'https://thefamilybooklist.com/2017/02/02/hittite-warrior/', 'https://www.goodreads.com/book/show/29340817-hittite-warior', 'https://aberdeen92.wordpress.com/2015/02/06/fireside-fridays-hittite-warrior/', 'http://librisnotes.blogspot.com/2022/04/hittite-warrior-by-joanne-williamson.html']"
        ],
        [
         "23",
         "The Traveling Vampire Show",
         "Laymon, Richard",
         "[1, \"Slim\"]",
         "['https://cultsploitation.com/book-review-the-traveling-vampire-show-by-richard-laymon/', 'https://assets.thestorygraph.com/book_reviews/33788283-bb54-40af-96ef-3f39974c7f1f', 'https://www.goodreads.com/book/show/613605.The_Traveling_Vampire_Show', 'https://www.instagram.com/traveling_vampire_show/', 'https://thegothicwanderer.wordpress.com/tag/the-traveling-vampire-show/']"
        ],
        [
         "24",
         "Fire Graceling Realm 2",
         "Cashore, Kristin",
         "[1, \"Fire\"]",
         "['https://diamondsinthelibrary.com/fire-graceling-realm-2-by-kristin-cashore/', 'https://www.goodreads.com/book/show/6137154-fire', 'https://thelitbitch.com/2012/07/04/review-fire-graceling-realm-2-by-kristin-cashore/', 'https://amwillisjournal.wordpress.com/2021/01/20/the-graceling-realm-series-books-1-2-companion-in-review/', 'https://willreadforbooze.com/2020/04/12/drunk-review-fire-by-kristin-cashore-graceling-realm-2/']"
        ],
        [
         "25",
         "Al Capone Shines My Shoes Tales from Alcatraz 2",
         "Choldenko, Gennifer",
         "[0, \"\"]",
         "['https://www.supersummary.com/al-capone-shines-my-shoes/summary/', 'http://betweenthesepages.com/2011/04/29/al-capone-shines-my-shoes/', 'https://yalitreader.wordpress.com/2022/01/28/al-capone-shines-my-shoes-by-gennifer-choldenko/', 'https://quizlet.com/138519380/al-capone-shines-my-shoes-characters-flash-cards/', 'https://www.goodreads.com/book/isbn/9780142417188']"
        ],
        [
         "26",
         "The Moonstone",
         "Collins, Wilkie",
         "[1, \"Rachel Verinder\"]",
         "['https://www.sparknotes.com/lit/moonstone/characters/', 'https://www.litcharts.com/lit/the-moonstone/characters', 'http://thelittlewhiteattic.blogspot.com/2015/03/the-female-characters-in-moonstone.html', 'https://www.superprof.co.uk/resources/academic/english-resources/english-language-resources/a-level-english/the-moonstone-characters.html', 'https://en.wikipedia.org/wiki/The_Moonstone']"
        ],
        [
         "27",
         "Run on Red",
         "Ihli, Noelle W.",
         "[1, \"Laura\"]",
         "['https://www.goodreads.com/book/show/61381555-run-on-red', 'https://parents.simonandschuster.com/9781668141472', 'https://www.penguinrandomhouse.com/books/808480/run-on-red-by-noelle-west-ihli/', 'https://celinelingg.wordpress.com/2025/01/31/book-review-run-on-red-by-noelle-w-ihli/', 'https://get.thrillingreads.com/noelle-west-ihli/']"
        ],
        [
         "28",
         "The Annihilator Dark Verse 5",
         "RuNyx",
         "[1, \"Lyla (Luna)\"]",
         "['https://www.goodreads.com/book/show/61383364', 'https://frenchgirlslibrary.wordpress.com/2022/07/03/arc-review-the-annihilator-by-runyx/', 'https://www.goodreads.com/book/show/54683187-the-annihilator', 'https://www.instagram.com/p/DGVuqingXk4/', 'https://literal.club/book/runyx-untitled-xkdg5']"
        ],
        [
         "29",
         "Scarlett Fever Scarlett 2",
         "Johnson, Maureen",
         "[1, \"Scarlett Martin\"]",
         "['https://www.goodreads.com/book/show/25496812', 'https://app.thestorygraph.com/book_reviews/b470ab3e-50b7-4095-aff9-1c15a836f1c7?page=15', 'https://app.thestorygraph.com/book_reviews/372422e9-1906-48dc-a312-4444d4be7061?page=14', 'https://www.goodreads.com/book/show/8271330', 'https://www.librarycat.org/lib/Kaethe/item/30867007']"
        ],
        [
         "30",
         "Chlorine",
         "Song, Jade",
         "[1, \"Ren Yu\"]",
         "['http://strangehorizons.com/wordpress/non-fiction/chlorine-by-jade-song/', 'https://lesbrary.com/chlorine-by-jade-song/', 'https://www.pleasereadittome.com/home/chlorine-jade-song', 'https://www.goodreads.com/book/show/61387386-chlorine', 'https://mastersreview.com/book-review-chlorine-by-jade-song/']"
        ],
        [
         "31",
         "The Search for the Red Dragon The Chronicles of the Imaginarium Geographica 2",
         "Owen, James A.",
         "[0, \"\"]",
         "['http://www.teenink.com/reviews/book_reviews/article/820371/The-Search-For-The-Red-Dragon-by-James-A-Owen/', 'https://tolkiengateway.net/wiki/The_Search_for_the_Red_Dragon', 'https://www.goodreads.com/book/show/9969726', 'https://thoughtsstainedwithink.com/the-search-for-the-red-dragon/', 'https://assets.thestorygraph.com/book_reviews/b4401992-4836-4af1-9859-fc24c4bfb1de']"
        ],
        [
         "32",
         "Raven Stole the Moon",
         "Stein, Garth",
         "[1, \"Jenna Rosen\"]",
         "['https://garthstein.com/works/raven-stole-the-moon/', 'https://www.goodreads.com/book/show/396715', 'https://garthstein.com/works/raven-stole-the-moon/reviews/', 'https://app.thestorygraph.com/book_reviews/065e0ec8-f774-4641-9803-e980c610151a?page=2', 'https://www.goodreads.com/book/show/6903471']"
        ],
        [
         "33",
         "The King Beyond the Gate The Drenai Saga 2",
         "Gemmell, David",
         "[1, \"Rayvan\"]",
         "['https://en.wikipedia.org/wiki/The_King_Beyond_the_Gate', 'https://www.goodreads.com/topic/show/166890-which-female-character-from-any-of-dg-books-main-or-small-part-would-y', 'https://www.goodreads.com/book/show/613991.The_King_Beyond_the_Gate', 'https://assets.thestorygraph.com/book_reviews/36b73c0b-84c1-42aa-9dcb-3ac01fd92a58', 'https://newbookrecommendation.com/summary-of-the-king-beyond-the-gate-by-david-gemmell/']"
        ],
        [
         "34",
         "Holiday Romance Catherine Walsh Christmas Books 1",
         "Walsh, Catherine",
         "[1, \"Molly\"]",
         "['https://www.goodreads.com/topic/show/22747451-duos-or-trios-2024', 'https://goodreads.com/book/show/61401417.Holiday_Romance', 'https://momwithareadingproblem.com/?p=15825', 'https://youngcreativepress.com/2022/12/16/the-12-books-of-christmas-holiday-romance-by-catherine-walsh/', 'https://bookdustmagic.com/tag/catherine-walsh/']"
        ],
        [
         "35",
         "Close Enough To Kill Griffin Powell 6",
         "Barton, Beverly",
         "[1, \"Bernie Granger\"]",
         "['https://www.goodreads.com/book/show/22741666', 'https://www.romance.io/topics/best/behind-doors,military/6', 'https://www.romance.io/topics/most/behind-doors,military/6', 'https://www.goodreads.com/book/show/614574.Close_Enough_To_Kill', 'https://www.fantasticfiction.com/b/beverly-barton/']"
        ],
        [
         "36",
         "Mothers Instinct",
         "Abel, Barbara",
         "[1, \"Laetitia\"]",
         "['https://wordswithoutborders.org/book-reviews/the-stories-we-tell-ourselves-about-motherhood-on-mothers-instinct-by-barbara-abel-jenessa-abrams/', 'https://www.goodreads.com/book/show/61467934-mothers-instinct', 'https://www.marilynsmysteryreads.com/2023/06/30/mothers-instinct-by-barbara-abel-book-review/', 'https://www.harpercollins.com/products/mothers-instinct-barbara-abel', 'https://www.netgalley.com/book/277957/reviews?direction=desc&page=7&=r.updated']"
        ],
        [
         "37",
         "The Shadow of the Bear A Fairy Tale Retold 1",
         "Doman, Regina",
         "[1, \"Blanche Brier\"]",
         "['https://www.goodreads.com/book/show/6146985-the-shadow-of-the-bear', 'https://www.tumblarhouse.com/products/the-shadow-of-the-bear-a-fairy-tale-retold-regina-doman', 'https://catholicnerdwriter.blogspot.com/2010/07/book-review-shadow-of-bear.html', 'https://reginadoman.substack.com/p/audio-drama-the-shadow-of-the-bear-d54', 'https://www.goodreads.com/en/book/show/6146985-the-shadow-of-the-bear']"
        ],
        [
         "38",
         "The Tycoons Rebel Bride The Anetakis Tycoons 2",
         "Banks, Maya",
         "[1, \"Isabella Caplan\"]",
         "['https://books.apple.com/us/book/the-tycoons-rebel-bride/id771611645', 'https://books.apple.com/de/book/the-tycoons-rebel-bride/id771611645', 'https://www.gandhi.com.mx/the-complete-anetakis-tycoons-trilogy-9781488053351/p', 'https://imgbin.com/png/c76rzpci/the-tycoons-rebel-bride-highlander-most-wanted-the-tycoons-pregnant-mistress-the-tycoons-secret-affair-sweet-persuasion-png', 'http://drunkwritertalk.blogspot.com/2009/04/smart-bitches-stop-in-for-chat.html']"
        ],
        [
         "39",
         "Blood Lines World of the Lupi 3",
         "Wilks, Eileen",
         "[1, \"Lily Yu\"]",
         "['https://www.goodreads.com/en/book/show/614780.Blood_Lines', 'https://angelsbooknook.com/2023/08/17/graphic-audio-review-blood-lines-world-of-the-lupi-3-by-eileen-wilks/', 'https://app.thestorygraph.com/book_reviews/c38ed7b0-755f-4a0c-bd15-9679ec1ea09d?page=4', 'https://www.romance.io/topics/best/fantasy,east-asian-mc/7', 'https://angelsbooknook.com/2023/07/20/graphic-audio-review-tempting-danger-world-of-the-lupi-1-by-eileen-wilks/']"
        ],
        [
         "40",
         "A Court of Thorns and Roses eBook Bundle A 5 Book Bundle",
         "Maas, Sarah J.",
         "[1, \"Feyre Archeron\"]",
         "['https://www.sparknotes.com/lit/a-court-of-thorns-and-roses/characters/', 'https://crewfiction.com/blog/acotar-characters', 'https://www.maudesbookclub.com/book-feed/a-court-of-thorns-and-roses-character-list-breakdown', 'https://www.estapinto.com/books/a-court-of-thorns-roses-characters-spicy', 'https://screenrant.com/sarah-j-maas-book-heroines-ranked/']"
        ],
        [
         "41",
         "Beloved",
         "Morrison, Toni",
         "[1, \"Sethe\"]",
         "['https://www.sparknotes.com/lit/beloved/characters/', 'https://www.litcharts.com/lit/beloved/characters', 'https://repository.stcloudstate.edu/cgi/viewcontent.cgi?article=1217&context=engl_etds', 'https://www.collegetransitions.com/blog/characters-in-beloved-toni-morrison/', 'https://en.wikipedia.org/wiki/Beloved_(novel)']"
        ],
        [
         "42",
         "Cry the Beloved Country",
         "Paton, Alan",
         "[0, \"\"]",
         "['https://www.sparknotes.com/lit/cry/characters/', 'https://www.litcharts.com/lit/cry-the-beloved-country/characters', 'https://study.com/academy/lesson/gender-roles-in-cry-the-beloved-country.html', 'http://crytheblelovedcountry.weebly.com/characters.html', 'https://www.shmoop.com/study-guides/cry-the-beloved-country/absaloms-girl.html']"
        ],
        [
         "43",
         "A Kingdom of Blood and Betrayal Stars and Shadows 2",
         "Renee, Holly",
         "[1, \"Adara\"]",
         "['https://www.goodreads.com/book/show/63856467', 'https://www.goodreads.com/book/show/147976509', 'https://www.romance.io/authors/55e14adc35a5fb65f8877a05/holly-renee/series', 'https://www.romance.io/authors/55e14adc35a5fb65f8877a05/holly-renee', 'https://kaydanielsromance.wordpress.com/2022/10/25/']"
        ],
        [
         "44",
         "Dying to Meet You 43 Old Cemetery Road 1",
         "Klise, Kate",
         "[1, \"Olive C. Spence\"]",
         "['https://www.goodreads.com/book/show/6150990-dying-to-meet-you', 'https://www.kirkusreviews.com/book-reviews/kate-klise/dying-to-meet-you-2/', 'http://www.publishersweekly.com/9780152057275', 'https://www.nyjournalofbooks.com/book-review/dying-meet-you-43-old-cemetery-road', 'https://www.kateklise.com/books.html']"
        ],
        [
         "45",
         "The Four Corners of the Sky",
         "Malone, Michael",
         "[1, \"Annie Peregrine Goode\"]",
         "['https://diaryofaneccentric.wordpress.com/2009/05/13/the-four-corners-of-the-sky-by-michael-malone/', 'https://www.goodreads.com/book/show/18115419', 'https://mountainx.com/arts/art-news/book_report_the_four_corners_of_the_sky/', 'https://arttaylorwriter.com/2009/05/04/michael-malone-returns-with-grand-new-novel-the-four-corners-of-the-sky/', 'https://www.kirkusreviews.com/book-reviews/michael-malone/the-four-corners-of-the-sky-2/']"
        ],
        [
         "46",
         "Mr Poppers Penguins",
         "Atwater, Richard",
         "[1, \"Mrs. Popper\"]",
         "['https://www.imdb.com/title/tt1396218/fullcredits/', \"https://en.wikipedia.org/wiki/Mr._Popper's_Penguins_(film)\", 'https://www.imdb.com/title/tt1396218/', 'https://www.gradesaver.com/mr-poppers-penguins/study-guide/character-list', \"https://en.wikipedia.org/wiki/Mr._Popper's_Penguins\"]"
        ],
        [
         "47",
         "Reservation Blues",
         "Alexie, Sherman",
         "[0, \"\"]",
         "['https://www.litcharts.com/lit/reservation-blues/characters', 'https://www.coursehero.com/lit/Reservation-Blues/characters/', 'https://www.litcharts.com/lit/reservation-blues/characters/betty', 'https://www.gradesaver.com/reservation-blues/study-guide/character-list', 'https://journals.uwyo.edu/index.php/workingclassstudies/article/download/6143/5383/8581']"
        ],
        [
         "48",
         "Halo First Strike",
         "Nylund, Eric S.",
         "[0, \"\"]",
         "['https://www.halowaypoint.com/news/womens-history-month-2024', 'https://www.halopedia.org/Amy', 'http://carnage.bungie.org/haloforum/halo.forum.pl?read=1215557', 'http://carnage.bungie.org/haloforum/halo.forum.pl?read=1215546', 'https://en.wikipedia.org/wiki/List_of_Halo_characters']"
        ],
        [
         "49",
         "Fly Away Peter",
         "Malouf, David",
         "[0, \"\"]",
         "['https://www.litcharts.com/lit/fly-away-peter/characters', 'https://en.wikipedia.org/wiki/Fly_Away_Peter', 'https://www.litcharts.com/lit/fly-away-peter/characters/connie', 'https://www.gradesaver.com/fly-away-peter/study-guide/character-list', 'https://cdn.vaultofthewace.xyz/english-lit/book_notes/LitCharts%20-%20Textual%20Analyses/F/Fly-Away-Peter-LitChart.pdf']"
        ]
       ],
       "shape": {
        "columns": 4,
        "rows": 4004
       }
      },
      "text/html": [
       "<div>\n",
       "<style scoped>\n",
       "    .dataframe tbody tr th:only-of-type {\n",
       "        vertical-align: middle;\n",
       "    }\n",
       "\n",
       "    .dataframe tbody tr th {\n",
       "        vertical-align: top;\n",
       "    }\n",
       "\n",
       "    .dataframe thead th {\n",
       "        text-align: right;\n",
       "    }\n",
       "</style>\n",
       "<table border=\"1\" class=\"dataframe\">\n",
       "  <thead>\n",
       "    <tr style=\"text-align: right;\">\n",
       "      <th></th>\n",
       "      <th>title</th>\n",
       "      <th>author</th>\n",
       "      <th>answer</th>\n",
       "      <th>citation</th>\n",
       "    </tr>\n",
       "  </thead>\n",
       "  <tbody>\n",
       "    <tr>\n",
       "      <th>0</th>\n",
       "      <td>Scarlet King Raven 2</td>\n",
       "      <td>Lawhead, Stephen R.</td>\n",
       "      <td>[0, \"\"]</td>\n",
       "      <td>['https://www.goodreads.com/book/show/611787.S...</td>\n",
       "    </tr>\n",
       "    <tr>\n",
       "      <th>1</th>\n",
       "      <td>Elsies Endless Wait A Life of Faith Elsie Dins...</td>\n",
       "      <td>Finley, Martha</td>\n",
       "      <td>[1, \"Elsie Dinsmore\"]</td>\n",
       "      <td>['https://mooresville.evergreenindiana.org/Rec...</td>\n",
       "    </tr>\n",
       "    <tr>\n",
       "      <th>2</th>\n",
       "      <td>Elsies New Life A Life of Faith Elsie Dinsmore 3</td>\n",
       "      <td>Finley, Martha</td>\n",
       "      <td>[1, \"Elsie Dinsmore\"]</td>\n",
       "      <td>['https://en.wikipedia.org/wiki/Elsie_Dinsmore...</td>\n",
       "    </tr>\n",
       "    <tr>\n",
       "      <th>3</th>\n",
       "      <td>Tis the Season for Revenge Seasons of Revenge 1</td>\n",
       "      <td>Elizabeth, Morgan</td>\n",
       "      <td>[1, \"Abbie Keller\"]</td>\n",
       "      <td>['https://lifeaccordingtojamie.com/2023/07/09/...</td>\n",
       "    </tr>\n",
       "    <tr>\n",
       "      <th>4</th>\n",
       "      <td>A Soul to Keep Duskwalker Brides 1</td>\n",
       "      <td>Reyne, Opal</td>\n",
       "      <td>[1, \"Reia\"]</td>\n",
       "      <td>['https://www.goodreads.com/book/show/61352716...</td>\n",
       "    </tr>\n",
       "    <tr>\n",
       "      <th>...</th>\n",
       "      <td>...</td>\n",
       "      <td>...</td>\n",
       "      <td>...</td>\n",
       "      <td>...</td>\n",
       "    </tr>\n",
       "    <tr>\n",
       "      <th>3999</th>\n",
       "      <td>Truly Madly Deeply</td>\n",
       "      <td>Kazi, Faraaz</td>\n",
       "      <td>[1, \"Seema\"]</td>\n",
       "      <td>['https://www.goodreads.com/book/show/9996645'...</td>\n",
       "    </tr>\n",
       "    <tr>\n",
       "      <th>4000</th>\n",
       "      <td>Sloop of War Richard Bolitho 6</td>\n",
       "      <td>Kent, Alexander</td>\n",
       "      <td>[0, \"\"]</td>\n",
       "      <td>['https://www.goodreads.com/book/show/999733.S...</td>\n",
       "    </tr>\n",
       "    <tr>\n",
       "      <th>4001</th>\n",
       "      <td>Purification Autumn 3</td>\n",
       "      <td>Moody, David</td>\n",
       "      <td>[0, \"\"]</td>\n",
       "      <td>['http://everythingalyce.blogspot.com/2016/04/...</td>\n",
       "    </tr>\n",
       "    <tr>\n",
       "      <th>4002</th>\n",
       "      <td>The American Heiress</td>\n",
       "      <td>Goodwin, Daisy</td>\n",
       "      <td>[1, \"Cora Cash\"]</td>\n",
       "      <td>['https://www.bookishwayfarer.com/blog/review-...</td>\n",
       "    </tr>\n",
       "    <tr>\n",
       "      <th>4003</th>\n",
       "      <td>Venom Secrets of the Eternal Rose 1</td>\n",
       "      <td>Paul, Fiona</td>\n",
       "      <td>[1, \"Cassandra Caravello\"]</td>\n",
       "      <td>['https://www.goodreads.com/book/show/9999795'...</td>\n",
       "    </tr>\n",
       "  </tbody>\n",
       "</table>\n",
       "<p>4004 rows × 4 columns</p>\n",
       "</div>"
      ],
      "text/plain": [
       "                                                  title               author  \\\n",
       "0                                  Scarlet King Raven 2  Lawhead, Stephen R.   \n",
       "1     Elsies Endless Wait A Life of Faith Elsie Dins...       Finley, Martha   \n",
       "2      Elsies New Life A Life of Faith Elsie Dinsmore 3       Finley, Martha   \n",
       "3       Tis the Season for Revenge Seasons of Revenge 1    Elizabeth, Morgan   \n",
       "4                    A Soul to Keep Duskwalker Brides 1          Reyne, Opal   \n",
       "...                                                 ...                  ...   \n",
       "3999                                 Truly Madly Deeply         Kazi, Faraaz   \n",
       "4000                     Sloop of War Richard Bolitho 6      Kent, Alexander   \n",
       "4001                              Purification Autumn 3         Moody, David   \n",
       "4002                               The American Heiress       Goodwin, Daisy   \n",
       "4003                Venom Secrets of the Eternal Rose 1          Paul, Fiona   \n",
       "\n",
       "                          answer  \\\n",
       "0                        [0, \"\"]   \n",
       "1          [1, \"Elsie Dinsmore\"]   \n",
       "2          [1, \"Elsie Dinsmore\"]   \n",
       "3            [1, \"Abbie Keller\"]   \n",
       "4                    [1, \"Reia\"]   \n",
       "...                          ...   \n",
       "3999                [1, \"Seema\"]   \n",
       "4000                     [0, \"\"]   \n",
       "4001                     [0, \"\"]   \n",
       "4002            [1, \"Cora Cash\"]   \n",
       "4003  [1, \"Cassandra Caravello\"]   \n",
       "\n",
       "                                               citation  \n",
       "0     ['https://www.goodreads.com/book/show/611787.S...  \n",
       "1     ['https://mooresville.evergreenindiana.org/Rec...  \n",
       "2     ['https://en.wikipedia.org/wiki/Elsie_Dinsmore...  \n",
       "3     ['https://lifeaccordingtojamie.com/2023/07/09/...  \n",
       "4     ['https://www.goodreads.com/book/show/61352716...  \n",
       "...                                                 ...  \n",
       "3999  ['https://www.goodreads.com/book/show/9996645'...  \n",
       "4000  ['https://www.goodreads.com/book/show/999733.S...  \n",
       "4001  ['http://everythingalyce.blogspot.com/2016/04/...  \n",
       "4002  ['https://www.bookishwayfarer.com/blog/review-...  \n",
       "4003  ['https://www.goodreads.com/book/show/9999795'...  \n",
       "\n",
       "[4004 rows x 4 columns]"
      ]
     },
     "execution_count": 12,
     "metadata": {},
     "output_type": "execute_result"
    }
   ],
   "source": [
    "subset_3"
   ]
  },
  {
   "cell_type": "code",
   "execution_count": null,
   "id": "4ad9707b",
   "metadata": {},
   "outputs": [],
   "source": []
  }
 ],
 "metadata": {
  "kernelspec": {
   "display_name": "venv",
   "language": "python",
   "name": "python3"
  },
  "language_info": {
   "codemirror_mode": {
    "name": "ipython",
    "version": 3
   },
   "file_extension": ".py",
   "mimetype": "text/x-python",
   "name": "python",
   "nbconvert_exporter": "python",
   "pygments_lexer": "ipython3",
   "version": "3.12.7"
  }
 },
 "nbformat": 4,
 "nbformat_minor": 5
}

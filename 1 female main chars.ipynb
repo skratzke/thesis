{
 "cells": [
  {
   "cell_type": "code",
   "execution_count": 1,
   "id": "c120eca2",
   "metadata": {},
   "outputs": [],
   "source": [
    "import pandas as pd\n",
    "import requests\n",
    "import os \n",
    "import ast\n",
    "import time\n",
    "from time import sleep\n",
    "import logging\n",
    "from pydantic import RootModel, conint\n",
    "from typing import Tuple"
   ]
  },
  {
   "cell_type": "code",
   "execution_count": 2,
   "id": "8db0377e",
   "metadata": {},
   "outputs": [],
   "source": [
    "system_prompt = \"\"\"\n",
    "    You are a helpful literary assistant, helping me with my master thesis on gender in literature. \n",
    "    Your job is to search the internet and assess whether a book features a **female major character** (fmc).\n",
    "    \n",
    "   You MUST ALWAYS return your response as a Python list with exactly two elements: [fmc_present, fmc_name]\n",
    "    - `fmc_present` = 1 if yes, 0 if no\n",
    "    - `fmc_name` = the most important female major character's name, or an empty string.\n",
    "\n",
    "    Never return anything else. No explanations, no full sentences. Just the list.\n",
    "\n",
    "    Examples:\n",
    "    - For \"To Kill A Mockingbird\" by Harper Lee (has a fmc): [1, 'Scout Finch']\n",
    "    - For \"The Hobbit and The Lord of the Rings\" by J.R.R. Tolkien (doesn't have a fmc): [0, '']\n",
    "\n",
    "    The female major character does not need to be the protagonist, but she must be a central presence in the narrative, \n",
    "    with **more significance than a secondary or background character**.\n",
    "\n",
    "    A female character is considered a **major character** if she plays a substantial role in the story, \n",
    "    regularly appears throughout the book, and if her role significantly contributes to relationships or events that \n",
    "    shape the plot or other characters.\n",
    "\n",
    "    Characters who serve only as symbolic figures, plot devices, or one-time motivators without meaningful presence \n",
    "    or development should not be considered major characters.\n",
    "\n",
    "    Examples of female major characters:\n",
    "    - **Katniss Everdeen** in **The Hunger Games** – protagonist, central to the plot, her choices drive the rebellion and story progression.\n",
    "    – **Hermione Granger** in *Harry Potter* – not the protagonist, but central to plot progression and character development.\n",
    "    \n",
    "    Examples of female NON-major characters:\n",
    "    - **Prim Everdeen** in **The Hunger Games** – important to Katniss's emotional motivation, but doesn’t influence the plot or have significant character development beyond being a catalyst.\n",
    "    - **Professor McGonagall** in **Harry Potter** – important supporting character, but doesn’t influence the main plot or have significant character development beyond being a mentor and guide to Harry and his friends.\n",
    "    \"\"\"\n",
    "\n",
    "user_prompt_template = \"Is there a female major character in the book {title} by {author}?\""
   ]
  },
  {
   "cell_type": "code",
   "execution_count": 3,
   "id": "fb8196c6",
   "metadata": {},
   "outputs": [],
   "source": [
    "# Specify answer format\n",
    "\n",
    "# Define the tuple type: (0 or 1, followed by a string)\n",
    "MyFormat = Tuple[conint(ge=0, le=1), str]\n",
    "\n",
    "# Use RootModel to define the model\n",
    "class AnswerFormat(RootModel[MyFormat]):\n",
    "    pass"
   ]
  },
  {
   "cell_type": "code",
   "execution_count": 4,
   "id": "e3b3ee5a",
   "metadata": {},
   "outputs": [
    {
     "data": {
      "application/vnd.microsoft.datawrangler.viewer.v0+json": {
       "columns": [
        {
         "name": "index",
         "rawType": "int64",
         "type": "integer"
        },
        {
         "name": "title",
         "rawType": "object",
         "type": "string"
        },
        {
         "name": "author",
         "rawType": "object",
         "type": "string"
        }
       ],
       "conversionMethod": "pd.DataFrame",
       "ref": "cd83fe89-9600-40e7-a2f8-27947c544e74",
       "rows": [
        [
         "0",
         "Jackie  Me Baseball Card Adventure 2",
         "Gutman, Dan"
        ],
        [
         "1",
         "Honus  Me A Baseball Card Adventure 1",
         "Gutman, Dan"
        ],
        [
         "2",
         "Wildflower Hill",
         "Freeman, Kimberley"
        ],
        [
         "3",
         "Oracle Night",
         "Auster, Paul"
        ],
        [
         "4",
         "As a Driven Leaf",
         "Steinberg, Milton"
        ],
        [
         "5",
         "Pollyanna Pollyanna 1",
         "Porter, Eleanor H."
        ],
        [
         "6",
         "Eleanor Rigby",
         "Coupland, Douglas"
        ],
        [
         "7",
         "Journal 64 Department Q 4",
         "Adler-Olsen, Jussi"
        ],
        [
         "8",
         "Homo Faber",
         "Frisch, Max"
        ],
        [
         "9",
         "The Revealers",
         "Wilhelm, Doug"
        ],
        [
         "10",
         "Halo Contact Harvest",
         "Staten, Joseph"
        ],
        [
         "11",
         "A Pony for Keeps Pony Pals 2",
         "Betancourt, Jeanne"
        ],
        [
         "12",
         "Harry Potter and the Methods of Rationality",
         "Yudkowsky, Eliezer"
        ],
        [
         "13",
         "Summer of Love",
         "Fforde, Katie"
        ],
        [
         "14",
         "The First Part Last Michael L Printz Award  Winner",
         "Johnson, Angela"
        ],
        [
         "15",
         "Monkey The Journey to the West",
         "Wu Cheng'en"
        ],
        [
         "16",
         "The Gift Witch  Wizard 2",
         "Patterson, James"
        ],
        [
         "17",
         "Clockwork Prince The Infernal Devices 2",
         "Clare, Cassandra"
        ],
        [
         "18",
         "The Emperors Edge The Emperors Edge 1",
         "Buroker, Lindsay"
        ],
        [
         "19",
         "The Age of Reason Roads to Freedom 1",
         "Sartre, Jean-Paul"
        ],
        [
         "20",
         "Comet in Moominland The Moomins 2",
         "Jansson, Tove"
        ],
        [
         "21",
         "Epic Epic 1",
         "Kostick, Conor"
        ],
        [
         "22",
         "Dragons of Autumn Twilight Dragonlance Chronicles 1",
         "Weis, Margaret"
        ],
        [
         "23",
         "A Dog Called Kitty",
         "Wallace, Bill"
        ],
        [
         "24",
         "The Rage Forgotten Realms The Year of Rogue Dragons 1",
         "Byers, Richard Lee"
        ],
        [
         "25",
         "Day of the Dragon WarCraft 1",
         "Knaak, Richard A."
        ],
        [
         "26",
         "30 Pieces of Silver Betrayed 1",
         "McCray, Carolyn"
        ],
        [
         "27",
         "Dragon Rider Dragon Rider 1",
         "Funke, Cornelia"
        ],
        [
         "28",
         "The Sea of Trolls Sea of Trolls 1",
         "Farmer, Nancy"
        ],
        [
         "29",
         "The Secret Crusade Assassins Creed 3",
         "Bowden, Oliver"
        ],
        [
         "30",
         "Dearly Departed Gone With the Respiration 1",
         "Habel, Lia"
        ],
        [
         "31",
         "Dark Souls",
         "Morris, Paula"
        ],
        [
         "32",
         "The Single Girls ToDo List",
         "Kelk, Lindsey"
        ],
        [
         "33",
         "Youth in Revolt The Journals of Nick Twisp Book One",
         "Payne, C.D."
        ],
        [
         "34",
         "The Golden Acorn The Adventures of Jack Brenin 1",
         "Cooper, Catherine"
        ],
        [
         "35",
         "It Started With A Kiss",
         "Dickinson, Miranda"
        ],
        [
         "36",
         "A Touch of Crimson Renegade Angels 1",
         "Day, Sylvia"
        ],
        [
         "37",
         "Wayside School Is Falling Down Wayside School 2",
         "Sachar, Louis"
        ],
        [
         "38",
         "The Secret War Jack Blank Adventure 2",
         "Myklusch, Matt"
        ],
        [
         "39",
         "The Train",
         "Simenon, Georges"
        ],
        [
         "40",
         "The Bachelor of Arts",
         "Narayan, R.K."
        ],
        [
         "41",
         "A Long Way Down",
         "Hornby, Nick"
        ],
        [
         "42",
         "Tinker Tailor Soldier Spy George Smiley 5 Karla Trilogy 1",
         "le Carré, John"
        ],
        [
         "43",
         "His Dark Materials Trilogy The Golden Compass  The Subtle Knife  The Amber Spyglass",
         "Pullman, Philip"
        ],
        [
         "44",
         "The Deep",
         "Dunmore, Helen"
        ],
        [
         "45",
         "The Long Ships New York Review Books Classics",
         "Bengtsson, Frans G."
        ],
        [
         "46",
         "HIVE Higher Institute of Villainous Education HIVE 1",
         "Walden, Mark"
        ],
        [
         "47",
         "The Crime of Father Amaro",
         "Queirós, Eça de"
        ],
        [
         "48",
         "Snake Skin Lucy Guardino FBI Thriller 1",
         "Lyons, C.J."
        ],
        [
         "49",
         "A Very Special Delivery Tiny Blessings 8",
         "Goodnight, Linda"
        ]
       ],
       "shape": {
        "columns": 2,
        "rows": 18004
       }
      },
      "text/html": [
       "<div>\n",
       "<style scoped>\n",
       "    .dataframe tbody tr th:only-of-type {\n",
       "        vertical-align: middle;\n",
       "    }\n",
       "\n",
       "    .dataframe tbody tr th {\n",
       "        vertical-align: top;\n",
       "    }\n",
       "\n",
       "    .dataframe thead th {\n",
       "        text-align: right;\n",
       "    }\n",
       "</style>\n",
       "<table border=\"1\" class=\"dataframe\">\n",
       "  <thead>\n",
       "    <tr style=\"text-align: right;\">\n",
       "      <th></th>\n",
       "      <th>title</th>\n",
       "      <th>author</th>\n",
       "    </tr>\n",
       "  </thead>\n",
       "  <tbody>\n",
       "    <tr>\n",
       "      <th>0</th>\n",
       "      <td>Jackie  Me Baseball Card Adventure 2</td>\n",
       "      <td>Gutman, Dan</td>\n",
       "    </tr>\n",
       "    <tr>\n",
       "      <th>1</th>\n",
       "      <td>Honus  Me A Baseball Card Adventure 1</td>\n",
       "      <td>Gutman, Dan</td>\n",
       "    </tr>\n",
       "    <tr>\n",
       "      <th>2</th>\n",
       "      <td>Wildflower Hill</td>\n",
       "      <td>Freeman, Kimberley</td>\n",
       "    </tr>\n",
       "    <tr>\n",
       "      <th>3</th>\n",
       "      <td>Oracle Night</td>\n",
       "      <td>Auster, Paul</td>\n",
       "    </tr>\n",
       "    <tr>\n",
       "      <th>4</th>\n",
       "      <td>As a Driven Leaf</td>\n",
       "      <td>Steinberg, Milton</td>\n",
       "    </tr>\n",
       "    <tr>\n",
       "      <th>...</th>\n",
       "      <td>...</td>\n",
       "      <td>...</td>\n",
       "    </tr>\n",
       "    <tr>\n",
       "      <th>17999</th>\n",
       "      <td>Truly Madly Deeply</td>\n",
       "      <td>Kazi, Faraaz</td>\n",
       "    </tr>\n",
       "    <tr>\n",
       "      <th>18000</th>\n",
       "      <td>Sloop of War Richard Bolitho 6</td>\n",
       "      <td>Kent, Alexander</td>\n",
       "    </tr>\n",
       "    <tr>\n",
       "      <th>18001</th>\n",
       "      <td>Purification Autumn 3</td>\n",
       "      <td>Moody, David</td>\n",
       "    </tr>\n",
       "    <tr>\n",
       "      <th>18002</th>\n",
       "      <td>The American Heiress</td>\n",
       "      <td>Goodwin, Daisy</td>\n",
       "    </tr>\n",
       "    <tr>\n",
       "      <th>18003</th>\n",
       "      <td>Venom Secrets of the Eternal Rose 1</td>\n",
       "      <td>Paul, Fiona</td>\n",
       "    </tr>\n",
       "  </tbody>\n",
       "</table>\n",
       "<p>18004 rows × 2 columns</p>\n",
       "</div>"
      ],
      "text/plain": [
       "                                       title              author\n",
       "0       Jackie  Me Baseball Card Adventure 2         Gutman, Dan\n",
       "1      Honus  Me A Baseball Card Adventure 1         Gutman, Dan\n",
       "2                            Wildflower Hill  Freeman, Kimberley\n",
       "3                               Oracle Night        Auster, Paul\n",
       "4                           As a Driven Leaf   Steinberg, Milton\n",
       "...                                      ...                 ...\n",
       "17999                     Truly Madly Deeply        Kazi, Faraaz\n",
       "18000         Sloop of War Richard Bolitho 6     Kent, Alexander\n",
       "18001                  Purification Autumn 3        Moody, David\n",
       "18002                   The American Heiress      Goodwin, Daisy\n",
       "18003    Venom Secrets of the Eternal Rose 1         Paul, Fiona\n",
       "\n",
       "[18004 rows x 2 columns]"
      ]
     },
     "execution_count": 4,
     "metadata": {},
     "output_type": "execute_result"
    }
   ],
   "source": [
    "# Load all books\n",
    "df_all = pd.read_csv(\"books.csv\")\n",
    "df_all = df_all.drop(columns=['genres'])\n",
    "df_all = df_all.drop_duplicates(subset=[\"title\", \"author\"]).reset_index(drop=True)\n",
    "df_all = df_all.dropna(subset=[\"title\", \"author\"])\n",
    "df_all[\"author\"] = df_all[\"author\"].str.replace(\"*\", \"\", regex=False).str.strip()\n",
    "df_all"
   ]
  },
  {
   "cell_type": "code",
   "execution_count": 5,
   "id": "47ab8f27",
   "metadata": {},
   "outputs": [
    {
     "data": {
      "application/vnd.microsoft.datawrangler.viewer.v0+json": {
       "columns": [
        {
         "name": "index",
         "rawType": "int64",
         "type": "integer"
        },
        {
         "name": "title",
         "rawType": "object",
         "type": "string"
        },
        {
         "name": "author",
         "rawType": "object",
         "type": "string"
        }
       ],
       "conversionMethod": "pd.DataFrame",
       "ref": "c556a98c-968e-442d-912b-eab34aba368e",
       "rows": [
        [
         "0",
         "Jackie  Me Baseball Card Adventure 2",
         "Gutman, Dan"
        ],
        [
         "1",
         "Honus  Me A Baseball Card Adventure 1",
         "Gutman, Dan"
        ],
        [
         "2",
         "Wildflower Hill",
         "Freeman, Kimberley"
        ],
        [
         "3",
         "Oracle Night",
         "Auster, Paul"
        ],
        [
         "4",
         "As a Driven Leaf",
         "Steinberg, Milton"
        ],
        [
         "5",
         "Pollyanna Pollyanna 1",
         "Porter, Eleanor H."
        ],
        [
         "6",
         "Eleanor Rigby",
         "Coupland, Douglas"
        ],
        [
         "7",
         "Journal 64 Department Q 4",
         "Adler-Olsen, Jussi"
        ],
        [
         "8",
         "Homo Faber",
         "Frisch, Max"
        ],
        [
         "9",
         "The Revealers",
         "Wilhelm, Doug"
        ],
        [
         "10",
         "Halo Contact Harvest",
         "Staten, Joseph"
        ],
        [
         "11",
         "A Pony for Keeps Pony Pals 2",
         "Betancourt, Jeanne"
        ],
        [
         "12",
         "Harry Potter and the Methods of Rationality",
         "Yudkowsky, Eliezer"
        ],
        [
         "13",
         "Summer of Love",
         "Fforde, Katie"
        ],
        [
         "14",
         "The First Part Last Michael L Printz Award  Winner",
         "Johnson, Angela"
        ],
        [
         "15",
         "Monkey The Journey to the West",
         "Wu Cheng'en"
        ],
        [
         "16",
         "The Gift Witch  Wizard 2",
         "Patterson, James"
        ],
        [
         "17",
         "Clockwork Prince The Infernal Devices 2",
         "Clare, Cassandra"
        ],
        [
         "18",
         "The Emperors Edge The Emperors Edge 1",
         "Buroker, Lindsay"
        ],
        [
         "19",
         "The Age of Reason Roads to Freedom 1",
         "Sartre, Jean-Paul"
        ],
        [
         "20",
         "Comet in Moominland The Moomins 2",
         "Jansson, Tove"
        ],
        [
         "21",
         "Epic Epic 1",
         "Kostick, Conor"
        ],
        [
         "22",
         "Dragons of Autumn Twilight Dragonlance Chronicles 1",
         "Weis, Margaret"
        ],
        [
         "23",
         "A Dog Called Kitty",
         "Wallace, Bill"
        ],
        [
         "24",
         "The Rage Forgotten Realms The Year of Rogue Dragons 1",
         "Byers, Richard Lee"
        ],
        [
         "25",
         "Day of the Dragon WarCraft 1",
         "Knaak, Richard A."
        ],
        [
         "26",
         "30 Pieces of Silver Betrayed 1",
         "McCray, Carolyn"
        ],
        [
         "27",
         "Dragon Rider Dragon Rider 1",
         "Funke, Cornelia"
        ],
        [
         "28",
         "The Sea of Trolls Sea of Trolls 1",
         "Farmer, Nancy"
        ],
        [
         "29",
         "The Secret Crusade Assassins Creed 3",
         "Bowden, Oliver"
        ],
        [
         "30",
         "Dearly Departed Gone With the Respiration 1",
         "Habel, Lia"
        ],
        [
         "31",
         "Dark Souls",
         "Morris, Paula"
        ],
        [
         "32",
         "The Single Girls ToDo List",
         "Kelk, Lindsey"
        ],
        [
         "33",
         "Youth in Revolt The Journals of Nick Twisp Book One",
         "Payne, C.D."
        ],
        [
         "34",
         "The Golden Acorn The Adventures of Jack Brenin 1",
         "Cooper, Catherine"
        ],
        [
         "35",
         "It Started With A Kiss",
         "Dickinson, Miranda"
        ],
        [
         "36",
         "A Touch of Crimson Renegade Angels 1",
         "Day, Sylvia"
        ],
        [
         "37",
         "Wayside School Is Falling Down Wayside School 2",
         "Sachar, Louis"
        ],
        [
         "38",
         "The Secret War Jack Blank Adventure 2",
         "Myklusch, Matt"
        ],
        [
         "39",
         "The Train",
         "Simenon, Georges"
        ],
        [
         "40",
         "The Bachelor of Arts",
         "Narayan, R.K."
        ],
        [
         "41",
         "A Long Way Down",
         "Hornby, Nick"
        ],
        [
         "42",
         "Tinker Tailor Soldier Spy George Smiley 5 Karla Trilogy 1",
         "le Carré, John"
        ],
        [
         "43",
         "His Dark Materials Trilogy The Golden Compass  The Subtle Knife  The Amber Spyglass",
         "Pullman, Philip"
        ],
        [
         "44",
         "The Deep",
         "Dunmore, Helen"
        ],
        [
         "45",
         "The Long Ships New York Review Books Classics",
         "Bengtsson, Frans G."
        ],
        [
         "46",
         "HIVE Higher Institute of Villainous Education HIVE 1",
         "Walden, Mark"
        ],
        [
         "47",
         "The Crime of Father Amaro",
         "Queirós, Eça de"
        ],
        [
         "48",
         "Snake Skin Lucy Guardino FBI Thriller 1",
         "Lyons, C.J."
        ],
        [
         "49",
         "A Very Special Delivery Tiny Blessings 8",
         "Goodnight, Linda"
        ]
       ],
       "shape": {
        "columns": 2,
        "rows": 3050
       }
      },
      "text/html": [
       "<div>\n",
       "<style scoped>\n",
       "    .dataframe tbody tr th:only-of-type {\n",
       "        vertical-align: middle;\n",
       "    }\n",
       "\n",
       "    .dataframe tbody tr th {\n",
       "        vertical-align: top;\n",
       "    }\n",
       "\n",
       "    .dataframe thead th {\n",
       "        text-align: right;\n",
       "    }\n",
       "</style>\n",
       "<table border=\"1\" class=\"dataframe\">\n",
       "  <thead>\n",
       "    <tr style=\"text-align: right;\">\n",
       "      <th></th>\n",
       "      <th>title</th>\n",
       "      <th>author</th>\n",
       "    </tr>\n",
       "  </thead>\n",
       "  <tbody>\n",
       "    <tr>\n",
       "      <th>0</th>\n",
       "      <td>Jackie  Me Baseball Card Adventure 2</td>\n",
       "      <td>Gutman, Dan</td>\n",
       "    </tr>\n",
       "    <tr>\n",
       "      <th>1</th>\n",
       "      <td>Honus  Me A Baseball Card Adventure 1</td>\n",
       "      <td>Gutman, Dan</td>\n",
       "    </tr>\n",
       "    <tr>\n",
       "      <th>2</th>\n",
       "      <td>Wildflower Hill</td>\n",
       "      <td>Freeman, Kimberley</td>\n",
       "    </tr>\n",
       "    <tr>\n",
       "      <th>3</th>\n",
       "      <td>Oracle Night</td>\n",
       "      <td>Auster, Paul</td>\n",
       "    </tr>\n",
       "    <tr>\n",
       "      <th>4</th>\n",
       "      <td>As a Driven Leaf</td>\n",
       "      <td>Steinberg, Milton</td>\n",
       "    </tr>\n",
       "    <tr>\n",
       "      <th>...</th>\n",
       "      <td>...</td>\n",
       "      <td>...</td>\n",
       "    </tr>\n",
       "    <tr>\n",
       "      <th>3045</th>\n",
       "      <td>Seven Deadly Wonders Jack West Jr 1</td>\n",
       "      <td>Reilly, Matthew</td>\n",
       "    </tr>\n",
       "    <tr>\n",
       "      <th>3046</th>\n",
       "      <td>Temple</td>\n",
       "      <td>Reilly, Matthew</td>\n",
       "    </tr>\n",
       "    <tr>\n",
       "      <th>3047</th>\n",
       "      <td>Area 7 Shane Schofield 2</td>\n",
       "      <td>Reilly, Matthew</td>\n",
       "    </tr>\n",
       "    <tr>\n",
       "      <th>3048</th>\n",
       "      <td>The Raw Shark Texts</td>\n",
       "      <td>Hall, Steven</td>\n",
       "    </tr>\n",
       "    <tr>\n",
       "      <th>3049</th>\n",
       "      <td>Murder on Mulberry Bend Gaslight Mystery 5</td>\n",
       "      <td>Thompson, Victoria</td>\n",
       "    </tr>\n",
       "  </tbody>\n",
       "</table>\n",
       "<p>3050 rows × 2 columns</p>\n",
       "</div>"
      ],
      "text/plain": [
       "                                           title              author\n",
       "0           Jackie  Me Baseball Card Adventure 2         Gutman, Dan\n",
       "1          Honus  Me A Baseball Card Adventure 1         Gutman, Dan\n",
       "2                                Wildflower Hill  Freeman, Kimberley\n",
       "3                                   Oracle Night        Auster, Paul\n",
       "4                               As a Driven Leaf   Steinberg, Milton\n",
       "...                                          ...                 ...\n",
       "3045         Seven Deadly Wonders Jack West Jr 1     Reilly, Matthew\n",
       "3046                                      Temple     Reilly, Matthew\n",
       "3047                    Area 7 Shane Schofield 2     Reilly, Matthew\n",
       "3048                         The Raw Shark Texts        Hall, Steven\n",
       "3049  Murder on Mulberry Bend Gaslight Mystery 5  Thompson, Victoria\n",
       "\n",
       "[3050 rows x 2 columns]"
      ]
     },
     "execution_count": 5,
     "metadata": {},
     "output_type": "execute_result"
    }
   ],
   "source": [
    "# Split big all_books up into smaller parts for less risk \n",
    "# in 60 minutes, I can run around 1,525 books\n",
    "\n",
    "# First try for 2 hours, so around 3,050 books\n",
    "df_subset_1 = df_all.iloc[:3050].copy()\n",
    "df_subset_1"
   ]
  },
  {
   "cell_type": "code",
   "execution_count": 6,
   "id": "4798991e",
   "metadata": {},
   "outputs": [],
   "source": [
    "# Set up logging for error tracking\n",
    "logging.basicConfig(filename='perplexity_api_log.log', level=logging.INFO)\n",
    "\n",
    "# Setting API key\n",
    "YOUR_API_KEY = os.environ[\"PERPLEXITY_API_KEY\"]\n",
    "\n",
    "# Headers for the API request\n",
    "headers = {\n",
    "    \"Authorization\": f\"Bearer {YOUR_API_KEY}\",\n",
    "    \"Content-Type\": \"application/json\"\n",
    "}\n",
    "\n",
    "# Endpoint for the API\n",
    "url = \"https://api.perplexity.ai/chat/completions\"\n",
    "\n",
    "# Store responses, citations, and titles + authors for progress\n",
    "responses = []\n",
    "citations = []\n",
    "titles = []\n",
    "authors = []"
   ]
  },
  {
   "cell_type": "code",
   "execution_count": 7,
   "id": "2d7c7d5a",
   "metadata": {},
   "outputs": [],
   "source": [
    "# Function to send a request to the API\n",
    "def send_request(title, author, retries=3):\n",
    "    user_prompt = user_prompt_template.format(title=title, author=author)\n",
    "    payload = {\n",
    "        \"model\": \"sonar\",\n",
    "        \"messages\": [\n",
    "            {\"role\": \"system\", \"content\": system_prompt},\n",
    "            {\"role\": \"user\", \"content\": user_prompt}\n",
    "        ],\n",
    "        \"max_tokens\": 200,\n",
    "        \"temperature\": 0,  \n",
    "        \"response_format\": {\n",
    "            \"type\": \"json_schema\",\n",
    "            \"json_schema\": {\"schema\": AnswerFormat.model_json_schema()},\n",
    "        },\n",
    "    }\n",
    "\n",
    "    try:\n",
    "        # Make the request to the API\n",
    "        response = requests.post(url, json=payload, headers=headers)\n",
    "        \n",
    "        # Check if the response is successful\n",
    "        if response.status_code == 200:\n",
    "            response_json = response.json()\n",
    "            answer = response_json.get('choices', [{}])[0].get('message', {}).get('content', 'No answer found')\n",
    "            citation = response_json.get(\"citations\", [])\n",
    "            return answer, citation\n",
    "        else:\n",
    "            raise Exception(f\"API call failed with status code {response.status_code}\")\n",
    "    \n",
    "    except Exception as e:\n",
    "        # Log the error and retry if retries left\n",
    "        logging.error(f\"Error with request for {title} by {author}: {str(e)}\")\n",
    "        if retries > 0:\n",
    "            logging.info(f\"Retrying {retries} more times...\")\n",
    "            sleep(60)  # Sleep to avoid hitting rate limits\n",
    "            return send_request(title, author, retries - 1)  # Retry the request\n",
    "        else:\n",
    "            logging.error(f\"Failed after retries: {title} by {author}\")\n",
    "            return f\"Error: {str(e)}\", []"
   ]
  },
  {
   "cell_type": "code",
   "execution_count": 8,
   "id": "dee44575",
   "metadata": {},
   "outputs": [],
   "source": [
    "def save_progress():\n",
    "    if titles:  # Only save if there's something new\n",
    "        progress_df = pd.DataFrame({\n",
    "            'title': titles,\n",
    "            'author': authors,\n",
    "            'answer': responses,\n",
    "            'citation': citations\n",
    "        })\n",
    "\n",
    "        file_exists = os.path.exists('progress.csv')\n",
    "\n",
    "        if file_exists:\n",
    "            progress_df.to_csv('progress.csv', mode='a', header=False, index=False)\n",
    "            logging.info(f\"Progress appended: {len(titles)} books.\")\n",
    "        else:\n",
    "            progress_df.to_csv('progress.csv', index=False)\n",
    "            logging.info(f\"Progress saved: {len(titles)} books.\")\n",
    "\n",
    "        # Clear the lists so next save only writes new data\n",
    "        titles.clear()\n",
    "        authors.clear()\n",
    "        responses.clear()\n",
    "        citations.clear()"
   ]
  },
  {
   "cell_type": "code",
   "execution_count": 9,
   "id": "aaca5c5a",
   "metadata": {},
   "outputs": [],
   "source": [
    "start_time = time.time()\n",
    "\n",
    "# Run for df_subset_1\n",
    "for index, row in df_subset_1.iterrows():\n",
    "    title = row[\"title\"]\n",
    "    author = row[\"author\"]\n",
    "    \n",
    "    # Send request and handle response\n",
    "    answer, citation = send_request(title, author)\n",
    "    \n",
    "    # Store responses\n",
    "    responses.append(answer)\n",
    "    citations.append(citation)\n",
    "    titles.append(title)\n",
    "    authors.append(author)\n",
    "\n",
    "    # Save progress every 10 books (adjust as necessary)\n",
    "    if (index + 1) % 500 == 0:\n",
    "        save_progress()\n",
    "\n",
    "# Save the final progress\n",
    "save_progress()\n",
    "\n",
    "# Log the total execution time\n",
    "end_time = time.time()\n",
    "execution_time = end_time - start_time\n",
    "logging.info(f\"Completed 3050 book requests in {execution_time:.2f} seconds.\")"
   ]
  },
  {
   "cell_type": "code",
   "execution_count": null,
   "id": "687a30b9",
   "metadata": {},
   "outputs": [],
   "source": [
    "# # Save only those books with a 1 on female_character_present\n",
    "\n",
    "# # Unnest response column to two columns\n",
    "# df100[\"responses\"] = df100[\"responses\"].apply(ast.literal_eval) # reponses column is string, convert to list\n",
    "# df100[[\"fmc_present\", \"fmc_name\"]] = pd.DataFrame(df100[\"responses\"].tolist(), index=df100.index)\n",
    "\n",
    "# # Create new data frame with fmcs only\n",
    "# df_fmc = df100[df100['fmc_present'] == 1].copy()"
   ]
  },
  {
   "cell_type": "code",
   "execution_count": null,
   "id": "b2db760b",
   "metadata": {},
   "outputs": [],
   "source": [
    "# # Save data frame\n",
    "# df_fmc.to_csv('df_fmc.csv', index=False)"
   ]
  },
  {
   "cell_type": "markdown",
   "id": "4a5aef8b",
   "metadata": {},
   "source": [
    "$61.97 to $45.21\n",
    "-> $16.76\n",
    "\n",
    "3050 -> $16.76\n",
    "18,004 -> 98,93  (*5.903)\n"
   ]
  },
  {
   "cell_type": "code",
   "execution_count": null,
   "id": "daeb3ad6",
   "metadata": {},
   "outputs": [],
   "source": [
    "# Run rest of books"
   ]
  }
 ],
 "metadata": {
  "kernelspec": {
   "display_name": "venv",
   "language": "python",
   "name": "python3"
  },
  "language_info": {
   "codemirror_mode": {
    "name": "ipython",
    "version": 3
   },
   "file_extension": ".py",
   "mimetype": "text/x-python",
   "name": "python",
   "nbconvert_exporter": "python",
   "pygments_lexer": "ipython3",
   "version": "3.12.7"
  }
 },
 "nbformat": 4,
 "nbformat_minor": 5
}

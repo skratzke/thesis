{
 "cells": [
  {
   "cell_type": "code",
   "execution_count": 1,
   "id": "6302e5fe",
   "metadata": {},
   "outputs": [],
   "source": [
    "import pandas as pd\n",
    "subset1 = pd.read_csv(\"progress.csv\")"
   ]
  },
  {
   "cell_type": "code",
   "execution_count": 3,
   "id": "3a719706",
   "metadata": {},
   "outputs": [],
   "source": [
    "subset1.to_csv('subset_1.csv', index=False)"
   ]
  }
 ],
 "metadata": {
  "kernelspec": {
   "display_name": "venv",
   "language": "python",
   "name": "python3"
  },
  "language_info": {
   "codemirror_mode": {
    "name": "ipython",
    "version": 3
   },
   "file_extension": ".py",
   "mimetype": "text/x-python",
   "name": "python",
   "nbconvert_exporter": "python",
   "pygments_lexer": "ipython3",
   "version": "3.12.7"
  }
 },
 "nbformat": 4,
 "nbformat_minor": 5
}

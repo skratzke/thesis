{
 "cells": [
  {
   "cell_type": "code",
   "execution_count": 1,
   "id": "6302e5fe",
   "metadata": {},
   "outputs": [],
   "source": [
    "import pandas as pd"
   ]
  },
  {
   "cell_type": "code",
   "execution_count": null,
   "id": "7b1f4c80",
   "metadata": {},
   "outputs": [
    {
     "data": {
      "text/plain": [
       "(3050, 4)"
      ]
     },
     "execution_count": 5,
     "metadata": {},
     "output_type": "execute_result"
    }
   ],
   "source": [
    "subset_1 = pd.read_csv(\"data/subset_1.csv\")\n",
    "subset_1.shape # (3050, 4)"
   ]
  },
  {
   "cell_type": "code",
   "execution_count": null,
   "id": "848447df",
   "metadata": {},
   "outputs": [
    {
     "data": {
      "text/plain": [
       "(10950, 4)"
      ]
     },
     "execution_count": 6,
     "metadata": {},
     "output_type": "execute_result"
    }
   ],
   "source": [
    "subset_2 = pd.read_csv(\"data/subset_2.csv\")\n",
    "subset_2.shape # (10950, 4)"
   ]
  },
  {
   "cell_type": "code",
   "execution_count": null,
   "id": "723e7af8",
   "metadata": {},
   "outputs": [
    {
     "data": {
      "text/plain": [
       "(4004, 4)"
      ]
     },
     "execution_count": 7,
     "metadata": {},
     "output_type": "execute_result"
    }
   ],
   "source": [
    "subset_3 = pd.read_csv(\"data/subset_3.csv\")\n",
    "subset_3.shape # "
   ]
  }
 ],
 "metadata": {
  "kernelspec": {
   "display_name": "venv",
   "language": "python",
   "name": "python3"
  },
  "language_info": {
   "codemirror_mode": {
    "name": "ipython",
    "version": 3
   },
   "file_extension": ".py",
   "mimetype": "text/x-python",
   "name": "python",
   "nbconvert_exporter": "python",
   "pygments_lexer": "ipython3",
   "version": "3.12.7"
  }
 },
 "nbformat": 4,
 "nbformat_minor": 5
}

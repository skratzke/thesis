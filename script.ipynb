{
 "cells": [
  {
   "cell_type": "code",
   "execution_count": null,
   "metadata": {},
   "outputs": [],
   "source": [
    "%pip install pandas requests"
   ]
  },
  {
   "cell_type": "code",
   "execution_count": null,
   "metadata": {},
   "outputs": [
    {
     "data": {
      "text/plain": [
       "(18044, 3)"
      ]
     },
     "execution_count": 1,
     "metadata": {},
     "output_type": "execute_result"
    }
   ],
   "source": [
    "import pandas as pd\n",
    "import requests\n",
    "import os \n",
    "import time\n",
    "\n",
    "# Read in file \n",
    "df = pd.read_csv('books.csv')\n",
    "\n",
    "# Inspect df\n",
    "df.head()\n",
    "df.shape"
   ]
  },
  {
   "cell_type": "code",
   "execution_count": 3,
   "metadata": {},
   "outputs": [],
   "source": [
    "# Rename columns\n",
    "df = df.rename(columns={\"book_title\": \"title\", \"book_genres\": \"genres\"})"
   ]
  },
  {
   "cell_type": "code",
   "execution_count": 5,
   "metadata": {},
   "outputs": [],
   "source": [
    "# Drop rows with missings on title or author\n",
    "df = df.dropna(subset=[\"title\", \"author\"])"
   ]
  },
  {
   "cell_type": "code",
   "execution_count": null,
   "metadata": {},
   "outputs": [],
   "source": [
    "# Select 10 random rows to test if PPLX code works\n",
    "df10 = df.sample(n=10, random_state=42)\n",
    "df10.head()\n",
    "\n",
    "# Drop genres\n",
    "df10 = df10.drop(columns=\"genres\")"
   ]
  },
  {
   "cell_type": "code",
   "execution_count": null,
   "metadata": {},
   "outputs": [],
   "source": [
    "system_prompt = (\n",
    "    \"You are a helpful literary assistant. Your job is to search the internet and assess whether a book features a female main character. \"\n",
    "    \"The character does not need to be the sole protagonist but must play a central role in the plot, \"\n",
    "    \"with more significance than a secondary or supporting character.\"\n",
    ")\n",
    "\n",
    "user_prompt = \"Does the book {title} by {author} have female main character?\""
   ]
  },
  {
   "cell_type": "code",
   "execution_count": null,
   "metadata": {},
   "outputs": [],
   "source": [
    "# Setting my API key\n",
    "YOUR_API_KEY = os.environ[\"PERPLEXITY_API_KEY\"]\n",
    "\n",
    "# Saying hi it's me, and this is what I'll be sending\n",
    "headers = {\n",
    "    \"Authorization\": f\"Bearer {YOUR_API_KEY}\",\n",
    "    \"Content-Type\": \"application/json\"\n",
    "}\n",
    "\n",
    "# This is where I want to send it to\n",
    "url = \"https://api.perplexity.ai/chat/completions\"\n",
    "\n",
    "# I'll store the responses I get in this (as of now, empty) list\n",
    "response = []\n",
    "\n",
    "# # Setting up what I want to send to Perplexity\n",
    "# payload = {\n",
    "#     \"model\": \"sonar\",\n",
    "#     \"messages\": [\n",
    "#         {\n",
    "#             \"role\": \"system\",\n",
    "#             \"content\": system_prompt\n",
    "#         },\n",
    "#         {\n",
    "#             \"role\": \"user\",\n",
    "#             \"content\": user_prompt\n",
    "#         }\n",
    "#     ],\n",
    "#     \"max_tokens\": 123,  # Limits the length of the response\n",
    "#     \"temperature\": 0.2,  # Controls randomness in the response\n",
    "#     \"top_p\": 0.9,\n",
    "#     \"search_domain_filter\": [\"<any>\"],\n",
    "#     \"return_images\": False,\n",
    "#     \"return_related_questions\": False,\n",
    "#     \"search_recency_filter\": \"<string>\",\n",
    "#     \"top_k\": 0,\n",
    "#     \"stream\": False,\n",
    "#     \"presence_penalty\": 0,\n",
    "#     \"frequency_penalty\": 1,\n",
    "#     \"response_format\": {},\n",
    "#     \"web_search_options\": {\"search_context_size\": \"high\"}\n",
    "# }\n",
    "\n",
    "\n",
    "\n",
    "\n",
    "# # Send the request to the Perplexity API\n",
    "# response = requests.post(url, json=payload, headers=headers)\n",
    "\n",
    "# # Printing out the response and error handling \n",
    "# if response.status_code == 200:\n",
    "#     response_json = response.json()\n",
    "#     print(response_json)\n",
    "# else:\n",
    "#     print(f\"Error: {response.status_code}\")"
   ]
  },
  {
   "cell_type": "code",
   "execution_count": null,
   "metadata": {},
   "outputs": [],
   "source": [
    "# Set your API key\n",
    "YOUR_API_KEY = os.environ[\"PERPLEXITY_API_KEY\"]\n",
    "\n",
    "# Define your system prompt\n",
    "system_prompt = (\n",
    "    \"You are a helpful literary assistant. Your job is to search the internet and assess whether a book features a female main character. \"\n",
    "    \"The character does not need to be the sole protagonist but must play a central role in the plot, \"\n",
    "    \"with more significance than a secondary or supporting character.\"\n",
    ")\n",
    "\n",
    "# Define your user prompt\n",
    "user_prompt_template = \"Does this book have a female main character? Title: {title}, Author: {author}\"\n",
    "\n",
    "# Set up headers\n",
    "headers = {\n",
    "    \"Authorization\": f\"Bearer {YOUR_API_KEY}\",\n",
    "    \"Content-Type\": \"application/json\"\n",
    "}\n",
    "\n",
    "# Your URL for the request\n",
    "url = \"https://api.perplexity.ai/chat/completions\"\n",
    "\n",
    "# Create an empty list to store the answers\n",
    "responses = []\n",
    "\n",
    "# Loop through each row in your dataframe df10\n",
    "for index, row in df10.iterrows():\n",
    "    # Extract title and author from each row\n",
    "    title = row['title']\n",
    "    author = row['author']\n",
    "    \n",
    "    # Format the user prompt with the current title and author\n",
    "    user_prompt = user_prompt_template.format(title=title, author=author)\n",
    "    \n",
    "    # Prepare the payload for the API request\n",
    "    payload = {\n",
    "        \"model\": \"sonar\",\n",
    "        \"messages\": [\n",
    "            {\"role\": \"system\", \"content\": system_prompt},\n",
    "            {\"role\": \"user\", \"content\": user_prompt}\n",
    "        ],\n",
    "        \"max_tokens\": 123,  # Limits the length of the response\n",
    "        \"temperature\": 0.2,  # Controls randomness in the response\n",
    "        \"top_p\": 0.9,\n",
    "        \"search_domain_filter\": [\"<any>\"],\n",
    "        \"return_images\": False,\n",
    "        \"return_related_questions\": False,\n",
    "        \"search_recency_filter\": \"<string>\",\n",
    "        \"top_k\": 0,\n",
    "        \"stream\": False,\n",
    "        \"presence_penalty\": 0,\n",
    "        \"frequency_penalty\": 1,\n",
    "        \"response_format\": {},\n",
    "        \"web_search_options\": {\"search_context_size\": \"high\"}\n",
    "    }\n",
    "    \n",
    "    # Send the request to the Perplexity API\n",
    "    response = requests.post(url, json=payload, headers=headers)\n",
    "    \n",
    "    # Check the response\n",
    "    if response.status_code == 200:\n",
    "        response_json = response.json()\n",
    "        # Extract the answer from the response (this might vary depending on the response format)\n",
    "        answer = response_json.get('choices', [{}])[0].get('message', {}).get('content', 'No answer found')\n",
    "        responses.append(answer)  # Store the answer\n",
    "    else:\n",
    "        # Handle errors by appending an error message\n",
    "        responses.append(f\"Error: {response.status_code}\")\n",
    "\n",
    "# Add the responses to your original dataframe\n",
    "df10['female_main_character'] = responses\n",
    "\n",
    "# Print the updated dataframe to check the results\n",
    "print(df10)\n"
   ]
  }
 ],
 "metadata": {
  "kernelspec": {
   "display_name": "venv",
   "language": "python",
   "name": "python3"
  },
  "language_info": {
   "codemirror_mode": {
    "name": "ipython",
    "version": 3
   },
   "file_extension": ".py",
   "mimetype": "text/x-python",
   "name": "python",
   "nbconvert_exporter": "python",
   "pygments_lexer": "ipython3",
   "version": "3.12.7"
  }
 },
 "nbformat": 4,
 "nbformat_minor": 2
}

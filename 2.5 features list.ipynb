{
 "cells": [
  {
   "cell_type": "code",
   "execution_count": 1,
   "id": "cb365156",
   "metadata": {},
   "outputs": [],
   "source": [
    "import pandas as pd\n",
    "import requests\n",
    "import os \n",
    "import ast\n",
    "import logging\n",
    "import time\n",
    "from time import sleep\n",
    "import json"
   ]
  },
  {
   "cell_type": "code",
   "execution_count": 2,
   "id": "9c8d0461",
   "metadata": {},
   "outputs": [
    {
     "data": {
      "application/vnd.microsoft.datawrangler.viewer.v0+json": {
       "columns": [
        {
         "name": "index",
         "rawType": "int64",
         "type": "integer"
        },
        {
         "name": "title",
         "rawType": "object",
         "type": "string"
        },
        {
         "name": "author",
         "rawType": "object",
         "type": "string"
        },
        {
         "name": "fmc_name",
         "rawType": "object",
         "type": "unknown"
        }
       ],
       "conversionMethod": "pd.DataFrame",
       "ref": "fb15c6f2-76f0-47c8-aea4-82b6f3f40e85",
       "rows": [
        [
         "1325",
         "Dirty Little Secrets JJ Graves Mystery 1",
         "Hart, Liliana",
         "J.J. Graves"
        ],
        [
         "1649",
         "The Tycoons Vacation Baby for the Billionaire 2",
         "Anne, Melody",
         "Trinity Mathews"
        ],
        [
         "1372",
         "White Girl Problems",
         "Walker, Babe",
         "Babe Walker"
        ],
        [
         "549",
         "The Empty House",
         "Pilcher, Rosamunde",
         "Virginia Keile"
        ],
        [
         "659",
         "The Unicorn",
         "Murdoch, Iris",
         "Hannah Crean-Smith"
        ],
        [
         "245",
         "Child of the Dark Prophecy",
         "Barron, T.A.",
         "Elli"
        ],
        [
         "2424",
         "Redemption Ryan Drake 1",
         "Jordan, Will",
         "Maras"
        ],
        [
         "2132",
         "Avoiding Responsibility Avoiding 2",
         "Linde, K.A.",
         "Lexi Walsh"
        ],
        [
         "433",
         "Someone I Loved Je laimais",
         "Gavalda, Anna",
         "Chloé"
        ],
        [
         "1728",
         "Shadows Claim Immortals After Dark 12 The Dacians 1",
         "Cole, Kresley",
         "Bettina of Abaddon"
        ],
        [
         "2331",
         "Aerie Dragon Jousters 4",
         "Lackey, Mercedes",
         "Aket-ten"
        ],
        [
         "124",
         "Shes All That Spa Girls 1",
         "Billerbeck, Kristin",
         "Lilly Jacobs"
        ],
        [
         "251",
         "The Innocent Mage Kingmaker Kingbreaker 1",
         "Miller, Karen",
         "Dathne"
        ],
        [
         "465",
         "Survivor In Death In Death 20",
         "Robb, J.D.",
         "Eve Dallas"
        ],
        [
         "1721",
         "Golden Keel",
         "Bagley, Desmond",
         "Francesca"
        ],
        [
         "268",
         "Out of Sight Out of Time Gallagher Girls 5",
         "Carter, Ally",
         "Cammie Morgan"
        ],
        [
         "427",
         "The Hidden Child Patrik Hedstrm 5",
         "Läckberg, Camilla",
         "Erica Falck"
        ],
        [
         "550",
         "The Corrections",
         "Franzen, Jonathan",
         "Enid Lambert"
        ],
        [
         "1288",
         "Kill For Me Romantic Suspense 9 Daniel Vartanian 3",
         "Rose, Karen",
         "Susannah Vartanian"
        ],
        [
         "2430",
         "Veronika Decides to Die",
         "Coelho, Paulo",
         "Veronika"
        ],
        [
         "1769",
         "Onyx Lux 2",
         "Armentrout, Jennifer L.",
         "Katy"
        ],
        [
         "1514",
         "Bitterblue Graceling Realm 3",
         "Cashore, Kristin",
         "Bitterblue"
        ],
        [
         "1556",
         "Telling Christina Goodbye",
         "McDaniel, Lurlene",
         "Christina McDaniel"
        ],
        [
         "2178",
         "Em and The Big Hoom",
         "Pinto, Jerry",
         "Imelda (Em)"
        ],
        [
         "1886",
         "Ignite Me Shatter Me 3",
         "Mafi, Tahereh",
         "Juliette Ferrars"
        ],
        [
         "1837",
         "The Fourth Estate",
         "Archer, Jeffrey",
         null
        ],
        [
         "1193",
         "One Perfect Summer One Perfect 1",
         "Toon, Paige",
         "Alice"
        ],
        [
         "1068",
         "The Dead Father",
         "Barthelme, Donald",
         "Julie"
        ],
        [
         "1602",
         "Partners in Crime Sleuth or Dare 1",
         "Harrington, Kim",
         "Darcy"
        ],
        [
         "762",
         "Boneshaker The Clockwork Century 1",
         "Priest, Cherie",
         "Briar Wilkes"
        ],
        [
         "985",
         "Last Chance Saloon",
         "Keyes, Marian",
         "Katherine"
        ],
        [
         "791",
         "The Summer I Turned Pretty Trilogy",
         "Han, Jenny",
         "Isabel 'Belly' Conklin"
        ],
        [
         "800",
         "Montana Sky",
         "Roberts, Nora",
         "Willa Mercy"
        ],
        [
         "1586",
         "The Betrayed",
         "Hosp, David",
         "Sydney Chapin"
        ],
        [
         "1029",
         "Body Movers Body Movers 1",
         "Bond, Stephanie",
         "Carlotta Wren"
        ],
        [
         "2191",
         "If Not Now When",
         "Levi, Primo",
         "Emmeline (Line)"
        ],
        [
         "2303",
         "The Last Silk Dress",
         "Rinaldi, Ann",
         "Susan Chilmark"
        ],
        [
         "2405",
         "Sin City Hot in the City 2",
         "Alexander, Lacey",
         "Diana Marsh"
        ],
        [
         "207",
         "Peachtree Road",
         "Siddons, Anne Rivers",
         "Lucy Bondurant Chastain Venable"
        ],
        [
         "1763",
         "  ",
         "Shin, Kyung-Sook",
         "Oh San"
        ],
        [
         "1001",
         "Everlasting Kissed by an Angel 5",
         "Chandler, Elizabeth",
         "Ivy"
        ],
        [
         "1056",
         "Tricky Business",
         "Barry, Dave",
         "Fay"
        ],
        [
         "1320",
         "Before I Wake ",
         "Henderson, Dee",
         "Rae Gabriella"
        ],
        [
         "2451",
         "Sons of the Oak Runelords 5",
         "Farland, David",
         "Queen Iome Sylvarresta"
        ],
        [
         "2181",
         "The Men with the Golden Cuffs Masters and Mercenaries 2",
         "Blake, Lexi",
         "Serena Brooks"
        ],
        [
         "620",
         "Crave The Clann 1",
         "Darnell, Melissa",
         "Savannah Colbert"
        ],
        [
         "2468",
         "The Overlord Protocol HIVE 2",
         "Walden, Mark",
         "Laura"
        ],
        [
         "744",
         "Eragon The Inheritance Cycle 1",
         "Paolini, Christopher",
         "Arya"
        ],
        [
         "741",
         "Living Dangerously",
         "Fforde, Katie",
         "Polly Cameron"
        ],
        [
         "267",
         "One Night at the Call Centre",
         "Bhagat, Chetan",
         "Esha"
        ]
       ],
       "shape": {
        "columns": 3,
        "rows": 100
       }
      },
      "text/html": [
       "<div>\n",
       "<style scoped>\n",
       "    .dataframe tbody tr th:only-of-type {\n",
       "        vertical-align: middle;\n",
       "    }\n",
       "\n",
       "    .dataframe tbody tr th {\n",
       "        vertical-align: top;\n",
       "    }\n",
       "\n",
       "    .dataframe thead th {\n",
       "        text-align: right;\n",
       "    }\n",
       "</style>\n",
       "<table border=\"1\" class=\"dataframe\">\n",
       "  <thead>\n",
       "    <tr style=\"text-align: right;\">\n",
       "      <th></th>\n",
       "      <th>title</th>\n",
       "      <th>author</th>\n",
       "      <th>fmc_name</th>\n",
       "    </tr>\n",
       "  </thead>\n",
       "  <tbody>\n",
       "    <tr>\n",
       "      <th>1325</th>\n",
       "      <td>Dirty Little Secrets JJ Graves Mystery 1</td>\n",
       "      <td>Hart, Liliana</td>\n",
       "      <td>J.J. Graves</td>\n",
       "    </tr>\n",
       "    <tr>\n",
       "      <th>1649</th>\n",
       "      <td>The Tycoons Vacation Baby for the Billionaire 2</td>\n",
       "      <td>Anne, Melody</td>\n",
       "      <td>Trinity Mathews</td>\n",
       "    </tr>\n",
       "    <tr>\n",
       "      <th>1372</th>\n",
       "      <td>White Girl Problems</td>\n",
       "      <td>Walker, Babe</td>\n",
       "      <td>Babe Walker</td>\n",
       "    </tr>\n",
       "    <tr>\n",
       "      <th>549</th>\n",
       "      <td>The Empty House</td>\n",
       "      <td>Pilcher, Rosamunde</td>\n",
       "      <td>Virginia Keile</td>\n",
       "    </tr>\n",
       "    <tr>\n",
       "      <th>659</th>\n",
       "      <td>The Unicorn</td>\n",
       "      <td>Murdoch, Iris</td>\n",
       "      <td>Hannah Crean-Smith</td>\n",
       "    </tr>\n",
       "    <tr>\n",
       "      <th>...</th>\n",
       "      <td>...</td>\n",
       "      <td>...</td>\n",
       "      <td>...</td>\n",
       "    </tr>\n",
       "    <tr>\n",
       "      <th>2380</th>\n",
       "      <td>Charmed to Death Ophelia  Abby  2</td>\n",
       "      <td>Damsgaard, Shirley</td>\n",
       "      <td>Ophelia Jensen</td>\n",
       "    </tr>\n",
       "    <tr>\n",
       "      <th>1935</th>\n",
       "      <td>Dealova</td>\n",
       "      <td>Nuranindya, Dyan</td>\n",
       "      <td>Karra</td>\n",
       "    </tr>\n",
       "    <tr>\n",
       "      <th>1730</th>\n",
       "      <td>The Promise Fallen Star 4</td>\n",
       "      <td>Sorensen, Jessica</td>\n",
       "      <td>Gemma Lucas</td>\n",
       "    </tr>\n",
       "    <tr>\n",
       "      <th>1471</th>\n",
       "      <td>A Boy of Good Breeding</td>\n",
       "      <td>Toews, Miriam</td>\n",
       "      <td>Knute</td>\n",
       "    </tr>\n",
       "    <tr>\n",
       "      <th>600</th>\n",
       "      <td>Boy21</td>\n",
       "      <td>Quick, Matthew</td>\n",
       "      <td>Erin Quinn</td>\n",
       "    </tr>\n",
       "  </tbody>\n",
       "</table>\n",
       "<p>100 rows × 3 columns</p>\n",
       "</div>"
      ],
      "text/plain": [
       "                                                title              author  \\\n",
       "1325         Dirty Little Secrets JJ Graves Mystery 1       Hart, Liliana   \n",
       "1649  The Tycoons Vacation Baby for the Billionaire 2        Anne, Melody   \n",
       "1372                              White Girl Problems        Walker, Babe   \n",
       "549                                   The Empty House  Pilcher, Rosamunde   \n",
       "659                                       The Unicorn       Murdoch, Iris   \n",
       "...                                               ...                 ...   \n",
       "2380                Charmed to Death Ophelia  Abby  2  Damsgaard, Shirley   \n",
       "1935                                          Dealova    Nuranindya, Dyan   \n",
       "1730                        The Promise Fallen Star 4   Sorensen, Jessica   \n",
       "1471                           A Boy of Good Breeding       Toews, Miriam   \n",
       "600                                             Boy21      Quick, Matthew   \n",
       "\n",
       "                fmc_name  \n",
       "1325         J.J. Graves  \n",
       "1649     Trinity Mathews  \n",
       "1372         Babe Walker  \n",
       "549       Virginia Keile  \n",
       "659   Hannah Crean-Smith  \n",
       "...                  ...  \n",
       "2380      Ophelia Jensen  \n",
       "1935               Karra  \n",
       "1730         Gemma Lucas  \n",
       "1471               Knute  \n",
       "600           Erin Quinn  \n",
       "\n",
       "[100 rows x 3 columns]"
      ]
     },
     "execution_count": 2,
     "metadata": {},
     "output_type": "execute_result"
    }
   ],
   "source": [
    "df_fmc = pd.read_csv(\"df_fmc.csv\")\n",
    "df_fmc = df_fmc[['title', 'author', 'fmc_name']]\n",
    "df_sample = df_fmc.sample(n=100, random_state=26)\n",
    "df_sample"
   ]
  },
  {
   "cell_type": "code",
   "execution_count": null,
   "id": "61f92e42",
   "metadata": {},
   "outputs": [
    {
     "data": {
      "application/vnd.microsoft.datawrangler.viewer.v0+json": {
       "columns": [
        {
         "name": "index",
         "rawType": "int64",
         "type": "integer"
        },
        {
         "name": "title",
         "rawType": "object",
         "type": "string"
        },
        {
         "name": "author",
         "rawType": "object",
         "type": "string"
        },
        {
         "name": "fmc_name",
         "rawType": "object",
         "type": "string"
        }
       ],
       "conversionMethod": "pd.DataFrame",
       "ref": "edd4af4b-f6d6-44a0-95f4-74d71675aa8d",
       "rows": [
        [
         "1325",
         "Dirty Little Secrets JJ Graves Mystery 1",
         "Hart, Liliana",
         "J.J. Graves"
        ],
        [
         "1649",
         "The Tycoons Vacation Baby for the Billionaire 2",
         "Anne, Melody",
         "Trinity Mathews"
        ],
        [
         "1372",
         "White Girl Problems",
         "Walker, Babe",
         "Babe Walker"
        ],
        [
         "549",
         "The Empty House",
         "Pilcher, Rosamunde",
         "Virginia Keile"
        ],
        [
         "659",
         "The Unicorn",
         "Murdoch, Iris",
         "Hannah Crean-Smith"
        ],
        [
         "245",
         "Child of the Dark Prophecy",
         "Barron, T.A.",
         "Elli"
        ],
        [
         "2424",
         "Redemption Ryan Drake 1",
         "Jordan, Will",
         "Maras"
        ],
        [
         "2132",
         "Avoiding Responsibility Avoiding 2",
         "Linde, K.A.",
         "Lexi Walsh"
        ],
        [
         "433",
         "Someone I Loved Je laimais",
         "Gavalda, Anna",
         "Chloé"
        ],
        [
         "1728",
         "Shadows Claim Immortals After Dark 12 The Dacians 1",
         "Cole, Kresley",
         "Bettina of Abaddon"
        ]
       ],
       "shape": {
        "columns": 3,
        "rows": 10
       }
      },
      "text/html": [
       "<div>\n",
       "<style scoped>\n",
       "    .dataframe tbody tr th:only-of-type {\n",
       "        vertical-align: middle;\n",
       "    }\n",
       "\n",
       "    .dataframe tbody tr th {\n",
       "        vertical-align: top;\n",
       "    }\n",
       "\n",
       "    .dataframe thead th {\n",
       "        text-align: right;\n",
       "    }\n",
       "</style>\n",
       "<table border=\"1\" class=\"dataframe\">\n",
       "  <thead>\n",
       "    <tr style=\"text-align: right;\">\n",
       "      <th></th>\n",
       "      <th>title</th>\n",
       "      <th>author</th>\n",
       "      <th>fmc_name</th>\n",
       "    </tr>\n",
       "  </thead>\n",
       "  <tbody>\n",
       "    <tr>\n",
       "      <th>1325</th>\n",
       "      <td>Dirty Little Secrets JJ Graves Mystery 1</td>\n",
       "      <td>Hart, Liliana</td>\n",
       "      <td>J.J. Graves</td>\n",
       "    </tr>\n",
       "    <tr>\n",
       "      <th>1649</th>\n",
       "      <td>The Tycoons Vacation Baby for the Billionaire 2</td>\n",
       "      <td>Anne, Melody</td>\n",
       "      <td>Trinity Mathews</td>\n",
       "    </tr>\n",
       "    <tr>\n",
       "      <th>1372</th>\n",
       "      <td>White Girl Problems</td>\n",
       "      <td>Walker, Babe</td>\n",
       "      <td>Babe Walker</td>\n",
       "    </tr>\n",
       "    <tr>\n",
       "      <th>549</th>\n",
       "      <td>The Empty House</td>\n",
       "      <td>Pilcher, Rosamunde</td>\n",
       "      <td>Virginia Keile</td>\n",
       "    </tr>\n",
       "    <tr>\n",
       "      <th>659</th>\n",
       "      <td>The Unicorn</td>\n",
       "      <td>Murdoch, Iris</td>\n",
       "      <td>Hannah Crean-Smith</td>\n",
       "    </tr>\n",
       "    <tr>\n",
       "      <th>245</th>\n",
       "      <td>Child of the Dark Prophecy</td>\n",
       "      <td>Barron, T.A.</td>\n",
       "      <td>Elli</td>\n",
       "    </tr>\n",
       "    <tr>\n",
       "      <th>2424</th>\n",
       "      <td>Redemption Ryan Drake 1</td>\n",
       "      <td>Jordan, Will</td>\n",
       "      <td>Maras</td>\n",
       "    </tr>\n",
       "    <tr>\n",
       "      <th>2132</th>\n",
       "      <td>Avoiding Responsibility Avoiding 2</td>\n",
       "      <td>Linde, K.A.</td>\n",
       "      <td>Lexi Walsh</td>\n",
       "    </tr>\n",
       "    <tr>\n",
       "      <th>433</th>\n",
       "      <td>Someone I Loved Je laimais</td>\n",
       "      <td>Gavalda, Anna</td>\n",
       "      <td>Chloé</td>\n",
       "    </tr>\n",
       "    <tr>\n",
       "      <th>1728</th>\n",
       "      <td>Shadows Claim Immortals After Dark 12 The Daci...</td>\n",
       "      <td>Cole, Kresley</td>\n",
       "      <td>Bettina of Abaddon</td>\n",
       "    </tr>\n",
       "  </tbody>\n",
       "</table>\n",
       "</div>"
      ],
      "text/plain": [
       "                                                  title              author  \\\n",
       "1325           Dirty Little Secrets JJ Graves Mystery 1       Hart, Liliana   \n",
       "1649    The Tycoons Vacation Baby for the Billionaire 2        Anne, Melody   \n",
       "1372                                White Girl Problems        Walker, Babe   \n",
       "549                                     The Empty House  Pilcher, Rosamunde   \n",
       "659                                         The Unicorn       Murdoch, Iris   \n",
       "245                          Child of the Dark Prophecy        Barron, T.A.   \n",
       "2424                            Redemption Ryan Drake 1        Jordan, Will   \n",
       "2132                 Avoiding Responsibility Avoiding 2         Linde, K.A.   \n",
       "433                          Someone I Loved Je laimais       Gavalda, Anna   \n",
       "1728  Shadows Claim Immortals After Dark 12 The Daci...       Cole, Kresley   \n",
       "\n",
       "                fmc_name  \n",
       "1325         J.J. Graves  \n",
       "1649     Trinity Mathews  \n",
       "1372         Babe Walker  \n",
       "549       Virginia Keile  \n",
       "659   Hannah Crean-Smith  \n",
       "245                 Elli  \n",
       "2424               Maras  \n",
       "2132          Lexi Walsh  \n",
       "433                Chloé  \n",
       "1728  Bettina of Abaddon  "
      ]
     },
     "execution_count": 81,
     "metadata": {},
     "output_type": "execute_result"
    }
   ],
   "source": [
    "# # Only check first two books\n",
    "# df_sample = df_sample[:10]\n",
    "# df_sample"
   ]
  },
  {
   "cell_type": "code",
   "execution_count": 3,
   "id": "d6b7794d",
   "metadata": {},
   "outputs": [],
   "source": [
    "system_prompt = \"\"\"\n",
    "    You are a helpful literary assistant. Your job is to search the internet and assess several aspects for books that are provided to you.\n",
    "\n",
    "    Most of the questions are about a female major character of the book whose name will be provided alongside the book title. \n",
    "    For all questions about the female character, consider any occurrence of the trait or behavior at any point in the book, \n",
    "    and give a short explanation for your answer. \n",
    "\n",
    "    1. What's the gender of the author? (0 = male, 1 = female, 99 = unclear or non-binary) \n",
    "    2. In what year was the book published? (numeric) \n",
    "    3. (As a list) What is/are the genre(s) of the book? (list of a maximum of 5 genres in the order of their relevance, try to use common genre names, lower case only) \n",
    "    4. Is the female character saved by a male character? (0 = no, 1 = yes, 99 = no information) \n",
    "    5. Does the female character save a male character? (0 = no, 1 = yes, 99 = no information) \n",
    "    6. Is the female character protected by a male character? (0 = no, 1 = yes, 99 = no information) \n",
    "    7. Does the female character protect a male character? (0 = no, 1 = yes, 99 = no information) \n",
    "    8. Is the female character’s problem solved through help or luck? (0 = no, 1 = yes, 99 = no information) \n",
    "    9. Does the female character solve her own problem through skill? (0 = no, 1 = yes, 99 = no information) \n",
    "    10. Is the female character victimized/harmed by a male character? (0 = no, 1 = yes, 99 = no information) \n",
    "    11. Is the female character a perpetrator or does she harm a male character? (0 = no, 1 = yes, 99 = no information) \n",
    "    12. Does the female character follow orders? (0 = no, 1 = yes, 99 = no information) \n",
    "    13. Does the female character give orders? (0 = no, 1 = yes, 99 = no information) \n",
    "    14. Is the female character physically weak/incapable? (0 = no, 1 = yes, 99 = no information) \n",
    "    15. Is the female character physically strong/capable? (0 = no, 1 = yes, 99 = no information) \n",
    "    16. Is the female character fearful/scared of taking risks/challenges? (0 = no, 1 = yes, 99 = no information) \n",
    "    17. Is the female character brave/likes taking risks/challenges? (0 = no, 1 = yes, 99 = no information) \n",
    "    18: Does the female character care for others (e.g., nurses someone, comforts someone, takes care of children or sick)? (0 = no, 1 = yes, 99 = no information)  \n",
    "    19: Does the female character not engage in caregiving behaviors (e.g., focuses on tasks or goals without providing emotional or physical support to others)? (0 = no, 1 = yes, 99 = no information) \n",
    "    20: Is the female character emotionally aware and attuned to others' needs, moods, or the dynamics between people, and tries to maintain harmony? (0 = no, 1 = yes, 99 = no information) \n",
    "    21: Does the female character focus more on practical matters or impersonal concerns than others’ emotions or social dynamics? (0 = no, 1 = yes, 99 = no information) \n",
    "    22: Does the female character sacrifice her own goals, desires, or needs to prioritize someone else’s wellbeing or to avoid conflict? (0 = no, 1 = yes, 99 = no information)  \n",
    "    23: Does the female character maintain personal goals and boundaries, even when others express emotional needs or expectations? (0 = no, 1 = yes, 99 = no information) \n",
    "    24. Is the female character a homemaker? (0 = no, 1 = yes, 99 = no information)   \n",
    "    25. Is the female character a breadwinner? (0 = no, 1 = yes, 99 = no information) \n",
    "    26. Is the female character admired for her beauty? (0 = no, 1 = yes, 99 = no information) \n",
    "    27. Is the female character admired for her intelligence? (0 = no, 1 = yes, 99 = no information) \n",
    "    28. Does the female character have a lower rank occupation (e.g., nurse, assistant, maid, …)? (0 = no, 1 = yes, 99 = no information) \n",
    "    29. Does the female character have a higher rank occupation (doctor, manager, ruler, …)? (0 = no, 1 = yes, 99 = no information) \n",
    "\n",
    "    For example:\n",
    "    [\n",
    "    [1, 1], # first question, female author\n",
    "    [2, 2011], # second question, publication year is 2011\n",
    "    [3, [\"mystery\", \"romance\", \"suspense\"]], # third question, genres are mystery, romance, suspense\n",
    "    [4, 1, \"Paul saves Anne from drowning.\"], # fourth question, answer is yes (so 1), short explanation why \n",
    "    [5, 0, \"Anne doesn't save any male character.\"], # fifth question, answer is no (so 0), short explanation why \n",
    "    [6, 1, \"Anne is protected by her male friend.\"], # sixth question, answer is yes (so 1), short explanation why\n",
    "    ...\n",
    "    ]\n",
    "\n",
    "\"\"\"\n",
    "\n",
    "user_prompt_template = \"\"\"\n",
    "    Please answer the questions defined in your system prompt for the book {title} by {author}.\n",
    "    The female character in question is {fmc_name}.\n",
    "\"\"\""
   ]
  },
  {
   "cell_type": "code",
   "execution_count": 4,
   "id": "efad71b9",
   "metadata": {},
   "outputs": [],
   "source": [
    "from pydantic import RootModel\n",
    "from typing import List, Literal, Tuple\n",
    "\n",
    "class AnswerFormat(RootModel):\n",
    "    root: Tuple[\n",
    "        Tuple[int, int],               # Q1, author gender (e.g. [0, 1])\n",
    "        Tuple[int, int],               # Q2, publication year (e.g. [1, 1998])\n",
    "        Tuple[int, List[str]],         # Q3, answer, list of genres\n",
    "        Tuple[int, int, str],          # Q4, yes/no/unknown, explanation\n",
    "        Tuple[int, int, str],          # Q5, yes/no/unknown, explanation\n",
    "        Tuple[int, int, str],          # Q6, yes/no/unknown, explanation\n",
    "        Tuple[int, int, str],          # Q7, yes/no/unknown, explanation\n",
    "        Tuple[int, int, str],          # Q8, yes/no/unknown, explanation\n",
    "        Tuple[int, int, str],          # Q9, yes/no/unknown, explanation\n",
    "        Tuple[int, int, str],          # Q10, yes/no/unknown, explanation\n",
    "        Tuple[int, int, str],          # Q11, yes/no/unknown, explanation\n",
    "        Tuple[int, int, str],          # Q12, yes/no/unknown, explanation\n",
    "        Tuple[int, int, str],          # Q13, yes/no/unknown, explanation\n",
    "        Tuple[int, int, str],          # Q14, yes/no/unknown, explanation\n",
    "        Tuple[int, int, str],          # Q15, yes/no/unknown, explanation\n",
    "        Tuple[int, int, str],          # Q16, yes/no/unknown, explanation\n",
    "        Tuple[int, int, str],          # Q17, yes/no/unknown, explanation\n",
    "        Tuple[int, int, str],          # Q18, yes/no/unknown, explanation\n",
    "        Tuple[int, int, str],          # Q19, yes/no/unknown, explanation\n",
    "        Tuple[int, int, str],          # Q20, yes/no/unknown, explanation\n",
    "        Tuple[int, int, str],          # Q21, yes/no/unknown, explanation\n",
    "        Tuple[int, int, str],          # Q22, yes/no/unknown, explanation\n",
    "        Tuple[int, int, str],          # Q22, yes/no/unknown, explanation\n",
    "        Tuple[int, int, str],          # Q23, yes/no/unknown, explanation\n",
    "        Tuple[int, int, str],          # Q24, yes/no/unknown, explanation\n",
    "        Tuple[int, int, str],          # Q25, yes/no/unknown, explanation\n",
    "        Tuple[int, int, str],          # Q26, yes/no/unknown, explanation\n",
    "        Tuple[int, int, str],          # Q27, yes/no/unknown, explanation\n",
    "        Tuple[int, int, str],          # Q28, yes/no/unknown, explanation\n",
    "        Tuple[int, int, str]           # Q29, yes/no/unknown, explanation\n",
    "    ]"
   ]
  },
  {
   "cell_type": "code",
   "execution_count": 5,
   "id": "5cf8b7f3",
   "metadata": {},
   "outputs": [],
   "source": [
    "# Set up logging for error tracking\n",
    "logging.basicConfig(filename='features_log.log', level=logging.INFO)\n",
    "\n",
    "# Setting API key and headers\n",
    "YOUR_API_KEY = os.environ[\"PERPLEXITY_API_KEY\"]\n",
    "\n",
    "headers = {\n",
    "    \"Authorization\": f\"Bearer {YOUR_API_KEY}\",\n",
    "    \"Content-Type\": \"application/json\"\n",
    "}\n",
    "\n",
    "# Endpoint for the API\n",
    "url = \"https://api.perplexity.ai/chat/completions\"\n",
    "\n",
    "# Store responses, citations, and titles + authors for progress\n",
    "responses = []\n",
    "citations = []\n",
    "titles = []\n",
    "authors = []\n",
    "fmc_names = []"
   ]
  },
  {
   "cell_type": "code",
   "execution_count": 6,
   "id": "3e639cac",
   "metadata": {},
   "outputs": [],
   "source": [
    "# Function to send a request to the API\n",
    "def send_request(title, author, fmc_name, retries=3):\n",
    "\n",
    "    user_prompt = user_prompt_template.format(title=title, author=author, fmc_name = fmc_name)\n",
    "\n",
    "    payload = {\n",
    "        \"model\": \"sonar\",\n",
    "        \"messages\": [\n",
    "            {\"role\": \"system\", \"content\": system_prompt},\n",
    "            {\"role\": \"user\", \"content\": user_prompt}\n",
    "        ],\n",
    "        \"max_tokens\": 2000,\n",
    "        \"temperature\": 0,\n",
    "        \"response_format\": {\n",
    "            \"type\": \"json_schema\",\n",
    "            \"json_schema\": { \"schema\": AnswerFormat.model_json_schema()} },\n",
    "        \"web_search_options\": { \"search_context_size\": \"medium\" }\n",
    "        }\n",
    "\n",
    "    try:\n",
    "        # Make the request to the API\n",
    "        response = requests.post(url, json=payload, headers=headers)\n",
    "        \n",
    "        # Check if the response is successful\n",
    "        if response.status_code == 200:\n",
    "            response_json = response.json()\n",
    "            answer = response_json.get('choices', [{}])[0].get('message', {}).get('content', 'No answer found')\n",
    "            citation = response_json.get(\"citations\", [])\n",
    "            return answer, citation\n",
    "        else:\n",
    "            raise Exception(f\"API call failed with status code {response.status_code}\")\n",
    "    \n",
    "    except Exception as e:\n",
    "        # Log the error and retry if retries left\n",
    "        logging.error(f\"Error with request for {title} by {author}: {str(e)}\")\n",
    "        if retries > 0:\n",
    "            logging.info(f\"Retrying {retries} more times...\")\n",
    "            sleep(60)  # Sleep to avoid hitting rate limits\n",
    "            return send_request(title, author, fmc_name, retries - 1)\n",
    "        else:\n",
    "            logging.error(f\"Failed after retries: {title} by {author}\")\n",
    "            return f\"Error: {str(e)}\", []"
   ]
  },
  {
   "cell_type": "code",
   "execution_count": 7,
   "id": "a042df04",
   "metadata": {},
   "outputs": [],
   "source": [
    "def save_progress():\n",
    "    if titles:  # Only save if there's something new\n",
    "        progress_df = pd.DataFrame({\n",
    "            'title': titles,\n",
    "            'author': authors,\n",
    "            'fmc_name': fmc_names,\n",
    "            'answer': responses,\n",
    "            'citation': citations\n",
    "        })\n",
    "\n",
    "        file_exists = os.path.exists('progress_features.csv')\n",
    "\n",
    "        if file_exists:\n",
    "            progress_df.to_csv('progress_features.csv', mode='a', header=False, index=False)\n",
    "            logging.info(f\"Progress appended: {len(titles)} books.\")\n",
    "        else:\n",
    "            progress_df.to_csv('progress_features.csv', index=False)\n",
    "            logging.info(f\"Progress saved: {len(titles)} books.\")\n",
    "\n",
    "        # Clear the lists so next save only writes new data\n",
    "        titles.clear()\n",
    "        authors.clear()\n",
    "        responses.clear()\n",
    "        citations.clear()\n",
    "        fmc_names.clear()"
   ]
  },
  {
   "cell_type": "markdown",
   "id": "6f50b306",
   "metadata": {},
   "source": [
    "# High \n",
    "$10.81\n",
    " -> $10.53\n",
    "\n",
    "$0.28 for 20 books...\n",
    "/ 10 -> 0.14 \n",
    "* 1400 = 196.00\n",
    "\n",
    "# Medium\n",
    "$10.53\n",
    " -> $10.4\n",
    "\n",
    "$0.13 for 20 books...\n",
    "/ 10 -> 0.07\n",
    "* 1400 = 98\n",
    "## -> medium tut's auch "
   ]
  },
  {
   "cell_type": "code",
   "execution_count": 8,
   "id": "cd0bc994",
   "metadata": {},
   "outputs": [],
   "source": [
    "start_time = time.time()\n",
    "\n",
    "# Run for df_subset_1\n",
    "for index, row in df_sample.iterrows():\n",
    "    title = row[\"title\"]\n",
    "    author = row[\"author\"]\n",
    "    fmc_name = row[\"fmc_name\"]\n",
    "\n",
    "    # Send request and handle response\n",
    "    answer, citation = send_request(title, author, fmc_name)\n",
    "    \n",
    "    # Store responses\n",
    "    responses.append(answer)\n",
    "    citations.append(citation)\n",
    "    titles.append(title)\n",
    "    authors.append(author)\n",
    "    fmc_names.append(fmc_name)\n",
    "\n",
    "    # Save progress every 10 books\n",
    "    if (index + 1) % 10 == 0:\n",
    "        save_progress()\n",
    "\n",
    "# Save the final progress\n",
    "save_progress()\n",
    "\n",
    "# Log the total execution time\n",
    "end_time = time.time()\n",
    "execution_time = end_time - start_time\n",
    "logging.info(f\"Completed 100 book requests in {execution_time:.2f} seconds.\")"
   ]
  },
  {
   "cell_type": "markdown",
   "id": "c23f159e",
   "metadata": {},
   "source": [
    "$10.04 (*140) -> $9.23 = 0.81 (*140) -> $113\n",
    "20 min (*140) -> 2800 min = 46h"
   ]
  },
  {
   "cell_type": "code",
   "execution_count": 9,
   "id": "6b30d0ff",
   "metadata": {},
   "outputs": [
    {
     "data": {
      "application/vnd.microsoft.datawrangler.viewer.v0+json": {
       "columns": [
        {
         "name": "index",
         "rawType": "int64",
         "type": "integer"
        },
        {
         "name": "title",
         "rawType": "object",
         "type": "string"
        },
        {
         "name": "author",
         "rawType": "object",
         "type": "string"
        },
        {
         "name": "fmc_name",
         "rawType": "object",
         "type": "unknown"
        },
        {
         "name": "answer",
         "rawType": "object",
         "type": "string"
        },
        {
         "name": "citation",
         "rawType": "object",
         "type": "string"
        }
       ],
       "conversionMethod": "pd.DataFrame",
       "ref": "f263662f-d545-4e8f-868f-9097b69822ff",
       "rows": [
        [
         "0",
         "Dirty Little Secrets JJ Graves Mystery 1",
         "Hart, Liliana",
         "J.J. Graves",
         "[[1, 1], [2, 2011], [3, [\"mystery\", \"romance\", \"suspense\", \"thriller\"]], [4, 99, \"No explicit rescue by a male character mentioned in available sources\"], [5, 99, \"No information about saving a male character\"], [6, 1, \"Works closely with Detective Jack Lawson, implying professional protection\"], [7, 99, \"No explicit protection of male characters described\"], [8, 99, \"Resolution details unclear from available sources\"], [9, 1, \"Uses her coroner expertise to investigate murders\"], [10, 99, \"No specific victimization by male characters confirmed\"], [11, 99, \"No information about harming male characters\"], [12, 0, \"As coroner, she operates independently in her role\"], [13, 1, \"Collaborates with law enforcement, implying authority\"], [14, 0, \"No indications of physical weakness\"], [15, 1, \"Handles physically demanding coroner duties\"], [16, 0, \"Actively pursues dangerous investigations\"], [17, 1, \"Takes risks to solve murders\"], [18, 0, \"Focuses on investigative work rather than caregiving\"], [19, 1, \"Prioritizes solving crimes over emotional support\"], [20, 99, \"No explicit emotional attunement described\"], [21, 1, \"Focuses on forensic and investigative tasks\"], [22, 0, \"Maintains focus on solving crimes\"], [23, 1, \"Persists in investigations despite personal risks\"], [24, 0, \"Mortician/coroner profession\"], [25, 1, \"Runs mortuary business and holds coroner position\"], [26, 99, \"Physical appearance not emphasized in sources\"], [27, 1, \"Admired for medical and investigative skills\"], [28, 0, \"Coroner/doctor is a high-status position\"], [29, 1, \"Holds authoritative roles as coroner and business owner\"]]",
         "['https://www.goodreads.com/book/show/49587058', 'https://www.barnesandnoble.com/w/dirty-little-secret-liliana-hart/1134920184', 'https://books.apple.com/us/book/dirty-little-secrets/id547123576', 'https://app.thestorygraph.com/book_reviews/a432fcd4-6c3c-4979-9714-4279da2a4554', 'https://leaningtoweroftomes.wordpress.com/2017/03/24/dirty-little-secrets-by-liliana-hart-book-review/', 'https://www.chirpbooks.com/audiobooks/dirty-little-secrets-by-liliana-hart', 'https://newbookrecommendation.com/summary-of-dirty-little-secrets-by-liliana-hart-a-detailed-synopsis/', 'https://www.goodreads.com/book/show/17153446-dirty-little-secrets']"
        ],
        [
         "1",
         "The Tycoons Vacation Baby for the Billionaire 2",
         "Anne, Melody",
         "Trinity Mathews",
         "[[1, 1], [2, 2011], [3, [\"romance\", \"contemporary romance\", \"billionaire romance\", \"drama\", \"family life\"]], [4, 1, \"Drew provides financial support and insists on marriage after discovering her pregnancy, though no direct physical rescue occurs\"], [5, 0, \"No instances of Trinity saving a male character\"], [6, 1, \"Drew arranges medical care during her pregnancy complications and insists on protecting her\"], [7, 0, \"No evidence of Trinity protecting male characters\"], [8, 1, \"Pregnancy complications resolve with Drew's intervention and resources\"], [9, 0, \"Relies on Drew's support rather than independent problem-solving\"], [10, 0, \"No direct harm by male characters, though Drew's deception causes emotional distress\"], [11, 0, \"No harmful actions toward male characters\"], [12, 0, \"Resists Drew's demands initially\"], [13, 0, \"No evidence of authoritative behavior\"], [14, 1, \"Bedridden during pregnancy complications\"], [15, 0, \"Physical limitations during high-risk pregnancy\"], [16, 1, \"Initially fearful of trusting Drew\"], [17, 1, \"Takes risks by pursuing vacation romance\"], [18, 1, \"Becomes caregiver to unborn child\"], [19, 0, \"Prioritizes pregnancy care\"], [20, 99, \"Limited emotional dynamics described\"], [21, 0, \"Focuses on pregnancy and relationship\"], [22, 0, \"Maintains independence initially\"], [23, 1, \"Eventually accepts help but maintains boundaries\"], [24, 0, \"No homemaker role specified\"], [25, 99, \"Occupation pre-pregnancy unclear\"], [26, 1, \"Described as beautiful by Drew\"], [27, 99, \"Intelligence not emphasized\"], [28, 99, \"Pre-pregnancy occupation unspecified\"], [29, 0, \"No high-rank occupation indicated\"]]",
         "['https://www.goodreads.com/book/show/19561986-the-tycoon-s-vacation', 'https://www.goodreads.com/series/84272-baby-for-the-billionaire', 'https://bbnbk.com/book/9781520081533', 'https://www.barnesandnoble.com/w/the-tycoons-vacation-melody-anne/1106346338', 'https://www.abebooks.com/9781520081533/Tycoons-Vacation-Baby-Billionaire-2-1520081537/plp', 'https://www.bookseriesinorder.com/baby-for-the-billionaire/', 'https://www.goodreads.com/book/show/12897167-the-tycoon-s-vacation', 'https://books.apple.com/us/audiobook/the-tycoons-vacation/id1637124390']"
        ],
        [
         "2",
         "White Girl Problems",
         "Walker, Babe",
         "Babe Walker",
         "[[1, 99, \"Author gender unclear; Babe Walker is a pseudonym and public persona, with no definitive biographical information available.\"], [2, 2012], [3, [\"satire\", \"humor\", \"memoir\", \"contemporary fiction\", \"chick lit\"]], [4, 0, \"No male character rescues Babe; she self-admits to rehab after her shopping spree.\"], [5, 0, \"Babe does not save any male characters; her actions are self-focused.\"], [6, 0, \"No male protection is described; her father is absent in a caretaking role.\"], [7, 0, \"She does not protect male characters; her relationships are transactional or self-serving.\"], [8, 0, \"Her 'recovery' is superficial, with no lasting change or external resolution.\"], [9, 0, \"She lacks self-awareness and problem-solving skills, relying on privilege rather than growth.\"], [10, 0, \"No male victimization is described; her conflicts are self-created.\"], [11, 0, \"She harms relationships through narcissism but not physically.\"], [12, 0, \"She resists authority (e.g., therapists, rehab protocols).\"], [13, 1, \"She demands compliance from others (e.g., staff, romantic interests).\"], [14, 0, \"No physical incapacity is noted.\"], [15, 99, \"Physical strength is irrelevant to her character arc.\"], [16, 0, \"She takes risks (e.g., extreme shopping, stalking behavior).\"], [17, 1, \"She pursues desires recklessly (e.g., $246k shopping spree).\"], [18, 0, \"She shows no caregiving; her nanny Mabinty cares for her.\"], [19, 1, \"Focuses entirely on self-image and material goals.\"], [20, 0, \"Lacks empathy; mocks others' emotions (e.g., therapists, partners).\"], [21, 1, \"Prioritizes superficial concerns (e.g., fashion, social status).\"], [22, 0, \"Never sacrifices desires; expects others to accommodate her.\"], [23, 1, \"Relentlessly pursues self-interest despite others' needs.\"], [24, 0, \"No homemaking role; relies on staff for domestic tasks.\"], [25, 99, \"Her wealth is inherited, not earned through occupation.\"], [26, 1, \"Her beauty is central to her identity and social power.\"], [27, 0, \"Intelligence is not a noted trait; she fails academically.\"], [28, 0, \"She holds no formal job; her fashion line fails.\"], [29, 0, \"No high-status occupation; she rejects traditional career paths.\"]]",
         "['https://www.goodreads.com/book/show/12413949-white-girl-problems', 'https://www.kirkusreviews.com/book-reviews/babe-walker/white-girl-problems/', 'https://www.chicklitclub.com/whitegirlproblems.html', 'https://theothercourtney.com/2012/07/04/book-review-white-girl-problems/', 'https://whitegirlproblemsbw.weebly.com/summary.html', 'https://www.goodreads.com/author/show/5146598.Babe_Walker', 'https://repository.lsu.edu/cgi/viewcontent.cgi?article=1583&context=gradschool_dissertations', 'https://www.goodreads.com/book/show/12907715']"
        ],
        [
         "3",
         "The Empty House",
         "Pilcher, Rosamunde",
         "Virginia Keile",
         "[\n[1, 1], 1, \"Rosamunde Pilcher is a female author.\"] ",
         "['https://www.goodreads.com/book/show/1054377', 'https://ladybookdragon.com/2022/08/25/the-empty-house-by-rosamunde-pilcher-review/', 'https://www.goodreads.com/book/show/27249802', 'https://www.librarything.com/work/203737', 'https://www.barnesandnoble.com/w/the-empty-house-rosamunde-pilcher/1100667136', 'https://www.paperbackswap.com/Empty-House-Rosamunde-Pilcher/review/109171/', 'https://www.goodreads.com/book/show/18869783-the-empty-house', 'https://assets.thestorygraph.com/book_reviews/f4862049-1570-45f6-97fd-312f6956d9ff']"
        ],
        [
         "4",
         "The Unicorn",
         "Murdoch, Iris",
         "Hannah Crean-Smith",
         "[[1, 1], [2, 1963], [3, [\"gothic fiction\", \"philosophical fiction\", \"psychological fiction\"]], [4, 0, \"Hannah's attempted escape fails, and she ultimately drowns herself without successful male intervention[7].\"], [5, 0, \"Hannah does not save any male characters[7].\"], [6, 1, \"Gerald Scottow acts as her jailer under Peter's orders, though this 'protection' is oppressive[1][6].\"], [7, 0, \"Hannah does not protect male characters[7].\"], [8, 0, \"Her confinement remains unresolved, ending in suicide[7].\"], [9, 0, \"She fails to escape despite attempts, relying on others' flawed plans[7].\"], [10, 1, \"Imprisoned by husband Peter for infidelity and attempted murder[1][6].\"], [11, 1, \"Attempted to kill Peter during a confrontation[1][6].\"], [12, 1, \"Complies with confinement rules until escape attempts[7].\"], [13, 0, \"No evidence of her issuing commands[7].\"], [14, 99, \"Physical capability not explicitly described[7].\"], [15, 99, \"No textual evidence of physical strength[7].\"], [16, 1, \"Fearful of the outside world, content in confinement[6][7].\"], [17, 0, \"Passive until final desperate escape attempt[7].\"], [18, 0, \"No caregiving behaviors described[7].\"], [19, 1, \"Focused on her own survival/escape[7].\"], [20, 0, \"Withdrawn, emotionally detached from others[6][7].\"], [21, 1, \"Focused on her imprisonment rather than social dynamics[7].\"], [22, 0, \"Prioritizes escape over others' needs[7].\"], [23, 1, \"Maintains desire for freedom despite others' agendas[7].\"], [24, 0, \"No homemaking role described[7].\"], [25, 0, \"No occupation; imprisoned aristocrat[6][7].\"], [26, 1, \"Described as 'strikingly lovely' with golden hair[6][8].\"], [27, 0, \"Intelligence not emphasized[6][7].\"], [28, 0, \"Former mistress of the estate[6].\"], [29, 0, \"No occupational authority[6][7].\"]]",
         "['https://en.wikipedia.org/wiki/The_Unicorn_(novel)', 'https://librofulltime.wordpress.com/2018/05/19/book-review-iris-murdoch-the-unicorn-imreadalong-irismurdoch/', 'https://irismurdochsociety.org.uk/2024/04/17/re-reading-early-murdoch-unicornm-the-enchanter/', 'https://karenlmead.com/2024/07/15/review-the-unicorn/', 'https://bookbrief.io/books/the-unicorn-iris-murdoch/summary', 'https://www.ebsco.com/research-starters/literature-and-writing/unicorn-analysis-major-characters', 'https://www.enotes.com/topics/unicorn', 'http://edith-lagraziana.blogspot.com/2018/09/the-unicorn-by-iris-murdoch.html']"
        ],
        [
         "5",
         "Child of the Dark Prophecy",
         "Barron, T.A.",
         "Elli",
         "[[1, 0], [2, 2004], [3, [\"fantasy\", \"adventure\", \"young adult\"]], [4, 0, \"No evidence of Elli being saved by a male character; she escapes slavery independently and faces challenges alongside others.\"], [5, 99, \"No explicit information about Elli saving a male character.\"], [6, 0, \"Elli's primary companion is her maryth Nuic, a non-male pinnacle sprite.\"], [7, 99, \"No direct evidence of Elli protecting a male character.\"], [8, 0, \"Elli actively works to solve Avalon's crises through determination and skill.\"], [9, 1, \"She overcomes her traumatic past and contributes to Avalon's salvation through resilience.\"], [10, 1, \"Her parents were killed in gnome raids, though the attackers' genders are unspecified.\"], [11, 0, \"No evidence of Elli harming male characters.\"], [12, 1, \"Follows orders as an apprentice priestess initially, but later takes independent action.\"], [13, 1, \"Assumes leadership roles in critical missions.\"], [14, 0, \"Survives enslavement and undertakes physically demanding journeys.\"], [15, 1, \"Demonstrates physical and emotional strength throughout her quest.\"], [16, 0, \"Braves dangerous situations despite risks.\"], [17, 1, \"Actively confronts threats to Avalon.\"], [18, 1, \"Shows care through her priestess role and alliances.\"], [19, 0, \"Balances caregiving with goal-oriented actions.\"], [20, 1, \"Maintains group cohesion and responds to others' needs.\"], [21, 0, \"Prioritizes both practical and emotional aspects of her quest.\"], [22, 0, \"Pursues Avalon's salvation without abandoning personal goals.\"], [23, 1, \"Maintains her mission focus despite others' expectations.\"], [24, 0, \"No domestic role described.\"], [25, 0, \"Her priestess role focuses on spiritual service, not income.\"], [26, 99, \"Physical appearance not emphasized in available sources.\"], [27, 1, \"Admired for wisdom and determination as a priestess.\"], [28, 1, \"Starts as apprentice priestess under Llynia.\"], [29, 0, \"Does not hold a high-ranking leadership position initially.\"]]",
         "['http://www.publishersweekly.com/9780399237638', 'https://en.wikipedia.org/wiki/Merlin_Book_9:_The_Great_Tree_of_Avalon', 'https://www.goodreads.com/book/show/918442.Child_of_the_Dark_Prophecy', 'https://scholarsarchive.byu.edu/cgi/viewcontent.cgi?article=2391&context=cbmr', 'https://newbookrecommendation.com/summary-of-child-of-the-dark-prophecy-by-t-a-barron/', 'https://files.eric.ed.gov/fulltext/ED299570.pdf', 'https://www.goodreads.com/book/show/104902.Child_of_the_Dark_Prophecy', 'https://digilib.stekom.ac.id/assets/dokumen/ebook/feb_c5d15cc7c32d4985a70c200bad26dc576781601d_1648649445.pdf']"
        ],
        [
         "6",
         "Redemption Ryan Drake 1",
         "Jordan, Will",
         "Maras",
         "[[1, 0], [2, 2012], [3, [\"thriller\", \"action\", \"military fiction\", \"espionage\", \"adventure\"]], [4, 0, \"Maras is a skilled agent who collaborates with Drake rather than being saved by him\"], [5, 99, \"No explicit mention of her saving a male character in provided sources\"], [6, 0, \"Drake and Maras are forced into a partnership of equals, not a protector-protected dynamic\"], [7, 99, \"No explicit protection of male characters described in available material\"], [8, 0, \"Her survival appears skill-based given her veteran agent background\"], [9, 1, \"Described as exceptionally capable and driven to achieve her goals\"], [10, 1, \"Scarred by years of brutal imprisonment (implied male perpetrators)\"], [11, 1, \"Uses manipulation and physical capability against adversaries\"], [12, 0, \"Operates independently with her own agenda\"], [13, 1, \"As a veteran agent, likely commands operational authority\"], [14, 0, \"Portrayed as physically capable and combat-trained\"], [15, 1, \"Described as 'finest kick-derriere heroine' with exceptional skills\"], [16, 0, \"Driven by revenge and mission focus, not fear\"], [17, 1, \"Takes extreme risks to achieve objectives\"], [18, 0, \"Focuses on mission objectives over caregiving\"], [19, 1, \"Task-oriented with revenge-driven motivation\"], [20, 0, \"Uses emotional manipulation strategically rather than maintaining harmony\"], [21, 1, \"Prioritizes mission goals over interpersonal dynamics\"], [22, 0, \"Maintains singular focus on her objectives\"], [23, 1, \"Relentlessly pursues personal goals despite others' needs\"], [24, 0, \"Professional operative, not homemaker\"], [25, 1, \"High-level intelligence operative\"], [26, 99, \"No specific beauty references in provided sources\"], [27, 1, \"Admired for strategic skills and operational expertise\"], [28, 0, \"Holds elite operative status\"], [29, 1, \"Veteran agent with high-ranking operational authority\"]]",
         "['https://www.goodreads.com/book/show/14289707-redemption', 'https://www.barnesandnoble.com/w/redemption-will-jordan/1121731804', 'https://www.youtube.com/watch?v=0o7ymOnWABU', 'https://ravencrimereads.wordpress.com/2013/05/29/will-jordan-redemptionsacrifice-ryan-drake-1-2/', 'https://www.penguin.co.uk/series/RDRAKE/ryan-drake', 'https://www.goodreads.com/book/show/15955608', 'https://www.3rddrawerdown.com/book-reviews/redemption', 'https://books.apple.com/us/audiobook/redemption-ryan-drake-book-1/id1643656950']"
        ],
        [
         "7",
         "Avoiding Responsibility Avoiding 2",
         "Linde, K.A.",
         "Lexi Walsh",
         "[[1, 1, \"K.A. Linde is a female author, as indicated by her name and bio details[4].\"], [2, 2012, \"The book was first published in 2012, as per reviews from that year[4][5].\"], [3, [\"romance\", \"contemporary\", \"angst\", \"drama\", \"new adult\"]], [4, 0, \"Lexi navigates her own emotional conflicts; no male 'saves' her from external threats[6].\"], [5, 0, \"Lexi's actions focus on personal relationships, not rescuing others[6].\"], [6, 1, \"Ramsey supports Lexi emotionally, though she remains independent[4][6].\"], [7, 0, \"Lexi does not protect male characters physically or emotionally[6].\"], [8, 0, \"Lexi's growth stems from confronting her past, not external help/luck[6].\"], [9, 1, \"She ultimately makes her own choices about relationships[6].\"], [10, 1, \"Jack's lies and infidelity emotionally harm Lexi[4][5].\"], [11, 0, \"Lexi's actions primarily cause self-harm, not harm to others[5].\"], [12, 0, \"Lexi resists others' expectations (e.g., avoiding Jack's wedding)[8].\"], [13, 0, \"She reacts to others' actions rather than leading[6].\"], [14, 0, \"No evidence of physical incapability[6].\"], [15, 99, \"Physical strength is not discussed[6].\"], [16, 0, \"She takes risks by attending Jack's wedding[8].\"], [17, 1, \"Lexi repeatedly faces emotional challenges head-on[5][6].\"], [18, 0, \"Her focus remains on her own emotional struggles[5].\"], [19, 1, \"Lexi prioritizes her romantic conflicts over caregiving[5].\"], [20, 1, \"She is acutely aware of relationship dynamics[5][6].\"], [21, 0, \"Emotional concerns dominate her decisions[6].\"], [22, 1, \"She sacrifices self-respect for Jack/Ramsey at times[5].\"], [23, 1, \"Ultimately asserts boundaries by series' end[6].\"], [24, 99, \"Occupation details are unspecified[6].\"], [25, 99, \"Career information is not provided[6].\"], [26, 1, \"Romance genre tropes suggest attractiveness[8].\"], [27, 99, \"Intelligence is not explicitly highlighted[6].\"], [28, 99, \"No occupational details given[6].\"], [29, 99, \"No occupational hierarchy established[6]\"]]",
         "['https://www.kalinde.com/books/avoiding-responsibility/', 'https://www.goodreads.com/book/show/35884138', 'https://www.walmart.com/ip/Avoiding-Avoiding-Responsibility-Special-Edition-Hardcover-Book-2-Hardcover-9781948427708/1255384582', 'https://shhmomsreading.com/review-avoiding-responsibility-avoiding-series-2-by-k-a-linde/', 'https://www.maryse.net/books/book-review-avoiding-responsibility-by-k-a-linde.html', 'https://newbookrecommendation.com/summary-of-avoiding-responsibility-by-k-a-linde-a-detailed-synopsis/', 'https://rshare.library.torontomu.ca/articles/thesis/Centering_Girls_Media-Making_Stories_A_Pandemic_Exploration_of_Video-Storytellers_and_their_Practices_Personas_and_Projects/22788965/1/files/40497785.pdf', 'https://www.barnesandnoble.com/w/avoiding-responsibility-k-a-linde/1113870929']"
        ],
        [
         "8",
         "Someone I Loved Je laimais",
         "Gavalda, Anna",
         "Chloé",
         "[[1, 1], [2, 2005], [3, [\"drama\", \"literary fiction\", \"family saga\"]], [4, 1, \"Pierre (father-in-law) provides emotional support and refuge after Adrien's abandonment[2][6]\"], [5, 0, \"Chloé focuses on her own survival, not saving others[6][7]\"], [6, 1, \"Pierre shelters her physically/emotionally during crisis[2][6]\"], [7, 0, \"No evidence of protecting males[6][7]\"], [8, 1, \"Pierre's guidance helps her process betrayal[2][6]\"], [9, 0, \"Resolution comes through shared vulnerability, not individual skill[6][7]\"], [10, 1, \"Husband Adrien abandons her for another woman[2][6]\"], [11, 0, \"No harmful actions toward males described[6][7]\"], [12, 99, \"No explicit order-taking described[6][7]\"], [13, 99, \"No explicit order-giving described[6][7]\"], [14, 0, \"Physically functional (cares for children)[6][7]\"], [15, 99, \"Physical strength not discussed[6][7]\"], [16, 1, \"Initially paralyzed by betrayal[2][6]\"], [17, 0, \"No risk-taking beyond emotional survival[6][7]\"], [18, 1, \"Primary caregiver to two daughters[6][7]\"], [19, 0, \"Actively provides emotional/physical care[6][7]\"], [20, 1, \"Sensitive to Pierre's hidden pain[6][7]\"], [21, 0, \"Emotional dynamics dominate her focus[6][7]\"], [22, 1, \"Prioritizes children's stability over personal desires[6][7]\"], [23, 0, \"Personal goals remain undefined post-crisis[6][7]\"], [24, 1, \"Family-oriented role implied[6][7]\"], [25, 99, \"Occupation unspecified[6][7]\"], [26, 99, \"Physical appearance not emphasized[6][7]\"], [27, 99, \"Intelligence not specifically praised[6][7]\"], [28, 99, \"No occupational details provided[6][7]\"], [29, 99, \"No occupational details provided[6][7]\"]]",
         "['https://michellebailatjones.com/2008/09/06/anna-gavalda-je-laimais/', 'https://www.goodreads.com/book/show/108784.Someone_I_Loved', 'https://www.complete-review.com/reviews/popfr/gavalda2.htm', 'https://www.imdb.com/title/tt1258141/plotsummary/', 'https://phoenixcinema.wordpress.com/2011/05/22/someone-i-loved-je-laimais-2009/', 'https://www.kirkusreviews.com/book-reviews/anna-gavalda/someone-i-loved/?page=21', 'https://thezenleaf.com/2012/02/03/je-laimais-by-anna-gavalda/', 'https://theliterarysisters.wordpress.com/2013/11/28/breaking-away-and-someone-i-loved-by-anna-gavalda/']"
        ],
        [
         "9",
         "Shadows Claim Immortals After Dark 12 The Dacians 1",
         "Cole, Kresley",
         "Bettina of Abaddon",
         "[[1, 1], [2, 2012], [3, [\"paranormal romance\", \"fantasy\", \"urban fantasy\", \"supernatural\", \"erotic romance\"]], [4, 1, \"Trehan competes in a deadly tournament to claim Bettina as his mate, effectively saving her from forced marriage to others\"], [5, 0, \"No evidence of Bettina saving a male character\"], [6, 1, \"Protected by guardians Raum and Morgana, and later by Trehan during the tournament\"], [7, 0, \"No evidence of Bettina protecting male characters\"], [8, 1, \"Her survival from Vrekeners involves being summoned by luck, and Trehan's intervention resolves her marital dilemma\"], [9, 0, \"Her problems are primarily resolved through external intervention rather than her own skills\"], [10, 1, \"Severely harmed by male Vrekeners who attack and nearly kill her\"], [11, 0, \"No evidence of Bettina harming male characters\"], [12, 1, \"Follows guardians' orders to hold the marriage tournament\"], [13, 0, \"No evidence of her giving authoritative orders\"], [14, 1, \"Described as physically weak and incapable of fighting after losing her powers\"], [15, 0, \"No evidence of physical strength\"], [16, 1, \"Initially fearful and reluctant to challenge her guardians' plans\"], [17, 0, \"Her bravery is not emphasized compared to her fearfulness\"], [18, 0, \"No caregiving behaviors described\"], [19, 1, \"Focuses on avoiding the tournament and pursuing her love interest\"], [20, 0, \"Her emotional awareness is overshadowed by her fixation on Caspion\"], [21, 1, \"Prioritizes her personal desires over others' emotions\"], [22, 1, \"Initially sacrifices her desires to comply with guardians' expectations\"], [23, 0, \"Her personal goals are secondary to external pressures until later\"], [24, 0, \"Not a homemaker\"], [25, 1, \"Heir to the Abaddon throne, though not yet ruling\"], [26, 1, \"Repeatedly described as beautiful and desirable\"], [27, 0, \"Intelligence is not a highlighted trait\"], [28, 0, \"As royalty, she holds no lower-rank occupation\"], [29, 1, \"Heir to a demon kingdom's throne\"]]",
         "['https://www.goodreads.com/book/show/30144653-shadow-s-claim', 'https://booklovinmamas.net/review-shadows-claim-by-kresley-cole/', 'https://kresleycole.com/wp-content/uploads/Kresley-Cole-Shadows-Claim-Excerpt.pdf', 'https://www.simonandschuster.com/books/Shadows-Claim/Kresley-Cole/Immortals-After-Dark/9781451650051', 'https://www.everand.com/book/224326050/Shadow-s-Claim-Immortals-After-Dark-The-Dacians', 'https://www.simonandschuster.ca/books/Shadows-Claim/Kresley-Cole/Immortals-After-Dark/9781451650051', 'https://www.goodreads.com/book/show/12988016-shadow-s-claim', 'https://www.barnesandnoble.com/w/shadows-claim-kresley-cole/1107043560']"
        ],
        [
         "10",
         "Aerie Dragon Jousters 4",
         "Lackey, Mercedes",
         "Aket-ten",
         "[[1, 1], [2, 2006], [3, [\"fantasy\", \"adventure\", \"young adult\"]], [4, 0, \"No evidence of Aket-ten being saved by a male character in *Aerie*; she's portrayed as independent despite conflicts\"], [5, 99, \"No specific examples found of her saving a male character in *Aerie*\"], [6, 0, \"She defies authority and operates independently, with no male protection noted\"], [7, 99, \"No explicit examples of her protecting a male character in *Aerie*\"], [8, 0, \"Her conflicts (e.g., creating an all-female wing) are self-driven, not resolved by external help\"], [9, 1, \"She attempts to solve problems through initiative (e.g., forming a female wing), though outcomes are mixed\"], [10, 0, \"No direct victimization by male characters mentioned\"], [11, 0, \"No evidence of her harming male characters\"], [12, 0, \"She frequently disobeys orders and challenges Kiron's authority\"], [13, 1, \"Gives orders as a leader of her proposed female wing\"], [14, 0, \"Physically capable as a Jouster\"], [15, 1, \"Trained dragon rider and rescuer in prior books\"], [16, 0, \"Brave in pursuing her goals despite risks\"], [17, 1, \"Seeks challenges like forming a new wing\"], [18, 99, \"No caregiving focus mentioned in *Aerie*\"], [19, 1, \"Focuses on tactical goals over caregiving\"], [20, 0, \"Portrayed as confrontational and dismissive of group dynamics\"], [21, 1, \"Prioritizes practical goals (e.g., female wing) over emotional concerns\"], [22, 0, \"Does not sacrifice her goals for others\"], [23, 1, \"Maintains her objectives despite pushback\"], [24, 0, \"Not a homemaker; active military role\"], [25, 1, \"Holds a leadership position as a Jouster\"], [26, 99, \"No emphasis on her appearance\"], [27, 1, \"Admired for her animal-speaking abilities and leadership\"], [28, 0, \"High-ranking Jouster role\"], [29, 1, \"Holds authority as a dragon rider and wing organizer\"]]",
         "['https://cannonballread.com/2019/10/joust-and-alta-and-sanctuary-and-aerie-tracy/', 'https://www.forums.onlinebookclub.org/viewtopic.php?t=56898', 'https://www.goodreads.com/book/show/8345093-aerie', 'https://www.librarything.com/character/Avatre', 'https://fantasyliterature.com/reviews/aerie/', 'https://app.thestorygraph.com/book_reviews/bb5b4e3c-0c0d-4356-8b90-1b12778ed92b?page=3', 'http://lukoilmarine.com/ckfinder/userfiles/files/28719406465.pdf', 'https://www.everand.com/book/770543633/Aerie-Book-Four-of-the-Dragon-Jousters']"
        ],
        [
         "11",
         "Shes All That Spa Girls 1",
         "Billerbeck, Kristin",
         "Lilly Jacobs",
         "[\n[1, 1, \"Kristin Billerbeck is a female author.\"],\n[2, 2021, \"Republished in 2021 (original publication mentioned in 2005 context but current ISBN points to 2021 edition).\"],\n[3, [\"chick lit\", \"christian fiction\", \"romance\", \"contemporary\", \"women's fiction\"]],\n[4, 0, \"No evidence of male rescue; focuses on female friendships and self-reliance.\"],\n[5, 0, \"No instances of Lilly saving a male character.\"],\n[6, 0, \"Protection themes center on peer support, not male intervention.\"],\n[7, 0, \"No protective actions toward male characters described.\"],\n[8, 1, \"Spa weekends with friends help her cope, though ultimate success appears self-driven.\"],\n[9, 1, \"Pursues fashion career independently despite setbacks.\"],\n[10, 1, \"Boyfriend's infidelity emotionally harms her.\"],\n[11, 0, \"No evidence of Lilly harming males.\"],\n[12, 0, \"Rebels against expectations (e.g., using Stanford MBA for fashion).\"],\n[13, 1, \"As a designer, likely gives professional orders.\"],\n[14, 0, \"No physical incapacity mentioned.\"],\n[15, 99, \"Physical strength not discussed.\"],\n[16, 0, \"Pursues risky career change despite pressure.\"],\n[17, 1, \"Persists in competitive fashion industry.\"],\n[18, 0, \"Focuses on career/self; caregiving not emphasized.\"],\n[19, 1, \"Prioritizes professional goals over caregiving.\"],\n[20, 99, \"Emotional attunement unclear beyond friend group.\"],\n[21, 1, \"Focuses on practical career challenges.\"],\n[22, 0, \"Maintains fashion career despite family pressure.\"],\n[23, 1, \"Refuses to abandon design aspirations for finance.\"],\n[24, 0, \"Career-driven, not homemaker.\"],\n[25, 1, \"Works as fashion designer (self-employed later).\"],\n[26, 0, \"Criticizes own appearance (bad hair); beauty not emphasized.\"],\n[27, 1, \"Holds Stanford MBA; intelligence noted.\"],\n[28, 0, \"Fashion designer (mid/high-rank creative role).\"],\n[29, 0, \"Not in executive/managerial role initially.\"]\n]",
         "['https://www.goodreads.com/book/show/59606600-she-s-all-that', 'https://www.barnesandnoble.com/w/shes-all-that-kristin-billerbeck/1140494590', 'https://www.bookreporter.com/reviews/shes-all-that-spa-girls-collection-1', 'https://www.goodreads.com/book/show/290157', 'https://www.thriftbooks.com/w/shes-all-that_kristin-billerbeck/733516/', 'https://broward.overdrive.com/library/romance-room/media/603975', 'https://www.goodreads.com/book/show/1025494.She_s_All_That', 'https://www.booksamillion.com/p/Shes-All-That/Kristin-Billerbeck/9780990954477']"
        ],
        [
         "12",
         "The Innocent Mage Kingmaker Kingbreaker 1",
         "Miller, Karen",
         "Dathne",
         "[[1, 1], [2, 2005], [3, [\"fantasy\", \"political intrigue\", \"prophecy\", \"magic\", \"adventure\"]], [4, 99, \"No direct evidence of Dathne being physically saved by a male character in available sources\"], [5, 99, \"No explicit information about Dathne saving a male character in analyzed content\"], [6, 1, \"Matt protects Dathne by defying her wishes to save her from self-sacrifice\"], [7, 1, \"Dathne protects Asher through her role in the prophecy and Circle's plans\"], [8, 99, \"Her prophecy-related problems remain unresolved in Book 1\"], [9, 0, \"She relies on prophecy rather than personal skill to address magical threats\"], [10, 99, \"No explicit victimization by males mentioned\"], [11, 1, \"Manipulates Asher as a tool for prophecy fulfillment\"], [12, 0, \"Leads the Circle and makes independent decisions\"], [13, 1, \"Gives orders to Matt and Circle members\"], [14, 0, \"Shown as mentally strong through magical visions and leadership\"], [15, 99, \"Physical capabilities not specifically described\"], [16, 0, \"Takes risks by hiding magic and defying authorities\"], [17, 1, \"Brave in pursuing prophecy despite dangers\"], [18, 0, \"Focuses on prophecy over caregiving\"], [19, 1, \"Task-oriented toward magical goals\"], [20, 0, \"Prioritizes prophecy over emotional harmony\"], [21, 1, \"Focuses on practical prophecy matters\"], [22, 0, \"Sacrifices others' trust for prophecy goals\"], [23, 1, \"Maintains rigid boundaries about the prophecy\"], [24, 0, \"Owns a bookshop and leads secret society\"], [25, 1, \"Self-employed business owner and revolutionary leader\"], [26, 99, \"Physical description limited to 'long black hair' without beauty emphasis\"], [27, 1, \"Admired for magical knowledge and leadership\"], [28, 0, \"Bookshop owner and secret leader\"], [29, 1, \"Holds leadership position in the Circle\"]]",
         "['https://nightrunner.livejournal.com/77659.html', 'https://dulcineainwonderland.blogspot.com/2014/01/the-awakened-mage.html?m=1', 'https://www.goodreads.com/book/show/22092480', 'http://strangehorizons.com/wordpress/non-fiction/reviews/the-innocent-mage-kingmaker-kingbreaker-book-one-by-karen-miller/', 'https://innocentmagematilda.weebly.com/characters.html', 'https://www.deviantart.com/confusedkangaroo/art/The-Innocent-Mage-by-Karen-Miller-A-review-607960964', 'https://www.barnesandnoble.com/w/the-innocent-mage-karen-miller/1102340728', 'https://www.youtube.com/watch?v=qUk57Z3UOzk']"
        ],
        [
         "13",
         "Survivor In Death In Death 20",
         "Robb, J.D.",
         "Eve Dallas",
         "[[1, 1, \"J.D. Robb is a pseudonym for female author Nora Roberts[1][2]\"], [2, 2005, \"Survivor in Death is the 20th book in the series, but exact publication year isn't listed in available sources. The series began in 1995, and book numbers don't strictly correlate to years[1][5].\"], [3, [\"mystery\", \"romance\", \"suspense\", \"science fiction\", \"crime fiction\"]], [4, 0, \"Eve Dallas typically solves cases through her own skills, though occasionally receives technical assistance from Roarke[2][7]\"], [5, 1, \"As a homicide lieutenant, Eve routinely saves lives through her investigative work[2][6]\"], [6, 1, \"Roarke provides protection through security systems and backup, though Eve remains the primary investigator[2][7]\"], [7, 1, \"Eve protects colleagues and civilians as part of her police duties[2][6]\"], [8, 0, \"Eve solves cases through systematic police work rather than luck[2][6]\"], [9, 1, \"Her investigative skills and persistence drive case resolutions[2][6]\"], [10, 99, \"Specific Survivor in Death plot details unavailable, but Eve's backstory includes past abuse[2][3]\"], [11, 1, \"Eve regularly apprehends/kills suspects during investigations[2][6]\"], [12, 0, \"Eve frequently operates outside strict protocols when necessary[2][6]\"], [13, 1, \"As lieutenant, she commands a investigative team[2][3]\"], [14, 0, \"Physically capable in confrontations and chase scenes[3][6]\"], [15, 1, \"Trained in combat and defensive tactics[2][3]\"], [16, 0, \"Known for fearless pursuit of suspects[2][6]\"], [17, 1, \"Routinely faces dangerous situations[2][6]\"], [18, 1, \"Shows care for victims and colleagues, particularly in child-related cases[2][7]\"], [19, 0, \"Balances caregiving with professional duties[2][7]\"], [20, 1, \"Demonstrates emotional intelligence in victim interviews[2][7]\"], [21, 1, \"Prioritizes case resolution over emotional concerns[2][6]\"], [22, 0, \"Maintains professional boundaries despite personal connections[2][7]\"], [23, 1, \"Relentlessly pursues justice above all else[2][6]\"], [24, 0, \"Career-focused police lieutenant[3][6]\"], [25, 1, \"Primary income source as NYPSD lieutenant[3][6]\"], [26, 99, \"Physical descriptions focus on professional demeanor over beauty[3][6]\"], [27, 1, \"Admired for investigative brilliance[2][6]\"], [28, 0, \"Holds high-ranking police position[3][6]\"], [29, 1, \"Lieutenant in charge of homicide investigations[2][3]\"]]",
         "['https://www.goodreads.com/series/41029-in-death', 'https://en.wikipedia.org/wiki/In_Death', 'https://www.goodreads.com/characters/641-eve-dallas', 'https://www.librarything.com/character/Eve+Dallas', 'https://www.fictiondb.com/series/in-death-eve-dallas-jd-robb~3885.htm', 'https://www.bookclubforum.co.uk/community/topic/5-j-d-robb-in-death-series/', 'https://www.addall.com/books-in-order/j-d-robb/', 'https://fallintothestory.com/golden-in-death-discussion/']"
        ],
        [
         "14",
         "Golden Keel",
         "Bagley, Desmond",
         "Francesca",
         "[[1, 0], [2, 1963], [3, [\"thriller\", \"adventure\", \"suspense\"]], [4, 99, \"No explicit rescue of Francesca by a male character is mentioned in available sources.\"], [5, 99, \"No information about Francesca saving a male character.\"], [6, 99, \"Protection dynamics are not detailed in available summaries.\"], [7, 99, \"No specific instances of protection provided by Francesca are described.\"], [8, 99, \"Her problem-solving methods are not explicitly outlined.\"], [9, 99, \"No clear evidence of self-solved problems through skill.\"], [10, 99, \"No explicit mention of victimization by male characters.\"], [11, 99, \"No information about her harming others.\"], [12, 99, \"Leadership role suggests she may give orders, but specifics are unclear.\"], [13, 1, \"As a Contessa leading partisans, she likely gives orders[4].\"], [14, 99, \"Physical capability is not described.\"], [15, 99, \"No explicit mention of physical strength.\"], [16, 99, \"No evidence of fearfulness in available summaries.\"], [17, 1, \"As a wartime partisan leader, she demonstrates bravery[4].\"], [18, 99, \"No caregiving behaviors are mentioned.\"], [19, 1, \"Focuses on treasure recovery and leadership[4].\"], [20, 99, \"Emotional attunement is not detailed.\"], [21, 1, \"Prioritizes practical goals over emotional dynamics[4].\"], [22, 99, \"No evidence of self-sacrifice.\"], [23, 1, \"Maintains focus on retrieving the treasure[4].\"], [24, 0, \"Not described as a homemaker.\"], [25, 99, \"Her economic role is unspecified.\"], [26, 1, \"Described as 'ruthless and beautiful' Contessa[4].\"], [27, 99, \"Intelligence is implied but not explicitly stated.\"], [28, 0, \"Holds leadership position as a Contessa[4].\"], [29, 1, \"As a Contessa and partisan leader, she holds a high-rank role[4].\"]]",
         "['https://en.wikipedia.org/wiki/The_Golden_Keel', 'https://www.kirkusreviews.com/book-reviews/a/desmond-bagley-7/the-golden-keel/', 'http://vintagepopfictions.blogspot.com/2018/01/desmond-bagley-s-golden-keel.html', 'https://thebagleybrief.com/the-novels/the-golden-keel/', 'https://oikofuge.com/bagley-four-novels/', 'https://www.goodreads.com/book/show/129833.Golden_Keel', 'https://desmondbagleyonline.wordpress.com/the-golden-keel-2-2-2-2/', 'http://lukoilmarine.com/ckfinder/userfiles/files/28719406465.pdf']"
        ],
        [
         "15",
         "Out of Sight Out of Time Gallagher Girls 5",
         "Carter, Ally",
         "Cammie Morgan",
         "[[1, 1], [2, 2012], [3, [\"young adult\", \"spy fiction\", \"mystery\", \"adventure\", \"thriller\"]], [4, 0, \"Cammie's allies (including Zach) collaborate with her, but no male character singularly saves her\"], [5, 99, \"No explicit mention of Cammie saving a male character in available sources\"], [6, 1, \"Zach and other allies protect Cammie during missions against the Circle\"], [7, 99, \"No explicit mention of Cammie protecting a male character\"], [8, 0, \"Cammie actively pieces together clues and retraces her steps to solve her memory loss\"], [9, 1, \"Uses spy training and deductive skills to uncover her missing summer\"], [10, 99, \"No direct evidence of male characters harming her; primary threat is the Circle organization\"], [11, 99, \"No explicit mention of Cammie harming male characters\"], [12, 0, \"Defies orders to investigate independently\"], [13, 1, \"Leads missions with friends\"], [14, 0, \"Trained spy with physical capabilities\"], [15, 1, \"Demonstrates combat/espionage skills\"], [16, 0, \"Persists despite danger and memory loss\"], [17, 1, \"Undertakes high-risk global missions\"], [18, 1, \"Maintains strong bonds with friends and family\"], [19, 0, \"Balances caregiving with mission focus\"], [20, 1, \"Sensitive to group dynamics and allies' emotions\"], [21, 0, \"Prioritizes emotional connections alongside tasks\"], [22, 1, \"Initially left school to protect others from danger\"], [23, 1, \"Pursues truth despite others' concerns\"], [24, 0, \"Spy-in-training, not homemaker\"], [25, 0, \"Student without income-generating role\"], [26, 99, \"No emphasis on physical appearance in sources\"], [27, 1, \"Admired for spycraft and problem-solving\"], [28, 0, \"Spy-in-training at elite academy\"], [29, 0, \"Student, not in leadership profession yet\"]]",
         "['https://buriedinabookshelf.com/2019/03/28/review-out-of-sight-out-of-time-gallagher-girls-5-by-ally-carter/', 'https://chicandpetite.wordpress.com/2012/04/12/out-of-sight-out-of-time-a-book-review/', 'https://www.goodreads.com/book/show/10560331-out-of-sight-out-of-time', 'https://ruthsic.wordpress.com/2019/01/25/review-out-of-sight-out-of-time-by-ally-carter/', 'https://www.teenink.com/reviews/book_reviews/article/692755/Out-Of-Sight-Out-Of-Time-Gallagher-Girls-5-By-Ally-Carter', 'https://gallagher-girls-book-one.weebly.com/cammie-morgan.html', 'https://www.goodreads.com/book/show/12397804', 'https://www.hachette.com.au/ally-carter/out-of-sight-out-of-time-gallagher-girls-book-5']"
        ],
        [
         "16",
         "The Hidden Child Patrik Hedstrm 5",
         "Läckberg, Camilla",
         "Erica Falck",
         "[[1, 1], [2, 2010], [3, [\"crime thriller\", \"mystery\", \"psychological thriller\", \"scandinavian noir\", \"domestic suspense\"]], [4, 0, \"Erica investigates independently; no male rescue occurs\"], [5, 0, \"No evidence of her saving a male character\"], [6, 0, \"Patrik investigates separately; no explicit protection\"], [7, 1, \"Protects her newborn daughter Maja\"], [8, 0, \"Solves through her investigative efforts\"], [9, 1, \"Uses research skills to uncover family secrets\"], [10, 99, \"No direct victimization by males mentioned\"], [11, 0, \"No evidence of harming males\"], [12, 0, \"Acts autonomously in her investigation\"], [13, 1, \"Directs her own inquiries\"], [14, 0, \"No physical incapacity indicated\"], [15, 99, \"Physical strength not discussed\"], [16, 0, \"Persists despite risks\"], [17, 1, \"Braves dangerous truths\"], [18, 1, \"Cares for daughter Maja\"], [19, 0, \"Balances caregiving with investigation\"], [20, 1, \"Understands family dynamics through diaries\"], [21, 0, \"Prioritizes emotional truth\"], [22, 0, \"Pursues truth despite family risks\"], [23, 1, \"Maintains investigative focus\"], [24, 0, \"Works as writer while parenting\"], [25, 1, \"Successful crime author\"], [26, 99, \"Beauty not emphasized\"], [27, 1, \"Admired for investigative intellect\"], [28, 0, \"High-profile author\"], [29, 1, \"Established professional\"]]",
         "['https://www.goodreads.com/book/show/10868182-the-hidden-child', 'https://www.goodreads.com/book/show/18476759-the-hidden-child', 'https://www.harperreach.com/products/the-hidden-child-patrik-hedstrom-and-erica-falck-book-5-camilla-lackberg-9780007419494/', 'https://bookstopcorner.blogspot.com/2017/04/review-592-hidden-child-patrik-hedstrom.html', 'https://www.betterworldbooks.com/product/detail/the-hidden-child-patrik-hedstrom-and-erica-falck-book-5-9780007419500', 'https://katlovesbooksblog.wordpress.com/category/mystery-mixed-lead/series-fjallbacka/', 'https://mercy2908.wordpress.com/2018/02/17/the-hidden-child-characters/', 'http://crimebythebook.com/features/2018/11/1/nordic-noir-series-recommendation-the-fjllbacka-series-by-camilla-lckberg-br335']"
        ],
        [
         "17",
         "The Corrections",
         "Franzen, Jonathan",
         "Enid Lambert",
         "[[1, 0], [2, 2001], [3, [\"literary fiction\", \"family saga\", \"contemporary fiction\"]], [4, 0, \"Enid is not saved by any male character; her struggles with family dynamics and Alfred's decline remain unresolved through external male intervention.\"], [5, 0, \"Enid does not actively save any male character, though she attempts to manage her family's crises.\"], [6, 0, \"Alfred is emotionally abusive and offers no protection; her children resist her control.\"], [7, 0, \"Enid's attempts to 'protect' her family through control are ineffective and often counterproductive.\"], [8, 0, \"Her problems (marital strife, family disconnection) persist unresolved.\"], [9, 0, \"She lacks the agency to solve her core issues, relying on pharmaceuticals and denial.\"], [10, 1, \"Alfred emotionally abuses her and rapes her during pregnancy[4][7].\"], [11, 0, \"She harms relationships through nagging but does not physically harm anyone.\"], [12, 0, \"She resists Alfred's dominance and pressures others to follow her plans.\"], [13, 1, \"She obsessively demands her family gather for Christmas[5][7].\"], [14, 1, \"Her damaged hip and reliance on medication suggest physical limitations[1][7].\"], [15, 0, \"No evidence of physical strength; her focus is emotional/domestic.\"], [16, 1, \"She avoids confronting Alfred's abuse and clings to superficial harmony[4].\"], [17, 0, \"Her risks (e.g., pressuring Gary) stem from desperation, not bravery.\"], [18, 1, \"She cares for Alfred despite his abuse and seeks family unity[7].\"], [19, 0, \"Her identity revolves around caregiving, though often in misguided ways.\"], [20, 1, \"She obsessively monitors family dynamics but prioritizes appearances over genuine harmony[6].\"], [21, 0, \"She focuses excessively on social/emotional expectations.\"], [22, 1, \"She suppresses her needs to maintain the facade of a happy marriage[4][7].\"], [23, 0, \"Her goals (family unity) are constantly undermined by others' resistance.\"], [24, 1, \"She is a homemaker with no career outside domestic management[2][7].\"], [25, 0, \"Alfred was the breadwinner; she has no income source.\"], [26, 99, \"No textual emphasis on her physical appearance.\"], [27, 0, \"Her lack of self-awareness and tact are noted[1][6].\"], [28, 0, \"She has no formal occupation.\"], [29, 0, \"She holds no professional authority.\"]]",
         "['https://www.gradesaver.com/the-corrections/study-guide/character-list', 'https://www.coursehero.com/lit/The-Corrections/characters/', 'https://en.wikipedia.org/wiki/The_Corrections', 'https://thinkaboutreading.wordpress.com/2023/10/11/the-corrections/', 'https://reading-in-bed.com/2017/02/27/the-corrections-a-character-study/', 'https://www.charactour.com/hub/characters/view/Enid-Lambert.The-Corrections', 'https://www.ebsco.com/research-starters/literature-and-writing/corrections-analysis-major-characters', 'https://www.supersummary.com/the-corrections/major-character-analysis/']"
        ],
        [
         "18",
         "Kill For Me Romantic Suspense 9 Daniel Vartanian 3",
         "Rose, Karen",
         "Susannah Vartanian",
         "[[1, 1], [2, 2009], [3, [\"romantic suspense\", \"thriller\", \"crime fiction\", \"mystery\", \"drama\"]], [4, 1, \"Luke Papadopoulos protects Susannah when her life is endangered by the killers\"], [5, 0, \"No evidence of Susannah saving a male character\"], [6, 1, \"Luke actively protects Susannah during the investigation\"], [7, 0, \"No evidence of Susannah protecting a male character\"], [8, 0, \"Susannah actively works with Luke to solve the case through investigative efforts\"], [9, 1, \"Uses her legal expertise as a prosecutor to pursue justice\"], [10, 1, \"Raped as a teenager and again six years prior to the story\"], [11, 0, \"No evidence of Susannah harming others\"], [12, 0, \"As a prosecutor, she takes initiative in investigations\"], [13, 1, \"Gives orders in her professional capacity\"], [14, 0, \"Shows determination and physical resilience\"], [15, 1, \"Persists through trauma and dangerous situations\"], [16, 0, \"Confronts her past and pursues dangerous criminals\"], [17, 1, \"Braves personal risks to solve the case\"], [18, 1, \"Vows to protect the surviving victim and seeks justice for others\"], [19, 0, \"Balances caregiving with professional goals\"], [20, 1, \"Understands victims' trauma through personal experience\"], [21, 0, \"Focuses on both emotional and practical aspects of the case\"], [22, 0, \"Prioritizes justice over personal comfort\"], [23, 1, \"Maintains her mission despite emotional challenges\"], [24, 0, \"New York prosecutor\"], [25, 1, \"Holds a high-ranking legal position\"], [26, 99, \"Physical appearance not emphasized in available sources\"], [27, 1, \"Admired for legal skills and determination\"], [28, 0, \"Assistant District Attorney\"], [29, 1, \"High-ranking prosecutor position\"]]",
         "['https://allaboutromance.com/book-review/kill-for-me-karen-rose/', 'https://karenrosebooks.com/kill-for-me', 'https://www.goodreads.com/book/show/7242240', 'https://bookbinge.com/2009/02/review-kill-for-me-by-karen-rose/', 'https://www.barnesandnoble.com/w/kill-for-me-karen-rose/1100297791', 'https://www.bookseriesinorder.com/daniel-vartanian/', 'https://www.goodreads.com/book/show/3401640-kill-for-me', 'https://shortform.com/best-books/book/kill-for-me-romantic-suspense-sharp9-daniel-vartanian-sharp3-book-reviews-karen-rose']"
        ],
        [
         "19",
         "Veronika Decides to Die",
         "Coelho, Paulo",
         "Veronika",
         "[ [1, 0], [-1, 1998], [3, [\"philosophical fiction\", \"psychological fiction\", \"romance\"]], [4, 0, \"Veronika is not saved by a male character; instead, she finds her own path to life.\"], [5, 0, \"Veronika does not save a male character.\"], [6, 0, \"Veronika is not protected by a male character.\"], [7, 0, \"Veronika does not protect a male character.\"], [8, 1, \"Veronika's problem is solved through her own realization and newfound perspective on life.\"], [9, 1, \"Veronika solves her own problem through self-discovery and skill.\"], [10, 0, \"Veronika is not victimized by a male character.\"], [11, 0, \"Veronika does not harm a male character.\"], [12, 0, \"Veronika does not follow orders.\"], [13, 0, \"Veronika does not give orders.\"], [14, 0, \"Veronika is not physically weak.\"], [15, 0, \"Veronika is not depicted as physically strong.\"], [16, 0, \"Veronika is not fearful of taking risks.\"], [17, 1, \"Veronika becomes brave and takes risks.\"], [18, 0, \"Veronika does not engage in caregiving behaviors.\"], [19, 1, \"Veronika focuses on her personal journey and goals.\"], [20, 0, \"Veronika is not primarily emotionally aware of others' needs.\"], [21, 1, \"Veronika focuses more on practical matters and her own desires.\"], [22, 0, \"Veronika does not sacrifice her goals for others.\"], [23, 1, \"Veronika maintains her personal goals and boundaries.\"], [24, 0, \"Veronika is not a homemaker.\"], [25, 0, \"Veronika is not a breadwinner.\"], [26, 1, \"Veronika is admired for her beauty.\"], [27, 1, \"Veronika is intelligent.\"], [28, 1, \"Veronika works as a librarian, which can be considered a lower rank occupation.\"], [29, 0, \"Veronika does not have a higher rank occupation.\"] ,[30, 1998, \"The book was published in 1998.\"]]",
         "['https://www.supersummary.com/veronika-decides-to-die/summary/', 'https://en.wikipedia.org/wiki/Veronika_Decides_to_Die', 'https://prisonjournalismproject.org/2022/04/13/book-review-paul-coelhos-veronika-decides-to-die/', 'https://www.goodreads.com/book/show/216950113-veronika-decides-to-die', 'https://wordsallmine.com/veronika-decides-to-die-summary-and-review/', 'https://bookbrief.io/books/veronika-decides-to-die-paulo-coelho/character-analysis', 'https://theeasywisdom.com/moral-lessons-from-veronika-decides-to-die/', 'https://www.bookrags.com/studyguide-veronika-decides-to-die/']"
        ],
        [
         "20",
         "Onyx Lux 2",
         "Armentrout, Jennifer L.",
         "Katy",
         "[[1, 1], [2, 2012], [3, [\"young adult\", \"science fiction\", \"romance\", \"paranormal\", \"urban fantasy\"]], [4, 1, \"Daemon rescues Katy from an onyx cage and dangerous situations involving the DOD[5][7].\"], [5, 1, \"Katy risks her life to protect Daemon and his family from threats, including government agents[4][7].\"], [6, 1, \"Daemon actively protects Katy from physical threats and government surveillance[1][5].\"], [7, 1, \"Katy protects Daemon by hiding their connection and confronting enemies like Blake and the DOD[4][7].\"], [8, 0, \"Katy's problems stem from her mutated powers and trust issues, which she addresses through training and confronting adversaries[5][7].\"], [9, 1, \"She develops her hybrid abilities and makes strategic decisions to combat threats[5][7].\"], [10, 1, \"Simon, a male classmate, previously attempted to assault her, and Blake later betrays her[5][7].\"], [11, 1, \"Katy physically confronts male adversaries like Blake and government agents[5][7].\"], [12, 0, \"She frequently disobeys Daemon's warnings to pursue her own plans[7].\"], [13, 1, \"Katy takes charge of her training and makes critical decisions during conflicts[5][7].\"], [14, 0, \"She demonstrates physical strength through combat and endurance[7].\"], [15, 1, \"Her hybrid abilities make her physically formidable[5][7].\"], [16, 0, \"She willingly faces risks to protect others and master her powers[1][7].\"], [17, 1, \"Katy actively engages in dangerous missions and confrontations[5][7].\"], [18, 1, \"She prioritizes protecting Daemon's family and friends[4][7].\"], [19, 0, \"Her actions are heavily focused on caregiving and emotional support[7].\"], [20, 1, \"Katy navigates complex relationships and tries to maintain harmony within the group[4][7].\"], [21, 0, \"She frequently addresses emotional conflicts and interpersonal dynamics[7].\"], [22, 1, \"She risks her safety to shield Daemon and others[4][7].\"], [23, 1, \"She pursues her goal of becoming Daemon's equal despite his objections[7].\"], [24, 0, \"Katy is a student and book blogger, not a homemaker[1][7].\"], [25, 0, \"She has no occupation beyond high school student[7].\"], [26, 99, \"No explicit mentions of beauty admiration in provided sources.\"], [27, 1, \"Her intelligence and adaptability are highlighted through problem-solving[7].\"], [28, 0, \"She has no formal occupation[7].\"], [29, 0, \"She holds no high-rank position[7].\"]]",
         "['https://angiesbookblog.wordpress.com/2015/04/28/onyx-lux-2-by-jennifer-l-armentrout-book-review/', 'https://www.goodreads.com/questions/591347-what-was-in-the-note-daemon-passed-to-katy', 'https://yabookscentral.com/onyx-lux-2/reviews/?order=rating-3&rating=5', 'https://misclisa.blogspot.com/2015/12/review-onyx-lux-series-2-by-jennifer-l.html', 'https://evalanis.wordpress.com/2016/09/05/onyx-jennifer-l-armentrout/', 'https://www.goodreads.com/book/show/20411109', 'https://www.theramblingbooknerd.com/post/_onyx', 'http://www.barnesandnoble.com/w/onyx-jennifer-l-armentrout/1108375242?ean=9781622667185&itm=1&usri=9781622667185']"
        ],
        [
         "21",
         "Bitterblue Graceling Realm 3",
         "Cashore, Kristin",
         "Bitterblue",
         "[[1, 1], [2, 2012], [3, [\"fantasy\", \"young adult\", \"adventure\", \"political fiction\", \"mystery\"]], [4, 0, \"Bitterblue's primary saviors are Katsa (female) and Po (male), but her ongoing challenges are resolved through her own agency[6][7].\"], [5, 0, \"No direct instances of Bitterblue saving a male character are highlighted in the sources[^].\"], [6, 1, \"Po and other male allies provide protection, though Bitterblue increasingly asserts independence[6][7].\"], [7, 0, \"Protection focuses on her kingdom rather than specific male characters[^].\"], [8, 0, \"She solves problems through investigation and leadership, not luck[7][^].\"], [9, 1, \"Deciphers codes, uncovers truths, and leads her kingdom through skill[1][5][7].\"], [10, 1, \"Traumatized by her father Leck's psychological and physical abuses[2][4][6].\"], [11, 0, \"No evidence of harming male characters[^].\"], [12, 0, \"Defies advisors to seek truth[2][3][7].\"], [13, 1, \"Gives orders as queen and truthseeker[2][5][7].\"], [14, 0, \"Physically capable in navigating the city and handling stress[5][7].\"], [15, 1, \"Shows endurance and mental resilience[5][7].\"], [16, 0, \"Actively takes risks by sneaking out and confronting secrets[2][5][7].\"], [17, 1, \"Bravery demonstrated through truth-seeking and leadership[5][7].\"], [18, 1, \"Prioritizes her people's healing and justice[2][5][7].\"], [19, 0, \"Caregiving manifests through governance and empathy[^].\"], [20, 1, \"Attuned to citizens' trauma and political dynamics[2][5][7].\"], [21, 0, \"Balances practical governance with emotional intelligence[^].\"], [22, 0, \"Sacrifices comfort, not goals, for truth[5][7].\"], [23, 1, \"Persists in uncovering past atrocities despite opposition[2][7].\"], [24, 0, \"Queen, not homemaker[2][5].\"], [25, 1, \"Ruler and primary decision-maker[2][5].\"], [26, 99, \"Physical appearance not emphasized[^].\"], [27, 1, \"Admired for problem-solving and leadership[1][5][7].\"], [28, 0, \"Holds highest political rank[2][5].\"], [29, 1, \"Queen of Monsea[2][5][7].\"]]",
         "['https://foreveryoungadult.com/book-report/i-gave-my-last-chance-to-you-and-you-didnt-hand-it-back-to-me/', 'https://charlottekersten.com/2024/02/17/bitterblue-by-kristen-cashore-graceling-realm-3/', 'https://www.theopenbooks.net/2021/01/young-adult/bitterblue-graceling-realm-3/', 'https://www.theyoungfolks.com/review/15073/book-review-bitterblue-graceling-realm-3-by-kristin-cashore/', 'https://www.goodreads.com/book/show/12680907-bitterblue', 'https://www.shmoop.com/study-guides/graceling/bitterblue.html', 'https://katiebachelder.com/2020/12/04/can-bitterblues-riddle-be-solved/', 'https://www.goodreads.com/book/show/7962513']"
        ],
        [
         "22",
         "Telling Christina Goodbye",
         "McDaniel, Lurlene",
         "Christina McDaniel",
         "[[1, 1], [2, 2002], [3, [\"young adult\", \"drama\", \"tragedy\"]], [4, 0, \"Christina dies in the car accident and is not saved by any male character.\"], [5, 0, \"Christina does not save any male character before her death.\"], [6, 0, \"Tucker, her controlling boyfriend, does not protect her; their relationship is described as toxic.\"], [7, 0, \"No evidence of Christina protecting a male character.\"], [8, 0, \"Her problem (toxic relationship) is unresolved, and her death occurs abruptly due to the accident.\"], [9, 0, \"She does not resolve her relationship issues through skill.\"], [10, 1, \"Tucker's controlling behavior and emotional manipulation victimize her.\"], [11, 0, \"She does not harm any male character.\"], [12, 1, \"She initially considers giving up her scholarship to appease Tucker.\"], [13, 0, \"No instances of her giving orders.\"], [14, 99, \"Physical capability is not discussed.\"], [15, 99, \"Physical strength is not a focus.\"], [16, 1, \"She avoids confronting Tucker's control, suggesting fear of conflict.\"], [17, 0, \"No evidence of risk-taking behavior.\"], [18, 1, \"She volunteers at a nursing home, showing caregiving tendencies.\"], [19, 0, \"Her caregiving at the nursing home contradicts this.\"], [20, 1, \"She tries to maintain harmony with Tucker despite his behavior.\"], [21, 0, \"She focuses on relationships and emotional dynamics.\"], [22, 1, \"She considers sacrificing her college plans for Tucker.\"], [23, 0, \"She struggles to maintain boundaries with Tucker.\"], [24, 0, \"She is a high school student, not a homemaker.\"], [25, 0, \"She has no occupation.\"], [26, 99, \"Physical appearance is not emphasized.\"], [27, 1, \"Her scholarship implies academic achievement.\"], [28, 0, \"She has no occupation.\"], [29, 0, \"She has no occupation.\"]]",
         "['https://www.goodreads.com/book/show/130528319', 'https://patmos.bibliocommons.com/v2/record/S147C1576611', 'https://www.bookey.app/book/telling-christina-goodbye', 'https://www.rhcbooks.com/books/111083/telling-christina-goodbye-by-lurlene-mcdaniel', 'https://www.barnesandnoble.com/w/telling-christina-goodbye-lurlene-mcdaniel/1102212792', 'https://www.goodreads.com/book/show/127437.Telling_Christina_Goodbye', 'https://www.bookey.app/book/telling-christina-goodbye/qa', 'https://www.penguinrandomhouse.com/books/111083/telling-christina-goodbye-by-lurlene-mcdaniel/']"
        ],
        [
         "23",
         "Em and The Big Hoom",
         "Pinto, Jerry",
         "Imelda (Em)",
         "[[1, 0], [2, 2012], [3, [\"literary fiction\", \"family drama\", \"mental health fiction\"]], [4, 0, \"Em's mental illness is not resolved through male intervention; her struggles persist until her death.\"], [5, 0, \"No instances of Em saving a male character are mentioned.\"], [6, 1, \"Augustine (the Big Hoom) provides constant support and protection during her manic-depressive episodes.\"], [7, 0, \"Em's condition renders her unable to protect others consistently.\"], [8, 0, \"Her bipolar disorder remains unresolved despite medical interventions and family efforts.\"], [9, 0, \"Em cannot overcome her mental illness through personal skill.\"], [10, 0, \"No evidence of harm by a male character; her suffering stems from mental illness.\"], [11, 0, \"Em's harmful actions (e.g., suicide attempts) are self-directed, not targeted at males.\"], [12, 0, \"She frequently resists medical/domestic routines during manic episodes.\"], [13, 1, \"She issues demands during manic phases (e.g., hospital ramblings).\"], [14, 99, \"Physical capability is not explicitly addressed.\"], [15, 99, \"Physical strength is not a narrative focus.\"], [16, 0, \"She exhibits risk-taking behaviors (e.g., running away with her child).\"], [17, 1, \"Her manic episodes involve bold, unrestrained actions.\"], [18, 1, \"She shares stories and humor with her family during lucid moments.\"], [19, 0, \"Her caregiving is limited by her illness but not absent.\"], [20, 99, \"Manic episodes impair emotional attunement, but lucid moments show awareness.\"], [21, 0, \"Her focus alternates between emotional outbursts and storytelling.\"], [22, 0, \"Her illness dominates her actions, leaving little room for deliberate sacrifice.\"], [23, 0, \"Her goals are subsumed by her mental health struggles.\"], [24, 1, \"She primarily occupies a domestic role in the family's small flat.\"], [25, 0, \"Augustine is the breadwinner.\"], [26, 99, \"Physical appearance is not emphasized.\"], [27, 1, \"She is admired for her wit and storytelling during manic phases.\"], [28, 99, \"Her pre-illness occupation (if any) is not detailed.\"], [29, 0, \"No higher-rank occupation is mentioned.\"]]",
         "['https://shubhadakale.wordpress.com/2017/04/05/book-analysis-fan-post-em-and-the-big-hoom-by-jerry-pinto/', 'https://aamilsyed.wordpress.com/2014/01/18/em-and-the-big-hoom-by-jerry-pinto-a-review/', 'https://literaturesdotlive.wordpress.com/2019/08/13/em-and-the-big-hoom-by-jerry-pinto/', 'https://themelodramaticbookworm.com/2018/07/23/em-and-the-big-hoom-jerry-pinto-book-review/', 'https://www.thebooksatchel.com/book-review-em-and-the-big-hoom-by-jerry-pinto/', 'https://www.penguinrandomhouse.com/books/314819/em-and-the-big-hoom-by-jerry-pinto/readers-guide/', 'https://reethuravi.wordpress.com/2018/12/28/em-and-the-big-hoom-a-heart-wrenching-read/', 'https://www.goodreads.com/book/show/13601144-em-and-the-big-hoom']"
        ],
        [
         "24",
         "Ignite Me Shatter Me 3",
         "Mafi, Tahereh",
         "Juliette Ferrars",
         "[ [1, 1], [-1, 2014], [3, [\"dystopian\", \"paranormal\", \"romance\", \"young adult\", \"fantasy\"]], [4, 1, \"Juliette is saved by Warner after being shot.\"], [5, 0, \"There is no indication that Juliette saves a male character.\"], [6, 1, \"Warner protects Juliette by hiding her and keeping her safe.\"], [7, 0, \"There is no indication that Juliette protects a male character.\"], [8, 1, \"Juliette's problems are partly solved through Warner's help.\"], [9, 1, \"Juliette also solves her own problems through her growing skills and determination.\"], [10, 1, \"Juliette is harmed by Anderson, a male character.\"], [11, 0, \"There is no indication that Juliette harms a male character intentionally.\"], [12, 0, \"Juliette does not follow orders; instead, she leads and makes her own decisions.\"], [13, 1, \"Juliette gives orders as she becomes a leader.\"], [14, 0, \"Juliette is not physically weak; she has super strength.\"], [15, 1, \"Juliette is physically strong and capable.\"], [16, 0, \"Juliette is not fearful of taking risks; she is brave.\"], [17, 1, \"Juliette is brave and willing to take risks.\"], [18, 1, \"Juliette cares for others, particularly her friends and allies.\"], [19, 0, \"Juliette does engage in caregiving behaviors.\"], [20, 1, \"Juliette is emotionally aware and attuned to others' needs.\"], [21, 0, \"Juliette focuses on both practical matters and others' emotions.\"], [22, 0, \"Juliette maintains her goals and does not sacrifice them for others.\"], [23, 1, \"Juliette maintains personal goals and boundaries.\"], [24, 0, \"Juliette is not a homemaker.\"], [25, 0, \"Juliette is not a breadwinner in the traditional sense.\"], [26, 0, \"There is no emphasis on Juliette being admired for her beauty.\"], [27, 1, \"Juliette is admired for her intelligence and leadership abilities.\"], [28, 0, \"Juliette does not have a lower rank occupation.\"], [29, 1, \"Juliette becomes a leader, which is a higher rank occupation.\"] ,[30, 0, \"No additional questions were provided.\"] ]",
         "['https://www.goodreads.com/book/show/13188676-ignite-me', 'https://lusterofbooks.com/2023/04/03/ignite-me-by-tahereh-mafi-shatter-me-3/', 'https://www.goodreads.com/series/65730-shatter-me', 'https://en.wikipedia.org/wiki/Shatter_Me', 'https://www.supersummary.com/ignite-me/major-character-analysis/', 'https://booksthatslay.com/ignite-me-summary/', 'https://fall.wickedlocal.com/Book/textbook-solutions/Resources:M8F0/filedownload.ashx/summary_of_shatter_me.pdf', 'https://thebookmarketng.com/product/ignite-me-shatter-me-series/']"
        ],
        [
         "25",
         "The Fourth Estate",
         "Archer, Jeffrey",
         null,
         "[ [1, 0], [-1, -1], [-1, [\"fiction\", \"thriller\", \"suspense\", \"drama\", \"business\"]], [-1, 99, \"No information about Nan being saved by a male character.\"], [-1, 99, \"No information about Nan saving a male character.\"], [-1, 99, \"No information about Nan being protected by a male character.\"], [-1, 99, \"No information about Nan protecting a male character.\"], [-1, 99, \"No information about Nan's problem being solved through help or luck.\"], [-1, 99, \"No information about Nan solving her own problem through skill.\"], [-1, 99, \"No information about Nan being victimized by a male character.\"], [-1, 99, \"No information about Nan harming a male character.\"], [-1, 99, \"No information about Nan following orders.\"], [-1, 99, \"No information about Nan giving orders.\"], [-1, 99, \"No information about Nan's physical strength or weakness.\"], [-1, 99, \"No information about Nan's physical strength or weakness.\"], [-1, 99, \"No information about Nan being fearful or brave.\"], [-1, 99, \"No information about Nan being fearful or brave.\"], [-1, 99, \"No information about Nan caring for others.\"], [-1, 99, \"No information about Nan engaging in caregiving behaviors.\"], [-1, 99, \"No information about Nan being emotionally aware.\"], [-1, 99, \"No information about Nan focusing on practical matters.\"], [-1, 99, \"No information about Nan sacrificing her goals.\"], [-1, 99, \"No information about Nan maintaining personal goals.\"], [-1, 99, \"No information about Nan being a homemaker.\"], [-1, 99, \"No information about Nan being a breadwinner.\"], [-1, 99, \"No information about Nan being admired for her beauty.\"], [-1, 99, \"No information about Nan being admired for her intelligence.\"], [-1, 99, \"No information about Nan's occupation.\"], [-1, 99, \"No information about Nan's occupation.\"] ,[2, 1996, \"The book was published in 1996.\"]]",
         "['https://en.wikipedia.org/wiki/The_Fourth_Estate_(novel)', 'https://www.librarything.com/work/131705/t/The-Fourth-Estate', 'https://newbookrecommendation.com/summary-of-the-fourth-estate-by-jeffrey-archer-a-detailed-synopsis/', 'https://app.thestorygraph.com/book_reviews/652f9bd5-401f-4c88-874b-f1d5d3ca4359', 'https://jeffreyarcher.com/book/the-fourth-estate-by-jeffrey-archer/', 'https://en.wikipedia.org/wiki/Jeffrey_Archer', 'https://www.uiltexas.org/files/academics/NS-Chronology.pdf', 'https://www.panmacmillan.com/authors/jeffrey-archer/the-fourth-estate/9781529060089']"
        ],
        [
         "26",
         "One Perfect Summer One Perfect 1",
         "Toon, Paige",
         "Alice",
         "[[1, 1], [2, 2012], [3, [\"romance\", \"contemporary\", \"chick lit\", \"young adult\", \"drama\"]], [4, 0, \"No evidence of Alice being physically saved by a male character.\"], [5, 0, \"Alice does not save any male character.\"], [6, 0, \"No explicit protection by male characters; Joe's disappearance leaves her vulnerable.\"], [7, 0, \"No instances of Alice protecting a male character.\"], [8, 99, \"Her heartbreak is unresolved through luck/help; later choices remain self-driven.\"], [9, 0, \"Her emotional conflicts are not resolved through skill but through relationship dynamics.\"], [10, 1, \"Joe's abrupt departure causes emotional harm; Lukas exhibits controlling behavior.\"], [11, 0, \"No evidence of Alice harming male characters.\"], [12, 1, \"Follows Lukas's academic/lifestyle expectations (e.g., studying German instead of Mandarin).\"], [13, 0, \"No significant instances of giving orders.\"], [14, 0, \"No indication of physical weakness.\"], [15, 99, \"Physical capability is not emphasized.\"], [16, 0, \"She pursues relationships despite risks (e.g., reconnecting with Joe).\"], [17, 1, \"Takes emotional risks in love and life choices.\"], [18, 0, \"Focuses on personal relationships rather than caregiving.\"], [19, 1, \"Prioritizes romantic relationships over caregiving roles.\"], [20, 1, \"Attuned to Joe/Lukas's emotions but struggles with harmony.\"], [21, 0, \"Emotionally driven rather than task-focused.\"], [22, 1, \"Sacrifices academic interests (Mandarin) for Lukas's preferences.\"], [23, 0, \"Compromises personal goals to maintain relationships.\"], [24, 0, \"Not depicted as a homemaker.\"], [25, 99, \"Occupation as student/part-time punter; no breadwinner role specified.\"], [26, 1, \"Attracts Joe and Lukas, implying admiration for her appearance.\"], [27, 99, \"Intelligence is implied (Cambridge student) but not explicitly praised.\"], [28, 0, \"Student status and punting job do not qualify as lower-rank occupations.\"], [29, 0, \"No higher-rank occupation depicted.\"]]",
         "['https://www.goodreads.com/book/show/12064651-one-perfect-summer', 'https://www.goodreads.com/book/show/33606875-one-perfect-summer', 'http://booknaround.blogspot.com/2017/01/review-one-perfect-summer-by-paige-toon.html', 'http://simonascornerofdreams.blogspot.com/2013/08/one-perfect-summer-by-paige-toon.html', 'https://www.barnesandnoble.com/w/one-perfect-summer-paige-toon/1111266384', 'https://www.bookey.app/quote-book/one-perfect-summer', 'http://misspageturnerscityofbooks.blogspot.com/2013/05/book-review-one-perfect-summer-by-paige_5.html', 'http://chicklitchloe.blogspot.com/2012/05/book-review-one-perfect-summer-by-paige.html']"
        ],
        [
         "27",
         "The Dead Father",
         "Barthelme, Donald",
         "Julie",
         "[[1, 0], [2, 1975], [3, [\"postmodern fiction\", \"absurdist fiction\", \"satire\"]], [4, 0, \"No evidence of Julie being saved by a male character.\"], [5, 0, \"Julie does not save any male character.\"], [6, 0, \"No explicit protection by male characters mentioned.\"], [7, 0, \"No protective actions toward male characters described.\"], [8, 99, \"No clear problem-resolution arc for Julie.\"], [9, 99, \"No evidence of problem-solving through skill.\"], [10, 99, \"No explicit victimization described.\"], [11, 1, \"Physically strikes Thomas during an argument.\"], [12, 99, \"No clear order-following behavior.\"], [13, 99, \"No direct order-giving instances.\"], [14, 99, \"Physical capability not addressed.\"], [15, 99, \"Physical strength not discussed.\"], [16, 99, \"No fearful behavior described.\"], [17, 99, \"Risk-taking not explicitly shown.\"], [18, 1, \"Comforts the Dead Father at burial.\"], [19, 0, \"Engages in caregiving during burial.\"], [20, 1, \"Aware of relational dynamics with Thomas.\"], [21, 0, \"Focuses on emotional interactions.\"], [22, 99, \"No explicit sacrifice shown.\"], [23, 1, \"Maintains boundaries in conflicts with Thomas.\"], [24, 99, \"No homemaker role described.\"], [25, 99, \"No occupation mentioned.\"], [26, 1, \"Thomas describes her body as attractive.\"], [27, 99, \"Intelligence not specifically praised.\"], [28, 99, \"No occupation details provided.\"], [29, 99, \"No higher-rank occupation indicated.\"]]",
         "['https://en.wikipedia.org/wiki/The_Dead_Father', 'https://www.supersummary.com/the-dead-father/summary/', 'https://steemit.com/writing/@bucho/review-of-the-dead-father-by-donald-barthelme-fiction', 'https://www.ebsco.com/research-starters/history/dead-father-donald-barthelme', 'https://www.goodreads.com/book/show/239584', 'https://journals.lib.unb.ca/index.php/IFR/article/download/13730/14812/18438', 'https://www.thereadingexperience.net/readings/page/13/', 'https://www.enotes.com/topics/dead-father/characters']"
        ],
        [
         "28",
         "Partners in Crime Sleuth or Dare 1",
         "Harrington, Kim",
         "Darcy",
         "[[1, 1, \"Kim Harrington is identified as female in author profiles[1][7]\"], [2, 2012, \"Published May 2012 per multiple sources[1][5][7]\"], [3, [\"mystery\", \"children's\", \"adventure\"]], [4, 0, \"Darcy solves cases with Norah; no male savior mentioned[1][6][8]\"], [5, 0, \"No evidence of saving male characters[1][6][8]\"], [6, 0, \"No male protection described[1][6][8]\"], [7, 0, \"No protective actions toward males[1][6][8]\"], [8, 0, \"Problems solved through detective work[1][3][6]\"], [9, 1, \"Uses computer skills and deductive reasoning[1][6][8]\"], [10, 99, \"No specific harm by males mentioned[1][6][8]\"], [11, 0, \"No harmful actions toward males[1][6][8]\"], [12, 0, \"Initiates investigations independently[1][6][8]\"], [13, 1, \"Leads investigative efforts[1][6][8]\"], [14, 0, \"No physical limitations described[1][6][8]\"], [15, 99, \"Physical capability not emphasized[1][6][8]\"], [16, 0, \"Actively pursues risks in investigations[1][6][8]\"], [17, 1, \"Boldly confronts threats[1][6][8]\"], [18, 0, \"Focuses on solving cases, not caregiving[1][6][8]\"], [19, 1, \"Task-oriented detective work[1][6][8]\"], [20, 99, \"Emotional attunement not detailed[1][6][8]\"], [21, 1, \"Prioritizes practical case-solving[1][6][8]\"], [22, 0, \"Pursues goals despite warnings[1][6][8]\"], [23, 1, \"Maintains investigative focus[1][6][8]\"], [24, 0, \"Student, not homemaker[1][6][8]\"], [25, 0, \"No breadwinner role[1][6][8]\"], [26, 99, \"Appearance admiration not mentioned[1][6][8]\"], [27, 1, \"Admired for tech skills and deductive abilities[1][6][8]\"], [28, 0, \"Student detective, not lower-rank occupation[1][6][8]\"], [29, 0, \"No higher-rank occupation[1][6][8]\"]]",
         "['https://www.goodreads.com/book/show/12825820-partners-in-crime', 'http://www.libraryofcleanreads.com/2012/06/sleuth-or-dare-1-partners-in-crime-by.html', 'https://littlecatsbooks.com/partners-in-crime-sleuth-or-dare-1', 'http://bookyurt.com/scouting/book-reviews/sleuth-or-dare-by-kim-harrington-series-review/', 'https://www.barnesandnoble.com/w/partners-in-crime-kim-harrington/1108898968', 'https://series-books.blogspot.com/2018/01/the-sleuth-or-dare-series-by-kim.html', 'https://www.libraryofcleanreads.com/2012/06/sleuth-or-dare-1-partners-in-crime-by.html?view=timeslide', 'https://www.librarything.com/work/12155705']"
        ],
        [
         "29",
         "Boneshaker The Clockwork Century 1",
         "Priest, Cherie",
         "Briar Wilkes",
         "[[1, 1], [2, 2009], [3, [\"steampunk\", \"science fiction\", \"alternate history\", \"horror\", \"adventure\"]], [4, 0, \"Briar acts independently to rescue her son without male intervention\"], [5, 1, \"She protects and aids multiple male characters, including her son Zeke\"], [6, 0, \"No male characters are shown protecting her; she navigates dangers alone\"], [7, 1, \"She protects her son Zeke throughout the narrative\"], [8, 0, \"She solves problems through determination and skill, not luck\"], [9, 1, \"Relies on resourcefulness to navigate Seattle's dangers and rescue Zeke\"], [10, 0, \"No direct victimization by male characters is described\"], [11, 1, \"She killed her husband Leviticus Blue to prevent his escape\"], [12, 0, \"She acts autonomously, not following orders\"], [13, 1, \"Takes charge in dangerous situations\"], [14, 0, \"Physically capable in combat and survival scenarios\"], [15, 1, \"Demonstrates strength navigating zombie-infested Seattle\"], [16, 0, \"Braves extreme risks to find Zeke\"], [17, 1, \"Voluntarily enters the walled city's dangers\"], [18, 1, \"Primary motivation is protecting her son\"], [19, 0, \"Caregiving drives her actions\"], [20, 0, \"Focuses on survival over emotional attunement\"], [21, 1, \"Prioritizes practical goals like rescue and survival\"], [22, 1, \"Sacrifices safety to save Zeke\"], [23, 1, \"Maintains focus on rescuing Zeke despite obstacles\"], [24, 0, \"Works outside home to provide\"], [25, 1, \"Sole provider for her household\"], [26, 99, \"No emphasis on physical appearance in sources\"], [27, 1, \"Praised for cleverness and resourcefulness\"], [28, 1, \"Works menial jobs in the Outskirts\"], [29, 0, \"No high-status occupation indicated\"]]",
         "['https://www.introvertedreader.com/briar-wilkes-character-connection/', 'https://theliteraryomnivore.wordpress.com/2009/10/19/review-boneshaker/', 'https://www.goodreads.com/characters/1083896-briar-wilkes', 'https://josephmallozzi.com/2010/03/01/march-1-2010-boneshaker-by-cherie-priest/', 'https://www.enotes.com/topics/lit/questions/analysis-of-characters-and-themes-in-cherie-3113475', 'https://storyandsomnomancy.com/2015/10/29/review-boneshaker-by-cherie-priest/', 'https://en.wikipedia.org/wiki/Boneshaker_(novel)', 'https://psychopomp.com/fantasy/miscellaneous/boneshaker-by-cherie-priest/']"
        ],
        [
         "30",
         "Last Chance Saloon",
         "Keyes, Marian",
         "Katherine",
         "[ [1, 1], [-1, 0], [2, []], [3, 0, \"No specific genres were provided in the search results, but based on Marian Keyes' style, it is likely to include genres like chick lit, romance, and comedy.\"], [4, 0, \"There is no indication that Katherine is saved by a male character.\"], [5, 0, \"There is no indication that Katherine saves a male character.\"], [6, 0, \"There is no indication that Katherine is protected by a male character.\"], [7, 0, \"There is no indication that Katherine protects a male character.\"], [8, 1, \"Katherine's problems are partly solved through her own efforts and the influence of her friends.\"], [9, 1, \"Katherine solves her own problems through her skills and personal growth.\"], [10, 0, \"There is no indication that Katherine is victimized by a male character.\"], [11, 0, \"There is no indication that Katherine harms a male character.\"], [12, 0, \"There is no indication that Katherine follows orders.\"], [13, 1, \"As a successful accountant, Katherine likely gives orders in her professional life.\"], [14, 0, \"There is no indication that Katherine is physically weak.\"], [15, 0, \"There is no specific mention of Katherine being physically strong.\"], [16, 1, \"Katherine initially appears fearful of taking risks in relationships.\"], [17, 1, \"As the story progresses, Katherine becomes more open to taking risks.\"], [18, 1, \"Katherine cares for her friends, particularly during Fintan's health crisis.\"], [19, 0, \"Katherine does engage in caregiving behaviors.\"], [20, 1, \"Katherine is emotionally aware and supportive of her friends.\"], [21, 1, \"Katherine initially focuses more on practical matters.\"], [22, 0, \"There is no indication that Katherine sacrifices her goals for others.\"], [23, 1, \"Katherine maintains personal goals and boundaries.\"], [24, 0, \"Katherine is not a homemaker.\"], [25, 1, \"Katherine is a breadwinner as a successful accountant.\"], [26, 1, \"Katherine is admired for her beauty.\"], [27, 1, \"Katherine is admired for her intelligence.\"], [28, 0, \"Katherine does not have a lower rank occupation.\"], [29, 1, \"Katherine has a higher rank occupation as an accountant.\"] ]",
         "['https://natashastander.wordpress.com/2016/05/24/book-review-last-chance-saloon-marian-keyes/', 'https://rebekahsreadingsandwatchings.com/2021/06/06/the-last-chance-saloon/', 'https://katieboe.wordpress.com/2012/12/17/lastchancesaloon/', 'https://app.thestorygraph.com/book_reviews/005be3e4-e286-4ba6-b552-d750e7b14536?page=4', 'https://newbookrecommendation.com/summary-of-last-chance-saloon-by-marian-keyes-a-detailed-synopsis/', 'https://www.goodreads.com/book/show/848619.Last_Chance_Saloon', 'https://dlib.bc.edu/islandora/object/bc-ir:102412/datastream/PDF/view', 'https://www.thebeyondwoman.com/2021/08/22/am-i-in-the-last-chance-saloon/']"
        ],
        [
         "31",
         "The Summer I Turned Pretty Trilogy",
         "Han, Jenny",
         "Isabel 'Belly' Conklin",
         "[[1, 1], [2, 2009], [3, [\"young adult\", \"romance\", \"coming-of-age\", \"drama\", \"contemporary\"]], [4, 0, \"No evidence of Belly being physically saved by male characters; her challenges are emotional/relational\"], [5, 0, \"Belly doesn't physically save male characters, though she provides emotional support\"], [6, 1, \"Conrad and Jeremiah occasionally protect her (e.g., Conrad intervenes with Cam at the bonfire)\"], [7, 0, \"No instances of physical protection toward male characters\"], [8, 99, \"Her central relationship conflicts resolve through mutual growth rather than external help/luck\"], [9, 1, \"She actively navigates her love triangle and matures emotionally\"], [10, 0, \"No physical harm; emotional conflicts are mutual\"], [11, 1, \"Verbally lashes out at Conrad after Susannah's funeral ('Go to hell')\"], [12, 0, \"Rebels against being treated as a child (e.g., pursuing relationships independently)\"], [13, 0, \"No explicit order-giving behavior documented\"], [14, 0, \"Active swimmer with no physical limitations mentioned\"], [15, 1, \"Physically capable through swimming and general activity\"], [16, 0, \"Pursues romantic risks despite potential heartbreak\"], [17, 1, \"Braves emotional vulnerability with both Fisher brothers\"], [18, 1, \"Supports loved ones through Susannah's illness and family tensions\"], [19, 0, \"Caregiving becomes more prominent as she matures\"], [20, 1, \"Grows attuned to others' needs, especially in later books\"], [21, 0, \"Primarily focused on emotional/relational dynamics\"], [22, 1, \"Initially prioritizes others' expectations (e.g., Susannah's wishes)\"], [23, 1, \"Ultimately asserts her own desires in choosing relationships\"], [24, 0, \"Teen protagonist without domestic role\"], [25, 0, \"No occupation as a minor\"], [26, 1, \"Title references her being 'turned pretty'; admired by both brothers\"], [27, 0, \"Intelligence isn't a highlighted trait\"], [28, 99, \"No occupation specified due to age\"], [29, 0, \"N/A\"]]",
         "['https://www.sparknotes.com/lit/the-summer-i-turned-pretty/character/belly-conklin/', 'https://www.charactour.com/hub/characters/view/Isabel-Belly-Conklin.The-Summer-I-Turned-Pretty', 'https://thesummeriturnedpretty1.weebly.com/characters.html', 'https://www.redbrick.me/character-spotlight-belly-conklin/', 'https://www.penguin.com.au/articles/3465-meet-the-6-most-important-characters-from-the-summer-i-turned-pretty', 'https://www.supersummary.com/its-not-summer-without-you/major-character-analysis/', 'https://en.wikipedia.org/wiki/The_Summer_I_Turned_Pretty_(trilogy)', 'https://www.supersummary.com/the-summer-i-turned-pretty/major-character-analysis/']"
        ],
        [
         "32",
         "Montana Sky",
         "Roberts, Nora",
         "Willa Mercy",
         "[[1, 1], [2, 1996], [3, [\"romance\", \"suspense\", \"family drama\", \"western\", \"mystery\"]], [4, 0, \"Willa solves problems independently and faces threats alongside her sisters without male rescue\"], [5, 0, \"No evidence of Willa saving a male character\"], [6, 1, \"Ben McKinnon (ranch foreman/love interest) provides support and partnership in ranch management\"], [7, 0, \"No specific instances of Willa protecting a male character\"], [8, 0, \"Resolves conflicts through her own determination and collaboration with sisters\"], [9, 1, \"Manages ranch operations competently and confronts threats directly\"], [10, 0, \"Threats come from external saboteurs, not specifically male-targeted harm\"], [11, 0, \"No evidence of Willa harming others\"], [12, 0, \"Assumes leadership role on the ranch\"], [13, 1, \"Gives orders as ranch manager\"], [14, 0, \"Described as physically capable ranch worker\"], [15, 1, \"Skilled in ranching and confronts physical challenges\"], [16, 0, \"Brave in facing threats to the ranch\"], [17, 1, \"Takes charge during crises\"], [18, 1, \"Eventually bonds with and supports her sisters\"], [19, 0, \"Balances caregiving with practical responsibilities\"], [20, 1, \"Develops emotional awareness through sisterly relationships\"], [21, 1, \"Primarily focused on ranch management early in the story\"], [22, 0, \"Prioritizes preserving her father's legacy\"], [23, 1, \"Maintains her vision for the ranch throughout\"], [24, 0, \"Ranch manager, not homemaker\"], [25, 1, \"Inherits and manages a working ranch\"], [26, 99, \"Physical appearance not emphasized in available sources\"], [27, 1, \"Admired for ranching expertise and leadership\"], [28, 0, \"Ranch owner/manager position\"], [29, 1, \"Holds ownership and management authority\"]]",
         "['https://www.bookrags.com/studyguide-montana-sky/', 'https://www.blinkist.com/en/books/montana-sky-en', 'https://allaboutromance.com/book-review/montana-sky/', 'https://en.wikipedia.org/wiki/Montana_Sky', 'https://www.bookey.app/book/montana-sky', 'https://www.bookrags.com/studyguide-montana-sky/characters.html', 'https://libguides.freeportlibrary.info/BookClubsandBookSuggestions/People', 'https://www.kirkusreviews.com/book-reviews/nora-roberts/montana-sky/']"
        ],
        [
         "33",
         "The Betrayed",
         "Hosp, David",
         "Sydney Chapin",
         "[[1, 0, \"Author David Hosp is male (described as trial lawyer with wife/family in Boston)\"], [2, 2006, \"Publication year referenced as 2006 in Goodreads metadata\"], [3, [\"mystery\", \"crime fiction\", \"thriller\", \"suspense\", \"detective fiction\"]], [4, 99, \"No explicit rescue by male characters mentioned in available synopses\"], [5, 99, \"No evidence of Sydney saving male characters in described plotlines\"], [6, 99, \"Protection dynamics not explicitly detailed in available sources\"], [7, 99, \"No information about protective actions toward male characters\"], [8, 99, \"Resolution method unclear without full text access\"], [9, 99, \"Skill-based problem-solving not explicitly described\"], [10, 99, \"Victimization source unspecified in available materials\"], [11, 99, \"No evidence of harmful actions toward male characters\"], [12, 99, \"Order-following behavior not detailed\"], [13, 99, \"Leadership role unclear from synopses\"], [14, 99, \"Physical capability not described\"], [15, 99, \"No explicit strength references\"], [16, 0, \"Actively investigates sister's murder despite risks\"], [17, 1, \"Pursues dangerous conspiracy investigation\"], [18, 99, \"Caregiving focus not described\"], [19, 1, \"Focuses on investigative goals over caregiving\"], [20, 99, \"Emotional attunement not detailed\"], [21, 1, \"Prioritizes practical investigation over emotional dynamics\"], [22, 99, \"Sacrifice patterns unclear\"], [23, 1, \"Maintains investigative focus despite family pressures\"], [24, 0, \"No homemaker role indicated\"], [25, 99, \"Occupation details unspecified\"], [26, 99, \"Physical appearance not emphasized\"], [27, 99, \"Intelligence admiration not explicitly stated\"], [28, 99, \"Occupation rank unclear\"], [29, 99, \"Professional status unspecified\"]]",
         "['https://www.goodreads.com/book/show/1280291.The_Betrayed', 'https://www.panmacmillan.com/authors/david-hosp/the-betrayed/9780330516860', 'https://www.publishersweekly.com/9780446576956', 'https://themysterysite.com/mystery-novel/david-hosp-the-betrayed/', 'https://www.barnesandnoble.com/w/the-betrayed-david-hosp/1100304521', 'https://dcairns.wordpress.com/tag/sydney-chaplin/', 'https://webapp1.dlib.indiana.edu/purl/purlResolver?id=%2Fwright%2FVAC7492', 'https://www.goodreads.com/book/show/18493222']"
        ],
        [
         "34",
         "Body Movers Body Movers 1",
         "Bond, Stephanie",
         "Carlotta Wren",
         "[[1, 1], [2, 2006], [3, [\"mystery\", \"cozy mystery\", \"romance\", \"thriller\", \"adult\"]], [4, 1, \"Carlotta receives help from male characters like the hunky cop Jack and body mover Cooper, who assist in solving crimes and protecting her.\"], [5, 0, \"No direct instances of Carlotta saving a male character are mentioned in the first book.\"], [6, 1, \"Male characters like Jack and Cooper actively protect Carlotta from threats.\"], [7, 1, \"Carlotta protects her brother Wesley by managing his debts and legal troubles.\"], [8, 1, \"Her problems are partially resolved through male assistance (e.g., Jack reopening her parents' case) and circumstantial luck.\"], [9, 1, \"She actively investigates crimes and confronts dangers, demonstrating problem-solving skills.\"], [10, 1, \"Loan sharks threaten her due to Wesley's debts, and she's framed for murder.\"], [11, 0, \"No evidence of Carlotta harming male characters.\"], [12, 0, \"She acts independently, often defying authority.\"], [13, 1, \"Gives orders to Wesley and others regarding their safety.\"], [14, 0, \"No indication of physical weakness; she engages in risky activities.\"], [15, 1, \"Shows resilience and capability in handling crises.\"], [16, 0, \"Takes risks like confronting criminals and investigating murders.\"], [17, 1, \"Bravery evident in her pursuit of justice despite danger.\"], [18, 1, \"Sacrifices her youth to raise Wesley and manages his debts.\"], [19, 0, \"Her caregiving for Wesley is central to the plot.\"], [20, 1, \"Attuned to Wesley's struggles and social dynamics around her.\"], [21, 0, \"Balances practical concerns with emotional support for Wesley.\"], [22, 1, \"Prioritizes Wesley's wellbeing over her own goals.\"], [23, 0, \"Her personal goals are often secondary to family obligations.\"], [24, 0, \"Works retail at Neiman Marcus, not a homemaker.\"], [25, 1, \"Primary income earner for herself and Wesley.\"], [26, 1, \"Implied through romantic attention from multiple men.\"], [27, 0, \"Intelligence is not highlighted as a primary trait.\"], [28, 1, \"Works in retail, a lower-rank occupation.\"], [29, 0, \"No managerial or high-status occupational role.\"]]",
         "['https://pagesplotsandpints.com/2012/04/29/body-movers-stephanie-bond/', 'https://www.goodreads.com/book/show/1176884.Body_Movers__Body_Movers___1_', 'http://maebookblog.blogspot.com/2010/04/body-movers-by-stephanie-bond.html', 'https://stephaniebond.com/book/body-movers/', 'https://newbookrecommendation.com/summary-of-bodies-for-the-price-of-1-by-stephanie-bond/', 'https://www.bookseriesinorder.com/body-movers/', 'https://www.shortform.com/best-books/genre/best-bonds-books-of-all-time', 'https://www.barnesandnoble.com/w/body-movers-stephanie-bond/1100325330']"
        ],
        [
         "35",
         "If Not Now When",
         "Levi, Primo",
         "Emmeline (Line)",
         "[[1, 0], [2, 1982], [3, [\"historical fiction\", \"war fiction\", \"holocaust literature\"]], [4, 99, \"No specific instances of male characters saving Emmeline/Line are detailed in available sources\"], [5, 99, \"No explicit evidence of Emmeline/Line saving male characters\"], [6, 99, \"Protection dynamics for this specific character are not documented\"], [7, 99, \"No textual evidence of protective actions by Emmeline/Line toward male characters\"], [8, 99, \"Character's problem-solving methods are unspecified\"], [9, 99, \"No information about skill-based problem resolution\"], [10, 99, \"No explicit documentation of victimization\"], [11, 99, \"No evidence of harmful actions toward male characters\"], [12, 99, \"Leadership dynamics for this character are unclear\"], [13, 99, \"No record of command authority\"], [14, 99, \"Physical capabilities are not described\"], [15, 99, \"No accounts of physical prowess\"], [16, 99, \"Risk-taking behavior is undocumented\"], [17, 99, \"Bravery levels are unspecified\"], [18, 99, \"Caregiving role is not detailed\"], [19, 99, \"Focus on tasks vs caregiving is unknown\"], [20, 99, \"Emotional attunement is not described\"], [21, 99, \"Practical vs emotional focus is unspecified\"], [22, 99, \"Sacrificial behaviors are undocumented\"], [23, 99, \"Boundary maintenance is unclear\"], [24, 99, \"Homemaker status is unknown\"], [25, 99, \"Breadwinner role is unspecified\"], [26, 99, \"Physical admiration is not mentioned\"], [27, 99, \"Intellectual admiration is undocumented\"], [28, 99, \"Occupation rank is unclear\"], [29, 99, \"No higher-rank occupation details\"]] ",
         "['https://astrofella.wordpress.com/2016/07/19/if-not-now-when-primo-levi/', 'https://www.goodreads.com/book/show/136096', 'https://www.tabletmag.com/sections/news/articles/partisans-and-the-promised-land', 'https://en.wikipedia.org/wiki/If_Not_Now,_When%3F_(novel)', 'https://www.goodreads.com/book/show/136096.If_Not_Now_When_', 'https://en.wikipedia.org/wiki/Emmeline_(opera)', 'https://files.eric.ed.gov/fulltext/ED427288.pdf', 'https://www.jstor.org/stable/10.5703/shofar.33.3.46']"
        ],
        [
         "36",
         "The Last Silk Dress",
         "Rinaldi, Ann",
         "Susan Chilmark",
         "[[1, 1], [2, 1988], [3, [\"historical fiction\", \"young adult\", \"coming-of-age\", \"civil war fiction\"]], [4, 0, \"No male character explicitly saves Susan; she navigates challenges independently\"], [5, 0, \"Susan does not directly save a male character, focusing on war efforts and personal growth\"], [6, 0, \"Susan's protection comes from her own resilience rather than male guardianship\"], [7, 0, \"No instances of Susan protecting a male character are described\"], [8, 0, \"Susan solves problems through determination (e.g., dress collection) rather than luck\"], [9, 1, \"She organizes silk dress collection and later re-evaluates her beliefs through critical thinking\"], [10, 0, \"Harm comes from family revelations, not direct male aggression\"], [11, 0, \"Susan does not harm male characters\"], [12, 0, \"Defies her mother's restrictions to pursue war efforts\"], [13, 1, \"Leads dress collection initiative and makes independent decisions\"], [14, 0, \"Actively engages in physical tasks like nursing and dress gathering\"], [15, 1, \"Demonstrates physical and emotional resilience\"], [16, 0, \"Takes significant risks for her cause\"], [17, 1, \"Braves social stigma and family conflict for her beliefs\"], [18, 1, \"Nurses wounded soldiers and cares for family\"], [19, 0, \"Caregiving coexists with her goal-oriented activities\"], [20, 1, \"Navigates complex family dynamics and social expectations\"], [21, 0, \"Balances practical war efforts with emotional awareness\"], [22, 0, \"Prioritizes moral convictions over family/social expectations\"], [23, 1, \"Maintains independence despite others' needs\"], [24, 0, \"Focuses on war efforts rather than domestic duties\"], [25, 0, \"No occupation beyond voluntary war support\"], [26, 1, \"Repeatedly described as beautiful in synopses\"], [27, 1, \"Admired for organizational skills and moral discernment\"], [28, 0, \"No formal occupation, only voluntary roles\"], [29, 0, \"Holds no institutional authority\"]]",
         "['https://www.goodreads.com/book/show/138680.The_Last_Silk_Dress', 'https://learningally.org/bookdetails/bookid/KK600', 'https://archive.org/details/lastsilkdress0000rina_q1j0', 'https://www.bookrags.com/studyguide-the-last-silk-dress/', 'https://thelastsilkdress.weebly.com/characters.html', 'https://www.enotes.com/topics/last-silk/characters', 'http://www.teenink.com/reviews/book_reviews/article/397026/The-Last-Silk-Dress-by-Ann-Rinaldi/', 'https://www.abebooks.com/9780823406906/Last-Silk-Dress-Rinaldi-Ann-0823406903/plp']"
        ],
        [
         "37",
         "Sin City Hot in the City 2",
         "Alexander, Lacey",
         "Diana Marsh",
         "[ [1, 1], [-1, 2005], [3, [\"erotica\", \"romance\", \"contemporary\"]], [4, 0, \"There is no indication that Diana is saved by a male character.\"], [5, 0, \"There is no indication that Diana saves a male character.\"], [6, 0, \"There is no indication that Diana is protected by a male character.\"], [7, 0, \"There is no indication that Diana protects a male character.\"], [8, 99, \"The information does not specify if her problem is solved through help or luck.\"], [9, 99, \"The information does not specify if she solves her own problem through skill.\"], [10, 0, \"There is no indication that Diana is victimized by a male character.\"], [11, 0, \"There is no indication that Diana harms a male character.\"], [12, 99, \"The information does not specify if Diana follows orders.\"], [13, 99, \"The information does not specify if Diana gives orders.\"], [14, 0, \"There is no indication that Diana is physically weak.\"], [15, 99, \"The information does not specify if Diana is physically strong.\"], [16, 0, \"Diana is not portrayed as fearful of taking risks.\"], [17, 1, \"Diana is portrayed as someone who likes taking risks, especially in her romantic life.\"], [18, 99, \"The information does not specify if Diana cares for others.\"], [19, 1, \"Diana focuses on her personal goals and desires, particularly in her romantic life.\"], [20, 99, \"The information does not specify if Diana is emotionally aware and attuned to others' needs.\"], [21, 99, \"The information does not specify if Diana focuses more on practical matters.\"], [22, 0, \"There is no indication that Diana sacrifices her goals for someone else's wellbeing.\"], [23, 1, \"Diana maintains her personal goals and boundaries, especially in her decision to pursue a fling with Marc.\"], [24, 0, \"There is no indication that Diana is a homemaker.\"], [25, 99, \"The information does not specify if Diana is a breadwinner.\"], [26, 99, \"The information does not specify if Diana is admired for her beauty.\"], [27, 99, \"The information does not specify if Diana is admired for her intelligence.\"], [28, 99, \"The information does not specify if Diana has a lower rank occupation.\"], [29, 99, \"The information does not specify if Diana has a higher rank occupation.\"] ,[2, 2005, \"The book was published in 2005.\"]]",
         "['https://www.goodreads.com/book/show/142474.Sin_City', 'https://www.goodreads.com/book/show/11317731-sin-city', 'https://www.abebooks.com/9781609284176/City-Alexander-Lacey-1609284178/plp', 'https://www.thriftbooks.com/w/sin-city_lacey-alexander/779848/', 'https://en.readanybook.com/author/lacey-alexander-252300', 'https://www.imdb.com/name/nm0005176/fullcredits', 'https://www.crdl.org/recommended-reads/list?page=5', 'https://www.janeaddamsbooks.com/quicksearch/all/Group?page=14']"
        ],
        [
         "38",
         "Peachtree Road",
         "Siddons, Anne Rivers",
         "Lucy Bondurant Chastain Venable",
         "[[1, 1], [2, 1988], [3, [\"southern gothic\", \"family saga\", \"literary fiction\", \"historical fiction\", \"psychological fiction\"]], [4, 0, \"Shep attempts to help Lucy but fails to prevent her downward spiral into mental illness and self-destruction\"], [5, 0, \"Lucy's actions primarily harm others rather than save them\"], [6, 1, \"Shep serves as Lucy's lifelong protector and emotional anchor\"], [7, 0, \"Lucy's chaotic behavior endangers others rather than protecting them\"], [8, 0, \"Lucy's mental health and personal crises remain unresolved despite interventions\"], [9, 0, \"Her problems escalate due to self-destructive choices rather than skillful resolution\"], [10, 1, \"Husbands exhibit violent behavior toward her (one becomes physically abusive)\"], [11, 1, \"Her manipulation and instability harm Shep and others emotionally\"], [12, 0, \"Rebels against Southern societal expectations for women\"], [13, 1, \"Exerts strong influence over Shep and others through manipulation\"], [14, 0, \"Described as physically vibrant and energetic\"], [15, 1, \"Maintains physical presence despite mental instability\"], [16, 0, \"Takes risks through rebellious behavior and affairs\"], [17, 1, \"Defies social norms and pursues dangerous relationships\"], [18, 0, \"Focuses on her own needs rather than caregiving\"], [19, 1, \"Neglects daughter and others due to self-absorption\"], [20, 0, \"Disregards social harmony through scandalous behavior\"], [21, 1, \"Focuses on personal desires over emotional dynamics\"], [22, 0, \"Prioritizes her own needs above all others\"], [23, 1, \"Pursues independence despite family expectations\"], [24, 0, \"Fails to maintain traditional domestic roles\"], [25, 0, \"No indication of professional employment\"], [26, 1, \"Repeatedly described as a devastating beauty\"], [27, 0, \"Admired for charm rather than intellect\"], [28, 99, \"No specific occupation mentioned\"], [29, 0, \"No professional achievements described\"]]",
         "['https://www.goodreads.com/book/show/104216', 'https://www.librarything.com/work/55339', 'https://en.wikipedia.org/wiki/Peachtree_Road_(novel)', 'https://www.goodreads.com/book/show/104216.Peachtree_Road', 'https://www.litlovers.com/reading-guides/fiction/peachtree-road-siddons?showall=1', 'https://www.goodreads.com/book/show/1696558', 'https://www.goodreads.com/book/show/886286', 'https://www.kirkusreviews.com/book-reviews/a/anne-rivers-siddons-3/peachtree-road/']"
        ],
        [
         "39",
         "  ",
         "Shin, Kyung-Sook",
         "Oh San",
         "[[1, 1], [2, 2022], [3, [\"literary fiction\", \"contemporary fiction\", \"psychological fiction\"]], [4, 0, \"No male character rescues San; she navigates systemic misogyny and isolation independently\"], [5, 0, \"San does not save any male characters\"], [6, 0, \"No male protection is described; San faces aggression and neglect\"], [7, 0, \"She does not protect male characters\"], [8, 0, \"Her problems remain unresolved, emphasizing systemic oppression\"], [9, 0, \"Her struggles persist due to societal constraints, not resolved through skill\"], [10, 1, \"Faces systemic misogyny and aggression from male customers/characters\"], [11, 0, \"No evidence of harming male characters\"], [12, 1, \"Works menial jobs (flower shop, hairdressing) requiring task compliance\"], [13, 0, \"Does not give orders\"], [14, 99, \"Physical capability not explicitly addressed\"], [15, 99, \"Physical strength not discussed\"], [16, 1, \"Fearful and isolated, avoids confrontation\"], [17, 0, \"No risk-taking beyond obsessive behavior\"], [18, 0, \"Focuses on survival, not caregiving\"], [19, 1, \"Prioritizes self-preservation in hostile environment\"], [20, 0, \"Struggles with emotional dissociation, not attuned to others\"], [21, 1, \"Focuses on practical survival in Seoul\"], [22, 0, \"No self-sacrifice; her needs remain unmet\"], [23, 1, \"Maintains personal boundaries despite external pressures\"], [24, 0, \"No homemaking role described\"], [25, 0, \"Works low-wage jobs, not a breadwinner\"], [26, 99, \"Appearance noted as fragile but not explicitly admired\"], [27, 0, \"Intelligence not highlighted as an admired trait\"], [28, 1, \"Works as flower shop assistant and hairdresser\"], [29, 0, \"No higher-rank occupation\"]]",
         "['https://www.feministpress.org/books-n-z/violets', 'https://ayearofreadingtheworld.com/2022/05/01/book-of-the-month-kyung-sook-shin/', 'https://www.goodreads.com/book/show/60798018-violets', 'https://oxonianreview.com/articles/violator-violence-violets', 'https://www.barnesandnoble.com/w/violets-kyung-sook-shin/1140141086', 'https://www.goodreads.com/book/show/49092634-violets', 'https://www.netgalley.co.uk/book/240046/reviews', 'https://www.instagram.com/p/CcAw441u5nE/']"
        ],
        [
         "40",
         "Everlasting Kissed by an Angel 5",
         "Chandler, Elizabeth",
         "Ivy",
         "[[1, 1, \"Elizabeth Chandler is a pseudonym for Mary-Claire Helldorfer, a female author.\"], [2, 2012], [3, [\"young adult\", \"paranormal romance\", \"mystery\", \"supernatural\", \"drama\"]], [4, 1, \"Tristan (as a fallen angel) repeatedly intervenes to protect Ivy from supernatural threats.\"], [5, 1, \"Ivy actively works to clear Tristan's name and protect him from supernatural dangers.\"], [6, 1, \"Tristan and other male characters like Philip provide protection.\"], [7, 1, \"Ivy protects Tristan by investigating to prove his innocence.\"], [8, 99, \"Mixed agency: Ivy actively investigates but receives angelic assistance.\"], [9, 1, \"Ivy demonstrates investigative skills to solve the murder mystery.\"], [10, 1, \"Gregory (male antagonist) possesses Beth to harm Ivy.\"], [11, 0, \"No evidence of Ivy harming male characters.\"], [12, 0, \"Ivy takes independent action rather than following orders.\"], [13, 1, \"Coordinates plans with Tristan and others.\"], [14, 0, \"No indications of physical incapability.\"], [15, 99, \"Physical strength not emphasized in available descriptions.\"], [16, 0, \"Persists despite life-threatening challenges.\"], [17, 1, \"Braves supernatural threats to protect loved ones.\"], [18, 1, \"Cares deeply for Tristan, Beth, and family members.\"], [19, 0, \"Frequently provides emotional support.\"], [20, 1, \"Sensitive to Tristan's angelic struggles and Beth's possession.\"], [21, 0, \"Prioritizes emotional connections over practical matters.\"], [22, 1, \"Risking her life to protect Tristan.\"], [23, 1, \"Maintains goal of proving Tristan's innocence despite obstacles.\"], [24, 99, \"No explicit homemaker role described.\"], [25, 99, \"Occupation as student mentioned, not breadwinner.\"], [26, 99, \"Physical appearance not emphasized in available sources.\"], [27, 1, \"Demonstrates intelligence through investigative work.\"], [28, 0, \"Student status implied, not lower-rank occupation.\"], [29, 0, \"No higher-rank occupation described.\"]]",
         "['https://www.goodreads.com/book/show/11725462-everlasting', 'https://www.goodreads.com/book/show/19653937', 'https://openbooksociety.com/article/elizabeth-chandler-everlasting-obs-book-review/', 'https://beckysblogs.wordpress.com/2014/05/02/everlasting-by-elizabeth-chandler-review-45/', 'https://newbookrecommendation.com/summary-of-kissed-by-an-angel-everlasting-by-elizabeth-chandler/', 'https://beckysblogs.wordpress.com/2011/11/07/kissed-by-an-angel-by-elizabeth-chandler-review-55/', 'https://www.kirkusreviews.com/book-reviews/elizabeth-chandler/everlasting-chandler/', 'https://www.simonandschuster.com/books/Evercrossed/Elizabeth-Chandler/Kissed-by-an-Angel/9781442409149']"
        ],
        [
         "41",
         "Tricky Business",
         "Barry, Dave",
         "Fay",
         "[[1, 0], [2, 2002], [3, [\"comedy\", \"crime\", \"satire\", \"adventure\", \"humor\"]], [4, 0, \"No direct evidence of male rescue; Fay is a CGIS agent operating independently\"], [5, 99, \"No explicit information about saving a male character\"], [6, 0, \"Fay's undercover role suggests self-reliance\"], [7, 99, \"No specific protective actions toward males described\"], [8, 99, \"Plot resolution details unclear regarding luck/help\"], [9, 1, \"As a CGIS agent, she likely uses professional skills\"], [10, 99, \"No explicit victimization described\"], [11, 99, \"No direct evidence of harming males\"], [12, 1, \"Follows orders as undercover agent\"], [13, 99, \"No explicit order-giving described\"], [14, 0, \"Undercover role implies physical capability\"], [15, 1, \"CGIS agent status suggests competence\"], [16, 0, \"Bravery implied through undercover work\"], [17, 1, \"Accepts risks inherent in covert operations\"], [18, 1, \"Mother to a 2-year-old requiring care\"], [19, 0, \"Balances caregiving with professional duties\"], [20, 99, \"No explicit emotional attunement described\"], [21, 1, \"Focuses on mission objectives\"], [22, 0, \"Maintains undercover role despite personal stakes\"], [23, 1, \"Pursues professional goals while parenting\"], [24, 0, \"Works as cocktail waitress/agent\"], [25, 1, \"Primary caregiver and income provider\"], [26, 1, \"Described as 'pretty, long-legged' waitress\"], [27, 1, \"Undercover work requires intelligence\"], [28, 1, \"Cocktail waitress cover role\"], [29, 1, \"CGIS agent is higher-rank occupation\"]]",
         "['https://www.goodreads.com/book/show/126019.Tricky_Business', 'https://www.robertraymond.com/tricky-business-review/', 'http://www.publishersweekly.com/9780399149245', 'http://shotsmag.co.uk/archive/CRIME%20REPORTS%20REVIEWS/trickey%20business%20review.htm', 'https://www.kirkusreviews.com/book-reviews/dave-barry/tricky-business/', 'https://en.wikipedia.org/wiki/Tricky_Business_(novel)', 'https://home.snu.edu/~jsmith/library/body/v20.pdf', 'https://www.christian-sauve.com/2005/12/tricky-business-dave-barry/']"
        ],
        [
         "42",
         "Before I Wake ",
         "Henderson, Dee",
         "Rae Gabriella",
         "[[1, 1], [2, 2003], [3, [\"mystery\", \"suspense\", \"crime fiction\", \"romance\", \"christian fiction\"]], [4, 1, \"Sheriff Nathan Justice and Bruce Chapel break into Rae's hotel room to save her from the killer\"], [5, 0, \"No evidence of Rae saving a male character\"], [6, 1, \"Nathan and Bruce protect Rae during the investigation\"], [7, 0, \"No evidence of Rae protecting male characters\"], [8, 99, \"Unclear if resolution involves external help or luck\"], [9, 1, \"Rae uses investigative skills to pursue the case\"], [10, 1, \"Rae becomes a potential target of the male serial killer\"], [11, 0, \"No evidence of Rae harming others\"], [12, 0, \"Rae operates independently as a PI\"], [13, 1, \"Rae directs investigative efforts\"], [14, 0, \"Former FBI agent with physical capability\"], [15, 1, \"Trained law enforcement background\"], [16, 0, \"Actively pursues dangerous investigation\"], [17, 1, \"Takes risks investigating murders\"], [18, 0, \"Focuses on investigative work\"], [19, 1, \"Task-oriented approach\"], [20, 99, \"No explicit emotional attunement described\"], [21, 1, \"Prioritizes case-solving over emotional dynamics\"], [22, 0, \"Maintains focus on solving the case\"], [23, 1, \"Persists in investigation despite risks\"], [24, 0, \"Works as private investigator\"], [25, 1, \"Earns income through investigative work\"], [26, 1, \"Her appearance makes her a potential target\"], [27, 1, \"Relies on investigative expertise\"], [28, 0, \"Holds professional investigator role\"], [29, 1, \"Former FBI agent turned PI\"]]",
         "['https://www.goodreads.com/book/show/312626.Before_I_Wake', 'https://susannesspace.blogspot.com/2007/06/book-review-before-i-wake.html', 'http://relzreviewz.com/before-i-wake-by-dee-henderson/', 'https://morethanareview.com/books/wake-dee-henderson/', 'https://www.goodreads.com/book/show/35558935-before-i-wake', 'https://goodreads.com/book/show/312626.Before_I_Wake_', 'https://www.insea.org/wp-content/uploads/2023/04/Critical-Identities_InSEA_2024.pdf', 'https://www.readinggroupguides.com/guides3/before_i_wake1.asp']"
        ],
        [
         "43",
         "Sons of the Oak Runelords 5",
         "Farland, David",
         "Queen Iome Sylvarresta",
         "[[1, 0], [2, \"No publication year found in results (Sons of the Oak not detailed in provided sources)\"], [3, [\"fantasy\", \"epic fantasy\", \"adventure\"]], [4, 99, \"No specific rescue instances for Iome in Sons of the Oak are detailed in available sources\"], [5, 99, \"No direct evidence of Iome saving males in this book from provided materials\"], [6, 99, \"Protection dynamics not explicitly described for this installment\"], [7, 99, \"No protection of males by Iome specifically documented here\"], [8, 99, \"Insufficient plot details about problem-solving in this book\"], [9, 99, \"Skill-based resolutions not confirmed for this volume\"], [10, 99, \"No specific victimization described in available Sons of the Oak content\"], [11, 99, \"No recorded instances of Iome harming males in this book\"], [12, 99, \"Leadership role unclear for this specific installment\"], [13, 99, \"Order-giving not explicitly documented here\"], [14, 99, \"Physical capability status unknown for this book\"], [15, 99, \"Strength demonstrations not recorded in available materials\"], [16, 99, \"Risk-taking behavior not detailed\"], [17, 99, \"Bravery manifestations unspecified\"], [18, 99, \"Caregiving behaviors not described\"], [19, 99, \"Task focus not confirmed\"], [20, 99, \"Emotional attunement not explicitly shown\"], [21, 99, \"Practical focus not verified\"], [22, 99, \"Sacrificial choices not documented\"], [23, 99, \"Boundary maintenance unclear\"], [24, 0, \"As queen, not a homemaker\"], [25, 1, \"Holds position of monarch\"], [26, 1, \"Previously admired for glamour/beauty in series (though loses endowments)\"], [27, 99, \"Intelligence admiration not specifically documented here\"], [28, 0, \"Holds highest social rank\"], [29, 1, \"Queen/ruler by position\"]]",
         "['https://en.wikipedia.org/wiki/The_Runelords', 'https://missgeeky.com/2008/02/02/pageturner-the-runelords-series-by-david-farland/', 'https://www.fictiondb.com/author/david-farland~33215.htm', 'https://www.librarything.com/work/127177/t/The-Runelords', 'https://www.everand.com/book/182521741/The-Runelords', 'https://www.kirkusreviews.com/book-reviews/david-farland/the-runelords/', 'https://en.wikipedia.org/wiki/The_Lair_of_Bones', 'https://kara.reviews/the-runelords/']"
        ],
        [
         "44",
         "The Men with the Golden Cuffs Masters and Mercenaries 2",
         "Blake, Lexi",
         "Serena Brooks",
         "[[1, 1, \"Author Lexi Blake is female\"], [2, 2012], [3, [\"erotic romance\", \"bdsm\", \"romantic suspense\", \"contemporary romance\", \"ménage\"]], [4, 1, \"Adam and Jacob protect Serena from her stalker and help resolve the threat\"], [5, 0, \"No evidence of Serena saving male characters\"], [6, 1, \"Hired as bodyguards, Adam and Jacob physically protect Serena throughout\"], [7, 0, \"No protective actions toward male characters described\"], [8, 1, \"Resolution involves collaboration with Adam/Jacob against the stalker\"], [9, 0, \"Relies on male protection rather than solving through personal skill\"], [10, 1, \"Stalker (implied male) threatens her; Jacob's distrust causes emotional harm\"], [11, 0, \"No evidence of Serena harming others\"], [12, 1, \"Follows BDSM dynamics with Jacob as Dom\"], [13, 0, \"No evidence of command-giving behavior\"], [14, 0, \"No physical incapacity described\"], [15, 99, \"Physical capability not emphasized\"], [16, 1, \"Initially fearful of relationships/trust due to abandonment issues\"], [17, 1, \"Braves BDSM exploration and confronts stalker\"], [18, 0, \"Focus remains on her survival/relationship needs\"], [19, 1, \"Prioritizes writing career and self-preservation\"], [20, 1, \"Acknowledges relationship dynamics between Adam/Jacob\"], [21, 0, \"Emotional awareness overrides impersonal focus\"], [22, 0, \"Maintains boundaries despite male expectations\"], [23, 1, \"Persists with writing career and relationship demands\"], [24, 0, \"No homemaker role described\"], [25, 1, \"Bestselling author as primary occupation\"], [26, 99, \"Attraction noted but not framed as primary admiration\"], [27, 1, \"Admired for successful writing career\"], [28, 0, \"High-status author role\"], [29, 1, \"Bestselling author constitutes high-rank occupation\"]]",
         "['https://www.goodreads.com/book/show/13602321-the-men-with-the-golden-cuffs', 'https://www.blinkist.com/en/books/the-men-with-the-golden-cuffs-en', 'https://www.barnesandnoble.com/w/the-men-with-the-golden-cuffs-blake-lexi/1129244588', 'https://newbookrecommendation.com/summary-of-the-men-with-the-golden-cuffs-by-lexi-blake/', 'https://www.barnesandnoble.com/w/the-men-with-the-golden-cuffs-lexi-blake/1111243482', 'https://www.barnesandnoble.com/w/the-men-with-the-golden-cuffs-lexi-blake/1111243482?bvstate=pg%3A3%2Fct%3Ar', 'https://elgin.biblionix.com/catalog/titles/', 'https://books.apple.com/us/book/the-men-with-the-golden-cuffs/id595855085']"
        ],
        [
         "45",
         "Crave The Clann 1",
         "Darnell, Melissa",
         "Savannah Colbert",
         "[[1, 1], [2, 2011], [3, [\"young adult\", \"supernatural fiction\", \"paranormal romance\", \"urban fantasy\", \"vampire fiction\"]], [4, 99, \"No explicit rescue by Tristan mentioned in available sources\"], [5, 99, \"No evidence of Savannah saving a male character in provided materials\"], [6, 1, \"Protected by family (father/grandmother) and possibly Tristan's implied protection\"], [7, 99, \"No clear evidence of Savannah protecting males\"], [8, 99, \"Conflict resolution details unclear in available sources\"], [9, 99, \"Self-sufficiency in problem-solving not explicitly described\"], [10, 0, \"Bullied by Clann members but not specifically male-perpetrated harm\"], [11, 99, \"No evidence of harming males\"], [12, 1, \"Follows family's orders to avoid Clann initially\"], [13, 99, \"No explicit order-giving described\"], [14, 0, \"Becomes physically enhanced as dhampir\"], [15, 1, \"Gains vampire strength post-transformation\"], [16, 1, \"Initially fearful of social/romantic risks\"], [17, 1, \"Pursues forbidden relationship despite dangers\"], [18, 99, \"Caregiving behaviors not emphasized\"], [19, 1, \"Focuses on survival/relationship goals\"], [20, 1, \"Aware of social dynamics and Tristan's emotional state\"], [21, 0, \"Emotional conflicts drive decisions\"], [22, 1, \"Sacrifices relationship for peace initially\"], [23, 1, \"Ultimately pursues relationship against expectations\"], [24, 0, \"High school student\"], [25, 0, \"No occupation mentioned\"], [26, 1, \"Attracts attention post-transformation\"], [27, 99, \"Intelligence not specifically highlighted\"], [28, 0, \"No occupation\"], [29, 0, \"No occupation\"]]",
         "['https://jottedbyjena.com/2011/08/29/crave-by-melissa-darnell/', 'https://www.crackingthecover.com/4997/melissa-darnells-crave-doesnt-live-up-to-its-title/', 'https://www.goodreads.com/book/show/12999822', 'http://agelesspagesreviews.blogspot.com/2011/11/review-crave-by-melissa-darnell.html', 'https://www.burnbright.com.au/burn-bright-book-club-crave-by-melissa-darnell/', 'https://www.goodreads.com/book/show/11164626-crave', 'https://www.harlequin.com/shop/books/9781459215344_crave.html', 'https://intothehallofbooks.com/review-crave-by-melissa-darnell/']"
        ],
        [
         "46",
         "The Overlord Protocol HIVE 2",
         "Walden, Mark",
         "Laura",
         "[[1, 0], [2, 2009], [3, [\"young adult\", \"science fiction\", \"adventure\", \"action\", \"thriller\"]], [4, 99, \"No explicit rescue of Laura by male characters mentioned in available sources\"], [5, 99, \"No direct evidence of Laura saving male characters in described events\"], [6, 99, \"Protection dynamics not specifically detailed for Laura\"], [7, 99, \"No explicit protection of males by Laura described\"], [8, 99, \"Problem-solving methods for Laura's challenges unclear\"], [9, 1, \"Laura demonstrates technical skill by intercepting transmissions and assisting in missions\"], [10, 1, \"Laura is captured/threatened by Cypher's forces (implied through Contessa's betrayal)\"], [11, 99, \"No evidence of Laura harming male characters\"], [12, 1, \"Collaborates with school leadership against threats\"], [13, 1, \"Takes initiative in security operations\"], [14, 0, \"Actively participates in high-stakes missions\"], [15, 1, \"Shows competence in technical and tactical situations\"], [16, 0, \"Engages willingly in dangerous missions\"], [17, 1, \"Participates in life-threatening operations\"], [18, 99, \"Caregiving behaviors not explicitly described\"], [19, 1, \"Focuses on mission-critical tasks\"], [20, 99, \"Emotional attunement not specifically detailed\"], [21, 1, \"Prioritizes practical mission objectives\"], [22, 99, \"Sacrifice dynamics unclear\"], [23, 1, \"Maintains focus on operational goals\"], [24, 0, \"Not a homemaker\"], [25, 99, \"Occupation rank unclear (student at villain academy)\"], [26, 99, \"Physical appearance admiration not mentioned\"], [27, 1, \"Valued for technical/hacking skills\"], [28, 0, \"Student at specialized academy\"], [29, 0, \"Not in leadership position\"]]",
         "['https://www.goodreads.com/book/show/3205548', 'https://www.compassbookratings.com/h-i-v-e-2-the-overlord-protocol/', 'https://siderealday.wordpress.com/2017/08/22/review-the-overlord-protocol/', 'https://www.simonandschuster.com/books/The-Overlord-Protocol/Mark-Walden/H-I-V-E/9781416935742', 'http://buxfantasy.blogspot.com/2013/08/hive-2-overlord-protocol-by-mark-walden.html', 'https://lucyscolouredpencils.wordpress.com/2019/01/19/hive-overlord-protocol-by-mark-walden/', 'https://yourbookguy.files.wordpress.com/2012/07/h-i-v-e-escape-velocity.pdf', 'https://yourbookguy.files.wordpress.com/2012/07/h-i-v-e-the-overlord-protocol.pdf']"
        ],
        [
         "47",
         "Eragon The Inheritance Cycle 1",
         "Paolini, Christopher",
         "Arya",
         "[[1, 0], [2, 2002], [3, [\"fantasy\", \"young adult\", \"adventure\", \"epic fantasy\", \"high fantasy\"]], [4, 1, \"Eragon rescues Arya from Durza's captivity in the first book.\"], [5, 0, \"Arya does not directly save a male character in the first book, though she aids the Varden's cause.\"], [6, 1, \"Eragon and Brom protect Arya during her recovery and journey to the Varden.\"], [7, 1, \"Arya protects Eragon and others through her combat skills and magical abilities.\"], [8, 1, \"Arya's rescue from Durza relies on Eragon's intervention.\"], [9, 1, \"Arya demonstrates skill in combat and magic, contributing to her survival and missions.\"], [10, 1, \"Arya is tortured by Durza, a male antagonist.\"], [11, 1, \"Arya fights and harms male enemies, including Durza.\"], [12, 1, \"Arya follows orders from her queen and the Varden leadership.\"], [13, 1, \"Arya gives orders as an ambassador and later as a leader.\"], [14, 0, \"Arya is physically strong and capable as an elf warrior.\"], [15, 1, \"Arya is a master swordswoman and magician.\"], [16, 0, \"Arya is fearless in battle and diplomatic missions.\"], [17, 1, \"Arya undertakes high-risk missions, including transporting Saphira's egg.\"], [18, 0, \"Arya focuses on strategic goals rather than caregiving.\"], [19, 1, \"Arya prioritizes her duties over personal caregiving.\"], [20, 0, \"Arya is reserved and mission-focused, not overtly attuned to emotional dynamics.\"], [21, 1, \"Arya emphasizes practical goals, such as defeating Galbatorix.\"], [22, 0, \"Arya maintains her duties and boundaries despite others' needs.\"], [23, 1, \"Arya prioritizes her responsibilities over personal relationships.\"], [24, 0, \"Arya is a warrior and diplomat, not a homemaker.\"], [25, 0, \"Arya's role is political and military, not economic.\"], [26, 1, \"Arya is described as a known beauty with striking features.\"], [27, 1, \"Arya is admired for her wisdom and magical expertise.\"], [28, 0, \"Arya holds high-ranking roles as an ambassador and princess.\"], [29, 1, \"Arya is a princess, ambassador, and later queen.\"]]",
         "['https://www.goodreads.com/characters/42153-arya-the-inheritance-cycle', 'https://en.wikipedia.org/wiki/List_of_The_Inheritance_Cycle_characters', 'https://www.youtube.com/watch?v=ll1UfY-XWfw', 'https://www.paolini.net/2016/12/21/christopher-paolini-popular-questions-of-2016/', 'https://www.scatteredbooks.com/uncategorized/an-epic-coming-of-age-tale-a-captivating-review-of-eragon-by-christopher-paolini/', 'https://fractalverse.net/qas-with-christopher-burning-questions-part-2/', 'https://www.tiktok.com/@christopher_paolini/video/7215720542593207594']"
        ],
        [
         "48",
         "Living Dangerously",
         "Fforde, Katie",
         "Polly Cameron",
         "[ [1, 1], [-1, 1995], [3, [\"romance\", \"contemporary\"]], [4, 99, \"No information about Polly being saved by a male character.\"], [5, 99, \"No information about Polly saving a male character.\"], [6, 99, \"No information about Polly being protected by a male character.\"], [7, 99, \"No information about Polly protecting a male character.\"], [8, 99, \"No information about Polly's problem being solved through help or luck.\"], [9, 99, \"No information about Polly solving her own problem through skill.\"], [10, 0, \"No indication of Polly being victimized by a male character.\"], [11, 0, \"No indication of Polly harming a male character.\"], [12, 99, \"No information about Polly following orders.\"], [13, 99, \"No information about Polly giving orders.\"], [14, 0, \"No indication of Polly being physically weak.\"], [15, 99, \"No information about Polly's physical strength.\"], [16, 99, \"No information about Polly being fearful of taking risks.\"], [17, 99, \"No information about Polly being brave or liking risks.\"], [18, 1, \"Polly cares for others, such as her friends and possibly her cat.\"], [19, 1, \"Polly focuses on her pottery career and other personal goals.\"], [20, 99, \"No information about Polly being emotionally aware and attuned to others.\"], [21, 1, \"Polly focuses on practical matters like her pottery and job.\"], [22, 99, \"No information about Polly sacrificing her goals for others.\"], [23, 1, \"Polly maintains her personal goals, such as her pottery career.\"], [24, 0, \"No indication of Polly being a homemaker.\"], [25, 1, \"Polly is a breadwinner through her job at the Whole Nut café.\"], [26, 99, \"No information about Polly being admired for her beauty.\"], [27, 99, \"No information about Polly being admired for her intelligence.\"], [28, 1, \"Polly has a lower rank occupation at the Whole Nut café.\"], [29, 0, \"No indication of Polly having a higher rank occupation.\"] ,[2, 1995, \"The book 'Living Dangerously' by Katie Fforde was published in 1995.\"]]",
         "['https://erubooksandrecs.wordpress.com/2016/02/25/book-review-living-dangerously-by-katie-fforde/', 'https://josbookjourney.wordpress.com/2012/04/24/living-dangerously-katie-fforde/', 'https://katiefforde.com/products/living-dangerously-1995', 'https://www.goodreads.com/book/show/127892353-living-dangerously-by-katie-fforde', 'https://www.penguin.co.uk/books/357474/living-dangerously-by-fforde-katie/9780099446651', 'https://books.apple.com/ie/audiobook/living-dangerously/id1472720362', 'https://www.goodreads.com/book/show/442954.Living_Dangerously', 'https://app.thestorygraph.com/book_reviews/eb63e39c-f29e-4b4b-b0ed-b762ed574c55?page=2']"
        ],
        [
         "49",
         "One Night at the Call Centre",
         "Bhagat, Chetan",
         "Esha",
         "[[1, 0], [2, 2005], [3, [\"contemporary fiction\", \"drama\", \"romance\"]], [4, 0, \"No male character directly intervenes to resolve Esha's modeling career crisis or emotional trauma\"], [5, 0, \"Esha doesn't actively save any male characters in the narrative\"], [6, 0, \"No textual evidence of male protection\"], [7, 0, \"Doesn't protect male characters\"], [8, 0, \"Her modeling career failure remains unresolved; she continues working at the call center\"], [9, 0, \"Doesn't use specific skills to resolve her core conflict about the modeling incident\"], [10, 1, \"Exploited by a male designer who takes advantage of her modeling aspirations\"], [11, 0, \"No evidence of harming male characters\"], [12, 1, \"Follows call center protocols and Bakshi's management\"], [13, 0, \"No leadership role shown\"], [14, 0, \"No physical incapacity mentioned\"], [15, 99, \"Physical capability not discussed\"], [16, 0, \"Pursues modeling despite risks, though later quits due to trauma\"], [17, 1, \"Initially takes risks by entering modeling industry\"], [18, 1, \"Provides housing for Radhika post-divorce\"], [19, 0, \"Engages in caregiving by supporting Radhika\"], [20, 1, \"Recognizes others' struggles (e.g., Shyam's relationship issues)\"], [21, 0, \"Focuses on personal appearance and relationships\"], [22, 0, \"Prioritizes modeling career over relationships initially\"], [23, 1, \"Maintains career focus despite setbacks\"], [24, 0, \"Works full-time at call center\"], [25, 1, \"Earns through call center job\"], [26, 1, \"Colleagues consider her 'the hottest chick'\"], [27, 0, \"Intelligence not highlighted as key trait\"], [28, 1, \"Call center agent (entry-level position)\"], [29, 0, \"No managerial role\"]]",
         "['https://en.wikipedia.org/wiki/One_Night_@_the_Call_Center', 'https://www.slideshare.net/slideshow/sejal-46129500/46129500', 'http://pratikshasolanki21.blogspot.com/2015/03/characters-in-one-night-call-centre.html', 'https://sobrief.com/books/one-night-at-the-call-center', 'https://www.iosrjournals.org/iosr-jhss/papers/Vol.%2024%20Issue5/Series-1/K2405017779.pdf', 'https://ashadhedhi.blogspot.com/2021/02/thinking-activity-one-night-at-call.html', 'https://rapidreadingblog.wordpress.com/2019/07/16/127/', 'https://www.slideshare.net/slideshow/one-night-the-call-center-priyanka-esha-as-a-modern-girls/45766801']"
        ]
       ],
       "shape": {
        "columns": 5,
        "rows": 100
       }
      },
      "text/html": [
       "<div>\n",
       "<style scoped>\n",
       "    .dataframe tbody tr th:only-of-type {\n",
       "        vertical-align: middle;\n",
       "    }\n",
       "\n",
       "    .dataframe tbody tr th {\n",
       "        vertical-align: top;\n",
       "    }\n",
       "\n",
       "    .dataframe thead th {\n",
       "        text-align: right;\n",
       "    }\n",
       "</style>\n",
       "<table border=\"1\" class=\"dataframe\">\n",
       "  <thead>\n",
       "    <tr style=\"text-align: right;\">\n",
       "      <th></th>\n",
       "      <th>title</th>\n",
       "      <th>author</th>\n",
       "      <th>fmc_name</th>\n",
       "      <th>answer</th>\n",
       "      <th>citation</th>\n",
       "    </tr>\n",
       "  </thead>\n",
       "  <tbody>\n",
       "    <tr>\n",
       "      <th>0</th>\n",
       "      <td>Dirty Little Secrets JJ Graves Mystery 1</td>\n",
       "      <td>Hart, Liliana</td>\n",
       "      <td>J.J. Graves</td>\n",
       "      <td>[[1, 1], [2, 2011], [3, [\"mystery\", \"romance\",...</td>\n",
       "      <td>['https://www.goodreads.com/book/show/49587058...</td>\n",
       "    </tr>\n",
       "    <tr>\n",
       "      <th>1</th>\n",
       "      <td>The Tycoons Vacation Baby for the Billionaire 2</td>\n",
       "      <td>Anne, Melody</td>\n",
       "      <td>Trinity Mathews</td>\n",
       "      <td>[[1, 1], [2, 2011], [3, [\"romance\", \"contempor...</td>\n",
       "      <td>['https://www.goodreads.com/book/show/19561986...</td>\n",
       "    </tr>\n",
       "    <tr>\n",
       "      <th>2</th>\n",
       "      <td>White Girl Problems</td>\n",
       "      <td>Walker, Babe</td>\n",
       "      <td>Babe Walker</td>\n",
       "      <td>[[1, 99, \"Author gender unclear; Babe Walker i...</td>\n",
       "      <td>['https://www.goodreads.com/book/show/12413949...</td>\n",
       "    </tr>\n",
       "    <tr>\n",
       "      <th>3</th>\n",
       "      <td>The Empty House</td>\n",
       "      <td>Pilcher, Rosamunde</td>\n",
       "      <td>Virginia Keile</td>\n",
       "      <td>[\\n[1, 1], 1, \"Rosamunde Pilcher is a female a...</td>\n",
       "      <td>['https://www.goodreads.com/book/show/1054377'...</td>\n",
       "    </tr>\n",
       "    <tr>\n",
       "      <th>4</th>\n",
       "      <td>The Unicorn</td>\n",
       "      <td>Murdoch, Iris</td>\n",
       "      <td>Hannah Crean-Smith</td>\n",
       "      <td>[[1, 1], [2, 1963], [3, [\"gothic fiction\", \"ph...</td>\n",
       "      <td>['https://en.wikipedia.org/wiki/The_Unicorn_(n...</td>\n",
       "    </tr>\n",
       "    <tr>\n",
       "      <th>...</th>\n",
       "      <td>...</td>\n",
       "      <td>...</td>\n",
       "      <td>...</td>\n",
       "      <td>...</td>\n",
       "      <td>...</td>\n",
       "    </tr>\n",
       "    <tr>\n",
       "      <th>95</th>\n",
       "      <td>Charmed to Death Ophelia  Abby  2</td>\n",
       "      <td>Damsgaard, Shirley</td>\n",
       "      <td>Ophelia Jensen</td>\n",
       "      <td>[ [1, 1], [-1, -1] , [-1, [\"mystery\", \"paranor...</td>\n",
       "      <td>['https://www.goodreads.com/book/show/141036.C...</td>\n",
       "    </tr>\n",
       "    <tr>\n",
       "      <th>96</th>\n",
       "      <td>Dealova</td>\n",
       "      <td>Nuranindya, Dyan</td>\n",
       "      <td>Karra</td>\n",
       "      <td>[[1, 1], [2, 2005], [3, [\"young adult\", \"roman...</td>\n",
       "      <td>['https://en.brilio.net/entertainment/dealova-...</td>\n",
       "    </tr>\n",
       "    <tr>\n",
       "      <th>97</th>\n",
       "      <td>The Promise Fallen Star 4</td>\n",
       "      <td>Sorensen, Jessica</td>\n",
       "      <td>Gemma Lucas</td>\n",
       "      <td>[[1, 1], [2, 2012], [3, [\"young adult\", \"urban...</td>\n",
       "      <td>['https://goodreads.com/book/show/13615578.The...</td>\n",
       "    </tr>\n",
       "    <tr>\n",
       "      <th>98</th>\n",
       "      <td>A Boy of Good Breeding</td>\n",
       "      <td>Toews, Miriam</td>\n",
       "      <td>Knute</td>\n",
       "      <td>[[1, 1], [2, 2006], [3, [\"literary fiction\", \"...</td>\n",
       "      <td>['https://quillandquire.com/review/a-boy-of-go...</td>\n",
       "    </tr>\n",
       "    <tr>\n",
       "      <th>99</th>\n",
       "      <td>Boy21</td>\n",
       "      <td>Quick, Matthew</td>\n",
       "      <td>Erin Quinn</td>\n",
       "      <td>[ [1, 0], [-1, -1], [2, []], [3, 0, \"No inform...</td>\n",
       "      <td>['https://www.supersummary.com/boy21/summary/'...</td>\n",
       "    </tr>\n",
       "  </tbody>\n",
       "</table>\n",
       "<p>100 rows × 5 columns</p>\n",
       "</div>"
      ],
      "text/plain": [
       "                                              title              author  \\\n",
       "0          Dirty Little Secrets JJ Graves Mystery 1       Hart, Liliana   \n",
       "1   The Tycoons Vacation Baby for the Billionaire 2        Anne, Melody   \n",
       "2                               White Girl Problems        Walker, Babe   \n",
       "3                                   The Empty House  Pilcher, Rosamunde   \n",
       "4                                       The Unicorn       Murdoch, Iris   \n",
       "..                                              ...                 ...   \n",
       "95                Charmed to Death Ophelia  Abby  2  Damsgaard, Shirley   \n",
       "96                                          Dealova    Nuranindya, Dyan   \n",
       "97                        The Promise Fallen Star 4   Sorensen, Jessica   \n",
       "98                           A Boy of Good Breeding       Toews, Miriam   \n",
       "99                                            Boy21      Quick, Matthew   \n",
       "\n",
       "              fmc_name                                             answer  \\\n",
       "0          J.J. Graves  [[1, 1], [2, 2011], [3, [\"mystery\", \"romance\",...   \n",
       "1      Trinity Mathews  [[1, 1], [2, 2011], [3, [\"romance\", \"contempor...   \n",
       "2          Babe Walker  [[1, 99, \"Author gender unclear; Babe Walker i...   \n",
       "3       Virginia Keile  [\\n[1, 1], 1, \"Rosamunde Pilcher is a female a...   \n",
       "4   Hannah Crean-Smith  [[1, 1], [2, 1963], [3, [\"gothic fiction\", \"ph...   \n",
       "..                 ...                                                ...   \n",
       "95      Ophelia Jensen  [ [1, 1], [-1, -1] , [-1, [\"mystery\", \"paranor...   \n",
       "96               Karra  [[1, 1], [2, 2005], [3, [\"young adult\", \"roman...   \n",
       "97         Gemma Lucas  [[1, 1], [2, 2012], [3, [\"young adult\", \"urban...   \n",
       "98               Knute  [[1, 1], [2, 2006], [3, [\"literary fiction\", \"...   \n",
       "99          Erin Quinn  [ [1, 0], [-1, -1], [2, []], [3, 0, \"No inform...   \n",
       "\n",
       "                                             citation  \n",
       "0   ['https://www.goodreads.com/book/show/49587058...  \n",
       "1   ['https://www.goodreads.com/book/show/19561986...  \n",
       "2   ['https://www.goodreads.com/book/show/12413949...  \n",
       "3   ['https://www.goodreads.com/book/show/1054377'...  \n",
       "4   ['https://en.wikipedia.org/wiki/The_Unicorn_(n...  \n",
       "..                                                ...  \n",
       "95  ['https://www.goodreads.com/book/show/141036.C...  \n",
       "96  ['https://en.brilio.net/entertainment/dealova-...  \n",
       "97  ['https://goodreads.com/book/show/13615578.The...  \n",
       "98  ['https://quillandquire.com/review/a-boy-of-go...  \n",
       "99  ['https://www.supersummary.com/boy21/summary/'...  \n",
       "\n",
       "[100 rows x 5 columns]"
      ]
     },
     "execution_count": 9,
     "metadata": {},
     "output_type": "execute_result"
    }
   ],
   "source": [
    "df_result = pd.read_csv(\"progress_features.csv\")\n",
    "df_result"
   ]
  },
  {
   "cell_type": "code",
   "execution_count": 10,
   "id": "3cfd1774",
   "metadata": {},
   "outputs": [
    {
     "name": "stdout",
     "output_type": "stream",
     "text": [
      "[[1, 1], [2, 2011], [3, [\"mystery\", \"romance\", \"suspense\", \"thriller\"]], [4, 99, \"No explicit rescue by a male character mentioned in available sources\"], [5, 99, \"No information about saving a male character\"], [6, 1, \"Works closely with Detective Jack Lawson, implying professional protection\"], [7, 99, \"No explicit protection of male characters described\"], [8, 99, \"Resolution details unclear from available sources\"], [9, 1, \"Uses her coroner expertise to investigate murders\"], [10, 99, \"No specific victimization by male characters confirmed\"], [11, 99, \"No information about harming male characters\"], [12, 0, \"As coroner, she operates independently in her role\"], [13, 1, \"Collaborates with law enforcement, implying authority\"], [14, 0, \"No indications of physical weakness\"], [15, 1, \"Handles physically demanding coroner duties\"], [16, 0, \"Actively pursues dangerous investigations\"], [17, 1, \"Takes risks to solve murders\"], [18, 0, \"Focuses on investigative work rather than caregiving\"], [19, 1, \"Prioritizes solving crimes over emotional support\"], [20, 99, \"No explicit emotional attunement described\"], [21, 1, \"Focuses on forensic and investigative tasks\"], [22, 0, \"Maintains focus on solving crimes\"], [23, 1, \"Persists in investigations despite personal risks\"], [24, 0, \"Mortician/coroner profession\"], [25, 1, \"Runs mortuary business and holds coroner position\"], [26, 99, \"Physical appearance not emphasized in sources\"], [27, 1, \"Admired for medical and investigative skills\"], [28, 0, \"Coroner/doctor is a high-status position\"], [29, 1, \"Holds authoritative roles as coroner and business owner\"]]\n",
      "[[1, 1], [2, 2011], [3, [\"romance\", \"contemporary romance\", \"billionaire romance\", \"drama\", \"family life\"]], [4, 1, \"Drew provides financial support and insists on marriage after discovering her pregnancy, though no direct physical rescue occurs\"], [5, 0, \"No instances of Trinity saving a male character\"], [6, 1, \"Drew arranges medical care during her pregnancy complications and insists on protecting her\"], [7, 0, \"No evidence of Trinity protecting male characters\"], [8, 1, \"Pregnancy complications resolve with Drew's intervention and resources\"], [9, 0, \"Relies on Drew's support rather than independent problem-solving\"], [10, 0, \"No direct harm by male characters, though Drew's deception causes emotional distress\"], [11, 0, \"No harmful actions toward male characters\"], [12, 0, \"Resists Drew's demands initially\"], [13, 0, \"No evidence of authoritative behavior\"], [14, 1, \"Bedridden during pregnancy complications\"], [15, 0, \"Physical limitations during high-risk pregnancy\"], [16, 1, \"Initially fearful of trusting Drew\"], [17, 1, \"Takes risks by pursuing vacation romance\"], [18, 1, \"Becomes caregiver to unborn child\"], [19, 0, \"Prioritizes pregnancy care\"], [20, 99, \"Limited emotional dynamics described\"], [21, 0, \"Focuses on pregnancy and relationship\"], [22, 0, \"Maintains independence initially\"], [23, 1, \"Eventually accepts help but maintains boundaries\"], [24, 0, \"No homemaker role specified\"], [25, 99, \"Occupation pre-pregnancy unclear\"], [26, 1, \"Described as beautiful by Drew\"], [27, 99, \"Intelligence not emphasized\"], [28, 99, \"Pre-pregnancy occupation unspecified\"], [29, 0, \"No high-rank occupation indicated\"]]\n",
      "[[1, 99, \"Author gender unclear; Babe Walker is a pseudonym and public persona, with no definitive biographical information available.\"], [2, 2012], [3, [\"satire\", \"humor\", \"memoir\", \"contemporary fiction\", \"chick lit\"]], [4, 0, \"No male character rescues Babe; she self-admits to rehab after her shopping spree.\"], [5, 0, \"Babe does not save any male characters; her actions are self-focused.\"], [6, 0, \"No male protection is described; her father is absent in a caretaking role.\"], [7, 0, \"She does not protect male characters; her relationships are transactional or self-serving.\"], [8, 0, \"Her 'recovery' is superficial, with no lasting change or external resolution.\"], [9, 0, \"She lacks self-awareness and problem-solving skills, relying on privilege rather than growth.\"], [10, 0, \"No male victimization is described; her conflicts are self-created.\"], [11, 0, \"She harms relationships through narcissism but not physically.\"], [12, 0, \"She resists authority (e.g., therapists, rehab protocols).\"], [13, 1, \"She demands compliance from others (e.g., staff, romantic interests).\"], [14, 0, \"No physical incapacity is noted.\"], [15, 99, \"Physical strength is irrelevant to her character arc.\"], [16, 0, \"She takes risks (e.g., extreme shopping, stalking behavior).\"], [17, 1, \"She pursues desires recklessly (e.g., $246k shopping spree).\"], [18, 0, \"She shows no caregiving; her nanny Mabinty cares for her.\"], [19, 1, \"Focuses entirely on self-image and material goals.\"], [20, 0, \"Lacks empathy; mocks others' emotions (e.g., therapists, partners).\"], [21, 1, \"Prioritizes superficial concerns (e.g., fashion, social status).\"], [22, 0, \"Never sacrifices desires; expects others to accommodate her.\"], [23, 1, \"Relentlessly pursues self-interest despite others' needs.\"], [24, 0, \"No homemaking role; relies on staff for domestic tasks.\"], [25, 99, \"Her wealth is inherited, not earned through occupation.\"], [26, 1, \"Her beauty is central to her identity and social power.\"], [27, 0, \"Intelligence is not a noted trait; she fails academically.\"], [28, 0, \"She holds no formal job; her fashion line fails.\"], [29, 0, \"No high-status occupation; she rejects traditional career paths.\"]]\n",
      "[\n",
      "[1, 1], 1, \"Rosamunde Pilcher is a female author.\"] \n",
      "[[1, 1], [2, 1963], [3, [\"gothic fiction\", \"philosophical fiction\", \"psychological fiction\"]], [4, 0, \"Hannah's attempted escape fails, and she ultimately drowns herself without successful male intervention[7].\"], [5, 0, \"Hannah does not save any male characters[7].\"], [6, 1, \"Gerald Scottow acts as her jailer under Peter's orders, though this 'protection' is oppressive[1][6].\"], [7, 0, \"Hannah does not protect male characters[7].\"], [8, 0, \"Her confinement remains unresolved, ending in suicide[7].\"], [9, 0, \"She fails to escape despite attempts, relying on others' flawed plans[7].\"], [10, 1, \"Imprisoned by husband Peter for infidelity and attempted murder[1][6].\"], [11, 1, \"Attempted to kill Peter during a confrontation[1][6].\"], [12, 1, \"Complies with confinement rules until escape attempts[7].\"], [13, 0, \"No evidence of her issuing commands[7].\"], [14, 99, \"Physical capability not explicitly described[7].\"], [15, 99, \"No textual evidence of physical strength[7].\"], [16, 1, \"Fearful of the outside world, content in confinement[6][7].\"], [17, 0, \"Passive until final desperate escape attempt[7].\"], [18, 0, \"No caregiving behaviors described[7].\"], [19, 1, \"Focused on her own survival/escape[7].\"], [20, 0, \"Withdrawn, emotionally detached from others[6][7].\"], [21, 1, \"Focused on her imprisonment rather than social dynamics[7].\"], [22, 0, \"Prioritizes escape over others' needs[7].\"], [23, 1, \"Maintains desire for freedom despite others' agendas[7].\"], [24, 0, \"No homemaking role described[7].\"], [25, 0, \"No occupation; imprisoned aristocrat[6][7].\"], [26, 1, \"Described as 'strikingly lovely' with golden hair[6][8].\"], [27, 0, \"Intelligence not emphasized[6][7].\"], [28, 0, \"Former mistress of the estate[6].\"], [29, 0, \"No occupational authority[6][7].\"]]\n",
      "[[1, 0], [2, 2004], [3, [\"fantasy\", \"adventure\", \"young adult\"]], [4, 0, \"No evidence of Elli being saved by a male character; she escapes slavery independently and faces challenges alongside others.\"], [5, 99, \"No explicit information about Elli saving a male character.\"], [6, 0, \"Elli's primary companion is her maryth Nuic, a non-male pinnacle sprite.\"], [7, 99, \"No direct evidence of Elli protecting a male character.\"], [8, 0, \"Elli actively works to solve Avalon's crises through determination and skill.\"], [9, 1, \"She overcomes her traumatic past and contributes to Avalon's salvation through resilience.\"], [10, 1, \"Her parents were killed in gnome raids, though the attackers' genders are unspecified.\"], [11, 0, \"No evidence of Elli harming male characters.\"], [12, 1, \"Follows orders as an apprentice priestess initially, but later takes independent action.\"], [13, 1, \"Assumes leadership roles in critical missions.\"], [14, 0, \"Survives enslavement and undertakes physically demanding journeys.\"], [15, 1, \"Demonstrates physical and emotional strength throughout her quest.\"], [16, 0, \"Braves dangerous situations despite risks.\"], [17, 1, \"Actively confronts threats to Avalon.\"], [18, 1, \"Shows care through her priestess role and alliances.\"], [19, 0, \"Balances caregiving with goal-oriented actions.\"], [20, 1, \"Maintains group cohesion and responds to others' needs.\"], [21, 0, \"Prioritizes both practical and emotional aspects of her quest.\"], [22, 0, \"Pursues Avalon's salvation without abandoning personal goals.\"], [23, 1, \"Maintains her mission focus despite others' expectations.\"], [24, 0, \"No domestic role described.\"], [25, 0, \"Her priestess role focuses on spiritual service, not income.\"], [26, 99, \"Physical appearance not emphasized in available sources.\"], [27, 1, \"Admired for wisdom and determination as a priestess.\"], [28, 1, \"Starts as apprentice priestess under Llynia.\"], [29, 0, \"Does not hold a high-ranking leadership position initially.\"]]\n",
      "[[1, 0], [2, 2012], [3, [\"thriller\", \"action\", \"military fiction\", \"espionage\", \"adventure\"]], [4, 0, \"Maras is a skilled agent who collaborates with Drake rather than being saved by him\"], [5, 99, \"No explicit mention of her saving a male character in provided sources\"], [6, 0, \"Drake and Maras are forced into a partnership of equals, not a protector-protected dynamic\"], [7, 99, \"No explicit protection of male characters described in available material\"], [8, 0, \"Her survival appears skill-based given her veteran agent background\"], [9, 1, \"Described as exceptionally capable and driven to achieve her goals\"], [10, 1, \"Scarred by years of brutal imprisonment (implied male perpetrators)\"], [11, 1, \"Uses manipulation and physical capability against adversaries\"], [12, 0, \"Operates independently with her own agenda\"], [13, 1, \"As a veteran agent, likely commands operational authority\"], [14, 0, \"Portrayed as physically capable and combat-trained\"], [15, 1, \"Described as 'finest kick-derriere heroine' with exceptional skills\"], [16, 0, \"Driven by revenge and mission focus, not fear\"], [17, 1, \"Takes extreme risks to achieve objectives\"], [18, 0, \"Focuses on mission objectives over caregiving\"], [19, 1, \"Task-oriented with revenge-driven motivation\"], [20, 0, \"Uses emotional manipulation strategically rather than maintaining harmony\"], [21, 1, \"Prioritizes mission goals over interpersonal dynamics\"], [22, 0, \"Maintains singular focus on her objectives\"], [23, 1, \"Relentlessly pursues personal goals despite others' needs\"], [24, 0, \"Professional operative, not homemaker\"], [25, 1, \"High-level intelligence operative\"], [26, 99, \"No specific beauty references in provided sources\"], [27, 1, \"Admired for strategic skills and operational expertise\"], [28, 0, \"Holds elite operative status\"], [29, 1, \"Veteran agent with high-ranking operational authority\"]]\n",
      "[[1, 1, \"K.A. Linde is a female author, as indicated by her name and bio details[4].\"], [2, 2012, \"The book was first published in 2012, as per reviews from that year[4][5].\"], [3, [\"romance\", \"contemporary\", \"angst\", \"drama\", \"new adult\"]], [4, 0, \"Lexi navigates her own emotional conflicts; no male 'saves' her from external threats[6].\"], [5, 0, \"Lexi's actions focus on personal relationships, not rescuing others[6].\"], [6, 1, \"Ramsey supports Lexi emotionally, though she remains independent[4][6].\"], [7, 0, \"Lexi does not protect male characters physically or emotionally[6].\"], [8, 0, \"Lexi's growth stems from confronting her past, not external help/luck[6].\"], [9, 1, \"She ultimately makes her own choices about relationships[6].\"], [10, 1, \"Jack's lies and infidelity emotionally harm Lexi[4][5].\"], [11, 0, \"Lexi's actions primarily cause self-harm, not harm to others[5].\"], [12, 0, \"Lexi resists others' expectations (e.g., avoiding Jack's wedding)[8].\"], [13, 0, \"She reacts to others' actions rather than leading[6].\"], [14, 0, \"No evidence of physical incapability[6].\"], [15, 99, \"Physical strength is not discussed[6].\"], [16, 0, \"She takes risks by attending Jack's wedding[8].\"], [17, 1, \"Lexi repeatedly faces emotional challenges head-on[5][6].\"], [18, 0, \"Her focus remains on her own emotional struggles[5].\"], [19, 1, \"Lexi prioritizes her romantic conflicts over caregiving[5].\"], [20, 1, \"She is acutely aware of relationship dynamics[5][6].\"], [21, 0, \"Emotional concerns dominate her decisions[6].\"], [22, 1, \"She sacrifices self-respect for Jack/Ramsey at times[5].\"], [23, 1, \"Ultimately asserts boundaries by series' end[6].\"], [24, 99, \"Occupation details are unspecified[6].\"], [25, 99, \"Career information is not provided[6].\"], [26, 1, \"Romance genre tropes suggest attractiveness[8].\"], [27, 99, \"Intelligence is not explicitly highlighted[6].\"], [28, 99, \"No occupational details given[6].\"], [29, 99, \"No occupational hierarchy established[6]\"]]\n",
      "[[1, 1], [2, 2005], [3, [\"drama\", \"literary fiction\", \"family saga\"]], [4, 1, \"Pierre (father-in-law) provides emotional support and refuge after Adrien's abandonment[2][6]\"], [5, 0, \"Chloé focuses on her own survival, not saving others[6][7]\"], [6, 1, \"Pierre shelters her physically/emotionally during crisis[2][6]\"], [7, 0, \"No evidence of protecting males[6][7]\"], [8, 1, \"Pierre's guidance helps her process betrayal[2][6]\"], [9, 0, \"Resolution comes through shared vulnerability, not individual skill[6][7]\"], [10, 1, \"Husband Adrien abandons her for another woman[2][6]\"], [11, 0, \"No harmful actions toward males described[6][7]\"], [12, 99, \"No explicit order-taking described[6][7]\"], [13, 99, \"No explicit order-giving described[6][7]\"], [14, 0, \"Physically functional (cares for children)[6][7]\"], [15, 99, \"Physical strength not discussed[6][7]\"], [16, 1, \"Initially paralyzed by betrayal[2][6]\"], [17, 0, \"No risk-taking beyond emotional survival[6][7]\"], [18, 1, \"Primary caregiver to two daughters[6][7]\"], [19, 0, \"Actively provides emotional/physical care[6][7]\"], [20, 1, \"Sensitive to Pierre's hidden pain[6][7]\"], [21, 0, \"Emotional dynamics dominate her focus[6][7]\"], [22, 1, \"Prioritizes children's stability over personal desires[6][7]\"], [23, 0, \"Personal goals remain undefined post-crisis[6][7]\"], [24, 1, \"Family-oriented role implied[6][7]\"], [25, 99, \"Occupation unspecified[6][7]\"], [26, 99, \"Physical appearance not emphasized[6][7]\"], [27, 99, \"Intelligence not specifically praised[6][7]\"], [28, 99, \"No occupational details provided[6][7]\"], [29, 99, \"No occupational details provided[6][7]\"]]\n",
      "[[1, 1], [2, 2012], [3, [\"paranormal romance\", \"fantasy\", \"urban fantasy\", \"supernatural\", \"erotic romance\"]], [4, 1, \"Trehan competes in a deadly tournament to claim Bettina as his mate, effectively saving her from forced marriage to others\"], [5, 0, \"No evidence of Bettina saving a male character\"], [6, 1, \"Protected by guardians Raum and Morgana, and later by Trehan during the tournament\"], [7, 0, \"No evidence of Bettina protecting male characters\"], [8, 1, \"Her survival from Vrekeners involves being summoned by luck, and Trehan's intervention resolves her marital dilemma\"], [9, 0, \"Her problems are primarily resolved through external intervention rather than her own skills\"], [10, 1, \"Severely harmed by male Vrekeners who attack and nearly kill her\"], [11, 0, \"No evidence of Bettina harming male characters\"], [12, 1, \"Follows guardians' orders to hold the marriage tournament\"], [13, 0, \"No evidence of her giving authoritative orders\"], [14, 1, \"Described as physically weak and incapable of fighting after losing her powers\"], [15, 0, \"No evidence of physical strength\"], [16, 1, \"Initially fearful and reluctant to challenge her guardians' plans\"], [17, 0, \"Her bravery is not emphasized compared to her fearfulness\"], [18, 0, \"No caregiving behaviors described\"], [19, 1, \"Focuses on avoiding the tournament and pursuing her love interest\"], [20, 0, \"Her emotional awareness is overshadowed by her fixation on Caspion\"], [21, 1, \"Prioritizes her personal desires over others' emotions\"], [22, 1, \"Initially sacrifices her desires to comply with guardians' expectations\"], [23, 0, \"Her personal goals are secondary to external pressures until later\"], [24, 0, \"Not a homemaker\"], [25, 1, \"Heir to the Abaddon throne, though not yet ruling\"], [26, 1, \"Repeatedly described as beautiful and desirable\"], [27, 0, \"Intelligence is not a highlighted trait\"], [28, 0, \"As royalty, she holds no lower-rank occupation\"], [29, 1, \"Heir to a demon kingdom's throne\"]]\n",
      "[[1, 1], [2, 2006], [3, [\"fantasy\", \"adventure\", \"young adult\"]], [4, 0, \"No evidence of Aket-ten being saved by a male character in *Aerie*; she's portrayed as independent despite conflicts\"], [5, 99, \"No specific examples found of her saving a male character in *Aerie*\"], [6, 0, \"She defies authority and operates independently, with no male protection noted\"], [7, 99, \"No explicit examples of her protecting a male character in *Aerie*\"], [8, 0, \"Her conflicts (e.g., creating an all-female wing) are self-driven, not resolved by external help\"], [9, 1, \"She attempts to solve problems through initiative (e.g., forming a female wing), though outcomes are mixed\"], [10, 0, \"No direct victimization by male characters mentioned\"], [11, 0, \"No evidence of her harming male characters\"], [12, 0, \"She frequently disobeys orders and challenges Kiron's authority\"], [13, 1, \"Gives orders as a leader of her proposed female wing\"], [14, 0, \"Physically capable as a Jouster\"], [15, 1, \"Trained dragon rider and rescuer in prior books\"], [16, 0, \"Brave in pursuing her goals despite risks\"], [17, 1, \"Seeks challenges like forming a new wing\"], [18, 99, \"No caregiving focus mentioned in *Aerie*\"], [19, 1, \"Focuses on tactical goals over caregiving\"], [20, 0, \"Portrayed as confrontational and dismissive of group dynamics\"], [21, 1, \"Prioritizes practical goals (e.g., female wing) over emotional concerns\"], [22, 0, \"Does not sacrifice her goals for others\"], [23, 1, \"Maintains her objectives despite pushback\"], [24, 0, \"Not a homemaker; active military role\"], [25, 1, \"Holds a leadership position as a Jouster\"], [26, 99, \"No emphasis on her appearance\"], [27, 1, \"Admired for her animal-speaking abilities and leadership\"], [28, 0, \"High-ranking Jouster role\"], [29, 1, \"Holds authority as a dragon rider and wing organizer\"]]\n",
      "[\n",
      "[1, 1, \"Kristin Billerbeck is a female author.\"],\n",
      "[2, 2021, \"Republished in 2021 (original publication mentioned in 2005 context but current ISBN points to 2021 edition).\"],\n",
      "[3, [\"chick lit\", \"christian fiction\", \"romance\", \"contemporary\", \"women's fiction\"]],\n",
      "[4, 0, \"No evidence of male rescue; focuses on female friendships and self-reliance.\"],\n",
      "[5, 0, \"No instances of Lilly saving a male character.\"],\n",
      "[6, 0, \"Protection themes center on peer support, not male intervention.\"],\n",
      "[7, 0, \"No protective actions toward male characters described.\"],\n",
      "[8, 1, \"Spa weekends with friends help her cope, though ultimate success appears self-driven.\"],\n",
      "[9, 1, \"Pursues fashion career independently despite setbacks.\"],\n",
      "[10, 1, \"Boyfriend's infidelity emotionally harms her.\"],\n",
      "[11, 0, \"No evidence of Lilly harming males.\"],\n",
      "[12, 0, \"Rebels against expectations (e.g., using Stanford MBA for fashion).\"],\n",
      "[13, 1, \"As a designer, likely gives professional orders.\"],\n",
      "[14, 0, \"No physical incapacity mentioned.\"],\n",
      "[15, 99, \"Physical strength not discussed.\"],\n",
      "[16, 0, \"Pursues risky career change despite pressure.\"],\n",
      "[17, 1, \"Persists in competitive fashion industry.\"],\n",
      "[18, 0, \"Focuses on career/self; caregiving not emphasized.\"],\n",
      "[19, 1, \"Prioritizes professional goals over caregiving.\"],\n",
      "[20, 99, \"Emotional attunement unclear beyond friend group.\"],\n",
      "[21, 1, \"Focuses on practical career challenges.\"],\n",
      "[22, 0, \"Maintains fashion career despite family pressure.\"],\n",
      "[23, 1, \"Refuses to abandon design aspirations for finance.\"],\n",
      "[24, 0, \"Career-driven, not homemaker.\"],\n",
      "[25, 1, \"Works as fashion designer (self-employed later).\"],\n",
      "[26, 0, \"Criticizes own appearance (bad hair); beauty not emphasized.\"],\n",
      "[27, 1, \"Holds Stanford MBA; intelligence noted.\"],\n",
      "[28, 0, \"Fashion designer (mid/high-rank creative role).\"],\n",
      "[29, 0, \"Not in executive/managerial role initially.\"]\n",
      "]\n",
      "[[1, 1], [2, 2005], [3, [\"fantasy\", \"political intrigue\", \"prophecy\", \"magic\", \"adventure\"]], [4, 99, \"No direct evidence of Dathne being physically saved by a male character in available sources\"], [5, 99, \"No explicit information about Dathne saving a male character in analyzed content\"], [6, 1, \"Matt protects Dathne by defying her wishes to save her from self-sacrifice\"], [7, 1, \"Dathne protects Asher through her role in the prophecy and Circle's plans\"], [8, 99, \"Her prophecy-related problems remain unresolved in Book 1\"], [9, 0, \"She relies on prophecy rather than personal skill to address magical threats\"], [10, 99, \"No explicit victimization by males mentioned\"], [11, 1, \"Manipulates Asher as a tool for prophecy fulfillment\"], [12, 0, \"Leads the Circle and makes independent decisions\"], [13, 1, \"Gives orders to Matt and Circle members\"], [14, 0, \"Shown as mentally strong through magical visions and leadership\"], [15, 99, \"Physical capabilities not specifically described\"], [16, 0, \"Takes risks by hiding magic and defying authorities\"], [17, 1, \"Brave in pursuing prophecy despite dangers\"], [18, 0, \"Focuses on prophecy over caregiving\"], [19, 1, \"Task-oriented toward magical goals\"], [20, 0, \"Prioritizes prophecy over emotional harmony\"], [21, 1, \"Focuses on practical prophecy matters\"], [22, 0, \"Sacrifices others' trust for prophecy goals\"], [23, 1, \"Maintains rigid boundaries about the prophecy\"], [24, 0, \"Owns a bookshop and leads secret society\"], [25, 1, \"Self-employed business owner and revolutionary leader\"], [26, 99, \"Physical description limited to 'long black hair' without beauty emphasis\"], [27, 1, \"Admired for magical knowledge and leadership\"], [28, 0, \"Bookshop owner and secret leader\"], [29, 1, \"Holds leadership position in the Circle\"]]\n",
      "[[1, 1, \"J.D. Robb is a pseudonym for female author Nora Roberts[1][2]\"], [2, 2005, \"Survivor in Death is the 20th book in the series, but exact publication year isn't listed in available sources. The series began in 1995, and book numbers don't strictly correlate to years[1][5].\"], [3, [\"mystery\", \"romance\", \"suspense\", \"science fiction\", \"crime fiction\"]], [4, 0, \"Eve Dallas typically solves cases through her own skills, though occasionally receives technical assistance from Roarke[2][7]\"], [5, 1, \"As a homicide lieutenant, Eve routinely saves lives through her investigative work[2][6]\"], [6, 1, \"Roarke provides protection through security systems and backup, though Eve remains the primary investigator[2][7]\"], [7, 1, \"Eve protects colleagues and civilians as part of her police duties[2][6]\"], [8, 0, \"Eve solves cases through systematic police work rather than luck[2][6]\"], [9, 1, \"Her investigative skills and persistence drive case resolutions[2][6]\"], [10, 99, \"Specific Survivor in Death plot details unavailable, but Eve's backstory includes past abuse[2][3]\"], [11, 1, \"Eve regularly apprehends/kills suspects during investigations[2][6]\"], [12, 0, \"Eve frequently operates outside strict protocols when necessary[2][6]\"], [13, 1, \"As lieutenant, she commands a investigative team[2][3]\"], [14, 0, \"Physically capable in confrontations and chase scenes[3][6]\"], [15, 1, \"Trained in combat and defensive tactics[2][3]\"], [16, 0, \"Known for fearless pursuit of suspects[2][6]\"], [17, 1, \"Routinely faces dangerous situations[2][6]\"], [18, 1, \"Shows care for victims and colleagues, particularly in child-related cases[2][7]\"], [19, 0, \"Balances caregiving with professional duties[2][7]\"], [20, 1, \"Demonstrates emotional intelligence in victim interviews[2][7]\"], [21, 1, \"Prioritizes case resolution over emotional concerns[2][6]\"], [22, 0, \"Maintains professional boundaries despite personal connections[2][7]\"], [23, 1, \"Relentlessly pursues justice above all else[2][6]\"], [24, 0, \"Career-focused police lieutenant[3][6]\"], [25, 1, \"Primary income source as NYPSD lieutenant[3][6]\"], [26, 99, \"Physical descriptions focus on professional demeanor over beauty[3][6]\"], [27, 1, \"Admired for investigative brilliance[2][6]\"], [28, 0, \"Holds high-ranking police position[3][6]\"], [29, 1, \"Lieutenant in charge of homicide investigations[2][3]\"]]\n",
      "[[1, 0], [2, 1963], [3, [\"thriller\", \"adventure\", \"suspense\"]], [4, 99, \"No explicit rescue of Francesca by a male character is mentioned in available sources.\"], [5, 99, \"No information about Francesca saving a male character.\"], [6, 99, \"Protection dynamics are not detailed in available summaries.\"], [7, 99, \"No specific instances of protection provided by Francesca are described.\"], [8, 99, \"Her problem-solving methods are not explicitly outlined.\"], [9, 99, \"No clear evidence of self-solved problems through skill.\"], [10, 99, \"No explicit mention of victimization by male characters.\"], [11, 99, \"No information about her harming others.\"], [12, 99, \"Leadership role suggests she may give orders, but specifics are unclear.\"], [13, 1, \"As a Contessa leading partisans, she likely gives orders[4].\"], [14, 99, \"Physical capability is not described.\"], [15, 99, \"No explicit mention of physical strength.\"], [16, 99, \"No evidence of fearfulness in available summaries.\"], [17, 1, \"As a wartime partisan leader, she demonstrates bravery[4].\"], [18, 99, \"No caregiving behaviors are mentioned.\"], [19, 1, \"Focuses on treasure recovery and leadership[4].\"], [20, 99, \"Emotional attunement is not detailed.\"], [21, 1, \"Prioritizes practical goals over emotional dynamics[4].\"], [22, 99, \"No evidence of self-sacrifice.\"], [23, 1, \"Maintains focus on retrieving the treasure[4].\"], [24, 0, \"Not described as a homemaker.\"], [25, 99, \"Her economic role is unspecified.\"], [26, 1, \"Described as 'ruthless and beautiful' Contessa[4].\"], [27, 99, \"Intelligence is implied but not explicitly stated.\"], [28, 0, \"Holds leadership position as a Contessa[4].\"], [29, 1, \"As a Contessa and partisan leader, she holds a high-rank role[4].\"]]\n",
      "[[1, 1], [2, 2012], [3, [\"young adult\", \"spy fiction\", \"mystery\", \"adventure\", \"thriller\"]], [4, 0, \"Cammie's allies (including Zach) collaborate with her, but no male character singularly saves her\"], [5, 99, \"No explicit mention of Cammie saving a male character in available sources\"], [6, 1, \"Zach and other allies protect Cammie during missions against the Circle\"], [7, 99, \"No explicit mention of Cammie protecting a male character\"], [8, 0, \"Cammie actively pieces together clues and retraces her steps to solve her memory loss\"], [9, 1, \"Uses spy training and deductive skills to uncover her missing summer\"], [10, 99, \"No direct evidence of male characters harming her; primary threat is the Circle organization\"], [11, 99, \"No explicit mention of Cammie harming male characters\"], [12, 0, \"Defies orders to investigate independently\"], [13, 1, \"Leads missions with friends\"], [14, 0, \"Trained spy with physical capabilities\"], [15, 1, \"Demonstrates combat/espionage skills\"], [16, 0, \"Persists despite danger and memory loss\"], [17, 1, \"Undertakes high-risk global missions\"], [18, 1, \"Maintains strong bonds with friends and family\"], [19, 0, \"Balances caregiving with mission focus\"], [20, 1, \"Sensitive to group dynamics and allies' emotions\"], [21, 0, \"Prioritizes emotional connections alongside tasks\"], [22, 1, \"Initially left school to protect others from danger\"], [23, 1, \"Pursues truth despite others' concerns\"], [24, 0, \"Spy-in-training, not homemaker\"], [25, 0, \"Student without income-generating role\"], [26, 99, \"No emphasis on physical appearance in sources\"], [27, 1, \"Admired for spycraft and problem-solving\"], [28, 0, \"Spy-in-training at elite academy\"], [29, 0, \"Student, not in leadership profession yet\"]]\n",
      "[[1, 1], [2, 2010], [3, [\"crime thriller\", \"mystery\", \"psychological thriller\", \"scandinavian noir\", \"domestic suspense\"]], [4, 0, \"Erica investigates independently; no male rescue occurs\"], [5, 0, \"No evidence of her saving a male character\"], [6, 0, \"Patrik investigates separately; no explicit protection\"], [7, 1, \"Protects her newborn daughter Maja\"], [8, 0, \"Solves through her investigative efforts\"], [9, 1, \"Uses research skills to uncover family secrets\"], [10, 99, \"No direct victimization by males mentioned\"], [11, 0, \"No evidence of harming males\"], [12, 0, \"Acts autonomously in her investigation\"], [13, 1, \"Directs her own inquiries\"], [14, 0, \"No physical incapacity indicated\"], [15, 99, \"Physical strength not discussed\"], [16, 0, \"Persists despite risks\"], [17, 1, \"Braves dangerous truths\"], [18, 1, \"Cares for daughter Maja\"], [19, 0, \"Balances caregiving with investigation\"], [20, 1, \"Understands family dynamics through diaries\"], [21, 0, \"Prioritizes emotional truth\"], [22, 0, \"Pursues truth despite family risks\"], [23, 1, \"Maintains investigative focus\"], [24, 0, \"Works as writer while parenting\"], [25, 1, \"Successful crime author\"], [26, 99, \"Beauty not emphasized\"], [27, 1, \"Admired for investigative intellect\"], [28, 0, \"High-profile author\"], [29, 1, \"Established professional\"]]\n",
      "[[1, 0], [2, 2001], [3, [\"literary fiction\", \"family saga\", \"contemporary fiction\"]], [4, 0, \"Enid is not saved by any male character; her struggles with family dynamics and Alfred's decline remain unresolved through external male intervention.\"], [5, 0, \"Enid does not actively save any male character, though she attempts to manage her family's crises.\"], [6, 0, \"Alfred is emotionally abusive and offers no protection; her children resist her control.\"], [7, 0, \"Enid's attempts to 'protect' her family through control are ineffective and often counterproductive.\"], [8, 0, \"Her problems (marital strife, family disconnection) persist unresolved.\"], [9, 0, \"She lacks the agency to solve her core issues, relying on pharmaceuticals and denial.\"], [10, 1, \"Alfred emotionally abuses her and rapes her during pregnancy[4][7].\"], [11, 0, \"She harms relationships through nagging but does not physically harm anyone.\"], [12, 0, \"She resists Alfred's dominance and pressures others to follow her plans.\"], [13, 1, \"She obsessively demands her family gather for Christmas[5][7].\"], [14, 1, \"Her damaged hip and reliance on medication suggest physical limitations[1][7].\"], [15, 0, \"No evidence of physical strength; her focus is emotional/domestic.\"], [16, 1, \"She avoids confronting Alfred's abuse and clings to superficial harmony[4].\"], [17, 0, \"Her risks (e.g., pressuring Gary) stem from desperation, not bravery.\"], [18, 1, \"She cares for Alfred despite his abuse and seeks family unity[7].\"], [19, 0, \"Her identity revolves around caregiving, though often in misguided ways.\"], [20, 1, \"She obsessively monitors family dynamics but prioritizes appearances over genuine harmony[6].\"], [21, 0, \"She focuses excessively on social/emotional expectations.\"], [22, 1, \"She suppresses her needs to maintain the facade of a happy marriage[4][7].\"], [23, 0, \"Her goals (family unity) are constantly undermined by others' resistance.\"], [24, 1, \"She is a homemaker with no career outside domestic management[2][7].\"], [25, 0, \"Alfred was the breadwinner; she has no income source.\"], [26, 99, \"No textual emphasis on her physical appearance.\"], [27, 0, \"Her lack of self-awareness and tact are noted[1][6].\"], [28, 0, \"She has no formal occupation.\"], [29, 0, \"She holds no professional authority.\"]]\n",
      "[[1, 1], [2, 2009], [3, [\"romantic suspense\", \"thriller\", \"crime fiction\", \"mystery\", \"drama\"]], [4, 1, \"Luke Papadopoulos protects Susannah when her life is endangered by the killers\"], [5, 0, \"No evidence of Susannah saving a male character\"], [6, 1, \"Luke actively protects Susannah during the investigation\"], [7, 0, \"No evidence of Susannah protecting a male character\"], [8, 0, \"Susannah actively works with Luke to solve the case through investigative efforts\"], [9, 1, \"Uses her legal expertise as a prosecutor to pursue justice\"], [10, 1, \"Raped as a teenager and again six years prior to the story\"], [11, 0, \"No evidence of Susannah harming others\"], [12, 0, \"As a prosecutor, she takes initiative in investigations\"], [13, 1, \"Gives orders in her professional capacity\"], [14, 0, \"Shows determination and physical resilience\"], [15, 1, \"Persists through trauma and dangerous situations\"], [16, 0, \"Confronts her past and pursues dangerous criminals\"], [17, 1, \"Braves personal risks to solve the case\"], [18, 1, \"Vows to protect the surviving victim and seeks justice for others\"], [19, 0, \"Balances caregiving with professional goals\"], [20, 1, \"Understands victims' trauma through personal experience\"], [21, 0, \"Focuses on both emotional and practical aspects of the case\"], [22, 0, \"Prioritizes justice over personal comfort\"], [23, 1, \"Maintains her mission despite emotional challenges\"], [24, 0, \"New York prosecutor\"], [25, 1, \"Holds a high-ranking legal position\"], [26, 99, \"Physical appearance not emphasized in available sources\"], [27, 1, \"Admired for legal skills and determination\"], [28, 0, \"Assistant District Attorney\"], [29, 1, \"High-ranking prosecutor position\"]]\n",
      "[ [1, 0], [-1, 1998], [3, [\"philosophical fiction\", \"psychological fiction\", \"romance\"]], [4, 0, \"Veronika is not saved by a male character; instead, she finds her own path to life.\"], [5, 0, \"Veronika does not save a male character.\"], [6, 0, \"Veronika is not protected by a male character.\"], [7, 0, \"Veronika does not protect a male character.\"], [8, 1, \"Veronika's problem is solved through her own realization and newfound perspective on life.\"], [9, 1, \"Veronika solves her own problem through self-discovery and skill.\"], [10, 0, \"Veronika is not victimized by a male character.\"], [11, 0, \"Veronika does not harm a male character.\"], [12, 0, \"Veronika does not follow orders.\"], [13, 0, \"Veronika does not give orders.\"], [14, 0, \"Veronika is not physically weak.\"], [15, 0, \"Veronika is not depicted as physically strong.\"], [16, 0, \"Veronika is not fearful of taking risks.\"], [17, 1, \"Veronika becomes brave and takes risks.\"], [18, 0, \"Veronika does not engage in caregiving behaviors.\"], [19, 1, \"Veronika focuses on her personal journey and goals.\"], [20, 0, \"Veronika is not primarily emotionally aware of others' needs.\"], [21, 1, \"Veronika focuses more on practical matters and her own desires.\"], [22, 0, \"Veronika does not sacrifice her goals for others.\"], [23, 1, \"Veronika maintains her personal goals and boundaries.\"], [24, 0, \"Veronika is not a homemaker.\"], [25, 0, \"Veronika is not a breadwinner.\"], [26, 1, \"Veronika is admired for her beauty.\"], [27, 1, \"Veronika is intelligent.\"], [28, 1, \"Veronika works as a librarian, which can be considered a lower rank occupation.\"], [29, 0, \"Veronika does not have a higher rank occupation.\"] ,[30, 1998, \"The book was published in 1998.\"]]\n",
      "[[1, 1], [2, 2012], [3, [\"young adult\", \"science fiction\", \"romance\", \"paranormal\", \"urban fantasy\"]], [4, 1, \"Daemon rescues Katy from an onyx cage and dangerous situations involving the DOD[5][7].\"], [5, 1, \"Katy risks her life to protect Daemon and his family from threats, including government agents[4][7].\"], [6, 1, \"Daemon actively protects Katy from physical threats and government surveillance[1][5].\"], [7, 1, \"Katy protects Daemon by hiding their connection and confronting enemies like Blake and the DOD[4][7].\"], [8, 0, \"Katy's problems stem from her mutated powers and trust issues, which she addresses through training and confronting adversaries[5][7].\"], [9, 1, \"She develops her hybrid abilities and makes strategic decisions to combat threats[5][7].\"], [10, 1, \"Simon, a male classmate, previously attempted to assault her, and Blake later betrays her[5][7].\"], [11, 1, \"Katy physically confronts male adversaries like Blake and government agents[5][7].\"], [12, 0, \"She frequently disobeys Daemon's warnings to pursue her own plans[7].\"], [13, 1, \"Katy takes charge of her training and makes critical decisions during conflicts[5][7].\"], [14, 0, \"She demonstrates physical strength through combat and endurance[7].\"], [15, 1, \"Her hybrid abilities make her physically formidable[5][7].\"], [16, 0, \"She willingly faces risks to protect others and master her powers[1][7].\"], [17, 1, \"Katy actively engages in dangerous missions and confrontations[5][7].\"], [18, 1, \"She prioritizes protecting Daemon's family and friends[4][7].\"], [19, 0, \"Her actions are heavily focused on caregiving and emotional support[7].\"], [20, 1, \"Katy navigates complex relationships and tries to maintain harmony within the group[4][7].\"], [21, 0, \"She frequently addresses emotional conflicts and interpersonal dynamics[7].\"], [22, 1, \"She risks her safety to shield Daemon and others[4][7].\"], [23, 1, \"She pursues her goal of becoming Daemon's equal despite his objections[7].\"], [24, 0, \"Katy is a student and book blogger, not a homemaker[1][7].\"], [25, 0, \"She has no occupation beyond high school student[7].\"], [26, 99, \"No explicit mentions of beauty admiration in provided sources.\"], [27, 1, \"Her intelligence and adaptability are highlighted through problem-solving[7].\"], [28, 0, \"She has no formal occupation[7].\"], [29, 0, \"She holds no high-rank position[7].\"]]\n",
      "[[1, 1], [2, 2012], [3, [\"fantasy\", \"young adult\", \"adventure\", \"political fiction\", \"mystery\"]], [4, 0, \"Bitterblue's primary saviors are Katsa (female) and Po (male), but her ongoing challenges are resolved through her own agency[6][7].\"], [5, 0, \"No direct instances of Bitterblue saving a male character are highlighted in the sources[^].\"], [6, 1, \"Po and other male allies provide protection, though Bitterblue increasingly asserts independence[6][7].\"], [7, 0, \"Protection focuses on her kingdom rather than specific male characters[^].\"], [8, 0, \"She solves problems through investigation and leadership, not luck[7][^].\"], [9, 1, \"Deciphers codes, uncovers truths, and leads her kingdom through skill[1][5][7].\"], [10, 1, \"Traumatized by her father Leck's psychological and physical abuses[2][4][6].\"], [11, 0, \"No evidence of harming male characters[^].\"], [12, 0, \"Defies advisors to seek truth[2][3][7].\"], [13, 1, \"Gives orders as queen and truthseeker[2][5][7].\"], [14, 0, \"Physically capable in navigating the city and handling stress[5][7].\"], [15, 1, \"Shows endurance and mental resilience[5][7].\"], [16, 0, \"Actively takes risks by sneaking out and confronting secrets[2][5][7].\"], [17, 1, \"Bravery demonstrated through truth-seeking and leadership[5][7].\"], [18, 1, \"Prioritizes her people's healing and justice[2][5][7].\"], [19, 0, \"Caregiving manifests through governance and empathy[^].\"], [20, 1, \"Attuned to citizens' trauma and political dynamics[2][5][7].\"], [21, 0, \"Balances practical governance with emotional intelligence[^].\"], [22, 0, \"Sacrifices comfort, not goals, for truth[5][7].\"], [23, 1, \"Persists in uncovering past atrocities despite opposition[2][7].\"], [24, 0, \"Queen, not homemaker[2][5].\"], [25, 1, \"Ruler and primary decision-maker[2][5].\"], [26, 99, \"Physical appearance not emphasized[^].\"], [27, 1, \"Admired for problem-solving and leadership[1][5][7].\"], [28, 0, \"Holds highest political rank[2][5].\"], [29, 1, \"Queen of Monsea[2][5][7].\"]]\n",
      "[[1, 1], [2, 2002], [3, [\"young adult\", \"drama\", \"tragedy\"]], [4, 0, \"Christina dies in the car accident and is not saved by any male character.\"], [5, 0, \"Christina does not save any male character before her death.\"], [6, 0, \"Tucker, her controlling boyfriend, does not protect her; their relationship is described as toxic.\"], [7, 0, \"No evidence of Christina protecting a male character.\"], [8, 0, \"Her problem (toxic relationship) is unresolved, and her death occurs abruptly due to the accident.\"], [9, 0, \"She does not resolve her relationship issues through skill.\"], [10, 1, \"Tucker's controlling behavior and emotional manipulation victimize her.\"], [11, 0, \"She does not harm any male character.\"], [12, 1, \"She initially considers giving up her scholarship to appease Tucker.\"], [13, 0, \"No instances of her giving orders.\"], [14, 99, \"Physical capability is not discussed.\"], [15, 99, \"Physical strength is not a focus.\"], [16, 1, \"She avoids confronting Tucker's control, suggesting fear of conflict.\"], [17, 0, \"No evidence of risk-taking behavior.\"], [18, 1, \"She volunteers at a nursing home, showing caregiving tendencies.\"], [19, 0, \"Her caregiving at the nursing home contradicts this.\"], [20, 1, \"She tries to maintain harmony with Tucker despite his behavior.\"], [21, 0, \"She focuses on relationships and emotional dynamics.\"], [22, 1, \"She considers sacrificing her college plans for Tucker.\"], [23, 0, \"She struggles to maintain boundaries with Tucker.\"], [24, 0, \"She is a high school student, not a homemaker.\"], [25, 0, \"She has no occupation.\"], [26, 99, \"Physical appearance is not emphasized.\"], [27, 1, \"Her scholarship implies academic achievement.\"], [28, 0, \"She has no occupation.\"], [29, 0, \"She has no occupation.\"]]\n",
      "[[1, 0], [2, 2012], [3, [\"literary fiction\", \"family drama\", \"mental health fiction\"]], [4, 0, \"Em's mental illness is not resolved through male intervention; her struggles persist until her death.\"], [5, 0, \"No instances of Em saving a male character are mentioned.\"], [6, 1, \"Augustine (the Big Hoom) provides constant support and protection during her manic-depressive episodes.\"], [7, 0, \"Em's condition renders her unable to protect others consistently.\"], [8, 0, \"Her bipolar disorder remains unresolved despite medical interventions and family efforts.\"], [9, 0, \"Em cannot overcome her mental illness through personal skill.\"], [10, 0, \"No evidence of harm by a male character; her suffering stems from mental illness.\"], [11, 0, \"Em's harmful actions (e.g., suicide attempts) are self-directed, not targeted at males.\"], [12, 0, \"She frequently resists medical/domestic routines during manic episodes.\"], [13, 1, \"She issues demands during manic phases (e.g., hospital ramblings).\"], [14, 99, \"Physical capability is not explicitly addressed.\"], [15, 99, \"Physical strength is not a narrative focus.\"], [16, 0, \"She exhibits risk-taking behaviors (e.g., running away with her child).\"], [17, 1, \"Her manic episodes involve bold, unrestrained actions.\"], [18, 1, \"She shares stories and humor with her family during lucid moments.\"], [19, 0, \"Her caregiving is limited by her illness but not absent.\"], [20, 99, \"Manic episodes impair emotional attunement, but lucid moments show awareness.\"], [21, 0, \"Her focus alternates between emotional outbursts and storytelling.\"], [22, 0, \"Her illness dominates her actions, leaving little room for deliberate sacrifice.\"], [23, 0, \"Her goals are subsumed by her mental health struggles.\"], [24, 1, \"She primarily occupies a domestic role in the family's small flat.\"], [25, 0, \"Augustine is the breadwinner.\"], [26, 99, \"Physical appearance is not emphasized.\"], [27, 1, \"She is admired for her wit and storytelling during manic phases.\"], [28, 99, \"Her pre-illness occupation (if any) is not detailed.\"], [29, 0, \"No higher-rank occupation is mentioned.\"]]\n",
      "[ [1, 1], [-1, 2014], [3, [\"dystopian\", \"paranormal\", \"romance\", \"young adult\", \"fantasy\"]], [4, 1, \"Juliette is saved by Warner after being shot.\"], [5, 0, \"There is no indication that Juliette saves a male character.\"], [6, 1, \"Warner protects Juliette by hiding her and keeping her safe.\"], [7, 0, \"There is no indication that Juliette protects a male character.\"], [8, 1, \"Juliette's problems are partly solved through Warner's help.\"], [9, 1, \"Juliette also solves her own problems through her growing skills and determination.\"], [10, 1, \"Juliette is harmed by Anderson, a male character.\"], [11, 0, \"There is no indication that Juliette harms a male character intentionally.\"], [12, 0, \"Juliette does not follow orders; instead, she leads and makes her own decisions.\"], [13, 1, \"Juliette gives orders as she becomes a leader.\"], [14, 0, \"Juliette is not physically weak; she has super strength.\"], [15, 1, \"Juliette is physically strong and capable.\"], [16, 0, \"Juliette is not fearful of taking risks; she is brave.\"], [17, 1, \"Juliette is brave and willing to take risks.\"], [18, 1, \"Juliette cares for others, particularly her friends and allies.\"], [19, 0, \"Juliette does engage in caregiving behaviors.\"], [20, 1, \"Juliette is emotionally aware and attuned to others' needs.\"], [21, 0, \"Juliette focuses on both practical matters and others' emotions.\"], [22, 0, \"Juliette maintains her goals and does not sacrifice them for others.\"], [23, 1, \"Juliette maintains personal goals and boundaries.\"], [24, 0, \"Juliette is not a homemaker.\"], [25, 0, \"Juliette is not a breadwinner in the traditional sense.\"], [26, 0, \"There is no emphasis on Juliette being admired for her beauty.\"], [27, 1, \"Juliette is admired for her intelligence and leadership abilities.\"], [28, 0, \"Juliette does not have a lower rank occupation.\"], [29, 1, \"Juliette becomes a leader, which is a higher rank occupation.\"] ,[30, 0, \"No additional questions were provided.\"] ]\n",
      "[ [1, 0], [-1, -1], [-1, [\"fiction\", \"thriller\", \"suspense\", \"drama\", \"business\"]], [-1, 99, \"No information about Nan being saved by a male character.\"], [-1, 99, \"No information about Nan saving a male character.\"], [-1, 99, \"No information about Nan being protected by a male character.\"], [-1, 99, \"No information about Nan protecting a male character.\"], [-1, 99, \"No information about Nan's problem being solved through help or luck.\"], [-1, 99, \"No information about Nan solving her own problem through skill.\"], [-1, 99, \"No information about Nan being victimized by a male character.\"], [-1, 99, \"No information about Nan harming a male character.\"], [-1, 99, \"No information about Nan following orders.\"], [-1, 99, \"No information about Nan giving orders.\"], [-1, 99, \"No information about Nan's physical strength or weakness.\"], [-1, 99, \"No information about Nan's physical strength or weakness.\"], [-1, 99, \"No information about Nan being fearful or brave.\"], [-1, 99, \"No information about Nan being fearful or brave.\"], [-1, 99, \"No information about Nan caring for others.\"], [-1, 99, \"No information about Nan engaging in caregiving behaviors.\"], [-1, 99, \"No information about Nan being emotionally aware.\"], [-1, 99, \"No information about Nan focusing on practical matters.\"], [-1, 99, \"No information about Nan sacrificing her goals.\"], [-1, 99, \"No information about Nan maintaining personal goals.\"], [-1, 99, \"No information about Nan being a homemaker.\"], [-1, 99, \"No information about Nan being a breadwinner.\"], [-1, 99, \"No information about Nan being admired for her beauty.\"], [-1, 99, \"No information about Nan being admired for her intelligence.\"], [-1, 99, \"No information about Nan's occupation.\"], [-1, 99, \"No information about Nan's occupation.\"] ,[2, 1996, \"The book was published in 1996.\"]]\n",
      "[[1, 1], [2, 2012], [3, [\"romance\", \"contemporary\", \"chick lit\", \"young adult\", \"drama\"]], [4, 0, \"No evidence of Alice being physically saved by a male character.\"], [5, 0, \"Alice does not save any male character.\"], [6, 0, \"No explicit protection by male characters; Joe's disappearance leaves her vulnerable.\"], [7, 0, \"No instances of Alice protecting a male character.\"], [8, 99, \"Her heartbreak is unresolved through luck/help; later choices remain self-driven.\"], [9, 0, \"Her emotional conflicts are not resolved through skill but through relationship dynamics.\"], [10, 1, \"Joe's abrupt departure causes emotional harm; Lukas exhibits controlling behavior.\"], [11, 0, \"No evidence of Alice harming male characters.\"], [12, 1, \"Follows Lukas's academic/lifestyle expectations (e.g., studying German instead of Mandarin).\"], [13, 0, \"No significant instances of giving orders.\"], [14, 0, \"No indication of physical weakness.\"], [15, 99, \"Physical capability is not emphasized.\"], [16, 0, \"She pursues relationships despite risks (e.g., reconnecting with Joe).\"], [17, 1, \"Takes emotional risks in love and life choices.\"], [18, 0, \"Focuses on personal relationships rather than caregiving.\"], [19, 1, \"Prioritizes romantic relationships over caregiving roles.\"], [20, 1, \"Attuned to Joe/Lukas's emotions but struggles with harmony.\"], [21, 0, \"Emotionally driven rather than task-focused.\"], [22, 1, \"Sacrifices academic interests (Mandarin) for Lukas's preferences.\"], [23, 0, \"Compromises personal goals to maintain relationships.\"], [24, 0, \"Not depicted as a homemaker.\"], [25, 99, \"Occupation as student/part-time punter; no breadwinner role specified.\"], [26, 1, \"Attracts Joe and Lukas, implying admiration for her appearance.\"], [27, 99, \"Intelligence is implied (Cambridge student) but not explicitly praised.\"], [28, 0, \"Student status and punting job do not qualify as lower-rank occupations.\"], [29, 0, \"No higher-rank occupation depicted.\"]]\n",
      "[[1, 0], [2, 1975], [3, [\"postmodern fiction\", \"absurdist fiction\", \"satire\"]], [4, 0, \"No evidence of Julie being saved by a male character.\"], [5, 0, \"Julie does not save any male character.\"], [6, 0, \"No explicit protection by male characters mentioned.\"], [7, 0, \"No protective actions toward male characters described.\"], [8, 99, \"No clear problem-resolution arc for Julie.\"], [9, 99, \"No evidence of problem-solving through skill.\"], [10, 99, \"No explicit victimization described.\"], [11, 1, \"Physically strikes Thomas during an argument.\"], [12, 99, \"No clear order-following behavior.\"], [13, 99, \"No direct order-giving instances.\"], [14, 99, \"Physical capability not addressed.\"], [15, 99, \"Physical strength not discussed.\"], [16, 99, \"No fearful behavior described.\"], [17, 99, \"Risk-taking not explicitly shown.\"], [18, 1, \"Comforts the Dead Father at burial.\"], [19, 0, \"Engages in caregiving during burial.\"], [20, 1, \"Aware of relational dynamics with Thomas.\"], [21, 0, \"Focuses on emotional interactions.\"], [22, 99, \"No explicit sacrifice shown.\"], [23, 1, \"Maintains boundaries in conflicts with Thomas.\"], [24, 99, \"No homemaker role described.\"], [25, 99, \"No occupation mentioned.\"], [26, 1, \"Thomas describes her body as attractive.\"], [27, 99, \"Intelligence not specifically praised.\"], [28, 99, \"No occupation details provided.\"], [29, 99, \"No higher-rank occupation indicated.\"]]\n",
      "[[1, 1, \"Kim Harrington is identified as female in author profiles[1][7]\"], [2, 2012, \"Published May 2012 per multiple sources[1][5][7]\"], [3, [\"mystery\", \"children's\", \"adventure\"]], [4, 0, \"Darcy solves cases with Norah; no male savior mentioned[1][6][8]\"], [5, 0, \"No evidence of saving male characters[1][6][8]\"], [6, 0, \"No male protection described[1][6][8]\"], [7, 0, \"No protective actions toward males[1][6][8]\"], [8, 0, \"Problems solved through detective work[1][3][6]\"], [9, 1, \"Uses computer skills and deductive reasoning[1][6][8]\"], [10, 99, \"No specific harm by males mentioned[1][6][8]\"], [11, 0, \"No harmful actions toward males[1][6][8]\"], [12, 0, \"Initiates investigations independently[1][6][8]\"], [13, 1, \"Leads investigative efforts[1][6][8]\"], [14, 0, \"No physical limitations described[1][6][8]\"], [15, 99, \"Physical capability not emphasized[1][6][8]\"], [16, 0, \"Actively pursues risks in investigations[1][6][8]\"], [17, 1, \"Boldly confronts threats[1][6][8]\"], [18, 0, \"Focuses on solving cases, not caregiving[1][6][8]\"], [19, 1, \"Task-oriented detective work[1][6][8]\"], [20, 99, \"Emotional attunement not detailed[1][6][8]\"], [21, 1, \"Prioritizes practical case-solving[1][6][8]\"], [22, 0, \"Pursues goals despite warnings[1][6][8]\"], [23, 1, \"Maintains investigative focus[1][6][8]\"], [24, 0, \"Student, not homemaker[1][6][8]\"], [25, 0, \"No breadwinner role[1][6][8]\"], [26, 99, \"Appearance admiration not mentioned[1][6][8]\"], [27, 1, \"Admired for tech skills and deductive abilities[1][6][8]\"], [28, 0, \"Student detective, not lower-rank occupation[1][6][8]\"], [29, 0, \"No higher-rank occupation[1][6][8]\"]]\n",
      "[[1, 1], [2, 2009], [3, [\"steampunk\", \"science fiction\", \"alternate history\", \"horror\", \"adventure\"]], [4, 0, \"Briar acts independently to rescue her son without male intervention\"], [5, 1, \"She protects and aids multiple male characters, including her son Zeke\"], [6, 0, \"No male characters are shown protecting her; she navigates dangers alone\"], [7, 1, \"She protects her son Zeke throughout the narrative\"], [8, 0, \"She solves problems through determination and skill, not luck\"], [9, 1, \"Relies on resourcefulness to navigate Seattle's dangers and rescue Zeke\"], [10, 0, \"No direct victimization by male characters is described\"], [11, 1, \"She killed her husband Leviticus Blue to prevent his escape\"], [12, 0, \"She acts autonomously, not following orders\"], [13, 1, \"Takes charge in dangerous situations\"], [14, 0, \"Physically capable in combat and survival scenarios\"], [15, 1, \"Demonstrates strength navigating zombie-infested Seattle\"], [16, 0, \"Braves extreme risks to find Zeke\"], [17, 1, \"Voluntarily enters the walled city's dangers\"], [18, 1, \"Primary motivation is protecting her son\"], [19, 0, \"Caregiving drives her actions\"], [20, 0, \"Focuses on survival over emotional attunement\"], [21, 1, \"Prioritizes practical goals like rescue and survival\"], [22, 1, \"Sacrifices safety to save Zeke\"], [23, 1, \"Maintains focus on rescuing Zeke despite obstacles\"], [24, 0, \"Works outside home to provide\"], [25, 1, \"Sole provider for her household\"], [26, 99, \"No emphasis on physical appearance in sources\"], [27, 1, \"Praised for cleverness and resourcefulness\"], [28, 1, \"Works menial jobs in the Outskirts\"], [29, 0, \"No high-status occupation indicated\"]]\n",
      "[ [1, 1], [-1, 0], [2, []], [3, 0, \"No specific genres were provided in the search results, but based on Marian Keyes' style, it is likely to include genres like chick lit, romance, and comedy.\"], [4, 0, \"There is no indication that Katherine is saved by a male character.\"], [5, 0, \"There is no indication that Katherine saves a male character.\"], [6, 0, \"There is no indication that Katherine is protected by a male character.\"], [7, 0, \"There is no indication that Katherine protects a male character.\"], [8, 1, \"Katherine's problems are partly solved through her own efforts and the influence of her friends.\"], [9, 1, \"Katherine solves her own problems through her skills and personal growth.\"], [10, 0, \"There is no indication that Katherine is victimized by a male character.\"], [11, 0, \"There is no indication that Katherine harms a male character.\"], [12, 0, \"There is no indication that Katherine follows orders.\"], [13, 1, \"As a successful accountant, Katherine likely gives orders in her professional life.\"], [14, 0, \"There is no indication that Katherine is physically weak.\"], [15, 0, \"There is no specific mention of Katherine being physically strong.\"], [16, 1, \"Katherine initially appears fearful of taking risks in relationships.\"], [17, 1, \"As the story progresses, Katherine becomes more open to taking risks.\"], [18, 1, \"Katherine cares for her friends, particularly during Fintan's health crisis.\"], [19, 0, \"Katherine does engage in caregiving behaviors.\"], [20, 1, \"Katherine is emotionally aware and supportive of her friends.\"], [21, 1, \"Katherine initially focuses more on practical matters.\"], [22, 0, \"There is no indication that Katherine sacrifices her goals for others.\"], [23, 1, \"Katherine maintains personal goals and boundaries.\"], [24, 0, \"Katherine is not a homemaker.\"], [25, 1, \"Katherine is a breadwinner as a successful accountant.\"], [26, 1, \"Katherine is admired for her beauty.\"], [27, 1, \"Katherine is admired for her intelligence.\"], [28, 0, \"Katherine does not have a lower rank occupation.\"], [29, 1, \"Katherine has a higher rank occupation as an accountant.\"] ]\n",
      "[[1, 1], [2, 2009], [3, [\"young adult\", \"romance\", \"coming-of-age\", \"drama\", \"contemporary\"]], [4, 0, \"No evidence of Belly being physically saved by male characters; her challenges are emotional/relational\"], [5, 0, \"Belly doesn't physically save male characters, though she provides emotional support\"], [6, 1, \"Conrad and Jeremiah occasionally protect her (e.g., Conrad intervenes with Cam at the bonfire)\"], [7, 0, \"No instances of physical protection toward male characters\"], [8, 99, \"Her central relationship conflicts resolve through mutual growth rather than external help/luck\"], [9, 1, \"She actively navigates her love triangle and matures emotionally\"], [10, 0, \"No physical harm; emotional conflicts are mutual\"], [11, 1, \"Verbally lashes out at Conrad after Susannah's funeral ('Go to hell')\"], [12, 0, \"Rebels against being treated as a child (e.g., pursuing relationships independently)\"], [13, 0, \"No explicit order-giving behavior documented\"], [14, 0, \"Active swimmer with no physical limitations mentioned\"], [15, 1, \"Physically capable through swimming and general activity\"], [16, 0, \"Pursues romantic risks despite potential heartbreak\"], [17, 1, \"Braves emotional vulnerability with both Fisher brothers\"], [18, 1, \"Supports loved ones through Susannah's illness and family tensions\"], [19, 0, \"Caregiving becomes more prominent as she matures\"], [20, 1, \"Grows attuned to others' needs, especially in later books\"], [21, 0, \"Primarily focused on emotional/relational dynamics\"], [22, 1, \"Initially prioritizes others' expectations (e.g., Susannah's wishes)\"], [23, 1, \"Ultimately asserts her own desires in choosing relationships\"], [24, 0, \"Teen protagonist without domestic role\"], [25, 0, \"No occupation as a minor\"], [26, 1, \"Title references her being 'turned pretty'; admired by both brothers\"], [27, 0, \"Intelligence isn't a highlighted trait\"], [28, 99, \"No occupation specified due to age\"], [29, 0, \"N/A\"]]\n",
      "[[1, 1], [2, 1996], [3, [\"romance\", \"suspense\", \"family drama\", \"western\", \"mystery\"]], [4, 0, \"Willa solves problems independently and faces threats alongside her sisters without male rescue\"], [5, 0, \"No evidence of Willa saving a male character\"], [6, 1, \"Ben McKinnon (ranch foreman/love interest) provides support and partnership in ranch management\"], [7, 0, \"No specific instances of Willa protecting a male character\"], [8, 0, \"Resolves conflicts through her own determination and collaboration with sisters\"], [9, 1, \"Manages ranch operations competently and confronts threats directly\"], [10, 0, \"Threats come from external saboteurs, not specifically male-targeted harm\"], [11, 0, \"No evidence of Willa harming others\"], [12, 0, \"Assumes leadership role on the ranch\"], [13, 1, \"Gives orders as ranch manager\"], [14, 0, \"Described as physically capable ranch worker\"], [15, 1, \"Skilled in ranching and confronts physical challenges\"], [16, 0, \"Brave in facing threats to the ranch\"], [17, 1, \"Takes charge during crises\"], [18, 1, \"Eventually bonds with and supports her sisters\"], [19, 0, \"Balances caregiving with practical responsibilities\"], [20, 1, \"Develops emotional awareness through sisterly relationships\"], [21, 1, \"Primarily focused on ranch management early in the story\"], [22, 0, \"Prioritizes preserving her father's legacy\"], [23, 1, \"Maintains her vision for the ranch throughout\"], [24, 0, \"Ranch manager, not homemaker\"], [25, 1, \"Inherits and manages a working ranch\"], [26, 99, \"Physical appearance not emphasized in available sources\"], [27, 1, \"Admired for ranching expertise and leadership\"], [28, 0, \"Ranch owner/manager position\"], [29, 1, \"Holds ownership and management authority\"]]\n",
      "[[1, 0, \"Author David Hosp is male (described as trial lawyer with wife/family in Boston)\"], [2, 2006, \"Publication year referenced as 2006 in Goodreads metadata\"], [3, [\"mystery\", \"crime fiction\", \"thriller\", \"suspense\", \"detective fiction\"]], [4, 99, \"No explicit rescue by male characters mentioned in available synopses\"], [5, 99, \"No evidence of Sydney saving male characters in described plotlines\"], [6, 99, \"Protection dynamics not explicitly detailed in available sources\"], [7, 99, \"No information about protective actions toward male characters\"], [8, 99, \"Resolution method unclear without full text access\"], [9, 99, \"Skill-based problem-solving not explicitly described\"], [10, 99, \"Victimization source unspecified in available materials\"], [11, 99, \"No evidence of harmful actions toward male characters\"], [12, 99, \"Order-following behavior not detailed\"], [13, 99, \"Leadership role unclear from synopses\"], [14, 99, \"Physical capability not described\"], [15, 99, \"No explicit strength references\"], [16, 0, \"Actively investigates sister's murder despite risks\"], [17, 1, \"Pursues dangerous conspiracy investigation\"], [18, 99, \"Caregiving focus not described\"], [19, 1, \"Focuses on investigative goals over caregiving\"], [20, 99, \"Emotional attunement not detailed\"], [21, 1, \"Prioritizes practical investigation over emotional dynamics\"], [22, 99, \"Sacrifice patterns unclear\"], [23, 1, \"Maintains investigative focus despite family pressures\"], [24, 0, \"No homemaker role indicated\"], [25, 99, \"Occupation details unspecified\"], [26, 99, \"Physical appearance not emphasized\"], [27, 99, \"Intelligence admiration not explicitly stated\"], [28, 99, \"Occupation rank unclear\"], [29, 99, \"Professional status unspecified\"]]\n",
      "[[1, 1], [2, 2006], [3, [\"mystery\", \"cozy mystery\", \"romance\", \"thriller\", \"adult\"]], [4, 1, \"Carlotta receives help from male characters like the hunky cop Jack and body mover Cooper, who assist in solving crimes and protecting her.\"], [5, 0, \"No direct instances of Carlotta saving a male character are mentioned in the first book.\"], [6, 1, \"Male characters like Jack and Cooper actively protect Carlotta from threats.\"], [7, 1, \"Carlotta protects her brother Wesley by managing his debts and legal troubles.\"], [8, 1, \"Her problems are partially resolved through male assistance (e.g., Jack reopening her parents' case) and circumstantial luck.\"], [9, 1, \"She actively investigates crimes and confronts dangers, demonstrating problem-solving skills.\"], [10, 1, \"Loan sharks threaten her due to Wesley's debts, and she's framed for murder.\"], [11, 0, \"No evidence of Carlotta harming male characters.\"], [12, 0, \"She acts independently, often defying authority.\"], [13, 1, \"Gives orders to Wesley and others regarding their safety.\"], [14, 0, \"No indication of physical weakness; she engages in risky activities.\"], [15, 1, \"Shows resilience and capability in handling crises.\"], [16, 0, \"Takes risks like confronting criminals and investigating murders.\"], [17, 1, \"Bravery evident in her pursuit of justice despite danger.\"], [18, 1, \"Sacrifices her youth to raise Wesley and manages his debts.\"], [19, 0, \"Her caregiving for Wesley is central to the plot.\"], [20, 1, \"Attuned to Wesley's struggles and social dynamics around her.\"], [21, 0, \"Balances practical concerns with emotional support for Wesley.\"], [22, 1, \"Prioritizes Wesley's wellbeing over her own goals.\"], [23, 0, \"Her personal goals are often secondary to family obligations.\"], [24, 0, \"Works retail at Neiman Marcus, not a homemaker.\"], [25, 1, \"Primary income earner for herself and Wesley.\"], [26, 1, \"Implied through romantic attention from multiple men.\"], [27, 0, \"Intelligence is not highlighted as a primary trait.\"], [28, 1, \"Works in retail, a lower-rank occupation.\"], [29, 0, \"No managerial or high-status occupational role.\"]]\n",
      "[[1, 0], [2, 1982], [3, [\"historical fiction\", \"war fiction\", \"holocaust literature\"]], [4, 99, \"No specific instances of male characters saving Emmeline/Line are detailed in available sources\"], [5, 99, \"No explicit evidence of Emmeline/Line saving male characters\"], [6, 99, \"Protection dynamics for this specific character are not documented\"], [7, 99, \"No textual evidence of protective actions by Emmeline/Line toward male characters\"], [8, 99, \"Character's problem-solving methods are unspecified\"], [9, 99, \"No information about skill-based problem resolution\"], [10, 99, \"No explicit documentation of victimization\"], [11, 99, \"No evidence of harmful actions toward male characters\"], [12, 99, \"Leadership dynamics for this character are unclear\"], [13, 99, \"No record of command authority\"], [14, 99, \"Physical capabilities are not described\"], [15, 99, \"No accounts of physical prowess\"], [16, 99, \"Risk-taking behavior is undocumented\"], [17, 99, \"Bravery levels are unspecified\"], [18, 99, \"Caregiving role is not detailed\"], [19, 99, \"Focus on tasks vs caregiving is unknown\"], [20, 99, \"Emotional attunement is not described\"], [21, 99, \"Practical vs emotional focus is unspecified\"], [22, 99, \"Sacrificial behaviors are undocumented\"], [23, 99, \"Boundary maintenance is unclear\"], [24, 99, \"Homemaker status is unknown\"], [25, 99, \"Breadwinner role is unspecified\"], [26, 99, \"Physical admiration is not mentioned\"], [27, 99, \"Intellectual admiration is undocumented\"], [28, 99, \"Occupation rank is unclear\"], [29, 99, \"No higher-rank occupation details\"]] \n",
      "[[1, 1], [2, 1988], [3, [\"historical fiction\", \"young adult\", \"coming-of-age\", \"civil war fiction\"]], [4, 0, \"No male character explicitly saves Susan; she navigates challenges independently\"], [5, 0, \"Susan does not directly save a male character, focusing on war efforts and personal growth\"], [6, 0, \"Susan's protection comes from her own resilience rather than male guardianship\"], [7, 0, \"No instances of Susan protecting a male character are described\"], [8, 0, \"Susan solves problems through determination (e.g., dress collection) rather than luck\"], [9, 1, \"She organizes silk dress collection and later re-evaluates her beliefs through critical thinking\"], [10, 0, \"Harm comes from family revelations, not direct male aggression\"], [11, 0, \"Susan does not harm male characters\"], [12, 0, \"Defies her mother's restrictions to pursue war efforts\"], [13, 1, \"Leads dress collection initiative and makes independent decisions\"], [14, 0, \"Actively engages in physical tasks like nursing and dress gathering\"], [15, 1, \"Demonstrates physical and emotional resilience\"], [16, 0, \"Takes significant risks for her cause\"], [17, 1, \"Braves social stigma and family conflict for her beliefs\"], [18, 1, \"Nurses wounded soldiers and cares for family\"], [19, 0, \"Caregiving coexists with her goal-oriented activities\"], [20, 1, \"Navigates complex family dynamics and social expectations\"], [21, 0, \"Balances practical war efforts with emotional awareness\"], [22, 0, \"Prioritizes moral convictions over family/social expectations\"], [23, 1, \"Maintains independence despite others' needs\"], [24, 0, \"Focuses on war efforts rather than domestic duties\"], [25, 0, \"No occupation beyond voluntary war support\"], [26, 1, \"Repeatedly described as beautiful in synopses\"], [27, 1, \"Admired for organizational skills and moral discernment\"], [28, 0, \"No formal occupation, only voluntary roles\"], [29, 0, \"Holds no institutional authority\"]]\n",
      "[ [1, 1], [-1, 2005], [3, [\"erotica\", \"romance\", \"contemporary\"]], [4, 0, \"There is no indication that Diana is saved by a male character.\"], [5, 0, \"There is no indication that Diana saves a male character.\"], [6, 0, \"There is no indication that Diana is protected by a male character.\"], [7, 0, \"There is no indication that Diana protects a male character.\"], [8, 99, \"The information does not specify if her problem is solved through help or luck.\"], [9, 99, \"The information does not specify if she solves her own problem through skill.\"], [10, 0, \"There is no indication that Diana is victimized by a male character.\"], [11, 0, \"There is no indication that Diana harms a male character.\"], [12, 99, \"The information does not specify if Diana follows orders.\"], [13, 99, \"The information does not specify if Diana gives orders.\"], [14, 0, \"There is no indication that Diana is physically weak.\"], [15, 99, \"The information does not specify if Diana is physically strong.\"], [16, 0, \"Diana is not portrayed as fearful of taking risks.\"], [17, 1, \"Diana is portrayed as someone who likes taking risks, especially in her romantic life.\"], [18, 99, \"The information does not specify if Diana cares for others.\"], [19, 1, \"Diana focuses on her personal goals and desires, particularly in her romantic life.\"], [20, 99, \"The information does not specify if Diana is emotionally aware and attuned to others' needs.\"], [21, 99, \"The information does not specify if Diana focuses more on practical matters.\"], [22, 0, \"There is no indication that Diana sacrifices her goals for someone else's wellbeing.\"], [23, 1, \"Diana maintains her personal goals and boundaries, especially in her decision to pursue a fling with Marc.\"], [24, 0, \"There is no indication that Diana is a homemaker.\"], [25, 99, \"The information does not specify if Diana is a breadwinner.\"], [26, 99, \"The information does not specify if Diana is admired for her beauty.\"], [27, 99, \"The information does not specify if Diana is admired for her intelligence.\"], [28, 99, \"The information does not specify if Diana has a lower rank occupation.\"], [29, 99, \"The information does not specify if Diana has a higher rank occupation.\"] ,[2, 2005, \"The book was published in 2005.\"]]\n",
      "[[1, 1], [2, 1988], [3, [\"southern gothic\", \"family saga\", \"literary fiction\", \"historical fiction\", \"psychological fiction\"]], [4, 0, \"Shep attempts to help Lucy but fails to prevent her downward spiral into mental illness and self-destruction\"], [5, 0, \"Lucy's actions primarily harm others rather than save them\"], [6, 1, \"Shep serves as Lucy's lifelong protector and emotional anchor\"], [7, 0, \"Lucy's chaotic behavior endangers others rather than protecting them\"], [8, 0, \"Lucy's mental health and personal crises remain unresolved despite interventions\"], [9, 0, \"Her problems escalate due to self-destructive choices rather than skillful resolution\"], [10, 1, \"Husbands exhibit violent behavior toward her (one becomes physically abusive)\"], [11, 1, \"Her manipulation and instability harm Shep and others emotionally\"], [12, 0, \"Rebels against Southern societal expectations for women\"], [13, 1, \"Exerts strong influence over Shep and others through manipulation\"], [14, 0, \"Described as physically vibrant and energetic\"], [15, 1, \"Maintains physical presence despite mental instability\"], [16, 0, \"Takes risks through rebellious behavior and affairs\"], [17, 1, \"Defies social norms and pursues dangerous relationships\"], [18, 0, \"Focuses on her own needs rather than caregiving\"], [19, 1, \"Neglects daughter and others due to self-absorption\"], [20, 0, \"Disregards social harmony through scandalous behavior\"], [21, 1, \"Focuses on personal desires over emotional dynamics\"], [22, 0, \"Prioritizes her own needs above all others\"], [23, 1, \"Pursues independence despite family expectations\"], [24, 0, \"Fails to maintain traditional domestic roles\"], [25, 0, \"No indication of professional employment\"], [26, 1, \"Repeatedly described as a devastating beauty\"], [27, 0, \"Admired for charm rather than intellect\"], [28, 99, \"No specific occupation mentioned\"], [29, 0, \"No professional achievements described\"]]\n",
      "[[1, 1], [2, 2022], [3, [\"literary fiction\", \"contemporary fiction\", \"psychological fiction\"]], [4, 0, \"No male character rescues San; she navigates systemic misogyny and isolation independently\"], [5, 0, \"San does not save any male characters\"], [6, 0, \"No male protection is described; San faces aggression and neglect\"], [7, 0, \"She does not protect male characters\"], [8, 0, \"Her problems remain unresolved, emphasizing systemic oppression\"], [9, 0, \"Her struggles persist due to societal constraints, not resolved through skill\"], [10, 1, \"Faces systemic misogyny and aggression from male customers/characters\"], [11, 0, \"No evidence of harming male characters\"], [12, 1, \"Works menial jobs (flower shop, hairdressing) requiring task compliance\"], [13, 0, \"Does not give orders\"], [14, 99, \"Physical capability not explicitly addressed\"], [15, 99, \"Physical strength not discussed\"], [16, 1, \"Fearful and isolated, avoids confrontation\"], [17, 0, \"No risk-taking beyond obsessive behavior\"], [18, 0, \"Focuses on survival, not caregiving\"], [19, 1, \"Prioritizes self-preservation in hostile environment\"], [20, 0, \"Struggles with emotional dissociation, not attuned to others\"], [21, 1, \"Focuses on practical survival in Seoul\"], [22, 0, \"No self-sacrifice; her needs remain unmet\"], [23, 1, \"Maintains personal boundaries despite external pressures\"], [24, 0, \"No homemaking role described\"], [25, 0, \"Works low-wage jobs, not a breadwinner\"], [26, 99, \"Appearance noted as fragile but not explicitly admired\"], [27, 0, \"Intelligence not highlighted as an admired trait\"], [28, 1, \"Works as flower shop assistant and hairdresser\"], [29, 0, \"No higher-rank occupation\"]]\n",
      "[[1, 1, \"Elizabeth Chandler is a pseudonym for Mary-Claire Helldorfer, a female author.\"], [2, 2012], [3, [\"young adult\", \"paranormal romance\", \"mystery\", \"supernatural\", \"drama\"]], [4, 1, \"Tristan (as a fallen angel) repeatedly intervenes to protect Ivy from supernatural threats.\"], [5, 1, \"Ivy actively works to clear Tristan's name and protect him from supernatural dangers.\"], [6, 1, \"Tristan and other male characters like Philip provide protection.\"], [7, 1, \"Ivy protects Tristan by investigating to prove his innocence.\"], [8, 99, \"Mixed agency: Ivy actively investigates but receives angelic assistance.\"], [9, 1, \"Ivy demonstrates investigative skills to solve the murder mystery.\"], [10, 1, \"Gregory (male antagonist) possesses Beth to harm Ivy.\"], [11, 0, \"No evidence of Ivy harming male characters.\"], [12, 0, \"Ivy takes independent action rather than following orders.\"], [13, 1, \"Coordinates plans with Tristan and others.\"], [14, 0, \"No indications of physical incapability.\"], [15, 99, \"Physical strength not emphasized in available descriptions.\"], [16, 0, \"Persists despite life-threatening challenges.\"], [17, 1, \"Braves supernatural threats to protect loved ones.\"], [18, 1, \"Cares deeply for Tristan, Beth, and family members.\"], [19, 0, \"Frequently provides emotional support.\"], [20, 1, \"Sensitive to Tristan's angelic struggles and Beth's possession.\"], [21, 0, \"Prioritizes emotional connections over practical matters.\"], [22, 1, \"Risking her life to protect Tristan.\"], [23, 1, \"Maintains goal of proving Tristan's innocence despite obstacles.\"], [24, 99, \"No explicit homemaker role described.\"], [25, 99, \"Occupation as student mentioned, not breadwinner.\"], [26, 99, \"Physical appearance not emphasized in available sources.\"], [27, 1, \"Demonstrates intelligence through investigative work.\"], [28, 0, \"Student status implied, not lower-rank occupation.\"], [29, 0, \"No higher-rank occupation described.\"]]\n",
      "[[1, 0], [2, 2002], [3, [\"comedy\", \"crime\", \"satire\", \"adventure\", \"humor\"]], [4, 0, \"No direct evidence of male rescue; Fay is a CGIS agent operating independently\"], [5, 99, \"No explicit information about saving a male character\"], [6, 0, \"Fay's undercover role suggests self-reliance\"], [7, 99, \"No specific protective actions toward males described\"], [8, 99, \"Plot resolution details unclear regarding luck/help\"], [9, 1, \"As a CGIS agent, she likely uses professional skills\"], [10, 99, \"No explicit victimization described\"], [11, 99, \"No direct evidence of harming males\"], [12, 1, \"Follows orders as undercover agent\"], [13, 99, \"No explicit order-giving described\"], [14, 0, \"Undercover role implies physical capability\"], [15, 1, \"CGIS agent status suggests competence\"], [16, 0, \"Bravery implied through undercover work\"], [17, 1, \"Accepts risks inherent in covert operations\"], [18, 1, \"Mother to a 2-year-old requiring care\"], [19, 0, \"Balances caregiving with professional duties\"], [20, 99, \"No explicit emotional attunement described\"], [21, 1, \"Focuses on mission objectives\"], [22, 0, \"Maintains undercover role despite personal stakes\"], [23, 1, \"Pursues professional goals while parenting\"], [24, 0, \"Works as cocktail waitress/agent\"], [25, 1, \"Primary caregiver and income provider\"], [26, 1, \"Described as 'pretty, long-legged' waitress\"], [27, 1, \"Undercover work requires intelligence\"], [28, 1, \"Cocktail waitress cover role\"], [29, 1, \"CGIS agent is higher-rank occupation\"]]\n",
      "[[1, 1], [2, 2003], [3, [\"mystery\", \"suspense\", \"crime fiction\", \"romance\", \"christian fiction\"]], [4, 1, \"Sheriff Nathan Justice and Bruce Chapel break into Rae's hotel room to save her from the killer\"], [5, 0, \"No evidence of Rae saving a male character\"], [6, 1, \"Nathan and Bruce protect Rae during the investigation\"], [7, 0, \"No evidence of Rae protecting male characters\"], [8, 99, \"Unclear if resolution involves external help or luck\"], [9, 1, \"Rae uses investigative skills to pursue the case\"], [10, 1, \"Rae becomes a potential target of the male serial killer\"], [11, 0, \"No evidence of Rae harming others\"], [12, 0, \"Rae operates independently as a PI\"], [13, 1, \"Rae directs investigative efforts\"], [14, 0, \"Former FBI agent with physical capability\"], [15, 1, \"Trained law enforcement background\"], [16, 0, \"Actively pursues dangerous investigation\"], [17, 1, \"Takes risks investigating murders\"], [18, 0, \"Focuses on investigative work\"], [19, 1, \"Task-oriented approach\"], [20, 99, \"No explicit emotional attunement described\"], [21, 1, \"Prioritizes case-solving over emotional dynamics\"], [22, 0, \"Maintains focus on solving the case\"], [23, 1, \"Persists in investigation despite risks\"], [24, 0, \"Works as private investigator\"], [25, 1, \"Earns income through investigative work\"], [26, 1, \"Her appearance makes her a potential target\"], [27, 1, \"Relies on investigative expertise\"], [28, 0, \"Holds professional investigator role\"], [29, 1, \"Former FBI agent turned PI\"]]\n",
      "[[1, 0], [2, \"No publication year found in results (Sons of the Oak not detailed in provided sources)\"], [3, [\"fantasy\", \"epic fantasy\", \"adventure\"]], [4, 99, \"No specific rescue instances for Iome in Sons of the Oak are detailed in available sources\"], [5, 99, \"No direct evidence of Iome saving males in this book from provided materials\"], [6, 99, \"Protection dynamics not explicitly described for this installment\"], [7, 99, \"No protection of males by Iome specifically documented here\"], [8, 99, \"Insufficient plot details about problem-solving in this book\"], [9, 99, \"Skill-based resolutions not confirmed for this volume\"], [10, 99, \"No specific victimization described in available Sons of the Oak content\"], [11, 99, \"No recorded instances of Iome harming males in this book\"], [12, 99, \"Leadership role unclear for this specific installment\"], [13, 99, \"Order-giving not explicitly documented here\"], [14, 99, \"Physical capability status unknown for this book\"], [15, 99, \"Strength demonstrations not recorded in available materials\"], [16, 99, \"Risk-taking behavior not detailed\"], [17, 99, \"Bravery manifestations unspecified\"], [18, 99, \"Caregiving behaviors not described\"], [19, 99, \"Task focus not confirmed\"], [20, 99, \"Emotional attunement not explicitly shown\"], [21, 99, \"Practical focus not verified\"], [22, 99, \"Sacrificial choices not documented\"], [23, 99, \"Boundary maintenance unclear\"], [24, 0, \"As queen, not a homemaker\"], [25, 1, \"Holds position of monarch\"], [26, 1, \"Previously admired for glamour/beauty in series (though loses endowments)\"], [27, 99, \"Intelligence admiration not specifically documented here\"], [28, 0, \"Holds highest social rank\"], [29, 1, \"Queen/ruler by position\"]]\n",
      "[[1, 1, \"Author Lexi Blake is female\"], [2, 2012], [3, [\"erotic romance\", \"bdsm\", \"romantic suspense\", \"contemporary romance\", \"ménage\"]], [4, 1, \"Adam and Jacob protect Serena from her stalker and help resolve the threat\"], [5, 0, \"No evidence of Serena saving male characters\"], [6, 1, \"Hired as bodyguards, Adam and Jacob physically protect Serena throughout\"], [7, 0, \"No protective actions toward male characters described\"], [8, 1, \"Resolution involves collaboration with Adam/Jacob against the stalker\"], [9, 0, \"Relies on male protection rather than solving through personal skill\"], [10, 1, \"Stalker (implied male) threatens her; Jacob's distrust causes emotional harm\"], [11, 0, \"No evidence of Serena harming others\"], [12, 1, \"Follows BDSM dynamics with Jacob as Dom\"], [13, 0, \"No evidence of command-giving behavior\"], [14, 0, \"No physical incapacity described\"], [15, 99, \"Physical capability not emphasized\"], [16, 1, \"Initially fearful of relationships/trust due to abandonment issues\"], [17, 1, \"Braves BDSM exploration and confronts stalker\"], [18, 0, \"Focus remains on her survival/relationship needs\"], [19, 1, \"Prioritizes writing career and self-preservation\"], [20, 1, \"Acknowledges relationship dynamics between Adam/Jacob\"], [21, 0, \"Emotional awareness overrides impersonal focus\"], [22, 0, \"Maintains boundaries despite male expectations\"], [23, 1, \"Persists with writing career and relationship demands\"], [24, 0, \"No homemaker role described\"], [25, 1, \"Bestselling author as primary occupation\"], [26, 99, \"Attraction noted but not framed as primary admiration\"], [27, 1, \"Admired for successful writing career\"], [28, 0, \"High-status author role\"], [29, 1, \"Bestselling author constitutes high-rank occupation\"]]\n",
      "[[1, 1], [2, 2011], [3, [\"young adult\", \"supernatural fiction\", \"paranormal romance\", \"urban fantasy\", \"vampire fiction\"]], [4, 99, \"No explicit rescue by Tristan mentioned in available sources\"], [5, 99, \"No evidence of Savannah saving a male character in provided materials\"], [6, 1, \"Protected by family (father/grandmother) and possibly Tristan's implied protection\"], [7, 99, \"No clear evidence of Savannah protecting males\"], [8, 99, \"Conflict resolution details unclear in available sources\"], [9, 99, \"Self-sufficiency in problem-solving not explicitly described\"], [10, 0, \"Bullied by Clann members but not specifically male-perpetrated harm\"], [11, 99, \"No evidence of harming males\"], [12, 1, \"Follows family's orders to avoid Clann initially\"], [13, 99, \"No explicit order-giving described\"], [14, 0, \"Becomes physically enhanced as dhampir\"], [15, 1, \"Gains vampire strength post-transformation\"], [16, 1, \"Initially fearful of social/romantic risks\"], [17, 1, \"Pursues forbidden relationship despite dangers\"], [18, 99, \"Caregiving behaviors not emphasized\"], [19, 1, \"Focuses on survival/relationship goals\"], [20, 1, \"Aware of social dynamics and Tristan's emotional state\"], [21, 0, \"Emotional conflicts drive decisions\"], [22, 1, \"Sacrifices relationship for peace initially\"], [23, 1, \"Ultimately pursues relationship against expectations\"], [24, 0, \"High school student\"], [25, 0, \"No occupation mentioned\"], [26, 1, \"Attracts attention post-transformation\"], [27, 99, \"Intelligence not specifically highlighted\"], [28, 0, \"No occupation\"], [29, 0, \"No occupation\"]]\n",
      "[[1, 0], [2, 2009], [3, [\"young adult\", \"science fiction\", \"adventure\", \"action\", \"thriller\"]], [4, 99, \"No explicit rescue of Laura by male characters mentioned in available sources\"], [5, 99, \"No direct evidence of Laura saving male characters in described events\"], [6, 99, \"Protection dynamics not specifically detailed for Laura\"], [7, 99, \"No explicit protection of males by Laura described\"], [8, 99, \"Problem-solving methods for Laura's challenges unclear\"], [9, 1, \"Laura demonstrates technical skill by intercepting transmissions and assisting in missions\"], [10, 1, \"Laura is captured/threatened by Cypher's forces (implied through Contessa's betrayal)\"], [11, 99, \"No evidence of Laura harming male characters\"], [12, 1, \"Collaborates with school leadership against threats\"], [13, 1, \"Takes initiative in security operations\"], [14, 0, \"Actively participates in high-stakes missions\"], [15, 1, \"Shows competence in technical and tactical situations\"], [16, 0, \"Engages willingly in dangerous missions\"], [17, 1, \"Participates in life-threatening operations\"], [18, 99, \"Caregiving behaviors not explicitly described\"], [19, 1, \"Focuses on mission-critical tasks\"], [20, 99, \"Emotional attunement not specifically detailed\"], [21, 1, \"Prioritizes practical mission objectives\"], [22, 99, \"Sacrifice dynamics unclear\"], [23, 1, \"Maintains focus on operational goals\"], [24, 0, \"Not a homemaker\"], [25, 99, \"Occupation rank unclear (student at villain academy)\"], [26, 99, \"Physical appearance admiration not mentioned\"], [27, 1, \"Valued for technical/hacking skills\"], [28, 0, \"Student at specialized academy\"], [29, 0, \"Not in leadership position\"]]\n",
      "[[1, 0], [2, 2002], [3, [\"fantasy\", \"young adult\", \"adventure\", \"epic fantasy\", \"high fantasy\"]], [4, 1, \"Eragon rescues Arya from Durza's captivity in the first book.\"], [5, 0, \"Arya does not directly save a male character in the first book, though she aids the Varden's cause.\"], [6, 1, \"Eragon and Brom protect Arya during her recovery and journey to the Varden.\"], [7, 1, \"Arya protects Eragon and others through her combat skills and magical abilities.\"], [8, 1, \"Arya's rescue from Durza relies on Eragon's intervention.\"], [9, 1, \"Arya demonstrates skill in combat and magic, contributing to her survival and missions.\"], [10, 1, \"Arya is tortured by Durza, a male antagonist.\"], [11, 1, \"Arya fights and harms male enemies, including Durza.\"], [12, 1, \"Arya follows orders from her queen and the Varden leadership.\"], [13, 1, \"Arya gives orders as an ambassador and later as a leader.\"], [14, 0, \"Arya is physically strong and capable as an elf warrior.\"], [15, 1, \"Arya is a master swordswoman and magician.\"], [16, 0, \"Arya is fearless in battle and diplomatic missions.\"], [17, 1, \"Arya undertakes high-risk missions, including transporting Saphira's egg.\"], [18, 0, \"Arya focuses on strategic goals rather than caregiving.\"], [19, 1, \"Arya prioritizes her duties over personal caregiving.\"], [20, 0, \"Arya is reserved and mission-focused, not overtly attuned to emotional dynamics.\"], [21, 1, \"Arya emphasizes practical goals, such as defeating Galbatorix.\"], [22, 0, \"Arya maintains her duties and boundaries despite others' needs.\"], [23, 1, \"Arya prioritizes her responsibilities over personal relationships.\"], [24, 0, \"Arya is a warrior and diplomat, not a homemaker.\"], [25, 0, \"Arya's role is political and military, not economic.\"], [26, 1, \"Arya is described as a known beauty with striking features.\"], [27, 1, \"Arya is admired for her wisdom and magical expertise.\"], [28, 0, \"Arya holds high-ranking roles as an ambassador and princess.\"], [29, 1, \"Arya is a princess, ambassador, and later queen.\"]]\n",
      "[ [1, 1], [-1, 1995], [3, [\"romance\", \"contemporary\"]], [4, 99, \"No information about Polly being saved by a male character.\"], [5, 99, \"No information about Polly saving a male character.\"], [6, 99, \"No information about Polly being protected by a male character.\"], [7, 99, \"No information about Polly protecting a male character.\"], [8, 99, \"No information about Polly's problem being solved through help or luck.\"], [9, 99, \"No information about Polly solving her own problem through skill.\"], [10, 0, \"No indication of Polly being victimized by a male character.\"], [11, 0, \"No indication of Polly harming a male character.\"], [12, 99, \"No information about Polly following orders.\"], [13, 99, \"No information about Polly giving orders.\"], [14, 0, \"No indication of Polly being physically weak.\"], [15, 99, \"No information about Polly's physical strength.\"], [16, 99, \"No information about Polly being fearful of taking risks.\"], [17, 99, \"No information about Polly being brave or liking risks.\"], [18, 1, \"Polly cares for others, such as her friends and possibly her cat.\"], [19, 1, \"Polly focuses on her pottery career and other personal goals.\"], [20, 99, \"No information about Polly being emotionally aware and attuned to others.\"], [21, 1, \"Polly focuses on practical matters like her pottery and job.\"], [22, 99, \"No information about Polly sacrificing her goals for others.\"], [23, 1, \"Polly maintains her personal goals, such as her pottery career.\"], [24, 0, \"No indication of Polly being a homemaker.\"], [25, 1, \"Polly is a breadwinner through her job at the Whole Nut café.\"], [26, 99, \"No information about Polly being admired for her beauty.\"], [27, 99, \"No information about Polly being admired for her intelligence.\"], [28, 1, \"Polly has a lower rank occupation at the Whole Nut café.\"], [29, 0, \"No indication of Polly having a higher rank occupation.\"] ,[2, 1995, \"The book 'Living Dangerously' by Katie Fforde was published in 1995.\"]]\n",
      "[[1, 0], [2, 2005], [3, [\"contemporary fiction\", \"drama\", \"romance\"]], [4, 0, \"No male character directly intervenes to resolve Esha's modeling career crisis or emotional trauma\"], [5, 0, \"Esha doesn't actively save any male characters in the narrative\"], [6, 0, \"No textual evidence of male protection\"], [7, 0, \"Doesn't protect male characters\"], [8, 0, \"Her modeling career failure remains unresolved; she continues working at the call center\"], [9, 0, \"Doesn't use specific skills to resolve her core conflict about the modeling incident\"], [10, 1, \"Exploited by a male designer who takes advantage of her modeling aspirations\"], [11, 0, \"No evidence of harming male characters\"], [12, 1, \"Follows call center protocols and Bakshi's management\"], [13, 0, \"No leadership role shown\"], [14, 0, \"No physical incapacity mentioned\"], [15, 99, \"Physical capability not discussed\"], [16, 0, \"Pursues modeling despite risks, though later quits due to trauma\"], [17, 1, \"Initially takes risks by entering modeling industry\"], [18, 1, \"Provides housing for Radhika post-divorce\"], [19, 0, \"Engages in caregiving by supporting Radhika\"], [20, 1, \"Recognizes others' struggles (e.g., Shyam's relationship issues)\"], [21, 0, \"Focuses on personal appearance and relationships\"], [22, 0, \"Prioritizes modeling career over relationships initially\"], [23, 1, \"Maintains career focus despite setbacks\"], [24, 0, \"Works full-time at call center\"], [25, 1, \"Earns through call center job\"], [26, 1, \"Colleagues consider her 'the hottest chick'\"], [27, 0, \"Intelligence not highlighted as key trait\"], [28, 1, \"Call center agent (entry-level position)\"], [29, 0, \"No managerial role\"]]\n",
      "[[1, 1], [2, 2012], [3, [\"literary fiction\", \"historical fiction\", \"bildungsroman\", \"retelling\", \"domestic fiction\"]], [4, 0, \"Gemma's key rescues come from female allies (e.g., two women and a scholar help her after fleeing)\"], [5, 0, \"No evidence of her saving a male character\"], [6, 0, \"Male figures (uncle, Mr. Sinclair) either die or betray her trust\"], [7, 0, \"Her protective role is limited to her charge, a girl\"], [8, 1, \"Receives scholarship to Claypoole and later aid from women during homelessness\"], [9, 1, \"Persistently seeks independence through education/employment\"], [10, 1, \"Abused by male cousin and deceived by Mr. Sinclair\"], [11, 0, \"No direct harm to males beyond self-defense\"], [12, 1, \"Follows school/work protocols initially\"], [13, 1, \"Assumes authority as au pair\"], [14, 0, \"Survives homelessness and physical hardships\"], [15, 1, \"Shown as resilient through adversity\"], [16, 0, \"Repeatedly takes risks (fleeing, confronting)\"], [17, 1, \"Defies social expectations repeatedly\"], [18, 1, \"Cares for her young charge as au pair\"], [19, 0, \"Balances caregiving with self-preservation\"], [20, 99, \"Limited explicit focus on emotional attunement\"], [21, 1, \"Prioritizes survival/practical goals over social harmony\"], [22, 0, \"Flees rather than sacrifice autonomy\"], [23, 1, \"Persists in seeking family history/independence\"], [24, 0, \"Work roles (student, au pair) aren't homemaking\"], [25, 0, \"Relies on others for subsistence\"], [26, 99, \"Physical appearance rarely emphasized\"], [27, 1, \"Scholarship and adaptability highlight intelligence\"], [28, 1, \"Works as servant-student and au pair\"], [29, 0, \"No high-status occupation\"]]\n",
      "[[1, 1], [2, 2004], [3, [\"women's fiction\", \"contemporary fiction\", \"domestic fiction\"]], [4, 99, \"No specific rescue by male characters mentioned in available materials\"], [5, 99, \"No evidence of saving male characters in available plot summaries\"], [6, 99, \"Protection dynamics not explicitly described\"], [7, 99, \"No information about protecting male characters\"], [8, 99, \"Insufficient plot details about problem resolution\"], [9, 99, \"Skill-based problem-solving not detailed in available sources\"], [10, 99, \"No explicit mention of victimization by males\"], [11, 99, \"No evidence of harming male characters\"], [12, 99, \"Leadership dynamics not specified\"], [13, 99, \"No explicit order-giving described\"], [14, 0, \"Shown as emotionally fragile but physically capable through photography career and travel\"], [15, 1, \"Engages in photography career and independent travel\"], [16, 0, \"Demonstrates bravery through career pursuits and personal growth\"], [17, 1, \"Takes risks in relationships and career per series descriptions\"], [18, 1, \"Cares for Miriam and Sadie in later books, though specific At Home in Covington caregiving not detailed\"], [19, 0, \"Regularly engages in community relationships\"], [20, 1, \"Maintains relationships with housemates Grace and Hannah\"], [21, 0, \"Focuses on emotional connections and photography\"], [22, 99, \"Specific sacrifice not detailed for this installment\"], [23, 1, \"Maintains photography career and personal boundaries\"], [24, 0, \"Not primarily depicted as homemaker\"], [25, 99, \"Photography career status unclear in available details\"], [26, 99, \"Physical appearance admiration not specified\"], [27, 1, \"Admired for artistic skills in photography\"], [28, 0, \"Photography represents professional pursuit\"], [29, 99, \"Career rank not explicitly defined\"]]\n",
      "[ [1, 1], [-1, 2], [2, []], [3, 0, \"No specific publication year for book 17 is mentioned.\"], [4, 0, \"There is no information indicating Natalia is saved by a male character.\"], [5, 1, \"Natalia saves Cam from Raine's evilness.\"], [6, 0, \"There is no information indicating Natalia is protected by a male character.\"], [7, 0, \"There is no information indicating Natalia protects a male character.\"], [8, 99, \"No information on whether Natalia's problem is solved through help or luck.\"], [9, 1, \"Natalia solves her own problems through skill, as seen when she overpowers Raine.\"], [10, 0, \"There is no information indicating Natalia is victimized by a male character.\"], [11, 0, \"There is no information indicating Natalia harms a male character.\"], [12, 0, \"There is no information indicating Natalia follows orders.\"], [13, 0, \"There is no information indicating Natalia gives orders.\"], [14, 0, \"There is no information indicating Natalia is physically weak.\"], [15, 1, \"Natalia shows physical capability by overpowering Raine.\"], [16, 0, \"Natalia is not described as fearful of taking risks.\"], [17, 1, \"Natalia is brave and takes risks, as seen when she confronts Raine.\"], [18, 0, \"There is no information indicating Natalia cares for others in a caregiving role.\"], [19, 1, \"Natalia focuses on her goals and challenges without providing emotional support.\"], [20, 0, \"There is no information indicating Natalia is emotionally aware and maintains harmony.\"], [21, 1, \"Natalia focuses on practical matters and her own challenges.\"], [22, 0, \"There is no information indicating Natalia sacrifices her goals for others.\"], [23, 1, \"Natalia maintains her personal goals and boundaries.\"], [24, 0, \"There is no information indicating Natalia is a homemaker.\"], [25, 0, \"There is no information indicating Natalia is a breadwinner.\"], [26, 0, \"There is no information indicating Natalia is admired for her beauty.\"], [27, 0, \"There is no information indicating Natalia is admired for her intelligence.\"], [28, 0, \"There is no information indicating Natalia has a lower rank occupation.\"], [29, 0, \"There is no information indicating Natalia has a higher rank occupation.\"] ]\n",
      "[[1, 0], [2, 2010], [3, [\"children's literature\", \"realistic fiction\", \"school story\"]], [4, 0, \"Jessica isn't saved by any male character; her growth comes from personal adaptation and peer relationships\"], [5, 0, \"Jessica doesn't save male characters, though she supports peers emotionally\"], [6, 0, \"No male character is shown protecting Jessica\"], [7, 0, \"She doesn't protect male characters physically or strategically\"], [8, 1, \"Her adjustment is aided by Mr. Terupt's teaching methods and peer friendships\"], [9, 1, \"She independently navigates social challenges through perceptiveness\"], [10, 0, \"No male character victimizes her\"], [11, 0, \"She doesn't harm male characters\"], [12, 0, \"She acts independently rather than following orders\"], [13, 0, \"She doesn't give orders but influences through empathy\"], [14, 0, \"No physical weakness described\"], [15, 99, \"Physical capability isn't emphasized\"], [16, 0, \"She actively seeks friendships despite risks\"], [17, 1, \"Braves social challenges as the new student\"], [18, 1, \"Comforts Jeffrey about his brother's death and mediates conflicts\"], [19, 0, \"Regularly engages in caregiving behaviors\"], [20, 1, \"Recognizes Alexia's manipulation and group dynamics\"], [21, 0, \"Focuses on emotional/social understanding\"], [22, 0, \"Maintains boundaries while building friendships\"], [23, 1, \"Pursues friendships without compromising self\"], [24, 0, \"Fifth-grade student\"], [25, 0, \"Not applicable\"], [26, 99, \"Physical appearance isn't emphasized\"], [27, 1, \"Described as smart and perceptive\"], [28, 0, \"Student\"], [29, 0, \"Student\"]]\n",
      "[ [1, 0], [-1, -1], [-1, [\"literary fiction\", \"drama\", \"historical fiction\", \"social commentary\", \"tragedy\"]], [-1, 0, \"There is no indication that Merry is saved by a male character.\"], [-1, 0, \"Merry does not save any male character.\"], [-1, 0, \"Merry is not protected by a male character.\"], [-1, 0, \"Merry does not protect any male character.\"], [-1, 0, \"Merry's problems are not solved through help or luck.\"], [-1, 0, \"Merry does not solve her own problems through skill.\"], [-1, 1, \"Merry is victimized by circumstances and possibly by male figures in her life, such as those who rape her.\"], [-1, 1, \"Merry harms others through her actions as the Rimrock Bomber.\"], [-1, 0, \"There is no indication that Merry follows orders.\"], [-1, 0, \"There is no indication that Merry gives orders.\"], [-1, 0, \"Merry is not depicted as physically weak.\"], [-1, 0, \"Merry is not explicitly described as physically strong.\"], [-1, 0, \"Merry is not fearful of taking risks.\"], [-1, 1, \"Merry is brave and takes significant risks.\"], [-1, 0, \"Merry does not care for others in a nurturing role.\"], [-1, 1, \"Merry focuses on her goals and radical beliefs without providing emotional support to others.\"], [-1, 0, \"Merry is not emotionally aware or attuned to others' needs.\"], [-1, 1, \"Merry focuses on practical matters and her political beliefs.\"], [-1, 0, \"Merry does not sacrifice her goals for others.\"], [-1, 1, \"Merry maintains her personal goals and boundaries.\"], [-1, 0, \"Merry is not a homemaker.\"], [-1, 0, \"Merry is not a breadwinner.\"], [-1, 0, \"Merry is not admired for her beauty.\"], [-1, 0, \"Merry is not specifically admired for her intelligence.\"], [-1, 0, \"Merry does not have a lower rank occupation.\"], [-1, 0, \"Merry does not have a higher rank occupation.\"], [-1, 1997, \"The book 'American Pastoral' was published in 1997.\"] ]\n",
      "[[1, 0], [2, 2012], [3, [\"young adult\", \"dystopian\", \"science fiction\", \"adventure\", \"post-apocalyptic\"]], [4, 1, \"Mark and Alec rescue Trina from infected attackers and captivity multiple times[5][6].\"], [5, 0, \"No direct instances of Trina saving male characters are documented in available sources.\"], [6, 1, \"Mark frequently protects Trina, including during attacks and while escaping threats[1][5].\"], [7, 0, \"No evidence of Trina physically protecting male characters is provided in search results.\"], [8, 99, \"Trina's infection with the Flare remains unresolved, and her survival depends on group efforts rather than explicit luck[5][8].\"], [9, 0, \"Her infection and capture situations are not resolved through her own skill[5][6].\"], [10, 1, \"Threatened with rape by homeless men and physically harmed by infected attackers[5][6].\"], [11, 0, \"No instances of Trina harming male characters are documented.\"], [12, 99, \"No explicit order-following behavior is detailed in available sources.\"], [13, 1, \"Trina initiates action, e.g., urging the group to investigate threats[3][6].\"], [14, 0, \"Described as physically capable during crises, helping carry bodies and escape dangers[6].\"], [15, 1, \"Characterized as tougher than Mark, rushing toward danger[3][6].\"], [16, 0, \"Consistently brave, pushing Mark to act during crises[3][6].\"], [17, 1, \"Frequently takes risks, including confronting threats head-on[3][6].\"], [18, 1, \"Protects Deedee and participates in caregiving during emergencies[1][6].\"], [19, 0, \"Actively engages in caregiving and group survival efforts[1][6].\"], [20, 1, \"Attuned to group dynamics and Mark's emotional state[3][6].\"], [21, 0, \"Focuses on interpersonal and survival needs over impersonal tasks[3][6].\"], [22, 99, \"No explicit sacrifices beyond general survival efforts are documented.\"], [23, 1, \"Maintains her proactive survival instincts despite others' needs[3][6].\"], [24, 0, \"No homemaker role described; focused on survival[6][8].\"], [25, 0, \"No breadwinner role indicated in post-apocalyptic setting[6][8].\"], [26, 1, \"Explicitly described as beautiful with cropped blond hair[1][3].\"], [27, 99, \"Intelligence is not specifically highlighted beyond survival instincts[3][6].\"], [28, 0, \"No occupation mentioned pre-apocalypse[1][6].\"], [29, 0, \"No leadership or high-rank role described[1][6].\"]]\n",
      "[ [1, 1], [-1, -1], [2, []], [3, 0, \"No information about a male character saving Joan.\"], [4, 0, \"There is no instance where Joan saves a male character.\"], [5, 0, \"No male character protects Joan in the story.\"], [6, 0, \"No male character is protected by Joan.\"], [7, 0, \"Joan's problem is not solved through external help or luck.\"], [8, 1, \"Joan solves her problem through self-reflection and personal growth.\"], [9, 0, \"There is no indication that Joan is victimized by a male character.\"], [10, 1, \"Joan realizes she has harmed her family members through her actions.\"], [11, 0, \"There is no mention of Joan following orders.\"], [12, 1, \"Joan gives orders, as she is portrayed as a domineering figure.\"], [13, 0, \"Joan is not described as physically weak.\"], [14, 0, \"Joan is not described as physically strong.\"], [15, 0, \"Joan is not portrayed as fearful of taking risks.\"], [16, 0, \"Joan is not depicted as brave or risk-taking.\"], [17, 0, \"Joan does not care for others in a nurturing way.\"], [18, 1, \"Joan focuses on her own goals and tasks without providing emotional support.\"], [19, 0, \"Joan is not emotionally aware or attuned to others' needs initially.\"], [20, 0, \"Joan does not prioritize maintaining harmony.\"], [21, 1, \"Joan focuses on practical matters and her own concerns.\"], [22, 0, \"Joan does not sacrifice her goals for others.\"], [23, 0, \"Joan does not maintain personal goals and boundaries effectively.\"], [24, 1, \"Joan is portrayed as a homemaker.\"], [25, 0, \"Joan is not depicted as a breadwinner.\"], [26, 0, \"Joan is not admired for her beauty.\"], [27, 0, \"Joan is not admired for her intelligence.\"], [28, 0, \"Joan does not have a lower rank occupation.\"], [29, 0, \"Joan does not have a higher rank occupation.\"] ]\n",
      "[[1, 1], [2, 1998], [3, [\"supernatural\", \"mystery\", \"suspense\", \"paranormal\", \"gothic\"]], [4, 0, \"Rachel's resolution involves collaboration with Kara, not male intervention\"], [5, 0, \"No evidence of Rachel saving a male character\"], [6, 0, \"Protection comes through female alliances and self-reliance\"], [7, 0, \"No direct evidence of protecting males\"], [8, 1, \"Collaboration with Kara and supernatural resolution\"], [9, 1, \"Rachel actively resists the quilt's influence and confronts the threat\"], [10, 0, \"Threats stem from supernatural forces, not male characters\"], [11, 0, \"No evidence of harming males\"], [12, 0, \"Rachel acts independently despite external pressures\"], [13, 1, \"Takes initiative in investigating the quilt's mystery\"], [14, 0, \"No physical incapacity described\"], [15, 99, \"Physical strength not emphasized\"], [16, 0, \"Persists despite supernatural threats\"], [17, 1, \"Confronts the quilt's malevolent influence directly\"], [18, 0, \"Focuses on solving the supernatural threat\"], [19, 1, \"Task-oriented toward resolving the quilt's curse\"], [20, 0, \"Initially self-absorbed; emotional awareness develops later\"], [21, 1, \"Prioritizes solving the quilt's mystery over emotional dynamics\"], [22, 0, \"Maintains focus on resolving the supernatural threat\"], [23, 1, \"Persists with her goals despite external pressures\"], [24, 0, \"Works at a vintage clothing shop\"], [25, 0, \"No evidence of primary financial responsibility\"], [26, 99, \"Physical appearance not emphasized\"], [27, 1, \"Pursuing a doctoral dissertation demonstrates intellect\"], [28, 0, \"Works in a shop but not framed as lower-rank\"], [29, 0, \"Not in a high-rank leadership role\"]]\n",
      "[ [1, 1], [-1, -1], [2, []], [3, 1, \"The author Mercedes Lackey is female.\"], [4, 1988, \"The book was published in 1988.\"], [5, 1, \"The genres of the book include fantasy, adventure, and romance.\"], [6, 1, \"Talia is saved by Dirk in the story.\"], [7, 0, \"There is no information that Talia saves a male character.\"], [8, 1, \"Talia is protected by male characters like Dirk.\"], [9, 0, \"There is no information that Talia protects a male character.\"], [10, 1, \"Talia's problem is solved through help.\"], [11, 1, \"Talia solves her own problems through skill.\"], [12, 1, \"Talia is victimized by male characters, specifically Prince Ancar.\"], [13, 0, \"There is no indication that Talia harms a male character.\"], [14, 1, \"Talia follows orders as the Queen's Own Herald.\"], [15, 1, \"Talia gives orders as part of her role.\"], [16, 0, \"Talia is not physically weak.\"], [17, 1, \"Talia is physically capable.\"], [18, 0, \"Talia is not fearful of taking risks.\"], [19, 1, \"Talia is brave and likes taking risks.\"], [20, 1, \"Talia cares for others, as seen in her role as a Herald.\"], [21, 0, \"Talia does not avoid caregiving behaviors.\"], [22, 1, \"Talia is emotionally aware and attuned to others.\"], [23, 0, \"Talia focuses on practical matters and others' emotions.\"], [24, 1, \"Talia sacrifices her goals for others' wellbeing.\"], [25, 0, \"Talia is not a homemaker.\"], [26, 0, \"Talia is not primarily a breadwinner.\"], [27, 0, \"Talia is not admired for her beauty.\"], [28, 1, \"Talia is admired for her intelligence.\"], [29, 0, \"Talia does not have a lower rank occupation.\"] ]\n",
      "[ [1, 0], [-1, 1999], [3, [\"adventure\", \"historical fiction\", \"general fiction\"]], [4, 99, \"No specific information about Meagan being saved by a male character.\"], [5, 1, \"Meagan helps in taking Apollus to the present day and returns with others to find Harry.\"], [6, 1, \"Meagan is likely protected by male characters in the story, given the context of her adventures.\"], [7, 1, \"Meagan helps protect others, including Harry, during their adventures.\"], [8, 1, \"Meagan's problems are often solved through help from others.\"], [9, 99, \"No specific information about Meagan solving her own problems through skill.\"], [10, 99, \"No specific information about Meagan being victimized by a male character.\"], [11, 0, \"No indication that Meagan harms a male character.\"], [12, 99, \"No specific information about Meagan following orders.\"], [13, 99, \"No specific information about Meagan giving orders.\"], [14, 0, \"No indication that Meagan is physically weak.\"], [15, 1, \"Meagan participates in adventurous activities, suggesting physical capability.\"], [16, 0, \"No indication that Meagan is fearful of taking risks.\"], [17, 1, \"Meagan is involved in adventurous and risky situations.\"], [18, 99, \"No specific information about Meagan caring for others.\"], [19, 1, \"Meagan focuses on tasks and goals during her adventures.\"], [20, 99, \"No specific information about Meagan being emotionally aware and attuned to others.\"], [21, 1, \"Meagan focuses on practical matters during her adventures.\"], [22, 99, \"No specific information about Meagan sacrificing her goals for others.\"], [23, 99, \"No specific information about Meagan maintaining personal goals and boundaries.\"], [24, 0, \"No indication that Meagan is a homemaker.\"], [25, 99, \"No specific information about Meagan being a breadwinner.\"], [26, 99, \"No specific information about Meagan being admired for her beauty.\"], [27, 99, \"No specific information about Meagan being admired for her intelligence.\"], [28, 99, \"No specific information about Meagan having a lower rank occupation.\"], [29, 99, \"No specific information about Meagan having a higher rank occupation.\"] ,[2, 1999, \"The book was published in 1999.\"]]\n",
      "[ [1, 1], [-1, 1] , [-2, [\"fantasy\", \"young adult\", \"romance\", \"paranormal\", \"mystery\"]] , [-3, 0, \"There is no instance where Lena is saved by a male character in the context provided.\"], [-4, 1, \"Lena saves Ethan in previous books by bringing him back to life.\"], [-5, 1, \"Ethan often protects Lena from various threats.\"], [-6, 1, \"Lena protects Ethan from supernatural dangers.\"], [-7, 1, \"Lena's problems are often solved through a combination of her own abilities and help from others.\"], [-8, 1, \"Lena uses her magical skills to solve problems.\"], [-9, 0, \"There is no indication that Lena is victimized by a male character in this book.\"], [-10, 0, \"Lena does not harm a male character intentionally.\"], [-11, 0, \"Lena does not follow orders; she makes her own choices.\"], [-12, 1, \"Lena gives orders and makes decisions that impact others.\"], [-13, 0, \"Lena is not physically weak; she is a powerful Caster.\"], [-14, 1, \"Lena is physically strong due to her magical abilities.\"], [-15, 0, \"Lena is brave and willing to take risks.\"], [-16, 1, \"Lena is brave and likes taking risks.\"], [-17, 1, \"Lena cares for others, particularly Ethan.\"], [-18, 0, \"Lena does not focus solely on caregiving; she has her own goals.\"], [-19, 1, \"Lena is emotionally aware and tries to maintain harmony.\"], [-20, 1, \"Lena often prioritizes others' needs over her own.\"], [-21, 1, \"Lena maintains her personal goals and boundaries.\"], [-22, 0, \"Lena is not a homemaker.\"], [-23, 0, \"Lena is not a breadwinner.\"], [-24, 1, \"Lena is admired for her beauty.\"], [-25, 1, \"Lena is admired for her intelligence and magical abilities.\"], [-26, 0, \"Lena does not have a lower rank occupation.\"], [-27, 0, \"Lena does not have a higher rank occupation.\"], [-28, 0, \"Lena does not have a defined occupation.\"], [-29, 0, \"Lena does not have a defined occupation.\"] ]\n",
      "[ [1, 1], [-1, 1987], [3, [\"literary fiction\", \"historical fiction\", \"autobiographical fiction\"]], [4, 0, \"Claudia is not saved by a male character.\"], [5, 0, \"There is no indication that Claudia saves a male character.\"], [6, 0, \"Claudia is not protected by a male character.\"], [7, 0, \"There is no indication that Claudia protects a male character.\"], [8, 0, \"Claudia's problems are not solved through external help or luck.\"], [9, 1, \"Claudia solves her own problems through her intelligence and independence.\"], [10, 0, \"There is no indication that Claudia is victimized by a male character.\"], [11, 0, \"Claudia does not harm a male character.\"], [12, 0, \"Claudia does not follow orders.\"], [13, 1, \"As a journalist and historian, Claudia likely gives orders or directs her work.\"], [14, 1, \"Claudia is physically weak due to her terminal illness.\"], [15, 0, \"Claudia is not depicted as physically strong in the context of the novel.\"], [16, 0, \"Claudia is not fearful of taking risks.\"], [17, 1, \"Claudia is brave and likes taking risks.\"], [18, 0, \"Claudia does not engage in caregiving behaviors.\"], [19, 1, \"Claudia focuses on her goals and tasks without providing emotional support.\"], [20, 0, \"Claudia is not emotionally attuned to others' needs.\"], [21, 1, \"Claudia focuses more on practical matters and her own ambitions.\"], [22, 0, \"Claudia does not sacrifice her goals for others.\"], [23, 1, \"Claudia maintains her personal goals and boundaries.\"], [24, 0, \"Claudia is not a homemaker.\"], [25, 1, \"Claudia is a breadwinner as a journalist and historian.\"], [26, 0, \"Claudia is not admired for her beauty.\"], [27, 1, \"Claudia is admired for her intelligence.\"], [28, 0, \"Claudia does not have a lower rank occupation.\"], [29, 1, \"Claudia has a higher rank occupation as a historian and journalist.\"] ,[30, -1, \"No additional information requested.\"] ]\n",
      "[ [1, 0], [-1, -1], [-1, [\"fantasy\", \"adventure\", \"young adult\"]], [-1, 1, \"Evanlyn is saved by Will, Halt, and Horace when she is captured by a Temujai warrior.\"], [-1, 1, \"Evanlyn nurses Will back to health after his addiction to warmweed.\"], [-1, 1, \"Evanlyn is protected by Will and other male characters throughout the series.\"], [-1, 1, \"Evanlyn protects Will by nursing him and helping him recover.\"], [-1, 1, \"Evanlyn's problem is solved through help from Will, Halt, and Horace.\"], [-1, 0, \"Evanlyn does not solve her problem through her own skill in this instance.\"], [-1, 1, \"Evanlyn is victimized by a Temujai warrior when she is captured.\"], [-1, 0, \"There is no indication that Evanlyn harms a male character.\"], [-1, 99, \"No information about following orders.\"], [-1, 1, \"Evanlyn gives orders during the battle in Skandia.\"], [-1, 0, \"Evanlyn is physically capable and skilled with a sling.\"], [-1, 1, \"Evanlyn is physically strong and capable.\"], [-1, 0, \"Evanlyn is not fearful of taking risks.\"], [-1, 1, \"Evanlyn is brave and willing to take risks.\"], [-1, 1, \"Evanlyn cares for Will by nursing him back to health.\"], [-1, 0, \"Evanlyn engages in caregiving behaviors.\"], [-1, 1, \"Evanlyn is emotionally aware and helps maintain harmony.\"], [-1, 0, \"Evanlyn focuses on practical matters but also considers others' emotions.\"], [-1, 1, \"Evanlyn sacrifices her goals to help others, like Will.\"], [-1, 1, \"Evanlyn maintains her personal goals and boundaries.\"], [-1, 0, \"Evanlyn is not a homemaker.\"], [-1, 0, \"Evanlyn is not a breadwinner in the traditional sense.\"], [-1, 0, \"There is no mention of Evanlyn being admired for her beauty.\"], [-1, 1, \"Evanlyn is admired for her intelligence and strategic thinking.\"], [-1, 0, \"Evanlyn does not have a lower rank occupation.\"], [-1, 1, \"Evanlyn holds a higher rank as a princess.\"] ,[26, 0, \"No information about being admired for beauty.\"]]\n",
      "[[1, 1], [2, 2013], [3, [\"young adult\", \"spy fiction\", \"adventure\", \"thriller\", \"mystery\"]], [4, 0, \"Cammie collaborates with Zach but isn't explicitly saved by him in critical moments\"], [5, 99, \"No specific instances of Cammie saving a male character are detailed in available sources\"], [6, 0, \"Cammie works alongside male allies like Zach as equals rather than being protected by them\"], [7, 99, \"No explicit examples of Cammie protecting a male character are provided in the sources\"], [8, 0, \"Cammie and her friends actively track and dismantle the Circle of Cavan through skill and teamwork\"], [9, 1, \"Cammie leads missions and uses her spy training to confront threats directly\"], [10, 99, \"The Circle of Cavan's gender composition isn't specified in available materials\"], [11, 99, \"No explicit examples of Cammie harming male characters are provided\"], [12, 0, \"Cammie frequently takes initiative beyond formal orders to pursue missions\"], [13, 1, \"She coordinates missions and directs her team's actions\"], [14, 0, \"Trained in advanced combat and espionage at Gallagher Academy\"], [15, 1, \"Proficient in martial arts, encryption, and covert operations\"], [16, 0, \"Consistently faces dangerous missions despite risks\"], [17, 1, \"Pursues high-stakes missions against the Circle of Cavan\"], [18, 1, \"Shows loyalty to friends and family throughout the series\"], [19, 0, \"Balances mission objectives with interpersonal relationships\"], [20, 1, \"Demonstrates empathy and maintains team cohesion\"], [21, 0, \"Prioritizes both emotional bonds and mission requirements\"], [22, 0, \"Pursues justice for her father's death while maintaining personal goals\"], [23, 1, \"Remains focused on dismantling the Circle despite emotional stakes\"], [24, 0, \"Spy-in-training with no domestic role\"], [25, 0, \"Student at Gallagher Academy, not a primary income earner\"], [26, 0, \"Admired for skills rather than appearance\"], [27, 1, \"Recognized for linguistic, tactical, and leadership abilities\"], [28, 0, \"Trained for elite intelligence work\"], [29, 0, \"Still a student, though preparing for high-level spy work\"]]\n",
      "[[1, 1], [2, 2012], [3, [\"paranormal romance\", \"steampunk\", \"fantasy\", \"adventure\", \"vampire fiction\"]], [4, 1, \"Criminy Stain helps Tish navigate Sang and battles threats to protect her\"], [5, 99, \"No explicit information about Tish saving a male character\"], [6, 1, \"Criminy actively protects Tish throughout their journey\"], [7, 99, \"No explicit information about Tish protecting a male character\"], [8, 1, \"Tish's survival and return home depend on collaboration with Criminy\"], [9, 1, \"Tish uses her nursing skills and psychic abilities to overcome challenges\"], [10, 1, \"Previously victimized by her abusive ex-husband Jeff\"], [11, 99, \"No explicit information about Tish harming male characters\"], [12, 0, \"Tish makes independent decisions and challenges authority\"], [13, 1, \"Tish takes initiative in dangerous situations\"], [14, 0, \"Shows physical resilience in surviving Sang's dangers\"], [15, 1, \"Demonstrates capability in navigating hostile environments\"], [16, 0, \"Willingly faces supernatural threats\"], [17, 1, \"Braves bludmares and sea monsters\"], [18, 1, \"Works as a nurse caring for patients\"], [19, 0, \"Her caregiving role is central\"], [20, 1, \"Uses emotional intelligence to navigate relationships\"], [21, 0, \"Balances practical survival with emotional connections\"], [22, 0, \"Prioritizes self-preservation and goals\"], [23, 1, \"Maintains boundaries despite romantic entanglements\"], [24, 0, \"No domestic role mentioned\"], [25, 1, \"Works as a professional nurse\"], [26, 99, \"Physical appearance not emphasized\"], [27, 1, \"Relies on medical knowledge and adaptability\"], [28, 1, \"Nurse is considered lower rank\"], [29, 0, \"Not in a leadership position\"]]\n",
      "[[1, 0], [2, 1994], [3, [\"detective fiction\", \"absurdist fiction\", \"postmodernism\", \"metafiction\", \"dark comedy\"]], [4, 0, \"Lady Death operates independently as a supernatural figure\"], [5, 0, \"No evidence of her saving male characters\"], [6, 0, \"She exists beyond male protection\"], [7, 0, \"No protective actions toward males described\"], [8, 99, \"Her objectives remain unresolved in the narrative\"], [9, 99, \"Her success in finding Celine isn't clearly demonstrated\"], [10, 0, \"She maintains control in interactions\"], [11, 1, \"As Death's embodiment, she claims lives\"], [12, 0, \"She issues commands to Belane\"], [13, 1, \"Hires Belane and dictates terms\"], [14, 0, \"Portrayed as powerful supernatural entity\"], [15, 1, \"Commands authority as Death's personification\"], [16, 0, \"Actively pursues objectives\"], [17, 1, \"Persists in supernatural mission\"], [18, 0, \"No caregiving behaviors shown\"], [19, 1, \"Focuses on retrieving Celine\"], [20, 0, \"Shows no emotional attunement\"], [21, 1, \"Task-oriented regarding Celine\"], [22, 0, \"Prioritizes her agenda\"], [23, 1, \"Maintains supernatural mission\"], [24, 0, \"No domestic role\"], [25, 99, \"Occupation as Death's agent undefined\"], [26, 1, \"Described as beautiful femme fatale\"], [27, 99, \"Intelligence not explicitly addressed\"], [28, 0, \"Supernatural role transcends occupations\"], [29, 1, \"Commands authority as Death's agent\"]]\n",
      "[[1, 0], [2, 1938], [3, [\"historical fiction\", \"southern gothic\", \"bildungsroman\", \"war novel\"]], [4, 1, \"Colonel Sartoris rescues Bayard and Ringo after Granny is left vulnerable during a mule theft, indirectly ensuring her safety[4].\"], [5, 1, \"Granny protects Bayard and Ringo by hiding them under her skirts and orchestrating survival strategies during wartime[1][3].\"], [6, 1, \"Colonel Sartoris provides indirect protection by maintaining authority over the household and region[5].\"], [7, 1, \"She shields Bayard and Ringo physically and through her leadership[1][3].\"], [8, 0, \"Her problems (e.g., mule thefts) are solved through her own cunning, not luck[3][6].\"], [9, 1, \"She forges documents and manipulates Union troops to secure resources[3][5].\"], [10, 1, \"Killed by Grumby, a male bandit[1][5].\"], [11, 0, \"She deceives male characters but does not physically harm them[3][6].\"], [12, 0, \"She defies orders and societal norms to achieve her goals[6].\"], [13, 1, \"Commands Bayard, Ringo, and others in her mule scheme[3][6].\"], [14, 0, \"Despite her age, she travels extensively and confronts soldiers[1][4].\"], [15, 1, \"Exhibits physical endurance and mental resilience[1][6].\"], [16, 0, \"Braves Union camps and outlaws fearlessly[1][4].\"], [17, 1, \"Takes calculated risks to provide for her community[3][5].\"], [18, 1, \"Cares for Bayard, Ringo, and impoverished locals[1][5].\"], [19, 0, \"Her caregiving is central to her role[1][3].\"], [20, 1, \"Manages household and community dynamics skillfully[2][6].\"], [21, 0, \"Balances practical survival with emotional bonds[2][6].\"], [22, 1, \"Sacrifices moral principles to protect her family[2][5].\"], [23, 1, \"Pursues her goals despite societal expectations[6].\"], [24, 1, \"Manages the Sartoris household during the war[2][5].\"], [25, 1, \"Becomes a de facto provider through her mule scheme[3][5].\"], [26, 99, \"No explicit focus on her physical appearance[1][3].\"], [27, 1, \"Admired for strategic cunning and leadership[3][5].\"], [28, 0, \"Acts as a household authority and community leader[2][5].\"], [29, 1, \"Commands respect equivalent to a manager or strategist[3][6].\"]]\n",
      "[[1, 0], [2, 2011], [3, [\"fantasy\", \"horror\", \"young adult\", \"paranormal\", \"adventure\"]], [4, 0, \"Grimalkin is a self-reliant witch assassin who does not require male rescue\"], [5, 1, \"She aids Tom Ward and allies in binding the Fiend, protecting male characters indirectly through her actions\"], [6, 0, \"Grimalkin operates independently without male protection\"], [7, 1, \"She safeguards the Fiend's head to protect Tom's mission\"], [8, 0, \"She relies on skill and strategy, not luck or external help\"], [9, 1, \"Uses combat prowess and magical abilities to overcome threats like the kretch\"], [10, 1, \"The Fiend (male entity) killed her son, driving her vengeance\"], [11, 1, \"Kills numerous male adversaries and dark creatures\"], [12, 0, \"Defies traditional witch hierarchy and acts autonomously\"], [13, 1, \"Commands her apprentice Thorne and dictates alliance terms\"], [14, 0, \"Renowned for physical strength and endurance\"], [15, 1, \"Master combatant with enhanced speed and blade skills\"], [16, 0, \"Routinely faces deadly risks without hesitation\"], [17, 1, \"Pursues high-stakes missions against overwhelming odds\"], [18, 1, \"Mentors Thorne and shows loyalty to allies\"], [19, 0, \"Balances caregiving (for Thorne) with mission focus\"], [20, 0, \"Prioritizes strategy over emotional attunement\"], [21, 1, \"Focuses on defeating enemies and safeguarding the Fiend's head\"], [22, 0, \"Never abandons her goals, even for allies\"], [23, 1, \"Maintains vengeance and mission as top priorities\"], [24, 0, \"No domestic role; dedicated to warfare\"], [25, 1, \"As assassin, her lethal skills provide status and resources\"], [26, 0, \"Admired for lethality, not beauty\"], [27, 1, \"Praised for strategic brilliance and magical knowledge\"], [28, 0, \"Holds high-ranking assassin position\"], [29, 1, \"Top-ranked Malkin witch assassin\"]]\n",
      "[[1, 1], [2, 2014], [3, [\"fantasy\", \"young adult\", \"romance\", \"adventure\", \"paranormal\"]], [4, 0, \"Karou leads the chimaera rebellion and forms alliances independently\"], [5, 1, \"She orchestrates the alliance between chimaera and seraphim, indirectly saving Akiva's cause\"], [6, 99, \"No explicit protection by male characters mentioned in available sources\"], [7, 1, \"Protects chimaera and allies through leadership\"], [8, 0, \"Resolves conflicts through strategic deception and leadership\"], [9, 1, \"Uses resurrection magic and diplomacy to achieve goals\"], [10, 99, \"Previous harm from male characters (e.g., Thiago) not detailed in final book sources\"], [11, 0, \"No direct harm to male characters described in available material\"], [12, 0, \"Leads rebellion rather than following orders\"], [13, 1, \"Gives orders as chimaera leader\"], [14, 0, \"Skilled fighter and magic user\"], [15, 1, \"Demonstrates physical and magical prowess\"], [16, 0, \"Consistently takes risks to forge alliances\"], [17, 1, \"Bravery shown in confronting Jael's army\"], [18, 1, \"Cares for chimaera and allies' survival\"], [19, 0, \"Balances caregiving with strategic goals\"], [20, 1, \"Maintains alliance through emotional attunement\"], [21, 0, \"Prioritizes emotional dynamics in negotiations\"], [22, 0, \"Maintains focus on rebellion's goals\"], [23, 1, \"Persists with personal/collective objectives despite risks\"], [24, 0, \"No domestic role described\"], [25, 1, \"Leads military rebellion\"], [26, 1, \"Blue hair and striking appearance frequently noted\"], [27, 1, \"Admired for strategic intelligence\"], [28, 0, \"Holds leadership position\"], [29, 1, \"Commands chimaera forces\"]]\n",
      "[ [1, 1], [-1, 2007], [3, [\"paranormal romance\", \"romance\", \"comedy\"]], [4, 1, \"Elvi is saved by Victor when he protects her from the council and a would-be killer.\"], [5, 0, \"There is no indication that Elvi saves a male character.\"], [6, 1, \"Victor protects Elvi from the council and a would-be killer.\"], [7, 0, \"There is no indication that Elvi protects a male character.\"], [8, 1, \"Elvi's problems are solved through Victor's help and her own luck.\"], [9, 0, \"Elvi does not solve her problems through skill alone.\"], [10, 1, \"Elvi is victimized by someone in her town who tries to kill her.\"], [11, 0, \"There is no indication that Elvi harms a male character.\"], [12, 0, \"Elvi does not follow orders; she is unaware of vampire laws.\"], [13, 0, \"There is no indication that Elvi gives orders.\"], [14, 0, \"As a vampire, Elvi is not physically weak.\"], [15, 1, \"As a vampire, Elvi is physically strong.\"], [16, 0, \"Elvi is not fearful of taking risks.\"], [17, 1, \"Elvi is brave and takes risks.\"], [18, 0, \"There is no indication that Elvi engages in caregiving behaviors.\"], [19, 1, \"Elvi focuses on her own situation and goals.\"], [20, 1, \"Elvi is emotionally aware and tries to maintain harmony.\"], [21, 0, \"Elvi is more focused on her personal situation than impersonal concerns.\"], [22, 0, \"There is no indication that Elvi sacrifices her goals for others.\"], [23, 1, \"Elvi maintains her personal goals and boundaries.\"], [24, 0, \"There is no indication that Elvi is a homemaker.\"], [25, 1, \"Elvi runs a restaurant, making her a breadwinner.\"], [26, 1, \"Elvi is admired for her beauty as a 'knockout vamp'.\"], [27, 0, \"There is no indication that Elvi is admired for her intelligence.\"], [28, 0, \"There is no indication that Elvi has a lower rank occupation.\"], [29, 0, \"There is no indication that Elvi has a higher rank occupation beyond running a restaurant.\"] ,[30, 0, \"There is no additional information requested beyond the provided questions.\"] ]\n",
      "[[1, 0], [2, 1990], [3, [\"children's literature\", \"young adult\", \"realistic fiction\", \"social issues\", \"adventure\"]], [4, 0, \"Amanda is not saved by a male character; she actively helps Maniac.\"], [5, 1, \"Amanda saves Maniac emotionally by providing friendship and convincing him to return to the Beale family.\"], [6, 0, \"No male character is shown protecting Amanda; she defends herself and others.\"], [7, 1, \"Amanda protects Maniac by defending his place in her community and persuading him to face challenges.\"], [8, 0, \"Amanda's challenges (e.g., defending Maniac) are resolved through her determination, not luck.\"], [9, 1, \"She solves problems through persuasion and persistence, like convincing Maniac to untie Cobble's Knot.\"], [10, 0, \"Amanda is not victimized by male characters; she confronts challenges head-on.\"], [11, 0, \"She does not harm male characters but challenges societal norms.\"], [12, 0, \"Amanda takes initiative rather than following orders.\"], [13, 1, \"She gives orders to Maniac, e.g., instructing him to untie Cobble's Knot.\"], [14, 0, \"Amanda is physically capable, climbing fences and carrying heavy books.\"], [15, 1, \"She demonstrates physical strength by entering a buffalo pen and carrying books in a suitcase.\"], [16, 0, \"Amanda is fearless, even entering a buffalo pen to help Maniac.\"], [17, 1, \"She takes risks like confronting racial tensions to support Maniac.\"], [18, 1, \"Amanda cares for Maniac by offering him books, shelter, and emotional support.\"], [19, 0, \"She prioritizes caregiving, especially toward Maniac and her siblings.\"], [20, 1, \"Amanda is attuned to Maniac's emotional needs and community dynamics.\"], [21, 0, \"She focuses on emotional and social harmony over impersonal tasks.\"], [22, 1, \"She risks her safety and social standing to help Maniac.\"], [23, 1, \"She maintains her goal of protecting Maniac despite societal pressure.\"], [24, 0, \"Amanda is a child, not a homemaker.\"], [25, 0, \"She is a student, not a breadwinner.\"], [26, 99, \"The text emphasizes her intelligence and determination, not physical appearance.\"], [27, 1, \"Amanda is admired for her bookishness and problem-solving skills.\"], [28, 0, \"She is a student with no occupation.\"], [29, 0, \"She holds no high-rank occupation.\"]]\n",
      "[[1, 1], [2, 2011], [3, [\"young adult\", \"paranormal romance\", \"vampire fiction\", \"fantasy\", \"supernatural\"]], [4, 0, \"Roseline escapes captivity independently and navigates challenges without male rescue\"], [5, 99, \"No explicit evidence of her saving a male character in available summaries\"], [6, 0, \"She actively evades male protectors (e.g., Fane warns rather than protects)\"], [7, 1, \"Implied through protecting friends from vampire threats\"], [8, 0, \"Relies on her own agency to escape and survive\"], [9, 1, \"Uses centuries of experience to evade capture and solve problems\"], [10, 1, \"Vladimir abuses her physically/emotionally; Lucien kills her family\"], [11, 99, \"No explicit evidence of harming males in available summaries\"], [12, 0, \"Defies Vladimir's orders by escaping\"], [13, 1, \"Takes charge of her survival and decisions\"], [14, 0, \"Immortal vampire with enhanced physical abilities\"], [15, 1, \"Displays supernatural strength and combat skills\"], [16, 0, \"Consistently risks exposure to pursue freedom\"], [17, 1, \"Escapes captivity and rebuilds life despite dangers\"], [18, 1, \"Leaves to protect friends from Vladimir's wrath\"], [19, 0, \"Balances self-preservation with care for friends\"], [20, 1, \"Senses threats to others and adjusts behavior accordingly\"], [21, 0, \"Prioritizes emotional bonds over purely practical concerns\"], [22, 1, \"Leaves Chicago to protect friends despite personal desires\"], [23, 0, \"Abandons goals temporarily to safeguard others\"], [24, 0, \"No domestic role; focuses on survival\"], [25, 0, \"No occupation mentioned beyond posing as a student\"], [26, 1, \"Mortals are mesmerized by her immortal beauty\"], [27, 99, \"Intelligence not explicitly highlighted in summaries\"], [28, 0, \"No occupation beyond student facade\"], [29, 0, \"No high-rank occupation described\"]]\n",
      "[ [1, 0], [-1, 2012], [-1, [\"thriller\", \"drama\", \"crime\"]], [-1, 1, \"Ahalya is helped by Thomas Clarke in her quest to find her sister.\"], [-1, 0, \"There is no indication that Ahalya saves a male character.\"], [-1, 1, \"Ahalya is protected by Thomas Clarke as he works to find her sister.\"], [-1, 0, \"There is no indication that Ahalya protects a male character.\"], [-1, 1, \"Ahalya's problem is addressed through the help of Thomas Clarke.\"], [-1, 0, \"Ahalya does not solve her problem solely through her own skill.\"], [-1, 1, \"Ahalya is victimized by male characters involved in human trafficking.\"], [-1, 0, \"There is no indication that Ahalya harms a male character.\"], [-1, 1, \"Ahalya is forced to follow orders in the brothel.\"], [-1, 0, \"There is no indication that Ahalya gives orders.\"], [-1, 0, \"Ahalya is not depicted as physically weak.\"], [-1, 1, \"Ahalya shows physical strength and resilience in the face of adversity.\"], [-1, 0, \"Ahalya is brave and takes risks to protect her sister.\"], [-1, 1, \"Ahalya cares for her sister Sita.\"], [-1, 0, \"Ahalya's actions are focused on supporting her sister.\"], [-1, 1, \"Ahalya is emotionally aware and attuned to her sister's needs.\"], [-1, 0, \"Ahalya prioritizes her sister's well-being over practical concerns.\"], [-1, 1, \"Ahalya sacrifices her own well-being to protect her sister.\"], [-1, 0, \"Ahalya is not depicted as a homemaker.\"], [-1, 0, \"Ahalya is not depicted as a breadwinner.\"], [-1, 0, \"There is no mention of Ahalya being admired for her beauty.\"], [-1, 0, \"There is no mention of Ahalya being admired for her intelligence.\"], [-1, 0, \"Ahalya does not have a lower rank occupation.\"], [-1, 0, \"Ahalya does not have a higher rank occupation.\"] ,[26, 0, \"There is no mention of Ahalya being admired for her beauty.\"], [27, 0, \"There is no mention of Ahalya being admired for her intelligence.\"], [28, 0, \"Ahalya does not have a lower rank occupation.\"]]\n",
      "[[1, 0, \"Amish Tripathi is identified as male in all sources\"], [2, 2013, \"Published February 2013 per Goodreads and YouTube description\"], [3, [\"mythological fiction\", \"fantasy\", \"historical fiction\", \"adventure\", \"drama\"]], [4, 0, \"Sati dies saving her people from assassins, not being saved herself\"], [5, 99, \"No explicit mention of her saving a specific male character\"], [6, 1, \"As Shiva's wife, she likely receives protection through their relationship, though not explicitly stated during critical events\"], [7, 99, \"No direct textual evidence of her protecting a male character\"], [8, 0, \"Her death remains unresolved, becoming a catalyst for Shiva's actions\"], [9, 1, \"Faces assassins directly using her combat skills before death\"], [10, 1, \"Killed by assassins (implied male agents of antagonists)\"], [11, 99, \"No evidence of her harming male characters\"], [12, 0, \"Makes autonomous decisions as warrior princess\"], [13, 1, \"Commands troops and influences strategy\"], [14, 0, \"Described as skilled swords-woman\"], [15, 1, \"Brave warrior since childhood\"], [16, 0, \"Consistently faces danger\"], [17, 1, \"Dies defending others in battle\"], [18, 1, \"Protects her people selflessly\"], [19, 0, \"Prioritizes communal safety\"], [20, 1, \"Understands political dynamics and social harmony\"], [21, 0, \"Balances emotional and practical concerns\"], [22, 1, \"Sacrifices life for others\"], [23, 0, \"Ultimate sacrifice overrides personal boundaries\"], [24, 0, \"Warrior princess, not homemaker\"], [25, 1, \"Holds leadership role in military\"], [26, 99, \"Beauty not emphasized in available sources\"], [27, 1, \"Admired for strategic mind and combat wisdom\"], [28, 0, \"Meluhan princess and warrior\"], [29, 1, \"Royalty and military leader\"]]\n",
      "[ [1, 1], [-1, 1] , [-2, [\"romance\", \"contemporary romance\", \"drama\"]], [-3, 0, \"Nicole Corisi is not explicitly saved by a male character; she partners with Stephan for mutual benefit.\"], [-4, 1, \"Nicole's love may save Stephan from his path of revenge.\"], [-5, 1, \"Stephan protects Nicole as part of their partnership and developing relationship.\"], [-6, 0, \"There is no indication that Nicole protects Stephan.\"], [-7, 1, \"Nicole's problem is solved through her partnership with Stephan.\"], [-8, 0, \"Nicole does not solve her problem solely through her own skill; she relies on Stephan's help.\"], [-9, 0, \"There is no indication that Nicole is victimized by a male character.\"], [-10, 0, \"Nicole does not harm a male character.\"], [-11, 0, \"Nicole does not follow orders; she makes her own decisions.\"], [-12, 1, \"Nicole gives orders or makes decisions in her partnership with Stephan.\"], [-13, 0, \"There is no indication that Nicole is physically weak.\"], [-14, 0, \"There is no specific mention of Nicole being physically strong.\"], [-15, 0, \"Nicole is not described as fearful of taking risks; she partners with Stephan for her goals.\"], [-16, 1, \"Nicole is brave in taking risks by partnering with Stephan.\"], [-17, 0, \"There is no specific mention of Nicole caring for others.\"], [-18, 1, \"Nicole focuses on her goals and tasks without providing emotional support to others.\"], [-19, 1, \"Nicole is emotionally aware and tries to navigate her feelings and relationships.\"], [-20, 0, \"Nicole does not sacrifice her goals for others; she maintains her objectives.\"], [-21, 1, \"Nicole maintains her personal goals and boundaries.\"], [-22, 0, \"There is no indication that Nicole is a homemaker.\"], [-23, 0, \"There is no indication that Nicole is a breadwinner.\"], [-24, 0, \"Nicole is not admired for her beauty in the provided information.\"], [-25, 0, \"Nicole is not admired for her intelligence in the provided information.\"], [-26, 0, \"There is no mention of Nicole having a lower rank occupation.\"], [-27, 0, \"There is no mention of Nicole having a higher rank occupation.\"] ,[28, 0, \"There is no mention of Nicole having a lower rank occupation.\"], [29, 0, \"There is no mention of Nicole having a higher rank occupation.\"] ]\n",
      "[[1, 1], [2, 2008], [3, [\"historical fiction\", \"romance\", \"war\", \"political intrigue\", \"drama\"]], [4, 1, \"John Neville provides protection and stability during political turmoil\"], [5, 0, \"No direct evidence of her saving a male character\"], [6, 1, \"Protected by John Neville and later William Norreys\"], [7, 1, \"Protects her family's interests after John's death\"], [8, 1, \"Reconciliation with Edward IV improves her situation\"], [9, 1, \"Manages family legacy through political acumen\"], [10, 1, \"Affected by male-driven political conflicts\"], [11, 0, \"No evidence of harming others\"], [12, 1, \"Follows social norms and political necessities\"], [13, 1, \"Directs family affairs post-widowhood\"], [14, 0, \"No indication of physical weakness\"], [15, 99, \"Physical capability not emphasized\"], [16, 0, \"Persists through war and loss\"], [17, 1, \"Navigates dangerous political landscape\"], [18, 1, \"Cares for children and family\"], [19, 0, \"Balances caregiving with political action\"], [20, 1, \"Maintains family harmony amid conflict\"], [21, 0, \"Prioritizes emotional/social dynamics\"], [22, 1, \"Sacrifices personal desires for family survival\"], [23, 1, \"Pursues family legacy preservation\"], [24, 1, \"Manages household and lineage\"], [25, 0, \"Not a primary economic provider\"], [26, 99, \"Beauty not specifically emphasized\"], [27, 1, \"Demonstrates political intelligence\"], [28, 0, \"High-status noblewoman\"], [29, 1, \"Manages family as political actor\"]]\n",
      "[ [1, 1], [-1, 2001], [3, [\"romance\", \"historical fiction\", \"regency\"]], [4, 1, \"Viola is saved by Lord Ferdinand Dudley as he helps her navigate her difficulties.\"], [5, 0, \"There is no indication that Viola saves a male character.\"], [6, 1, \"Viola is protected by Lord Ferdinand Dudley as he becomes involved in her life and helps her.\"], [7, 0, \"There is no indication that Viola protects a male character.\"], [8, 1, \"Viola's problems are solved through a combination of luck and help from Ferdinand.\"], [9, 1, \"Viola also solves some of her problems through her own skill and determination.\"], [10, 1, \"Viola is victimized by her past and the actions of her mother.\"], [11, 0, \"There is no indication that Viola harms a male character.\"], [12, 0, \"Viola does not follow orders; she is independent and makes her own decisions.\"], [13, 1, \"Viola gives orders as she manages her estate and interacts with others.\"], [14, 0, \"Viola is not depicted as physically weak.\"], [15, 1, \"Viola is capable and manages her estate effectively.\"], [16, 0, \"Viola is not fearful of taking risks; she is determined and independent.\"], [17, 1, \"Viola is brave and willing to take challenges.\"], [18, 1, \"Viola cares for her family and is motivated by a desire to support them.\"], [19, 0, \"Viola does engage in caregiving behaviors, particularly for her family.\"], [20, 1, \"Viola is emotionally aware and tries to maintain harmony, especially in her interactions with Ferdinand.\"], [21, 0, \"Viola focuses on emotional and social dynamics, particularly in her relationships.\"], [22, 1, \"Viola sacrifices her own goals and desires to prioritize her family's wellbeing.\"], [23, 1, \"Viola maintains personal goals and boundaries, especially in her interactions with Ferdinand.\"], [24, 0, \"Viola is not primarily a homemaker; she is more of an estate manager.\"], [25, 1, \"Viola is a breadwinner as she manages and supports her family through her estate.\"], [26, 1, \"Viola is admired for her beauty.\"], [27, 0, \"There is no specific mention of Viola being admired for her intelligence.\"], [28, 0, \"Viola does not have a lower rank occupation.\"], [29, 0, \"Viola does not have a higher rank occupation in the traditional sense, but she manages her estate.\"] ,[30, 99, \"No additional information\"] ]\n",
      "[ [1, 0], [-1, -1], [2, []], [3, 0, \"There is no indication that Lea is saved by a male character.\"], [4, 1, \"Lea saves her family by stopping the twins, but at the cost of her own existence.\"], [5, 0, \"There is no indication that Lea is protected by a male character.\"], [6, 1, \"Lea protects her family, particularly her children, from the twins.\"], [7, 0, \"Lea's problem is not solved through help or luck; she resolves it herself.\"], [8, 1, \"Lea solves her own problem through her determination and understanding of the twins' origins.\"], [9, 0, \"There is no indication that Lea is victimized by a male character.\"], [10, 0, \"Lea does not harm a male character.\"], [11, 0, \"There is no indication that Lea follows orders.\"], [12, 1, \"Lea gives orders, particularly in her role as a mother and caregiver.\"], [13, 0, \"There is no indication that Lea is physically weak or incapable.\"], [14, 0, \"There is no specific mention of Lea being physically strong or capable.\"], [15, 0, \"Lea is not depicted as fearful of taking risks; she faces challenges head-on.\"], [16, 1, \"Lea is brave and takes risks, especially in adopting the twins and facing the aftermath.\"], [17, 1, \"Lea cares for others, particularly the twins and her own children.\"], [18, 0, \"Lea does engage in caregiving behaviors, so this is incorrect.\"], [19, 1, \"Lea is emotionally aware and attuned to others' needs, especially in her family.\"], [20, 0, \"Lea does not focus solely on practical matters; she is concerned with emotional dynamics.\"], [21, 1, \"Lea sacrifices her own goals and desires to prioritize her family's wellbeing.\"], [22, 0, \"Lea does not maintain personal goals and boundaries over others' needs.\"], [23, 0, \"Lea is not depicted as a homemaker; she is a travel writer.\"], [24, 0, \"Lea is a breadwinner as a travel writer.\"], [25, 0, \"There is no mention of Lea being admired for her beauty.\"], [26, 0, \"There is no mention of Lea being admired for her intelligence.\"], [27, 0, \"Lea does not have a lower rank occupation.\"], [28, 0, \"Lea does not have a higher rank occupation like a doctor or manager.\"], [29, 0, \"Lea's occupation as a travel writer does not fit into higher rank categories.\"] ]\n",
      "[ [1, 1], [-1, 1] , [-1, [\"young adult fiction\", \"contemporary\", \"romance\"]] , [-1, 0, \"There is no indication that Cassidy is saved by a male character.\"] , [-1, 0, \"There is no indication that Cassidy saves a male character.\"] , [-1, 0, \"There is no indication that Cassidy is protected by a male character.\"] , [-1, 0, \"There is no indication that Cassidy protects a male character.\"] , [-1, 99, \"No clear information on whether Cassidy's problems are solved through help or luck.\"] , [-1, 0, \"Cassidy does not solve her problems through skill in a way that is highlighted in the book.\"] , [-1, 0, \"There is no indication that Cassidy is victimized by a male character.\"] , [-1, 0, \"There is no indication that Cassidy harms a male character.\"] , [-1, 0, \"There is no indication that Cassidy follows orders.\"] , [-1, 0, \"There is no indication that Cassidy gives orders.\"] , [-1, 0, \"There is no indication that Cassidy is physically weak or incapable.\"] , [-1, 1, \"Cassidy is portrayed as physically capable, especially noted for her intelligence and adventurous nature.\"] , [-1, 0, \"Cassidy is not described as fearful of taking risks.\"] , [-1, 1, \"Cassidy is portrayed as brave and likes taking risks.\"] , [-1, 0, \"There is no indication that Cassidy cares for others in a caregiving role.\"] , [-1, 1, \"Cassidy focuses on her own goals and does not engage in caregiving behaviors.\"] , [-1, 0, \"There is no indication that Cassidy is emotionally aware and attuned to others' needs.\"] , [-1, 1, \"Cassidy focuses more on practical matters and her own concerns.\"] , [-1, 0, \"There is no indication that Cassidy sacrifices her goals for someone else's wellbeing.\"] , [-1, 1, \"Cassidy maintains her personal goals and boundaries.\"] , [-1, 0, \"There is no indication that Cassidy is a homemaker.\"] , [-1, 0, \"There is no indication that Cassidy is a breadwinner.\"] , [-1, 0, \"There is no specific mention of Cassidy being admired for her beauty.\"] , [-1, 1, \"Cassidy is admired for her intelligence.\"] , [-1, 0, \"There is no indication that Cassidy has a lower rank occupation.\"] , [-1, 0, \"There is no indication that Cassidy has a higher rank occupation.\"] ,[26, 0, \"There is no specific mention of Cassidy being admired for her beauty.\"] ]\n",
      "[[1, 0], [2, 1953], [3, [\"crime\", \"thriller\", \"mystery\", \"suspense\", \"noir\"]], [4, 0, \"Ellen is killed by Bud before needing rescue, though Gordon Grant aids her investigation\"], [5, 0, \"Ellen does not save any male characters\"], [6, 0, \"No male character actively protects Ellen; she independently pursues her investigation\"], [7, 0, \"Ellen does not protect any male characters\"], [8, 0, \"Her problem (solving Dorothy's murder) remains unresolved as Bud kills her\"], [9, 0, \"She uncovers the truth through investigation but is killed before resolving the situation\"], [10, 1, \"Bud murders her after confessing to Dorothy's death\"], [11, 0, \"Ellen does not harm any male characters\"], [12, 0, \"She defies her father's dismissal of her suspicions and pursues her own inquiry\"], [13, 1, \"She directs her investigation and confronts suspects\"], [14, 0, \"Physically resists attackers (e.g., fights back when Bud tries to kill her)\"], [15, 1, \"Shows physical capability during confrontations\"], [16, 0, \"Actively investigates despite risks\"], [17, 1, \"Bravely pursues dangerous truth about Dorothy's death\"], [18, 1, \"Seeks justice for Dorothy, showing care through her investigation\"], [19, 0, \"Her primary focus is care-driven (solving sister's murder)\"], [20, 1, \"Attuned to Dorothy's emotional state pre-death and family dynamics\"], [21, 0, \"Prioritizes emotional truth over practical concerns\"], [22, 0, \"Pursues justice despite personal danger\"], [23, 1, \"Maintains investigative focus despite others' skepticism\"], [24, 0, \"Not depicted as homemaker\"], [25, 99, \"Occupation unspecified beyond student status\"], [26, 99, \"Physical description not emphasized in sources\"], [27, 1, \"Admired for deductive skills in solving the mystery\"], [28, 0, \"No lower-rank occupation mentioned\"], [29, 0, \"No higher-rank occupation mentioned\"]]\n",
      "[[1, 1], [2, 2012], [3, [\"young adult\", \"paranormal romance\", \"fantasy\", \"supernatural\", \"urban fantasy\"]], [4, 1, \"Dank (Death) saves Pagan multiple times, including defeating Hell to protect her[3][5].\"], [5, 99, \"No explicit information about Pagan saving a male character in available summaries.\"], [6, 1, \"Dank actively protects Pagan throughout the series[3][5].\"], [7, 99, \"No evidence of Pagan protecting a male character in available summaries.\"], [8, 1, \"Her soul's conflict is resolved through external forces (soulmate mechanics) and Dank's efforts[1][5].\"], [9, 0, \"Pagan's resolution relies on soulmate dynamics rather than her own skills[1][5].\"], [10, 99, \"No specific information about male-inflicted harm in summaries.\"], [11, 99, \"No evidence of Pagan harming others in summaries.\"], [12, 99, \"No clear information about order-taking behavior.\"], [13, 99, \"No evidence of leadership/order-giving in summaries.\"], [14, 99, \"Physical capability not addressed in summaries.\"], [15, 99, \"Physical strength not mentioned.\"], [16, 99, \"Risk-taking behavior not explicitly detailed.\"], [17, 99, \"Bravery not specifically addressed.\"], [18, 99, \"Caregiving behaviors not mentioned.\"], [19, 99, \"No information about task-focused behavior.\"], [20, 99, \"Emotional attunement not explicitly described.\"], [21, 99, \"No details about practical focus.\"], [22, 99, \"Sacrifice not explicitly mentioned.\"], [23, 99, \"Boundary maintenance unclear.\"], [24, 99, \"Homemaker status irrelevant to plot.\"], [25, 99, \"Breadwinner status not addressed.\"], [26, 1, \"Implied through romantic attention from multiple characters[1][5].\"], [27, 99, \"Intelligence not specifically highlighted.\"], [28, 99, \"Occupation not detailed in summaries.\"], [29, 99, \"No higher-rank occupation mentioned.\"]]\n",
      "[ [1, 0], [-1, -1], [-1, [\"satire\", \"novel\", \"social commentary\"]], [-1, 0, \"Sharon Falconer is not saved by a male character.\"], [-1, 0, \"Sharon Falconer does not save a male character.\"], [-1, 0, \"Sharon Falconer is not protected by a male character.\"], [-1, 0, \"Sharon Falconer does not protect a male character.\"], [-1, 0, \"Sharon Falconer's problems are not solved through help or luck.\"], [-1, 0, \"Sharon Falconer does not solve her own problem through skill.\"], [-1, 0, \"Sharon Falconer is not victimized by a male character.\"], [-1, 0, \"Sharon Falconer does not harm a male character.\"], [-1, 0, \"Sharon Falconer does not follow orders.\"], [-1, 1, \"Sharon Falconer gives orders as a charismatic evangelist.\"], [-1, 0, \"Sharon Falconer is not physically weak.\"], [-1, 1, \"Sharon Falconer is physically strong/capable as a charismatic performer.\"], [-1, 1, \"Sharon Falconer is brave and takes risks as an evangelist.\"], [-1, 0, \"Sharon Falconer does not care for others in a caregiving role.\"], [-1, 1, \"Sharon Falconer focuses on her evangelistic goals.\"], [-1, 0, \"Sharon Falconer is not emotionally aware or attuned to others' needs.\"], [-1, 1, \"Sharon Falconer focuses on practical matters like her performances.\"], [-1, 0, \"Sharon Falconer does not sacrifice her goals for others.\"], [-1, 1, \"Sharon Falconer maintains her personal goals and boundaries.\"], [-1, 0, \"Sharon Falconer is not a homemaker.\"], [-1, 1, \"Sharon Falconer is a breadwinner as an evangelist.\"], [-1, 1, \"Sharon Falconer is admired for her beauty.\"], [-1, 1, \"Sharon Falconer is admired for her intelligence and charisma.\"], [-1, 0, \"Sharon Falconer does not have a lower rank occupation.\"], [-1, 1, \"Sharon Falconer has a higher rank occupation as a charismatic evangelist.\"], [-1, 1927, \"The book was published in 1927.\"] ,[2, 1927, \"The book was published in 1927.\"] ]\n",
      "[[1, 1], [2, 2002], [3, [\"science fiction\", \"young adult\", \"dystopian\"]], [4, 0, \"Celia is not saved by any male character; she independently navigates her role as Matt's protector\"], [5, 1, \"Celia saves Matt by poisoning him with small arsenic doses to make his organs unusable for El Patrón\"], [6, 0, \"Celia operates independently without male protection\"], [7, 1, \"Celia protects Matt throughout his childhood and sabotages El Patrón's plans\"], [8, 99, \"No explicit resolution of Celia's personal problems is detailed\"], [9, 1, \"She uses strategic poisoning to solve Matt's organ-harvesting threat\"], [10, 0, \"No direct victimization by male characters is described\"], [11, 1, \"She harms Matt through controlled poisoning to protect him\"], [12, 1, \"Follows El Patrón's orders as cook but subverts them secretly\"], [13, 0, \"Doesn't give orders; operates through covert actions\"], [14, 0, \"Physically capable as a working cook\"], [15, 1, \"Shows endurance through demanding work\"], [16, 0, \"Bravely defies El Patrón's authority\"], [17, 1, \"Takes life-threatening risks to protect Matt\"], [18, 1, \"Primary caregiver for Matt, providing emotional/physical support\"], [19, 0, \"Caregiving is central to her role\"], [20, 1, \"Attuned to Matt's needs and household dynamics\"], [21, 0, \"Prioritizes emotional care over impersonal tasks\"], [22, 1, \"Sacrifices safety to protect Matt\"], [23, 0, \"Subordinates personal goals to Matt's survival\"], [24, 1, \"Works as estate cook and homemaker\"], [25, 0, \"Not the primary income source\"], [26, 99, \"Physical appearance not emphasized\"], [27, 1, \"Demonstrates practical intelligence in poisoning strategy\"], [28, 1, \"Lower-rank occupation as cook\"], [29, 0, \"No high-rank position\"]]\n",
      "[ [1, 1], [-1, 2023], [3, [\"romantic horror\", \"dark romance\", \"horror\"]], [4, 0, \"Ophelia is not saved by a male character in the traditional sense; she is kidnapped and held captive by Alexzander.\"], [5, 0, \"There is no indication that Ophelia saves a male character.\"], [6, 1, \"Ophelia is protected by Alexzander from his more violent brother, Gunnir.\"], [7, 0, \"Ophelia's problems are not solved through external help or luck; she navigates her situation within captivity.\"], [8, 0, \"Ophelia does not solve her problems through skill; she adapts to her situation.\"], [9, 1, \"Ophelia is victimized by both Alexzander and his brother, as well as her own father.\"], [10, 0, \"There is no indication that Ophelia harms a male character.\"], [11, 1, \"Ophelia follows orders to survive in captivity.\"], [12, 0, \"There is no indication that Ophelia gives orders.\"], [13, 0, \"Ophelia is not described as physically weak; she has a will to survive.\"], [14, 1, \"Ophelia shows physical capability in her determination to survive.\"], [15, 1, \"Ophelia is brave in the face of her challenges.\"], [16, 0, \"Ophelia is not fearful of taking risks; she adapts to survive.\"], [17, 1, \"Ophelia shows bravery in her situation.\"], [18, 0, \"There is no indication that Ophelia engages in caregiving behaviors.\"], [19, 1, \"Ophelia focuses on survival rather than caregiving.\"], [20, 0, \"Ophelia is not described as emotionally aware or attuned to others' needs beyond survival.\"], [21, 1, \"Ophelia focuses on practical survival matters.\"], [22, 0, \"Ophelia does not sacrifice her goals for someone else's wellbeing; she seeks survival.\"], [23, 0, \"Ophelia's goals are survival, not maintaining personal boundaries in a traditional sense.\"], [24, 0, \"Ophelia is not a homemaker.\"], [25, 1, \"Ophelia works as a waitress, which can be considered a breadwinner role.\"], [26, 0, \"There is no emphasis on Ophelia being admired for her beauty.\"], [27, 0, \"There is no emphasis on Ophelia being admired for her intelligence.\"], [28, 1, \"Ophelia has a lower rank occupation as a waitress.\"], [29, 0, \"Ophelia does not have a higher rank occupation.\"] ,[2, 2023, \"The book was published in 2023.\"]]\n",
      "[[1, 1], [2, 1997], [3, [\"dark fantasy\", \"horror\", \"supernatural\", \"thriller\", \"drama\"]], [4, 0, \"Jessica faces threats from immortals and her husband's actions, with no male savior resolving her core conflict\"], [5, 0, \"No instances of Jessica saving male characters are described\"], [6, 1, \"David initially protects Jessica from external threats, though his actions become harmful\"], [7, 0, \"Focus remains on protecting her daughter, not male characters\"], [8, 99, \"Unclear resolution from available summaries; conflict centers on survival against immortals and David\"], [9, 99, \"Jessica's investigative skills are shown, but final problem-solving isn't detailed in sources\"], [10, 1, \"David's lies and immortal brethren's actions directly endanger Jessica\"], [11, 0, \"No evidence of Jessica harming male characters\"], [12, 0, \"As a reporter and mother, she asserts independence despite pressures\"], [13, 1, \"Gives orders in professional and family contexts\"], [14, 0, \"No indications of physical incapacity\"], [15, 1, \"Maintains career and family amid supernatural threats\"], [16, 0, \"Pursues dangerous investigations and confronts supernatural threats\"], [17, 1, \"Shown as determined and risk-taking in career and crises\"], [18, 1, \"Cares deeply for daughter Kira and mourns friends\"], [19, 0, \"Balances caregiving with professional ambitions\"], [20, 1, \"Sensitive to family dynamics and colleagues' needs\"], [21, 0, \"Prioritizes emotional connections over pure pragmatism\"], [22, 1, \"Initially prioritizes family harmony over confronting David's secrets\"], [23, 1, \"Persists with nursing home investigation despite personal risks\"], [24, 0, \"Primary role is investigative journalist\"], [25, 1, \"Main breadwinner while David cares for their daughter\"], [26, 99, \"Physical appearance not emphasized in sources\"], [27, 1, \"Admired as a skilled investigative journalist\"], [28, 0, \"Holds higher-rank position as investigative reporter\"], [29, 1, \"Works as investigative journalist, a respected professional role\"]]\n",
      "[[1, 0], [2, 2012], [3, [\"horror\", \"post-apocalyptic\", \"science fiction\", \"thriller\", \"dystopian\"]], [4, 0, \"Alicia escapes captivity through her own efforts after being tortured by the Iowans[1][5].\"], [5, 99, \"No explicit instances found of Alicia directly saving a male character in the provided context.\"], [6, 0, \"Alicia operates independently as a scout sniper and viral hunter[2][4].\"], [7, 99, \"No explicit protective actions toward male characters are detailed in the search results.\"], [8, 0, \"Alicia overcomes challenges through combat skills and viral-enhanced abilities[2][4].\"], [9, 1, \"She survives torture, escapes captivity, and hunts virals using her military training[1][5].\"], [10, 1, \"Brutally tortured and raped by male Iowans during captivity[1][5].\"], [11, 1, \"As a viral hunter, she actively seeks to kill male virals like Julio Martinez[2][5].\"], [12, 0, \"Frequently disobeys orders to pursue personal missions against virals[2][5].\"], [13, 1, \"Leads missions as a lieutenant in the Expeditionary Forces[2][4].\"], [14, 0, \"Described as a formidable fighter and 'Alicia of Blades'[2][6].\"], [15, 1, \"Noted for physical strength and combat prowess[2][4][6].\"], [16, 0, \"Consistently takes high-risk missions against virals[2][5].\"], [17, 1, \"Undertakes dangerous solo viral hunts[2][4].\"], [18, 0, \"Focuses on combat objectives rather than caregiving[2][4].\"], [19, 1, \"Prioritizes viral hunting over interpersonal connections[2][5].\"], [20, 0, \"Shows limited emotional attunement, focused on vengeance[5].\"], [21, 1, \"Task-oriented with emphasis on eliminating threats[2][5].\"], [22, 0, \"Pursues personal vendetta against virals despite risks[5].\"], [23, 1, \"Maintains focus on destroying the Twelve above all else[5].\"], [24, 0, \"Military professional, not domestic-focused[2][4].\"], [25, 1, \"Holds rank of lieutenant in the Expeditionary Forces[2][4].\"], [26, 99, \"Physical appearance admiration not explicitly mentioned.\"], [27, 99, \"Admired for skills, but intelligence not specifically highlighted.\"], [28, 0, \"Holds leadership position as lieutenant[2][4].\"], [29, 1, \"Military officer role constitutes higher-rank occupation[2][4].\"]]\n",
      "[ [1, 0], [-1, 2003], [3, [\"fantasy\", \"young adult\", \"adventure\", \"metafiction\", \"dark fantasy\"]], [4, 1, \"Poison is saved by Bram when he helps her escape from the Bone Witch.\"], [5, 0, \"There is no instance where Poison saves a male character.\"], [6, 1, \"Bram protects Poison during their journey.\"], [7, 0, \"There is no instance where Poison protects a male character.\"], [8, 1, \"Poison's problem is solved through a combination of help from others and her own skills.\"], [9, 1, \"Poison uses her skills to outsmart the Lady of Spiders and steal a dagger.\"], [10, 0, \"There is no indication that Poison is victimized by a male character.\"], [11, 0, \"Poison does not harm a male character.\"], [12, 1, \"Poison follows orders from the Phaerie Lord to steal a dagger.\"], [13, 1, \"Poison gives orders to her companions during their quest.\"], [14, 0, \"Poison is not depicted as physically weak.\"], [15, 1, \"Poison demonstrates physical capability through her adventures.\"], [16, 0, \"Poison is not fearful of taking risks.\"], [17, 1, \"Poison is brave and willing to take risks to rescue her sister.\"], [18, 1, \"Poison cares for her sister Azalea and is driven by this care.\"], [19, 0, \"Poison's actions are largely driven by caregiving behaviors towards her sister.\"], [20, 0, \"Poison is not particularly focused on maintaining harmony or understanding others' emotions.\"], [21, 1, \"Poison focuses on practical matters and her goal of rescuing her sister.\"], [22, 1, \"Poison sacrifices her own safety and comfort to rescue her sister.\"], [23, 1, \"Poison maintains her personal goal of rescuing her sister despite challenges.\"], [24, 0, \"Poison is not a homemaker.\"], [25, 0, \"Poison is not depicted as a breadwinner.\"], [26, 0, \"Poison is not admired for her beauty.\"], [27, 1, \"Poison is admired for her intelligence and resourcefulness.\"], [28, 0, \"Poison does not have a lower rank occupation.\"], [29, 0, \"Poison does not have a higher rank occupation.\"] ,[2, 2003, \"The book 'Poison' by Chris Wooding was published in 2003.\"]]\n",
      "[[1, 1], [2, 2001], [3, [\"historical fiction\", \"drama\", \"romance\", \"mystery\"]], [4, 0, \"Irene is primarily rescued by Bella Morgan and Geordie Joe, with no specific male savior mentioned as pivotal\"], [5, 0, \"No evidence of Irene saving a male character\"], [6, 0, \"Protection comes from female and male allies like Bella and Geordie Joe, not singular male protection\"], [7, 0, \"No direct evidence of Irene protecting a male character\"], [8, 1, \"Her survival involves help from benefactors and luck in escaping abuse\"], [9, 0, \"Her resolution relies on external revelations and allies, not personal skill\"], [10, 1, \"Severely abused by her husband Edward Baindor\"], [11, 0, \"No evidence of harming others\"], [12, 0, \"Defies orders by escaping her husband and later establishing a shelter\"], [13, 1, \"Organizes a shelter during WWII, implying leadership\"], [14, 1, \"Described as frail and physically diminished after abuse\"], [15, 0, \"Physical strength is not emphasized\"], [16, 1, \"Traumatized and initially fearful, though resilient\"], [17, 1, \"Takes risks by escaping and rebuilding her life\"], [18, 1, \"Creates a shelter for those in need during wartime\"], [19, 0, \"Actively engages in caregiving\"], [20, 1, \"Sensitive to others' needs, as shown through her shelter work\"], [21, 0, \"Prioritizes emotional and communal support\"], [22, 1, \"Sacrifices personal safety and social standing to escape abuse\"], [23, 1, \"Rebuilds life independently despite others' expectations\"], [24, 0, \"Not depicted as a traditional homemaker post-escape\"], [25, 0, \"No evidence of formal employment or income generation\"], [26, 1, \"Initially admired for her class and beauty before her ordeal\"], [27, 99, \"Musical talent is noted, but intelligence isn't explicitly highlighted\"], [28, 0, \"No lower-rank occupation post-escape\"], [29, 0, \"No higher-rank occupation\"]]\n",
      "[[1, 1, \"Author Quinn Loftis is female, as stated in her bio mentioning her husband and sons.\"], [2, 2011, \"Published June 29, 2011 per Goodreads.\"], [3, [\"paranormal romance\", \"young adult\", \"fantasy\", \"werewolf\", \"supernatural\"]], [4, 1, \"Fane fights a rival werewolf to protect Jacque's status as his mate.\"], [5, 0, \"No evidence of Jacque physically saving a male character in the described plot.\"], [6, 1, \"Fane actively protects Jacque from rival wolves.\"], [7, 0, \"No indication of Jacque physically protecting male characters.\"], [8, 1, \"Fane's intervention resolves the mating conflict with the rival Alpha.\"], [9, 0, \"Jacque's acceptance of the bond is emotional, not skill-based.\"], [10, 1, \"Threatened by a male rival werewolf attempting to claim her.\"], [11, 0, \"No evidence of Jacque harming male characters.\"], [12, 99, \"Insufficient information about order-taking in provided content.\"], [13, 99, \"No explicit examples of command-giving in synopses.\"], [14, 99, \"Human capabilities implied but no physical weakness stated.\"], [15, 0, \"No superhuman physical abilities described for Jacque.\"], [16, 0, \"Shows curiosity/engagement with supernatural risks.\"], [17, 1, \"Accepts dangerous supernatural bond and challenges.\"], [18, 99, \"No caregiving examples in provided plot details.\"], [19, 99, \"Insufficient behavioral data to confirm.\"], [20, 99, \"Emotional attunement to mateship implied but not detailed.\"], [21, 99, \"Focuses on supernatural bond rather than practical matters.\"], [22, 99, \"No explicit sacrifice of goals described.\"], [23, 1, \"Accepts mate bond while maintaining personal agency.\"], [24, 0, \"High school student, not homemaker.\"], [25, 0, \"No occupation beyond student status.\"], [26, 99, \"Physical admiration not explicitly stated.\"], [27, 99, \"Intelligence not emphasized in synopses.\"], [28, 0, \"No occupation beyond student role.\"], [29, 0, \"No higher-rank occupation described.\"]]\n",
      "[ [1, 1], [-1, 0] , [2, [\"young adult fiction\", \"fiction\", \"coming of age\"]], [3, 0, \"There is no indication that Harriet is saved by a male character.\"], [4, 0, \"There is no indication that Harriet saves a male character.\"], [5, 0, \"There is no indication that Harriet is protected by a male character.\"], [6, 0, \"There is no indication that Harriet protects a male character.\"], [7, 1, \"Harriet's problems are often solved through luck or help from others, such as her father and the modeling agency.\"], [8, 1, \"Harriet also solves some of her problems through her own skills and decisions.\"], [9, 0, \"There is no indication that Harriet is victimized by a male character.\"], [10, 1, \"Harriet can be seen as harming her best friend Nat by pursuing modeling, which was Nat's dream.\"], [11, 0, \"There is no indication that Harriet follows orders.\"], [12, 0, \"There is no indication that Harriet gives orders.\"], [13, 0, \"Harriet is not described as physically weak or incapable.\"], [14, 0, \"Harriet is not described as physically strong or capable.\"], [15, 1, \"Harriet is initially fearful of taking risks, such as pursuing modeling.\"], [16, 1, \"However, Harriet also shows bravery by taking on new challenges like modeling.\"], [17, 0, \"There is no indication that Harriet engages in caregiving behaviors.\"], [18, 1, \"Harriet focuses more on her own goals and less on others' emotions.\"], [19, 1, \"Harriet often prioritizes her own goals over others' needs.\"], [20, 0, \"Harriet does not consistently maintain harmony or prioritize others' emotional needs.\"], [21, 0, \"Harriet is not a homemaker.\"], [22, 0, \"Harriet is not a breadwinner.\"], [23, 1, \"Harriet is admired for her beauty as a model.\"], [24, 1, \"Harriet is also admired for her intelligence and geeky knowledge.\"], [25, 0, \"Harriet does not have a lower rank occupation.\"], [26, 0, \"Harriet does not have a higher rank occupation.\"] , [27, 0, \"Harriet does not have a higher rank occupation.\"], [28, 0, \"Harriet does not have a lower rank occupation.\"], [29, 0, \"Harriet does not have a higher rank occupation.\"] ]\n",
      "[[1, 1], [2, 2004], [3, [\"literary fiction\", \"coming-of-age\", \"humor\"]], [4, 1, \"Nomi's father Ray makes a 'heroic sacrifice' to ensure her freedom, though the exact nature isn't fully detailed in available sources[6].\"], [5, 0, \"Nomi does not save any male character; her focus is on personal survival and loyalty to her father[3][6].\"], [6, 0, \"Ray struggles to protect Nomi from the community's oppression but ultimately cannot shield her from systemic harm[4][6].\"], [7, 1, \"Nomi protects her father emotionally by staying in East Village despite her desire to leave[5][6].\"], [8, 0, \"Nomi's problems (family disintegration, community oppression) remain unresolved through external help or luck[3][6].\"], [9, 0, \"She does not solve her problems through skill but endures them while rebelling passively[3][6].\"], [10, 1, \"Indirectly victimized by patriarchal structures enforced by male figures like Pastor Hans[5][6].\"], [11, 0, \"Nomi does not harm male characters, though she challenges authority[6].\"], [12, 0, \"She openly resists Mennonite rules and expectations[4][6].\"], [13, 0, \"Nomi does not give orders; her rebellion is personal rather than authoritative[6].\"], [14, 99, \"Physical capability is not discussed in available sources.\"], [15, 99, \"No textual evidence about physical strength.\"], [16, 0, \"She takes risks (drugs, relationships) despite fear of consequences[3][6].\"], [17, 1, \"Engages in defiant behavior (skipping school, substance use) as acts of bravery[3][6].\"], [18, 1, \"Cares for her father emotionally after her mother and sister leave[5][6].\"], [19, 0, \"Her caregiving for Ray contradicts this[6].\"], [20, 1, \"Deeply attuned to family dynamics and community hypocrisy[5][6].\"], [21, 0, \"Focuses on emotional survival rather than practical matters[3][6].\"], [22, 1, \"Sacrifices her desire to leave East Village to stay with Ray[5][6].\"], [23, 0, \"Her personal goals (e.g., leaving town) are repeatedly deferred[6].\"], [24, 0, \"No traditional homemaking role; she's a student/rebel[6].\"], [25, 0, \"Unemployed student with no income source mentioned[6].\"], [26, 99, \"Physical appearance is not emphasized in available sources.\"], [27, 1, \"Her intelligence and wit are central to her narrative voice[1][6].\"], [28, 99, \"No occupation mentioned beyond being a student.\"], [29, 0, \"No high-rank occupation; she faces limited prospects[6][7].\"]]\n",
      "[[1, 0], [2, 1949], [3, [\"literary fiction\", \"existential fiction\", \"psychological fiction\", \"travel fiction\", \"adventure\"]], [4, 0, \"Kit is not saved by a male character; her descent into psychological turmoil remains unresolved.\"], [5, 0, \"Kit does not save any male character.\"], [6, 0, \"Kit lacks male protection; her vulnerability increases after Port's death.\"], [7, 0, \"Kit does not protect any male character.\"], [8, 0, \"Kit's problems (existential despair, psychological breakdown) remain unresolved.\"], [9, 0, \"Kit's unraveling stems from passivity rather than proactive problem-solving.\"], [10, 1, \"Tunner manipulates Kit's emotional fragility, and Belqassim later imprisons her.\"], [11, 0, \"Kit does not intentionally harm male characters.\"], [12, 1, \"Initially follows Port's travel plans, later submits to Belqassim's control.\"], [13, 0, \"Kit rarely asserts authority or gives orders.\"], [14, 99, \"Physical capability is not explicitly addressed, though psychological fragility dominates.\"], [15, 99, \"No textual evidence emphasizes physical strength.\"], [16, 1, \"Kit exhibits intense dread and prefers safety over adventure.\"], [17, 0, \"Her journey is marked by fear rather than bravery.\"], [18, 0, \"Kit focuses on self-preservation rather than caregiving.\"], [19, 1, \"She remains self-absorbed during Port's illness and after his death.\"], [20, 0, \"Kit becomes increasingly detached from others' emotional needs.\"], [21, 1, \"Focuses on survival in hostile environments post-Port's death.\"], [22, 0, \"Prioritizes self-preservation over others' needs.\"], [23, 1, \"Maintains survival instincts despite external pressures.\"], [24, 0, \"No domestic role described; she's a traveler.\"], [25, 0, \"Wealth appears shared with Port, not self-earned.\"], [26, 1, \"Described as 'strikingly beautiful' with 'mesmerizing eyes'.\"], [27, 0, \"Intellectual admiration is not emphasized.\"], [28, 0, \"No occupation mentioned beyond being a traveler.\"], [29, 0, \"Holds no professional authority.\"]]\n",
      "[ [1, 0], [-1, 1941], [3, [\"historical fiction\", \"adventure\", \"epic\"]], [4, 99, \"No information about Åsa being saved by a male character.\"], [5, 99, \"No information about Åsa saving a male character.\"], [6, 99, \"No information about Åsa being protected by a male character.\"], [7, 99, \"No information about Åsa protecting a male character.\"], [8, 99, \"No information about Åsa's problems being solved through help or luck.\"], [9, 99, \"No information about Åsa solving her own problems through skill.\"], [10, 0, \"No indication that Åsa is victimized by a male character.\"], [11, 0, \"No indication that Åsa harms a male character.\"], [12, 99, \"No information about Åsa following orders.\"], [13, 99, \"No information about Åsa giving orders.\"], [14, 99, \"No information about Åsa's physical strength or weakness.\"], [15, 99, \"No information about Åsa's physical strength or capability.\"], [16, 99, \"No information about Åsa being fearful or scared.\"], [17, 99, \"No information about Åsa being brave or liking challenges.\"], [18, 1, \"Åsa is depicted as a family matriarch, suggesting she cares for others.\"], [19, 99, \"No information about Åsa focusing solely on tasks or goals without providing support.\"], [20, 99, \"No information about Åsa being emotionally aware or maintaining harmony.\"], [21, 99, \"No information about Åsa focusing on practical matters over emotions.\"], [22, 99, \"No information about Åsa sacrificing her goals for others.\"], [23, 99, \"No information about Åsa maintaining personal goals and boundaries.\"], [24, 1, \"Åsa is a homemaker as the matriarch of her family.\"], [25, 0, \"No indication that Åsa is a breadwinner.\"], [26, 99, \"No information about Åsa being admired for her beauty.\"], [27, 99, \"No information about Åsa being admired for her intelligence.\"], [28, 0, \"No indication that Åsa has a lower rank occupation.\"], [29, 0, \"No indication that Åsa has a higher rank occupation.\"] ,[2, 1941, \"The book was originally published in two parts: 'Röde Orm' in 1941 and 'Röde Orm Sjöfarare i Västerled' in 1945.\"]]\n",
      "[[1, 1], [2, 1994], [3, [\"historical fiction\", \"family saga\", \"literary fiction\"]], [4, 1, \"Hanna is married by widower John Broman after her rape, restoring her social standing\"], [5, 0, \"No instances of Hanna saving male characters\"], [6, 1, \"John Broman provides protection through marriage and financial stability\"], [7, 1, \"Hanna protects her children through survival strategies\"], [8, 1, \"Her social crisis is resolved through John's intervention\"], [9, 0, \"Her survival stems from endurance rather than specific skills\"], [10, 1, \"Raped by cousin at 12, resulting in pregnancy\"], [11, 0, \"No evidence of harming males\"], [12, 1, \"Follows societal norms through marriage\"], [13, 1, \"Manages household and children\"], [14, 0, \"Works physically demanding roles (farm labor, baking)\"], [15, 1, \"Shows physical resilience through hardships\"], [16, 0, \"Persists through famine and trauma\"], [17, 1, \"Survives extreme poverty and social stigma\"], [18, 1, \"Raises five children, cares for family\"], [19, 0, \"Primary focus is caregiving\"], [20, 1, \"Maintains family harmony despite hardships\"], [21, 0, \"Prioritizes emotional needs over abstract concerns\"], [22, 1, \"Marries John for children's security\"], [23, 0, \"Subordinates personal desires to survival needs\"], [24, 1, \"Manages household and later works as baker\"], [25, 0, \"Not primary income source until widowhood\"], [26, 99, \"Physical appearance not emphasized\"], [27, 1, \"Praised for practical wisdom and resilience\"], [28, 1, \"Works as farm laborer and baker\"], [29, 0, \"No high-status occupation\"]]\n",
      "[ [1, 1], [-1, 2012], [3, [\"christian fiction\", \"family drama\", \"romance\"]], [4, 99, \"There is no information about Ashley being saved by a male character in the context of 'Coming Home'.\"], [5, 99, \"There is no information about Ashley saving a male character.\"], [6, 99, \"There is no specific information about Ashley being protected by a male character.\"], [7, 99, \"There is no specific information about Ashley protecting a male character.\"], [8, 99, \"There is no specific information about Ashley's problem being solved through help or luck.\"], [9, 99, \"There is no specific information about Ashley solving her own problem through skill.\"], [10, 0, \"There is no indication that Ashley is victimized by a male character.\"], [11, 0, \"There is no indication that Ashley harms a male character.\"], [12, 99, \"There is no information about Ashley following orders.\"], [13, 99, \"There is no information about Ashley giving orders.\"], [14, 0, \"There is no indication that Ashley is physically weak or incapable.\"], [15, 99, \"There is no specific information about Ashley being physically strong or capable.\"], [16, 99, \"There is no specific information about Ashley being fearful of taking risks.\"], [17, 99, \"There is no specific information about Ashley being brave or liking to take risks.\"], [18, 1, \"Ashley is involved in family and caregiving activities, such as planning her father's birthday party.\"], [19, 0, \"Ashley engages in caregiving behaviors.\"], [20, 1, \"Ashley is emotionally aware and involved in family dynamics.\"], [21, 0, \"Ashley focuses on emotional and social dynamics.\"], [22, 1, \"Ashley likely prioritizes family well-being, as seen in her efforts to organize the birthday party.\"], [23, 99, \"There is no specific information about Ashley maintaining personal goals and boundaries.\"], [24, 99, \"There is no specific information about Ashley being a homemaker.\"], [25, 99, \"There is no specific information about Ashley being a breadwinner.\"], [26, 99, \"There is no specific information about Ashley being admired for her beauty.\"], [27, 99, \"There is no specific information about Ashley being admired for her intelligence.\"], [28, 99, \"There is no specific information about Ashley having a lower rank occupation.\"], [29, 99, \"There is no specific information about Ashley having a higher rank occupation.\"] ,[30, 99, \"There is no specific information about Ashley's occupation in 'Coming Home'.\"] ]\n",
      "[ [1, 1], [-1, -1] , [-1, [\"mystery\", \"paranormal\", \"cozy mystery\", \"suspense\", \"thriller\"]] ,[4, 0, \"There is no indication that Ophelia is saved by a male character.\"], [5, 0, \"There is no mention of Ophelia saving a male character.\"], [6, 0, \"There is no indication that Ophelia is protected by a male character.\"], [7, 0, \"There is no mention of Ophelia protecting a male character.\"], [8, 1, \"Ophelia solves her problems through a combination of her own skills and luck.\"], [9, 1, \"Ophelia uses her skills to solve her problems.\"], [10, 0, \"There is no indication that Ophelia is victimized by a male character.\"], [11, 0, \"There is no indication that Ophelia harms a male character.\"], [12, 0, \"Ophelia does not follow orders; she takes matters into her own hands.\"], [13, 0, \"There is no indication that Ophelia gives orders.\"], [14, 0, \"Ophelia is not described as physically weak.\"], [15, 0, \"There is no specific mention of Ophelia being physically strong.\"], [16, 1, \"Ophelia is initially fearful of her past and her abilities.\"], [17, 1, \"Ophelia shows bravery as she confronts her past and challenges.\"], [18, 1, \"Ophelia cares for her grandmother and is concerned about her safety.\"], [19, 0, \"Ophelia does engage in caregiving behaviors.\"], [20, 1, \"Ophelia is emotionally aware and tries to maintain harmony.\"], [21, 0, \"Ophelia focuses on emotional dynamics and others' needs.\"], [22, 0, \"There is no indication that Ophelia sacrifices her goals for others.\"], [23, 1, \"Ophelia maintains her personal goals and boundaries.\"], [24, 0, \"Ophelia is not a homemaker.\"], [25, 1, \"As a librarian, Ophelia is a breadwinner.\"], [26, 0, \"There is no mention of Ophelia being admired for her beauty.\"], [27, 1, \"Ophelia is admired for her intelligence and resourcefulness.\"], [28, 0, \"Ophelia's occupation as a librarian is not considered lower rank.\"], [29, 0, \"Ophelia's occupation as a librarian is not typically considered higher rank.\"] ,[2, 2006, \"The book was published in 2006.\"]]\n",
      "[[1, 1], [2, 2005], [3, [\"young adult\", \"romance\", \"drama\"]], [4, 0, \"No evidence of male characters saving Karra; she navigates challenges independently\"], [5, 0, \"No instances of Karra saving male characters mentioned\"], [6, 1, \"Karra receives attention and care from her brother Iraz and Ibel, though not explicitly framed as protection\"], [7, 0, \"No evidence of Karra protecting male characters\"], [8, 1, \"Her emotional resolution involves accepting Ibel's support after Dira's departure\"], [9, 0, \"Her problems stem from interpersonal dynamics rather than skill-based challenges\"], [10, 0, \"No evidence of harm by male characters; conflicts are emotional\"], [11, 0, \"Karra does not harm male characters\"], [12, 0, \"She resists others' expectations (e.g., initially dismisses Ibel's attention)\"], [13, 0, \"No explicit examples of her giving orders\"], [14, 0, \"Described as physically capable basketball player\"], [15, 1, \"Skilled in basketball and tomboyish\"], [16, 0, \"Engages in challenges like confronting Dira's aloofness\"], [17, 1, \"Independent and willing to face emotional risks\"], [18, 0, \"Focuses on personal struggles rather than caregiving\"], [19, 1, \"Prioritizes her own emotional journey\"], [20, 0, \"Initially dismissive of others' feelings (e.g., Ibel's affection)\"], [21, 1, \"Focuses on basketball and personal relationships over emotional attunement\"], [22, 0, \"Does not sacrifice her goals for others\"], [23, 1, \"Maintains independence despite others' expectations\"], [24, 0, \"High school student, not a homemaker\"], [25, 0, \"No occupation mentioned\"], [26, 1, \"Attracts attention (e.g., Dira's interest) though not explicitly for beauty\"], [27, 0, \"Admired for basketball skills, not academic intelligence\"], [28, 0, \"No occupation mentioned\"], [29, 0, \"No occupation mentioned\"]]\n",
      "[[1, 1], [2, 2012], [3, [\"young adult\", \"urban fantasy\", \"paranormal romance\", \"supernatural\", \"apocalyptic\"]], [4, 1, \"Alex saves Gemma multiple times throughout the series, including life-threatening situations[6].\"], [5, 1, \"Gemma ultimately sacrifices herself to save the world, which includes protecting male characters like Alex[1][7].\"], [6, 1, \"Alex is a Keeper assigned to protect Gemma, though their relationship becomes complicated[6][7].\"], [7, 1, \"Gemma protects Alex by accepting their shared fate to die for the greater good[1][7].\"], [8, 0, \"Gemma's solution requires her active choice to sacrifice herself, not external help or luck[1][7].\"], [9, 1, \"She uses her unique abilities as a fallen star vessel to confront apocalyptic threats[1][6].\"], [10, 1, \"Stephan (Alex's father) and Nicholas haunt/manipulate Gemma[1][7].\"], [11, 0, \"No direct evidence of Gemma harming male characters intentionally.\"], [12, 0, \"She defies expectations by choosing her own path to confront evil[1][7].\"], [13, 1, \"Takes leadership in organizing the final confrontation[1][7].\"], [14, 0, \"Demonstrates physical capability in supernatural battles[1][6].\"], [15, 1, \"Possesses enhanced abilities from her fallen star nature[6][7].\"], [16, 0, \"Willingly faces death to save others[1][7].\"], [17, 1, \"Embraces apocalyptic challenges head-on[1][7].\"], [18, 1, \"Prioritizes saving humanity over personal desires[1][7].\"], [19, 0, \"Her caregiving manifests through world-saving actions.\"], [20, 1, \"Shows concern for others' suffering in the apocalyptic setting[1][7].\"], [21, 0, \"Balances emotional awareness with practical crisis response.\"], [22, 1, \"Sacrifices personal survival for global wellbeing[1][7].\"], [23, 0, \"Her sacrifice represents ultimate prioritization of others' needs.\"], [24, 99, \"No domestic role described.\"], [25, 99, \"No traditional occupation mentioned.\"], [26, 99, \"Physical descriptions focus on abilities over appearance.\"], [27, 1, \"Admired for strategic decisions and supernatural capabilities[1][7].\"], [28, 99, \"No explicit occupation details.\"], [29, 99, \"Her role as world-savior transcends traditional occupations.\"]]\n",
      "[[1, 1], [2, 2006], [3, [\"literary fiction\", \"humor\", \"family drama\"]], [4, 0, \"No evidence of male characters saving Knute.\"], [5, 0, \"No instances of Knute saving male characters.\"], [6, 99, \"No explicit mention of male protection.\"], [7, 0, \"No evidence of Knute protecting male characters.\"], [8, 99, \"Unclear resolution of her challenges.\"], [9, 99, \"No specific problem-solving through skill described.\"], [10, 0, \"No evidence of harm by male characters.\"], [11, 0, \"No evidence of Knute harming males.\"], [12, 1, \"Works for Mayor Hosea Funk.\"], [13, 0, \"No evidence of her giving orders.\"], [14, 0, \"No indication of physical weakness.\"], [15, 99, \"No specific physical capabilities described.\"], [16, 0, \"Returns home to care for family, suggesting courage.\"], [17, 1, \"Takes responsibility for family and work.\"], [18, 1, \"Cares for her daughter and father.\"], [19, 0, \"Actively engages in caregiving.\"], [20, 1, \"Maintains relationships with family and community.\"], [21, 0, \"Balances practical and emotional responsibilities.\"], [22, 1, \"Prioritizes family needs over personal goals.\"], [23, 0, \"Focuses on familial obligations.\"], [24, 0, \"Works outside home as office assistant.\"], [25, 1, \"Holds job supporting herself and daughter.\"], [26, 99, \"No mention of beauty admiration.\"], [27, 99, \"Intelligence not explicitly highlighted.\"], [28, 1, \"Works as office assistant for mayor.\"], [29, 0, \"No high-rank occupation indicated.\"]]\n",
      "[ [1, 0], [-1, -1], [2, []], [3, 0, \"No information about the author's gender is needed; the author is Matthew Quick, a male.\"], [4, 0, \"There is no instance where Erin is saved by a male character.\"], [5, 1, \"Erin saves Finley by defending him from Don Little.\"], [6, 0, \"There is no indication that Erin is protected by a male character.\"], [7, 1, \"Erin protects Finley by defending him from Don Little.\"], [8, 1, \"Erin's problem is solved through her own actions and decisions, such as disappearing to protect Finley.\"], [9, 1, \"Erin solves her own problem by taking action to protect Finley.\"], [10, 0, \"There is no indication that Erin is victimized by a male character.\"], [11, 1, \"Erin harms Don Little by punching him in the face.\"], [12, 0, \"There is no indication that Erin follows orders.\"], [13, 0, \"There is no indication that Erin gives orders.\"], [14, 0, \"Erin is not depicted as physically weak.\"], [15, 1, \"Erin is physically strong, as shown by her defending Finley.\"], [16, 0, \"Erin is not fearful of taking risks.\"], [17, 1, \"Erin is brave, as evidenced by her defending Finley.\"], [18, 1, \"Erin cares for Finley by defending him and helping him home.\"], [19, 0, \"Erin does engage in caregiving behaviors.\"], [20, 1, \"Erin is emotionally aware and attuned to Finley's needs.\"], [21, 0, \"Erin focuses on emotional support rather than practical matters.\"], [22, 1, \"Erin sacrifices her presence in Finley's life to protect him.\"], [23, 0, \"Erin's actions are driven by her desire to protect Finley rather than maintaining personal goals.\"], [24, 0, \"There is no indication that Erin is a homemaker.\"], [25, 0, \"There is no indication that Erin is a breadwinner.\"], [26, 0, \"There is no mention of Erin being admired for her beauty.\"], [27, 0, \"There is no mention of Erin being admired for her intelligence.\"], [28, 0, \"There is no indication that Erin has a lower rank occupation.\"], [29, 0, \"There is no indication that Erin has a higher rank occupation.\"] ]\n"
     ]
    }
   ],
   "source": [
    "for answer in df_result['answer']:\n",
    "    print(answer)"
   ]
  },
  {
   "cell_type": "code",
   "execution_count": 28,
   "id": "a1b177ac",
   "metadata": {},
   "outputs": [
    {
     "data": {
      "text/plain": [
       "30"
      ]
     },
     "execution_count": 28,
     "metadata": {},
     "output_type": "execute_result"
    }
   ],
   "source": [
    "len(df_result[\"answer\"].iloc[25])"
   ]
  },
  {
   "cell_type": "code",
   "execution_count": 15,
   "id": "f60ade12",
   "metadata": {},
   "outputs": [],
   "source": [
    "df_result[\"answer\"] = df_result[\"answer\"].apply(ast.literal_eval) # reponses column is string, convert to list"
   ]
  },
  {
   "cell_type": "code",
   "execution_count": 17,
   "id": "057403c4",
   "metadata": {},
   "outputs": [
    {
     "data": {
      "text/plain": [
       "np.False_"
      ]
     },
     "execution_count": 17,
     "metadata": {},
     "output_type": "execute_result"
    }
   ],
   "source": [
    "df_result['answer'].apply(lambda x: isinstance(x, (list, tuple)) and len(x) == 29).all()"
   ]
  },
  {
   "cell_type": "code",
   "execution_count": 24,
   "id": "3c0af523",
   "metadata": {},
   "outputs": [
    {
     "name": "stdout",
     "output_type": "stream",
     "text": [
      "                                                title               author  \\\n",
      "3                                     The Empty House   Pilcher, Rosamunde   \n",
      "19                            Veronika Decides to Die        Coelho, Paulo   \n",
      "24                             Ignite Me Shatter Me 3        Mafi, Tahereh   \n",
      "25                                  The Fourth Estate      Archer, Jeffrey   \n",
      "30                                 Last Chance Saloon        Keyes, Marian   \n",
      "37                         Sin City Hot in the City 2     Alexander, Lacey   \n",
      "48                                 Living Dangerously        Fforde, Katie   \n",
      "52  The Witches of Santa Anna The Witches of Santa...    Barnholdt, Lauren   \n",
      "54                                  American Pastoral         Roth, Philip   \n",
      "56                               Absent in the Spring     Westmacott, Mary   \n",
      "58                  Arrows Fall Heralds of Valdemar 3     Lackey, Mercedes   \n",
      "59                    The Golden Crown Tennis Shoes 7  Heimerdinger, Chris   \n",
      "60                Beautiful Chaos Caster Chronicles 3         Garcia, Kami   \n",
      "61                                         Moon Tiger     Lively, Penelope   \n",
      "62        The Battle for Skandia Rangers Apprentice 4       Flanagan, John   \n",
      "69                  The Accidental Vampire Argeneau 7        Sands, Lynsay   \n",
      "72                              A Walk Across the Sun      Addison, Corban   \n",
      "74             For Love or Legacy Legacy Collection 2       Cardello, Ruth   \n",
      "76                No Mans Mistress Mistress Trilogy 2         Balogh, Mary   \n",
      "77                                           Red Rain          Stine, R.L.   \n",
      "78                        The Beginning of Everything     Schneider, Robyn   \n",
      "81                                       Elmer Gantry      Lewis, Sinclair   \n",
      "83                                           Captured         Biel, Lauren   \n",
      "86                                             Poison       Wooding, Chris   \n",
      "89                              Geek Girl Geek Girl 1         Smale, Holly   \n",
      "92      The Long Ships New York Review Books Classics  Bengtsson, Frans G.   \n",
      "94                                        Coming Home     Kingsbury, Karen   \n",
      "95                  Charmed to Death Ophelia  Abby  2   Damsgaard, Shirley   \n",
      "99                                              Boy21       Quick, Matthew   \n",
      "\n",
      "            fmc_name                                             answer  \\\n",
      "3     Virginia Keile  [[1, 1], 1, Rosamunde Pilcher is a female auth...   \n",
      "19          Veronika  [[1, 0], [-1, 1998], [3, [philosophical fictio...   \n",
      "24  Juliette Ferrars  [[1, 1], [-1, 2014], [3, [dystopian, paranorma...   \n",
      "25               NaN  [[1, 0], [-1, -1], [-1, [fiction, thriller, su...   \n",
      "30         Katherine  [[1, 1], [-1, 0], [2, []], [3, 0, No specific ...   \n",
      "37       Diana Marsh  [[1, 1], [-1, 2005], [3, [erotica, romance, co...   \n",
      "48     Polly Cameron  [[1, 1], [-1, 1995], [3, [romance, contemporar...   \n",
      "52     Natalia Moore  [[1, 1], [-1, 2], [2, []], [3, 0, No specific ...   \n",
      "54       Merry Levov  [[1, 0], [-1, -1], [-1, [literary fiction, dra...   \n",
      "56    Joan Scudamore  [[1, 1], [-1, -1], [2, []], [3, 0, No informat...   \n",
      "58             Talia  [[1, 1], [-1, -1], [2, []], [3, 1, The author ...   \n",
      "59   Meagan Sorenson  [[1, 0], [-1, 1999], [3, [adventure, historica...   \n",
      "60    Lena Duchannes  [[1, 1], [-1, 1], [-2, [fantasy, young adult, ...   \n",
      "61   Claudia Hampton  [[1, 1], [-1, 1987], [3, [literary fiction, hi...   \n",
      "62           Evanlyn  [[1, 0], [-1, -1], [-1, [fantasy, adventure, y...   \n",
      "69        Elvi Black  [[1, 1], [-1, 2007], [3, [paranormal romance, ...   \n",
      "72            Ahalya  [[1, 0], [-1, 2012], [-1, [thriller, drama, cr...   \n",
      "74     Nicole Corisi  [[1, 1], [-1, 1], [-2, [romance, contemporary ...   \n",
      "76             Viola  [[1, 1], [-1, 2001], [3, [romance, historical ...   \n",
      "77        Lea Sutter  [[1, 0], [-1, -1], [2, []], [3, 0, There is no...   \n",
      "78    Cassidy Thorpe  [[1, 1], [-1, 1], [-1, [young adult fiction, c...   \n",
      "81   Sharon Falconer  [[1, 0], [-1, -1], [-1, [satire, novel, social...   \n",
      "83           Ophelia  [[1, 1], [-1, 2023], [3, [romantic horror, dar...   \n",
      "86            Poison  [[1, 0], [-1, 2003], [3, [fantasy, young adult...   \n",
      "89   Harriet Manners  [[1, 1], [-1, 0], [2, [young adult fiction, fi...   \n",
      "92               Åsa  [[1, 0], [-1, 1941], [3, [historical fiction, ...   \n",
      "94            Ashley  [[1, 1], [-1, 2012], [3, [christian fiction, f...   \n",
      "95    Ophelia Jensen  [[1, 1], [-1, -1], [-1, [mystery, paranormal, ...   \n",
      "99        Erin Quinn  [[1, 0], [-1, -1], [2, []], [3, 0, No informat...   \n",
      "\n",
      "                                             citation  \n",
      "3   ['https://www.goodreads.com/book/show/1054377'...  \n",
      "19  ['https://www.supersummary.com/veronika-decide...  \n",
      "24  ['https://www.goodreads.com/book/show/13188676...  \n",
      "25  ['https://en.wikipedia.org/wiki/The_Fourth_Est...  \n",
      "30  ['https://natashastander.wordpress.com/2016/05...  \n",
      "37  ['https://www.goodreads.com/book/show/142474.S...  \n",
      "48  ['https://erubooksandrecs.wordpress.com/2016/0...  \n",
      "52  ['https://www.goodreads.com/book/show/10813440...  \n",
      "54  ['https://www.litcharts.com/lit/american-pasto...  \n",
      "56  ['https://hopewellslibraryoflife.wordpress.com...  \n",
      "58  ['https://www.goodreads.com/characters/910-tal...  \n",
      "59  ['https://www.goodreads.com/book/show/121814',...  \n",
      "60  ['https://www.goodreads.com/book/show/11210741...  \n",
      "61  ['https://www.supersummary.com/moon-tiger/majo...  \n",
      "62  ['https://www.worldanvil.com/w/ranger-s-appren...  \n",
      "69  ['https://www.goodreads.com/book/show/1422253....  \n",
      "72  ['https://www.supersummary.com/a-walk-across-t...  \n",
      "74  ['https://www.goodreads.com/en/book/show/12406...  \n",
      "76  ['https://allaboutromance.com/book-review/no-m...  \n",
      "77  ['https://madamewriterblog.wordpress.com/2018/...  \n",
      "78  ['https://www.robynschneider.com/thebeginningo...  \n",
      "81  ['https://www.patheos.com/blogs/anxiousbench/2...  \n",
      "83  ['https://www.goodreads.com/book/show/12319567...  \n",
      "86  ['https://www.chriswooding.com/the-books/poiso...  \n",
      "89  ['https://narrativeparadise.com/2015/09/04/gee...  \n",
      "92  ['https://en.wikipedia.org/wiki/The_Long_Ships...  \n",
      "94  ['http://christianreads.blogspot.com/2012/06/r...  \n",
      "95  ['https://www.goodreads.com/book/show/141036.C...  \n",
      "99  ['https://www.supersummary.com/boy21/summary/'...  \n"
     ]
    }
   ],
   "source": [
    "length_check = df_result['answer'].apply(lambda x: hasattr(x, '__len__') and len(x) == 29)\n",
    "invalid_rows = df_result[~length_check]\n",
    "print(invalid_rows)"
   ]
  },
  {
   "cell_type": "code",
   "execution_count": 27,
   "id": "a6234f90",
   "metadata": {},
   "outputs": [
    {
     "data": {
      "text/plain": [
       "[[1, 1],\n",
       " [-1, 0],\n",
       " [2, []],\n",
       " [3,\n",
       "  0,\n",
       "  \"No specific genres were provided in the search results, but based on Marian Keyes' style, it is likely to include genres like chick lit, romance, and comedy.\"],\n",
       " [4, 0, 'There is no indication that Katherine is saved by a male character.'],\n",
       " [5, 0, 'There is no indication that Katherine saves a male character.'],\n",
       " [6,\n",
       "  0,\n",
       "  'There is no indication that Katherine is protected by a male character.'],\n",
       " [7, 0, 'There is no indication that Katherine protects a male character.'],\n",
       " [8,\n",
       "  1,\n",
       "  \"Katherine's problems are partly solved through her own efforts and the influence of her friends.\"],\n",
       " [9,\n",
       "  1,\n",
       "  'Katherine solves her own problems through her skills and personal growth.'],\n",
       " [10,\n",
       "  0,\n",
       "  'There is no indication that Katherine is victimized by a male character.'],\n",
       " [11, 0, 'There is no indication that Katherine harms a male character.'],\n",
       " [12, 0, 'There is no indication that Katherine follows orders.'],\n",
       " [13,\n",
       "  1,\n",
       "  'As a successful accountant, Katherine likely gives orders in her professional life.'],\n",
       " [14, 0, 'There is no indication that Katherine is physically weak.'],\n",
       " [15, 0, 'There is no specific mention of Katherine being physically strong.'],\n",
       " [16,\n",
       "  1,\n",
       "  'Katherine initially appears fearful of taking risks in relationships.'],\n",
       " [17,\n",
       "  1,\n",
       "  'As the story progresses, Katherine becomes more open to taking risks.'],\n",
       " [18,\n",
       "  1,\n",
       "  \"Katherine cares for her friends, particularly during Fintan's health crisis.\"],\n",
       " [19, 0, 'Katherine does engage in caregiving behaviors.'],\n",
       " [20, 1, 'Katherine is emotionally aware and supportive of her friends.'],\n",
       " [21, 1, 'Katherine initially focuses more on practical matters.'],\n",
       " [22,\n",
       "  0,\n",
       "  'There is no indication that Katherine sacrifices her goals for others.'],\n",
       " [23, 1, 'Katherine maintains personal goals and boundaries.'],\n",
       " [24, 0, 'Katherine is not a homemaker.'],\n",
       " [25, 1, 'Katherine is a breadwinner as a successful accountant.'],\n",
       " [26, 1, 'Katherine is admired for her beauty.'],\n",
       " [27, 1, 'Katherine is admired for her intelligence.'],\n",
       " [28, 0, 'Katherine does not have a lower rank occupation.'],\n",
       " [29, 1, 'Katherine has a higher rank occupation as an accountant.']]"
      ]
     },
     "execution_count": 27,
     "metadata": {},
     "output_type": "execute_result"
    }
   ],
   "source": [
    "df_result[\"answer\"].iloc[30]"
   ]
  },
  {
   "cell_type": "code",
   "execution_count": null,
   "id": "50189abb",
   "metadata": {},
   "outputs": [],
   "source": [
    "### Unnest columns \n",
    "\n",
    "# Check length of all columns \n",
    "\n",
    "# Make all list elements into columns"
   ]
  }
 ],
 "metadata": {
  "kernelspec": {
   "display_name": "venv",
   "language": "python",
   "name": "python3"
  },
  "language_info": {
   "codemirror_mode": {
    "name": "ipython",
    "version": 3
   },
   "file_extension": ".py",
   "mimetype": "text/x-python",
   "name": "python",
   "nbconvert_exporter": "python",
   "pygments_lexer": "ipython3",
   "version": "3.12.7"
  }
 },
 "nbformat": 4,
 "nbformat_minor": 5
}

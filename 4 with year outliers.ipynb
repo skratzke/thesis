{
 "cells": [
  {
   "cell_type": "code",
   "execution_count": null,
   "id": "fede841b",
   "metadata": {},
   "outputs": [],
   "source": [
    "# With the outliers in, year significantly predicts stereotypicality\n",
    "\n",
    "import statsmodels.formula.api as smf\n",
    "\n",
    "# Fit the linear regression model\n",
    "model_all_old = smf.ols('total_sum ~ author_gender + master_genre + year + author_gender*master_genre + author_gender*year + master_genre*year', data=df).fit()\n",
    "\n",
    "# Print the summary\n",
    "print(model_all_old.summary())"
   ]
  },
  {
   "cell_type": "code",
   "execution_count": null,
   "id": "4922e4cc",
   "metadata": {},
   "outputs": [],
   "source": [
    "# With the outliers removed, year is not significant anymore\n",
    "\n",
    "# Fit the linear regression model\n",
    "model_all = smf.ols('total_sum ~ author_gender + master_genre + year + author_gender*master_genre + author_gender*year + master_genre*year', data=df_contemp).fit()\n",
    "\n",
    "# Print the summary\n",
    "print(model_all.summary())"
   ]
  }
 ],
 "metadata": {
  "language_info": {
   "name": "python"
  }
 },
 "nbformat": 4,
 "nbformat_minor": 5
}

{
 "cells": [
  {
   "cell_type": "code",
   "execution_count": null,
   "metadata": {},
   "outputs": [],
   "source": [
    "def perplexity(prompt, system_prompt):\n",
    "    YOUR_API_KEY = os.environ[\"PERPLEXITY_API_KEY\"]\n",
    "    messages = [\n",
    "        {\"role\": \"system\", \"content\": system_prompt},\n",
    "        {\"role\": \"user\", \"content\": prompt}]\n",
    "    client = OpenAI(api_key=YOUR_API_KEY, base_url=\"https://api.perplexity.ai\")\n",
    "    resp = client.chat.completions.create(\n",
    "        model=\"llama-3.1-sonar-large-128k-online\",\n",
    "        messages=messages)\n",
    "    try:\n",
    "        return (resp.choices[0].message.content, resp.citations)\n",
    "    except AttributeError as e:\n",
    "        print(e)\n",
    "        print(f\"Error with response: {resp}\")\n",
    "        return (\"\", [])"
   ]
  }
 ],
 "metadata": {
  "language_info": {
   "name": "python"
  }
 },
 "nbformat": 4,
 "nbformat_minor": 2
}

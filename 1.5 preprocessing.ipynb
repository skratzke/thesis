{
 "cells": [
  {
   "cell_type": "code",
   "execution_count": null,
   "id": "dd39b176",
   "metadata": {},
   "outputs": [],
   "source": [
    "import pandas as pd\n",
    "import ast"
   ]
  },
  {
   "cell_type": "code",
   "execution_count": 3,
   "id": "e80ccd43",
   "metadata": {},
   "outputs": [
    {
     "data": {
      "application/vnd.microsoft.datawrangler.viewer.v0+json": {
       "columns": [
        {
         "name": "index",
         "rawType": "int64",
         "type": "integer"
        },
        {
         "name": "title",
         "rawType": "object",
         "type": "string"
        },
        {
         "name": "author",
         "rawType": "object",
         "type": "string"
        },
        {
         "name": "answer",
         "rawType": "object",
         "type": "string"
        },
        {
         "name": "citation",
         "rawType": "object",
         "type": "string"
        }
       ],
       "conversionMethod": "pd.DataFrame",
       "ref": "49f04dff-b3d4-47af-979e-f72b7de618a7",
       "rows": [
        [
         "0",
         "Jackie  Me Baseball Card Adventure 2",
         "Gutman, Dan",
         "[0, \"\"]",
         "['https://dangutman.com/dans-books/baseball-card-adventure-series/', 'https://www.goodreads.com/book/show/1000153.Jackie_Me', 'https://en.wikipedia.org/wiki/Baseball_Card_Adventures', 'https://www.decaturproud.org/decatur-high-ability-academy/files/documents/Book%20List.pdf', 'https://www.lycoming.edu/schemata/pdfs/cline_booktalkprep_final.pdf']"
        ],
        [
         "1",
         "Honus  Me A Baseball Card Adventure 1",
         "Gutman, Dan",
         "[0, \"\"]",
         "['https://www.goodreads.com/book/show/1000164.Honus_Me', 'https://www.supersummary.com/honus-and-me/summary/', 'https://readersandwritersparadise.com/honusandme/', 'https://en.wikipedia.org/wiki/Baseball_Card_Adventures', 'https://dangutman.com/dans-books/baseball-card-adventure-series/']"
        ],
        [
         "2",
         "Wildflower Hill",
         "Freeman, Kimberley",
         "[1, \"Beattie Blaxland\"]",
         "['https://www.goodreads.com/book/show/10002296-wildflower-hill', 'https://www.simonandschuster.com/books/Wildflower-Hill/Kimberley-Freeman/9781451623499', 'https://historicalnovelsociety.org/reviews/wildflower-hill/', 'http://susancoventry.blogspot.com/2012/02/book-review-wildflower-hill-by.html', 'https://goodbookfairy.com/wildflower-hill/']"
        ],
        [
         "3",
         "Oracle Night",
         "Auster, Paul",
         "[1, \"Grace\"]",
         "['https://en.wikipedia.org/wiki/Oracle_Night', 'https://scholarworks.aub.edu.lb/handle/10938/21855', 'https://www.gordsellar.com/2014/04/15/paul-auster-on-writing-in-oracle-night/', 'https://www.goodreads.com/book/show/458', 'https://www.bookey.app/book/oracle-night']"
        ],
        [
         "4",
         "As a Driven Leaf",
         "Steinberg, Milton",
         "[0, \"\"]",
         "['https://reformjudaism.org/driven-leaf-milton-steinberg', 'http://www.jewishideasdaily.com/6210/features/as-a-driven-leaf/', 'https://www.goodreads.com/book/show/38611013', 'https://journals.library.columbia.edu/index.php/ari/article/download/9759/4913', 'https://www.myjewishlearning.com/article/as-a-driven-leaf/']"
        ],
        [
         "5",
         "Pollyanna Pollyanna 1",
         "Porter, Eleanor H.",
         "[1, \"Pollyanna Whittier\"]",
         "['https://en.wikipedia.org/wiki/Pollyanna', 'https://www.golittleton.com/eleanor_porter.php', 'https://www.ebsco.com/research-starters/literature-and-writing/pollyanna-eleanor-h-porter', 'https://karynskidlitreviews.wordpress.com/2016/12/12/pollyanna-1913-by-eleanor-h-porter/', 'http://vincereview.blogspot.com/2023/01/pollyanna-by-eleanor-h-porter.html']"
        ],
        [
         "6",
         "Eleanor Rigby",
         "Coupland, Douglas",
         "[1, \"Liz Dunn\"]",
         "['https://en.wikipedia.org/wiki/Eleanor_Rigby_(novel)', 'https://bookbrief.io/books/eleanor-rigby-douglas-coupland/character-analysis', 'https://the-openbook.com/2022/02/06/by-the-book-41-eleanor-rigby-by-douglas-coupland/', 'https://fellfromfiction.wordpress.com/2014/11/02/eleanor-rigby-by-douglas-coupland-2004/', 'https://www.hackwriters.com/eleanorrigby.htm']"
        ],
        [
         "7",
         "Journal 64 Department Q 4",
         "Adler-Olsen, Jussi",
         "[1, \"Nete Rosen\"]",
         "['https://www.goodreads.com/book/similar/21962567-politi', 'https://www.goodreads.com/book/similar/2038062-frelseren', 'https://shaindel-belleven97.blogspot.com/?%2Fbook%2F5%2F0%2C9%2F9%2F71_0%2C0%2C0%2C80%2C5%2F6%2F0%2C2%2F41_3.html&m=1', 'https://sobrief.com/books/the-purity-of-vengeance', 'https://www.goodreads.com/book/show/11174251-the-keeper-of-lost-causes']"
        ],
        [
         "8",
         "Homo Faber",
         "Frisch, Max",
         "[1, \"Hanna Piper\"]",
         "['https://www.gradesaver.com/homo-faber/study-guide/character-list', 'https://en.wikipedia.org/wiki/Homo_Faber_(novel)', 'https://www.imdb.com/title/tt3907334/', 'https://www.enotes.com/topics/homo-faber/characters', 'https://www.antistudy.com/study-guide/idsid/6425/5910/homo-faber/characters']"
        ],
        [
         "9",
         "The Revealers",
         "Wilhelm, Doug",
         "[1, \"Catalina\"]",
         "['https://www.dougwilhelm.com/about-revealers/behind-the-book/the-characters.html', 'https://study.com/academy/lesson/the-revealers-book-summary-characters-quotes.html', 'https://en.wikipedia.org/wiki/The_Revealers', 'https://dougwilhelm.com/about-revealers/behind-the-book.html', 'https://kids.kiddle.co/The_Revealers']"
        ],
        [
         "10",
         "Halo Contact Harvest",
         "Staten, Joseph",
         "[0, \"\"]",
         "['https://app.thestorygraph.com/book_reviews/9d0022f7-71fd-44a6-a903-c3d089289957', 'https://www.goodreads.com/book/show/1001442.Halo', 'https://en.wikipedia.org/wiki/Halo:_Contact_Harvest', 'https://bitsandpieces.games/2020/08/19/bookclubbing-halo-contact-harvest-review/', 'https://en.wikipedia.org/wiki/List_of_Halo_characters']"
        ],
        [
         "11",
         "A Pony for Keeps Pony Pals 2",
         "Betancourt, Jeanne",
         "[1, \"Anna\"]",
         "['https://www.goodreads.com/book/show/1001506.A_Pony_for_Keeps', 'https://www.bookshare.org/browse/language?resultsView=LIST&offset=98700&sortOrder=AUTHOR&direction=ASC&limit=25&language=ENGLISH', 'https://chasingsupermom.com/2013/08/14/25-chapter-books-for-k-2-girls/', 'https://www.thriftbooks.com/w/the-magic-pony_jeanne-betancourt/321709/', 'https://www.thriftbooks.com/w/more-than-meets-the-eye_jeanne-betancourt/1315314/']"
        ],
        [
         "12",
         "Harry Potter and the Methods of Rationality",
         "Yudkowsky, Eliezer",
         "[1, \"Hermione Granger\"]",
         "['https://hpmor.com/a-rant-thereof/', 'https://www.stormingtheivorytower.com/2013/08/hermione-granger-versus-methods-of.html', 'https://theadventureisafoot.wordpress.com/2015/04/29/celebrating-female-characters-harry-potter-and-the-inspiring-witches-of-literature/', 'https://www.greaterwrong.com/posts/4hKoG4e248yuXtG47/harry-potter-and-the-methods-of-rationality-discussion-23/comment/8d3EpisdwRFopFio7', 'https://www.lesswrong.com/posts/smKK6yrKBehxvQq5i/harry-potter-and-the-methods-of-rationality-discussion-26']"
        ],
        [
         "13",
         "Summer of Love",
         "Fforde, Katie",
         "[1, \"Sian Bishop\"]",
         "['https://mariesbookboutique.wordpress.com/2018/06/02/book-review-on-summer-of-love-by-katie-fforde/', 'https://reabookreview.blogspot.com/2012/03/summer-of-love-by-katie-fforde.html', 'https://www.penguin.co.uk/books/406919/summer-of-love-by-fforde-katie/9780099539148', 'https://app.thestorygraph.com/book_reviews/47036867-7e18-4bf5-a8ca-0ae3c917260d?page=4', 'https://boofsbooks.wordpress.com/2011/05/25/book-review-summer-of-love-and-other-books-by-katie-fforde/']"
        ],
        [
         "14",
         "The First Part Last Michael L Printz Award  Winner",
         "Johnson, Angela",
         "[1, \"Nia\"]",
         "['https://www.ebsco.com/research-starters/literature-and-writing/first-part-last-and-heaven-angela-johnson', 'https://en.wikipedia.org/wiki/The_First_Part_Last', 'https://www.supersummary.com/the-first-part-last/summary/', 'https://www.goodreads.com/book/show/6948949', 'https://www.simonandschuster.com/books/The-First-Part-Last/Angela-Johnson/9781442403437']"
        ],
        [
         "15",
         "Monkey The Journey to the West",
         "Wu Cheng'en",
         "[0, \"\"]",
         "['https://en.wikipedia.org/wiki/List_of_Journey_to_the_West_characters', 'https://drpress.org/ojs/index.php/EHSS/article/view/13180', 'https://www.behindthevoiceactors.com/characters/Journey-to-the-West/', 'https://en.wikipedia.org/wiki/Journey_to_the_West', 'https://www.atlantis-press.com/article/125911124.pdf']"
        ],
        [
         "16",
         "The Gift Witch  Wizard 2",
         "Patterson, James",
         "[1, \"Wisteria 'Wisty' Allgood\"]",
         "['https://www.goodreads.com/book/show/7646805-the-gift', 'https://en.wikipedia.org/wiki/Witch_&_Wizard_(series)', 'https://www.barnesandnoble.com/w/the-gift-james-patterson/1100293040', 'https://www.pluggedin.com/book-reviews/gift/', 'https://www.jamespatterson.com/titles/james-patterson/the-gift/9780316036252/']"
        ],
        [
         "17",
         "Clockwork Prince The Infernal Devices 2",
         "Clare, Cassandra",
         "[1, \"Tessa Gray\"]",
         "['https://ecmock.blogspot.com/2011/12/review-clock-prince-infernal-devices-2.html', 'https://nickomocanureviews.wordpress.com/2016/10/08/infernal-devices-2-clockwork-prince-by-cassandra-clare/', 'https://thebooksareeverywhere.com/2018/12/27/review-clockwork-prince-2-by-cassandra-clare/', 'https://www.goodreads.com/book/show/29356073-clockwork-prince', 'https://forthenovellovers.wordpress.com/2020/12/20/clockwork-prince-the-infernal-devices-2-by-cassandra-clare/']"
        ],
        [
         "18",
         "The Emperors Edge The Emperors Edge 1",
         "Buroker, Lindsay",
         "[1, \"Amaranthe Lokdon\"]",
         "['https://smartbitchestrashybooks.com/reviews/the-emperors-edge-by-lindsay-buroker-a-guest-review-by-anonymiss/', 'https://beanuplate.wordpress.com/2013/09/04/the-emperors-edge-by-lindsay-buroker/', 'https://germmagazine.com/review-the-emperors-edge-by-lindsay-buroker/', 'https://www.goodreads.com/book/show/10091901', 'https://sfbook.com/the-emperors-edge.htm']"
        ],
        [
         "19",
         "The Age of Reason Roads to Freedom 1",
         "Sartre, Jean-Paul",
         "[0, \"\"]",
         "['https://www.goodreads.com/cs/book/show/10034.The_Age_of_Reason', 'https://www.goodreads.com/book/similar/230378-l-ge-de-raison', 'https://preserap.edu.pl/igmdnogkq/', 'https://ovpasyn.edu.pl/caubarduven/', 'https://emacromall.com/category/books-table.html']"
        ],
        [
         "20",
         "Comet in Moominland The Moomins 2",
         "Jansson, Tove",
         "[1, \"Moominmamma\"]",
         "['https://en.wikipedia.org/wiki/List_of_Moomin_characters', 'https://rex.libraries.wsu.edu/view/fileRedirect?instCode=01ALLIANCE_WSU&filePid=13332907990001842&download=true', 'https://en.wikipedia.org/wiki/Moomins', 'https://www.goodreads.com/book/show/23311406-comet-in-moominland', 'https://goodreads.com/book/show/1003725.Comet_in_Moominland__The_Moomins___2_']"
        ],
        [
         "21",
         "Epic Epic 1",
         "Kostick, Conor",
         "[0, \"\"]",
         "['https://www.goodreads.com/book/show/1003985', 'https://neverseenanevergreen.wordpress.com/2016/01/31/review-epic-by-conor-kostick/', 'https://en.wikipedia.org/wiki/Epic_(novel)', 'https://obrien.ie/childrens/asset/3305/1/GuideEpic.pdf', 'https://newbookrecommendation.com/summary-of-epic-by-conor-kostick-a-detailed-synopsis/']"
        ],
        [
         "22",
         "Dragons of Autumn Twilight Dragonlance Chronicles 1",
         "Weis, Margaret",
         "[1, \"Goldmoon\"]",
         "['https://comicvine.gamespot.com/dragonlance-chronicles-dragons-of-autumn-twilight/4050-80743/characters/', 'https://en.wikipedia.org/wiki/List_of_Dragonlance_characters', 'https://en.wikipedia.org/wiki/Dragons_of_Autumn_Twilight', 'https://fantasy-faction.com/2018/dragons-of-autumn-twilight-by-margaret-weis-and-tracy-hickman', 'https://www.imdb.com/title/tt0825245/']"
        ],
        [
         "23",
         "A Dog Called Kitty",
         "Wallace, Bill",
         "[0, \"\"]",
         "['http://alcorta5420.blogspot.com/2011/10/module-7.html', 'https://www.barnesandnoble.com/w/dog-called-kitty-bill-wallace/1001923511', 'https://ftp.aflegal.org/textbooks/browse/HomePages/a_dog_called_kitty.pdf', 'https://prezi.com/obpupfozmxgv/a-dog-called-kitty/', 'https://www.teacherspayteachers.com/browse?search=a+dog+called+kitty']"
        ],
        [
         "24",
         "The Rage Forgotten Realms The Year of Rogue Dragons 1",
         "Byers, Richard Lee",
         "[1, \"Kara\"]",
         "['https://www.barnesandnoble.com/w/the-rage-richard-lee-byers/1100991957', 'https://books.galacticjunk.com/!fantasy/!Fantasy%20E-Book%20Collection/Forgotten%20Realms/Year%20of%20Rogue%20Dragons/The%20Year%20of%20the%20Rogue%20Dragons%201%20-%20The%20Rage.pdf', 'https://salfane.weebly.com/adventures-in-ink/the-year-of-rogue-dragons', 'https://www.goodreads.com/book/show/8869577-the-year-of-rogue-dragons']"
        ],
        [
         "25",
         "Day of the Dragon WarCraft 1",
         "Knaak, Richard A.",
         "[1, \"Vereesa\"]",
         "['https://lintian.eu/2024/02/11/warcraft-retrospective-14/', 'https://www.mmo-champion.com/threads/2392188-Never-understood-why-people-heavily-dislike-Richard-Knaak', 'https://www.goodreads.com/book/show/7017425', 'https://www.mmo-champion.com/threads/1161221-The-name-Knaak-is-now-a-derogatory-term', 'https://public.ds003.info/wcbooks/novels/Warcraft%20-%20(2001)%20Day%20Of%20The%20Dragon%20-%20Richard%20A.%20Knaak.pdf']"
        ],
        [
         "26",
         "30 Pieces of Silver Betrayed 1",
         "McCray, Carolyn",
         "[1, \"Rebecca Monroe\"]",
         "['https://www.idcrawl.com/carolyn-mccray', 'https://www.goodreads.com/book/show/15096342-30-pieces-of-silver', 'https://thebookfetishblog.com/2011/03/thirty-pieces-of-silver/', 'https://files.eric.ed.gov/fulltext/ED299570.pdf', 'https://carolyn-mccray.freenovelread.com/page,5,138379-my_soul_to_keep']"
        ],
        [
         "27",
         "Dragon Rider Dragon Rider 1",
         "Funke, Cornelia",
         "[1, \"Sorrel\"]",
         "['https://corneliafunke.com/en/world/dragon-rider', 'https://meggieandmo.com/dragon-rider/', 'https://en.wikipedia.org/wiki/Dragon_Rider_(novel)', 'https://www.abeautifulbookshelf.com/dragon-rider/', 'https://foreveryoungadult.com/book-report/dragon-rider-cornelia-funke/']"
        ],
        [
         "28",
         "The Sea of Trolls Sea of Trolls 1",
         "Farmer, Nancy",
         "[1, \"Thorgil\"]",
         "['https://en.wikipedia.org/wiki/The_Sea_of_Trolls', 'https://www.goodreads.com/book/show/100476', 'https://www.adlit.org/books-and-authors/reading-discussion-guides/sea-trolls-nancy-farmer', 'https://app.thestorygraph.com/book_reviews/33cbfd27-32aa-4c5c-878a-d75760a29521?page=13', 'https://parents.simonandschuster.com/9781481443081']"
        ],
        [
         "29",
         "The Secret Crusade Assassins Creed 3",
         "Bowden, Oliver",
         "[1, \"Maria\"]",
         "[\"https://en.wikipedia.org/wiki/List_of_Assassin's_Creed_characters\", 'https://www.goodreads.com/book/show/10048834-the-secret-crusade', 'http://acfansiteabstergo.weebly.com/character-bios.html', 'https://onceuponabook.home.blog/wp-content/uploads/2019/01/the-secret-crusade-oliver-bowden.pdf', 'https://ghosttheassassin.wordpress.com/assassins-creed-the-secret-crusade-by-oliver-bowden-and-published-by-penguin-books/']"
        ],
        [
         "30",
         "Dearly Departed Gone With the Respiration 1",
         "Habel, Lia",
         "[1, \"Nora Dearly\"]",
         "['https://www.goodreads.com/book/show/10048874-dearly-departed', 'https://www.goodreads.com/book/show/9199346-dearly-departed', 'https://yabookscentral.com/dearly-departed/reviews/?rating=4', 'https://yabookscentral.com/dearly-departed/discussions/32597/', 'https://app.thestorygraph.com/book_reviews/32438b60-1248-47e2-a69c-c3419fc14be7?page=15']"
        ],
        [
         "31",
         "Dark Souls",
         "Morris, Paula",
         "[1, \"Miranda\"]",
         "['https://bookbrief.io/books/dark-souls-paula-morris/character-analysis', 'https://misclisa.blogspot.com/2012/04/dark-souls-by-paula-morris.html', 'https://annettesbookspot.blogspot.com/2011/11/book-review-dark-souls-by-paula-morris.html', 'https://horroraddicts.wordpress.com/2014/12/18/review-dark-souls-by-paula-morris/', 'https://intothehallofbooks.com/my-thoughts-on-dark-souls-by-paula/']"
        ],
        [
         "32",
         "The Single Girls ToDo List",
         "Kelk, Lindsey",
         "[1, \"Rachel Summers\"]",
         "['https://www.audiobooksnow.com/audiobook/the-single-girls-to-do-list/6481904/', 'https://www.qbd.com.au/fiction/?author=Lindsey+Kelk&sortby=title-alphabetical', 'http://www.kathryns-inbox.com/2023/09/review-single-girls-to-do-list-by.html', 'https://1girl2manybooks.wordpress.com/2020/09/25/review-the-single-girls-to-do-list-by-lindsey-kelk/', 'https://memcadam.wordpress.com/2013/06/23/book-review-lindsey-kelk-the-single-girls-to-do-list/']"
        ],
        [
         "33",
         "Youth in Revolt The Journals of Nick Twisp Book One",
         "Payne, C.D.",
         "[1, \"Sheeni Saunders\"]",
         "['https://en.wikipedia.org/wiki/Youth_in_Revolt_(film)', 'https://www.imdb.com/title/tt0403702/', 'https://www.rottentomatoes.com/m/youth_in_revolt', 'https://cinemalogue.com/2010/01/08/youth-in-revolt/', 'https://www.pluggedin.com/movie-reviews/youthinrevolt/']"
        ],
        [
         "34",
         "The Golden Acorn The Adventures of Jack Brenin 1",
         "Cooper, Catherine",
         "[1, \"Elen\"]",
         "['https://www.goodreads.com/en/book/show/10050155-the-golden-acorn', 'https://reviewsrevues.com/2015/03/08/the-golden-acorn-catherine-cooper-2011-a-kid-lit-review/', 'https://readerslibrary.org/wp-content/uploads/The-Golden-Acorn.pdf', 'https://www.wordsandpics.org/2014/01/the-golden-acorn-hits-primary-schools.html', 'https://www.librarycat.org/lib/cheekylala_kindle/item/127228445']"
        ],
        [
         "35",
         "It Started With A Kiss",
         "Dickinson, Miranda",
         "[1, \"Romily Parker\"]",
         "['https://www.goodreads.com/book/show/10060196-it-started-with-a-kiss', 'http://chicklitchloe.blogspot.com/2011/11/book-review-it-started-with-kiss-by.html', 'https://www.goodreads.com/book/show/42293057', 'https://handwrittengirl.com/author-interviews/miranda-dickinson', 'https://miranda-dickinson.com/about-me/']"
        ],
        [
         "36",
         "A Touch of Crimson Renegade Angels 1",
         "Day, Sylvia",
         "[1, \"Lindsay Gibson\"]",
         "['https://www.goodreads.com/book/show/11804076-a-touch-of-crimson', 'https://www.sylviaday.com/books/touch-of-crimson/', 'https://www.goodreads.com/book/show/10063343', 'http://goodbadandunread.com/2011/10/11/review-touch-of-crimson-by-sylvia-day/', 'https://www.barnesandnoble.com/w/a-touch-of-crimson-sylvia-day/1101576246']"
        ],
        [
         "37",
         "Wayside School Is Falling Down Wayside School 2",
         "Sachar, Louis",
         "[1, \"Allison\"]",
         "['https://en.wikipedia.org/wiki/Wayside_School_Is_Falling_Down', 'https://en.wikipedia.org/wiki/Wayside_School', 'https://writersbeat.com/wayside-school-t64583.html', 'https://www.supersummary.com/wayside-school-is-falling-down/summary/', 'https://www.goodreads.com/book/10065.Wayside_School_Is_Falling_Down/questions']"
        ],
        [
         "38",
         "The Secret War Jack Blank Adventure 2",
         "Myklusch, Matt",
         "[0, \"\"]",
         "['https://www.goodreads.com/book/similar/16266538-the-prisoner-of-cell-25', 'https://s.gr-assets.com/list/show/7626.Great_Books_With_Great_Characters_', 'https://www2.parklanejewelry.com/results/book-search/Download_PDFS/Assignment%20Learning%20To%20Love.pdf', 'https://personalization.mpi-inf.mpg.de/PERSPECTIVES23/GR10k_random/users_profile_item.title_random_sentence_csTrue_nnTrue.csv', 'https://cms.bestfriendspetcare.com/default.aspx/libweb/4040165/TheAccidentalHeroAJackBlankAdventure.pdf']"
        ],
        [
         "39",
         "The Train",
         "Simenon, Georges",
         "[0, \"\"]",
         "['http://www.culturecourt.com/B/Simenon_The_Train.htm', 'https://swiftlytiltingplanet.wordpress.com/2011/12/05/the-train-by-simenon/', 'https://www.goodreads.com/book/show/24357542', 'http://manoverboard-nz.blogspot.com/2011/11/train-by-georges-simenon.html', 'https://jacquiwine.wordpress.com/2023/07/20/the-venice-train-by-georges-simenon-tr-ros-schwartz/']"
        ],
        [
         "40",
         "The Bachelor of Arts",
         "Narayan, R.K.",
         "[0, \"\"]",
         "['https://nveo.org/index.php/journal/article/download/5507/4299/5681', 'http://ijariie.com/AdminUploadPdf/ROLL_OF_WOMENS_IN_R__K__NARAYANS_NOVELS_ijariie10573.pdf', 'http://www.rjelal.com/9.2.21/117-120%20PRITI%20KOOLWAL.pdf', 'https://ijaar.co.in/wp-content/uploads/2021/07/010305.pdf', 'http://www.languageinindia.com/march2019/nesaroevercollege/priyadarshini1.pdf']"
        ],
        [
         "41",
         "A Long Way Down",
         "Hornby, Nick",
         "[1, \"Maureen\"]",
         "['https://en.wikipedia.org/wiki/A_Long_Way_Down', 'https://toppersjump.wordpress.com/category/characters/', 'https://karissareadsbooks.com/2016/06/10/book-review-a-long-way-down-by-nick-hornby/', 'https://en.wikipedia.org/wiki/A_Long_Way_Down_(film)', 'https://www.supersummary.com/a-long-way-down/summary/']"
        ],
        [
         "42",
         "Tinker Tailor Soldier Spy George Smiley 5 Karla Trilogy 1",
         "le Carré, John",
         "[0, \"\"]",
         "['https://www.imdb.com/title/tt1340800/fullcredits/', 'https://en.wikipedia.org/wiki/Tinker_Tailor_Soldier_Spy', 'https://en.wikipedia.org/wiki/Tinker_Tailor_Soldier_Spy_(film)', 'https://www.tvguide.com/movies/tinker-tailor-soldier-spy/cast/2030019391/', 'https://www.goodreads.com/topic/show/991545-what-did-karla-mean-by-possible-spoilers']"
        ],
        [
         "43",
         "His Dark Materials Trilogy The Golden Compass  The Subtle Knife  The Amber Spyglass",
         "Pullman, Philip",
         "[1, \"Lyra Belacqua\"]",
         "['https://en.wikipedia.org/wiki/Lyra_Belacqua', 'https://en.wikipedia.org/wiki/List_of_His_Dark_Materials_and_The_Book_of_Dust_characters', 'https://www.sparknotes.com/lit/hisdarkmaterials/characters/', 'https://lup.lub.lu.se/luur/download?func=downloadFile&recordOId=3912764&fileOId=3912765', 'https://www.britannica.com/topic/His-Dark-Materials-book-trilogy-by-Pullman']"
        ],
        [
         "44",
         "The Deep",
         "Dunmore, Helen",
         "[1, \"Sapphire\"]",
         "['https://www.goodreads.com/book/show/1007458.The_Deep', 'https://goodreads.com/book/show/1007458.The_Deep__Ingo___3_', 'https://rhapsodyinbooks.wordpress.com/2009/05/12/review-of-the-deep-by-helen-dunmore-ages-10-and-up/', 'https://www.barnesandnoble.com/w/the-deep-helen-dunmore/1102933925', 'https://en.wikipedia.org/wiki/Ingo_(novel)']"
        ],
        [
         "45",
         "The Long Ships New York Review Books Classics",
         "Bengtsson, Frans G.",
         "[1, \"Åsa\"]",
         "['https://en.wikipedia.org/wiki/The_Long_Ships', 'https://www.imdb.com/title/tt0057259/fullcredits/', 'https://www.thisismetalblog.com/history/why-frans-g-bengtssons-the-long-ships-is-the-greatest-novel-of-all-time', 'https://en.wikipedia.org/wiki/The_Long_Ships_(film)', 'https://www.bookrags.com/studyguide-the-long-ships/']"
        ],
        [
         "46",
         "HIVE Higher Institute of Villainous Education HIVE 1",
         "Walden, Mark",
         "[1, \"Laura\"]",
         "['https://escapepod.org/2011/10/02/book-review-h-i-v-e-higher-institute-of-villainous-education-by-mark-walden/', 'https://www.goodreads.com/book/show/19793593', 'https://quippe.livejournal.com/41049.html', 'https://yabookscentral.com/hive-higher-institute-of-villanous-education/', 'https://lucyscolouredpencils.wordpress.com/category/mark-walden/']"
        ],
        [
         "47",
         "The Crime of Father Amaro",
         "Queirós, Eça de",
         "[1, \"Amélia\"]",
         "['https://en.wikipedia.org/wiki/The_Crime_of_Padre_Amaro_(2002_film)', 'https://www.imdb.com/title/tt0313196/', 'https://www.rottentomatoes.com/m/crime_of_padre_amaro/cast-and-crew', 'https://en.wikipedia.org/wiki/O_Crime_do_Padre_Amaro', 'https://www.reelingreviews.com/thecrimeoffatheramaro.htm']"
        ],
        [
         "48",
         "Snake Skin Lucy Guardino FBI Thriller 1",
         "Lyons, C.J.",
         "[1, \"Lucille Teresa Guardino\"]",
         "['https://goodreads.com/book/show/10084223.Snake_Skin', 'https://cjlyons.net/lucy-guardino-fbi-thrillers/', 'https://www.goodreads.com/book/show/10084223-snake-skin', 'https://www.barnesandnoble.com/w/snake-skin-c-j-lyons/1118960713', 'https://www.storytel.com/tv/books/snake-skin-a-lucy-guardino-fbi-thriller-808225']"
        ],
        [
         "49",
         "A Very Special Delivery Tiny Blessings 8",
         "Goodnight, Linda",
         "[1, \"Molly McCreight\"]",
         "['https://www.goodreads.com/book/show/1008859', 'https://www.goodreads.com/list/show/95841._Molly_?page=2', 'https://www.goodreads.com/en/book/show/1008859.A_Very_Special_Delivery', 'https://www.goodreads.com/book/show/1008859.A_Very_Special_Delivery', 'https://www.wilmettelibrary.info/winter-reading-club']"
        ]
       ],
       "shape": {
        "columns": 4,
        "rows": 3050
       }
      },
      "text/html": [
       "<div>\n",
       "<style scoped>\n",
       "    .dataframe tbody tr th:only-of-type {\n",
       "        vertical-align: middle;\n",
       "    }\n",
       "\n",
       "    .dataframe tbody tr th {\n",
       "        vertical-align: top;\n",
       "    }\n",
       "\n",
       "    .dataframe thead th {\n",
       "        text-align: right;\n",
       "    }\n",
       "</style>\n",
       "<table border=\"1\" class=\"dataframe\">\n",
       "  <thead>\n",
       "    <tr style=\"text-align: right;\">\n",
       "      <th></th>\n",
       "      <th>title</th>\n",
       "      <th>author</th>\n",
       "      <th>answer</th>\n",
       "      <th>citation</th>\n",
       "    </tr>\n",
       "  </thead>\n",
       "  <tbody>\n",
       "    <tr>\n",
       "      <th>0</th>\n",
       "      <td>Jackie  Me Baseball Card Adventure 2</td>\n",
       "      <td>Gutman, Dan</td>\n",
       "      <td>[0, \"\"]</td>\n",
       "      <td>['https://dangutman.com/dans-books/baseball-ca...</td>\n",
       "    </tr>\n",
       "    <tr>\n",
       "      <th>1</th>\n",
       "      <td>Honus  Me A Baseball Card Adventure 1</td>\n",
       "      <td>Gutman, Dan</td>\n",
       "      <td>[0, \"\"]</td>\n",
       "      <td>['https://www.goodreads.com/book/show/1000164....</td>\n",
       "    </tr>\n",
       "    <tr>\n",
       "      <th>2</th>\n",
       "      <td>Wildflower Hill</td>\n",
       "      <td>Freeman, Kimberley</td>\n",
       "      <td>[1, \"Beattie Blaxland\"]</td>\n",
       "      <td>['https://www.goodreads.com/book/show/10002296...</td>\n",
       "    </tr>\n",
       "    <tr>\n",
       "      <th>3</th>\n",
       "      <td>Oracle Night</td>\n",
       "      <td>Auster, Paul</td>\n",
       "      <td>[1, \"Grace\"]</td>\n",
       "      <td>['https://en.wikipedia.org/wiki/Oracle_Night',...</td>\n",
       "    </tr>\n",
       "    <tr>\n",
       "      <th>4</th>\n",
       "      <td>As a Driven Leaf</td>\n",
       "      <td>Steinberg, Milton</td>\n",
       "      <td>[0, \"\"]</td>\n",
       "      <td>['https://reformjudaism.org/driven-leaf-milton...</td>\n",
       "    </tr>\n",
       "    <tr>\n",
       "      <th>...</th>\n",
       "      <td>...</td>\n",
       "      <td>...</td>\n",
       "      <td>...</td>\n",
       "      <td>...</td>\n",
       "    </tr>\n",
       "    <tr>\n",
       "      <th>3045</th>\n",
       "      <td>Seven Deadly Wonders Jack West Jr 1</td>\n",
       "      <td>Reilly, Matthew</td>\n",
       "      <td>[1, \"Lily\"]</td>\n",
       "      <td>['https://www.barnesandnoble.com/w/seven-deadl...</td>\n",
       "    </tr>\n",
       "    <tr>\n",
       "      <th>3046</th>\n",
       "      <td>Temple</td>\n",
       "      <td>Reilly, Matthew</td>\n",
       "      <td>[0, \"\"]</td>\n",
       "      <td>['https://en.wikipedia.org/wiki/Temple_(novel)...</td>\n",
       "    </tr>\n",
       "    <tr>\n",
       "      <th>3047</th>\n",
       "      <td>Area 7 Shane Schofield 2</td>\n",
       "      <td>Reilly, Matthew</td>\n",
       "      <td>[1, \"Elizabeth Gant\"]</td>\n",
       "      <td>['https://goodreads.com/book/show/144793.Area_...</td>\n",
       "    </tr>\n",
       "    <tr>\n",
       "      <th>3048</th>\n",
       "      <td>The Raw Shark Texts</td>\n",
       "      <td>Hall, Steven</td>\n",
       "      <td>[1, \"Scout\"]</td>\n",
       "      <td>['https://en.wikipedia.org/wiki/The_Raw_Shark_...</td>\n",
       "    </tr>\n",
       "    <tr>\n",
       "      <th>3049</th>\n",
       "      <td>Murder on Mulberry Bend Gaslight Mystery 5</td>\n",
       "      <td>Thompson, Victoria</td>\n",
       "      <td>[1, \"Sarah Brandt\"]</td>\n",
       "      <td>['https://victoriathompson.com/book/murder-on-...</td>\n",
       "    </tr>\n",
       "  </tbody>\n",
       "</table>\n",
       "<p>3050 rows × 4 columns</p>\n",
       "</div>"
      ],
      "text/plain": [
       "                                           title              author  \\\n",
       "0           Jackie  Me Baseball Card Adventure 2         Gutman, Dan   \n",
       "1          Honus  Me A Baseball Card Adventure 1         Gutman, Dan   \n",
       "2                                Wildflower Hill  Freeman, Kimberley   \n",
       "3                                   Oracle Night        Auster, Paul   \n",
       "4                               As a Driven Leaf   Steinberg, Milton   \n",
       "...                                          ...                 ...   \n",
       "3045         Seven Deadly Wonders Jack West Jr 1     Reilly, Matthew   \n",
       "3046                                      Temple     Reilly, Matthew   \n",
       "3047                    Area 7 Shane Schofield 2     Reilly, Matthew   \n",
       "3048                         The Raw Shark Texts        Hall, Steven   \n",
       "3049  Murder on Mulberry Bend Gaslight Mystery 5  Thompson, Victoria   \n",
       "\n",
       "                       answer  \\\n",
       "0                     [0, \"\"]   \n",
       "1                     [0, \"\"]   \n",
       "2     [1, \"Beattie Blaxland\"]   \n",
       "3                [1, \"Grace\"]   \n",
       "4                     [0, \"\"]   \n",
       "...                       ...   \n",
       "3045              [1, \"Lily\"]   \n",
       "3046                  [0, \"\"]   \n",
       "3047    [1, \"Elizabeth Gant\"]   \n",
       "3048             [1, \"Scout\"]   \n",
       "3049      [1, \"Sarah Brandt\"]   \n",
       "\n",
       "                                               citation  \n",
       "0     ['https://dangutman.com/dans-books/baseball-ca...  \n",
       "1     ['https://www.goodreads.com/book/show/1000164....  \n",
       "2     ['https://www.goodreads.com/book/show/10002296...  \n",
       "3     ['https://en.wikipedia.org/wiki/Oracle_Night',...  \n",
       "4     ['https://reformjudaism.org/driven-leaf-milton...  \n",
       "...                                                 ...  \n",
       "3045  ['https://www.barnesandnoble.com/w/seven-deadl...  \n",
       "3046  ['https://en.wikipedia.org/wiki/Temple_(novel)...  \n",
       "3047  ['https://goodreads.com/book/show/144793.Area_...  \n",
       "3048  ['https://en.wikipedia.org/wiki/The_Raw_Shark_...  \n",
       "3049  ['https://victoriathompson.com/book/murder-on-...  \n",
       "\n",
       "[3050 rows x 4 columns]"
      ]
     },
     "execution_count": 3,
     "metadata": {},
     "output_type": "execute_result"
    }
   ],
   "source": [
    "df = pd.read_csv('subset_1.csv')\n",
    "df"
   ]
  },
  {
   "cell_type": "code",
   "execution_count": null,
   "id": "594d0d35",
   "metadata": {},
   "outputs": [
    {
     "data": {
      "text/plain": [
       "(2478, 6)"
      ]
     },
     "execution_count": 9,
     "metadata": {},
     "output_type": "execute_result"
    }
   ],
   "source": [
    "# Unnest answer columns\n",
    "df[\"answer\"] = df[\"answer\"].apply(ast.literal_eval) # reponses column is string, convert to list\n",
    "df[[\"fmc_present\", \"fmc_name\"]] = pd.DataFrame(df[\"answer\"].tolist(), index=df.index)\n",
    "\n",
    "# Create new data frame with fmcs only\n",
    "df_fmc = df[df['fmc_present'] == 1].copy()\n",
    "df_fmc.shape"
   ]
  },
  {
   "cell_type": "code",
   "execution_count": 10,
   "id": "f000fd63",
   "metadata": {},
   "outputs": [],
   "source": [
    "# Save data frame with fmcs only as csv file\n",
    "df_fmc.to_csv('df_fmc.csv', index = False)"
   ]
  }
 ],
 "metadata": {
  "kernelspec": {
   "display_name": "venv",
   "language": "python",
   "name": "python3"
  },
  "language_info": {
   "codemirror_mode": {
    "name": "ipython",
    "version": 3
   },
   "file_extension": ".py",
   "mimetype": "text/x-python",
   "name": "python",
   "nbconvert_exporter": "python",
   "pygments_lexer": "ipython3",
   "version": "3.12.7"
  }
 },
 "nbformat": 4,
 "nbformat_minor": 5
}
